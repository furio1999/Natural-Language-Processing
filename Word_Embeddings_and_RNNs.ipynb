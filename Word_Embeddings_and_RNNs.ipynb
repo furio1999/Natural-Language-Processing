{
  "nbformat": 4,
  "nbformat_minor": 0,
  "metadata": {
    "accelerator": "GPU",
    "colab": {
      "name": "05 - Word Embeddings and RNNs.ipynb",
      "provenance": [],
      "collapsed_sections": [],
      "include_colab_link": true
    },
    "kernelspec": {
      "display_name": "Python 3",
      "name": "python3"
    },
    "widgets": {
      "application/vnd.jupyter.widget-state+json": {
        "66777d6c53544562b1201f0cbd259580": {
          "model_module": "@jupyter-widgets/controls",
          "model_name": "HBoxModel",
          "state": {
            "_dom_classes": [],
            "_model_module": "@jupyter-widgets/controls",
            "_model_module_version": "1.5.0",
            "_model_name": "HBoxModel",
            "_view_count": null,
            "_view_module": "@jupyter-widgets/controls",
            "_view_module_version": "1.5.0",
            "_view_name": "HBoxView",
            "box_style": "",
            "children": [
              "IPY_MODEL_e2a9a985529240cc9b8fe169ae67c26e",
              "IPY_MODEL_8aa1a29107ec4acfb603ec9b5bee0278"
            ],
            "layout": "IPY_MODEL_3438d7b0472d46d99ed4e3b644ac6ac8"
          }
        },
        "e2a9a985529240cc9b8fe169ae67c26e": {
          "model_module": "@jupyter-widgets/controls",
          "model_name": "FloatProgressModel",
          "state": {
            "_dom_classes": [],
            "_model_module": "@jupyter-widgets/controls",
            "_model_module_version": "1.5.0",
            "_model_name": "FloatProgressModel",
            "_view_count": null,
            "_view_module": "@jupyter-widgets/controls",
            "_view_module_version": "1.5.0",
            "_view_name": "ProgressView",
            "bar_style": "danger",
            "description": "100%",
            "description_tooltip": null,
            "layout": "IPY_MODEL_e109a4004caa40dab6bd6dd6eb00c9f9",
            "max": 100000,
            "min": 0,
            "orientation": "horizontal",
            "style": "IPY_MODEL_8d4073f4d8894d9c83dd4ef8dab6f172",
            "value": 99726
          }
        },
        "8aa1a29107ec4acfb603ec9b5bee0278": {
          "model_module": "@jupyter-widgets/controls",
          "model_name": "HTMLModel",
          "state": {
            "_dom_classes": [],
            "_model_module": "@jupyter-widgets/controls",
            "_model_module_version": "1.5.0",
            "_model_name": "HTMLModel",
            "_view_count": null,
            "_view_module": "@jupyter-widgets/controls",
            "_view_module_version": "1.5.0",
            "_view_name": "HTMLView",
            "description": "",
            "description_tooltip": null,
            "layout": "IPY_MODEL_4537fa626d104bada21d48ebea3edc7e",
            "placeholder": "​",
            "style": "IPY_MODEL_09a16437fab34b8a8ea97812bb6ad788",
            "value": " 99726/100000 [00:30&lt;00:00, 8480.71it/s]"
          }
        },
        "3438d7b0472d46d99ed4e3b644ac6ac8": {
          "model_module": "@jupyter-widgets/base",
          "model_name": "LayoutModel",
          "state": {
            "_model_module": "@jupyter-widgets/base",
            "_model_module_version": "1.2.0",
            "_model_name": "LayoutModel",
            "_view_count": null,
            "_view_module": "@jupyter-widgets/base",
            "_view_module_version": "1.2.0",
            "_view_name": "LayoutView",
            "align_content": null,
            "align_items": null,
            "align_self": null,
            "border": null,
            "bottom": null,
            "display": null,
            "flex": null,
            "flex_flow": null,
            "grid_area": null,
            "grid_auto_columns": null,
            "grid_auto_flow": null,
            "grid_auto_rows": null,
            "grid_column": null,
            "grid_gap": null,
            "grid_row": null,
            "grid_template_areas": null,
            "grid_template_columns": null,
            "grid_template_rows": null,
            "height": null,
            "justify_content": null,
            "justify_items": null,
            "left": null,
            "margin": null,
            "max_height": null,
            "max_width": null,
            "min_height": null,
            "min_width": null,
            "object_fit": null,
            "object_position": null,
            "order": null,
            "overflow": null,
            "overflow_x": null,
            "overflow_y": null,
            "padding": null,
            "right": null,
            "top": null,
            "visibility": null,
            "width": null
          }
        },
        "e109a4004caa40dab6bd6dd6eb00c9f9": {
          "model_module": "@jupyter-widgets/base",
          "model_name": "LayoutModel",
          "state": {
            "_model_module": "@jupyter-widgets/base",
            "_model_module_version": "1.2.0",
            "_model_name": "LayoutModel",
            "_view_count": null,
            "_view_module": "@jupyter-widgets/base",
            "_view_module_version": "1.2.0",
            "_view_name": "LayoutView",
            "align_content": null,
            "align_items": null,
            "align_self": null,
            "border": null,
            "bottom": null,
            "display": null,
            "flex": null,
            "flex_flow": null,
            "grid_area": null,
            "grid_auto_columns": null,
            "grid_auto_flow": null,
            "grid_auto_rows": null,
            "grid_column": null,
            "grid_gap": null,
            "grid_row": null,
            "grid_template_areas": null,
            "grid_template_columns": null,
            "grid_template_rows": null,
            "height": null,
            "justify_content": null,
            "justify_items": null,
            "left": null,
            "margin": null,
            "max_height": null,
            "max_width": null,
            "min_height": null,
            "min_width": null,
            "object_fit": null,
            "object_position": null,
            "order": null,
            "overflow": null,
            "overflow_x": null,
            "overflow_y": null,
            "padding": null,
            "right": null,
            "top": null,
            "visibility": null,
            "width": null
          }
        },
        "8d4073f4d8894d9c83dd4ef8dab6f172": {
          "model_module": "@jupyter-widgets/controls",
          "model_name": "ProgressStyleModel",
          "state": {
            "_model_module": "@jupyter-widgets/controls",
            "_model_module_version": "1.5.0",
            "_model_name": "ProgressStyleModel",
            "_view_count": null,
            "_view_module": "@jupyter-widgets/base",
            "_view_module_version": "1.2.0",
            "_view_name": "StyleView",
            "bar_color": null,
            "description_width": "initial"
          }
        },
        "4537fa626d104bada21d48ebea3edc7e": {
          "model_module": "@jupyter-widgets/base",
          "model_name": "LayoutModel",
          "state": {
            "_model_module": "@jupyter-widgets/base",
            "_model_module_version": "1.2.0",
            "_model_name": "LayoutModel",
            "_view_count": null,
            "_view_module": "@jupyter-widgets/base",
            "_view_module_version": "1.2.0",
            "_view_name": "LayoutView",
            "align_content": null,
            "align_items": null,
            "align_self": null,
            "border": null,
            "bottom": null,
            "display": null,
            "flex": null,
            "flex_flow": null,
            "grid_area": null,
            "grid_auto_columns": null,
            "grid_auto_flow": null,
            "grid_auto_rows": null,
            "grid_column": null,
            "grid_gap": null,
            "grid_row": null,
            "grid_template_areas": null,
            "grid_template_columns": null,
            "grid_template_rows": null,
            "height": null,
            "justify_content": null,
            "justify_items": null,
            "left": null,
            "margin": null,
            "max_height": null,
            "max_width": null,
            "min_height": null,
            "min_width": null,
            "object_fit": null,
            "object_position": null,
            "order": null,
            "overflow": null,
            "overflow_x": null,
            "overflow_y": null,
            "padding": null,
            "right": null,
            "top": null,
            "visibility": null,
            "width": null
          }
        },
        "09a16437fab34b8a8ea97812bb6ad788": {
          "model_module": "@jupyter-widgets/controls",
          "model_name": "DescriptionStyleModel",
          "state": {
            "_model_module": "@jupyter-widgets/controls",
            "_model_module_version": "1.5.0",
            "_model_name": "DescriptionStyleModel",
            "_view_count": null,
            "_view_module": "@jupyter-widgets/base",
            "_view_module_version": "1.2.0",
            "_view_name": "StyleView",
            "description_width": ""
          }
        },
        "a0866203a25b4880b93974935e91dcd2": {
          "model_module": "@jupyter-widgets/controls",
          "model_name": "HBoxModel",
          "state": {
            "_dom_classes": [],
            "_model_module": "@jupyter-widgets/controls",
            "_model_module_version": "1.5.0",
            "_model_name": "HBoxModel",
            "_view_count": null,
            "_view_module": "@jupyter-widgets/controls",
            "_view_module_version": "1.5.0",
            "_view_name": "HBoxView",
            "box_style": "",
            "children": [
              "IPY_MODEL_19f202277c884873ae32a73a42ea96d3",
              "IPY_MODEL_28e01ec89b204d5781d429aaaef42506"
            ],
            "layout": "IPY_MODEL_a220c6d7cb664977939ee5e965c38839"
          }
        },
        "19f202277c884873ae32a73a42ea96d3": {
          "model_module": "@jupyter-widgets/controls",
          "model_name": "FloatProgressModel",
          "state": {
            "_dom_classes": [],
            "_model_module": "@jupyter-widgets/controls",
            "_model_module_version": "1.5.0",
            "_model_name": "FloatProgressModel",
            "_view_count": null,
            "_view_module": "@jupyter-widgets/controls",
            "_view_module_version": "1.5.0",
            "_view_name": "ProgressView",
            "bar_style": "danger",
            "description": "Validation sanity check:   0%",
            "description_tooltip": null,
            "layout": "IPY_MODEL_9ed8da001c3e4a44a600f69ccde83ca0",
            "max": 2,
            "min": 0,
            "orientation": "horizontal",
            "style": "IPY_MODEL_8ddddd2eeb744c14830bc995adff3b60",
            "value": 0
          }
        },
        "28e01ec89b204d5781d429aaaef42506": {
          "model_module": "@jupyter-widgets/controls",
          "model_name": "HTMLModel",
          "state": {
            "_dom_classes": [],
            "_model_module": "@jupyter-widgets/controls",
            "_model_module_version": "1.5.0",
            "_model_name": "HTMLModel",
            "_view_count": null,
            "_view_module": "@jupyter-widgets/controls",
            "_view_module_version": "1.5.0",
            "_view_name": "HTMLView",
            "description": "",
            "description_tooltip": null,
            "layout": "IPY_MODEL_afc11bdb20414dfeba3bae73a4dab878",
            "placeholder": "​",
            "style": "IPY_MODEL_58f319a923a2467bbd4a3ab7762daea2",
            "value": " 0/2 [09:29&lt;?, ?it/s]"
          }
        },
        "a220c6d7cb664977939ee5e965c38839": {
          "model_module": "@jupyter-widgets/base",
          "model_name": "LayoutModel",
          "state": {
            "_model_module": "@jupyter-widgets/base",
            "_model_module_version": "1.2.0",
            "_model_name": "LayoutModel",
            "_view_count": null,
            "_view_module": "@jupyter-widgets/base",
            "_view_module_version": "1.2.0",
            "_view_name": "LayoutView",
            "align_content": null,
            "align_items": null,
            "align_self": null,
            "border": null,
            "bottom": null,
            "display": "inline-flex",
            "flex": null,
            "flex_flow": "row wrap",
            "grid_area": null,
            "grid_auto_columns": null,
            "grid_auto_flow": null,
            "grid_auto_rows": null,
            "grid_column": null,
            "grid_gap": null,
            "grid_row": null,
            "grid_template_areas": null,
            "grid_template_columns": null,
            "grid_template_rows": null,
            "height": null,
            "justify_content": null,
            "justify_items": null,
            "left": null,
            "margin": null,
            "max_height": null,
            "max_width": null,
            "min_height": null,
            "min_width": null,
            "object_fit": null,
            "object_position": null,
            "order": null,
            "overflow": null,
            "overflow_x": null,
            "overflow_y": null,
            "padding": null,
            "right": null,
            "top": null,
            "visibility": null,
            "width": "100%"
          }
        },
        "9ed8da001c3e4a44a600f69ccde83ca0": {
          "model_module": "@jupyter-widgets/base",
          "model_name": "LayoutModel",
          "state": {
            "_model_module": "@jupyter-widgets/base",
            "_model_module_version": "1.2.0",
            "_model_name": "LayoutModel",
            "_view_count": null,
            "_view_module": "@jupyter-widgets/base",
            "_view_module_version": "1.2.0",
            "_view_name": "LayoutView",
            "align_content": null,
            "align_items": null,
            "align_self": null,
            "border": null,
            "bottom": null,
            "display": null,
            "flex": "2",
            "flex_flow": null,
            "grid_area": null,
            "grid_auto_columns": null,
            "grid_auto_flow": null,
            "grid_auto_rows": null,
            "grid_column": null,
            "grid_gap": null,
            "grid_row": null,
            "grid_template_areas": null,
            "grid_template_columns": null,
            "grid_template_rows": null,
            "height": null,
            "justify_content": null,
            "justify_items": null,
            "left": null,
            "margin": null,
            "max_height": null,
            "max_width": null,
            "min_height": null,
            "min_width": null,
            "object_fit": null,
            "object_position": null,
            "order": null,
            "overflow": null,
            "overflow_x": null,
            "overflow_y": null,
            "padding": null,
            "right": null,
            "top": null,
            "visibility": null,
            "width": null
          }
        },
        "8ddddd2eeb744c14830bc995adff3b60": {
          "model_module": "@jupyter-widgets/controls",
          "model_name": "ProgressStyleModel",
          "state": {
            "_model_module": "@jupyter-widgets/controls",
            "_model_module_version": "1.5.0",
            "_model_name": "ProgressStyleModel",
            "_view_count": null,
            "_view_module": "@jupyter-widgets/base",
            "_view_module_version": "1.2.0",
            "_view_name": "StyleView",
            "bar_color": null,
            "description_width": "initial"
          }
        },
        "afc11bdb20414dfeba3bae73a4dab878": {
          "model_module": "@jupyter-widgets/base",
          "model_name": "LayoutModel",
          "state": {
            "_model_module": "@jupyter-widgets/base",
            "_model_module_version": "1.2.0",
            "_model_name": "LayoutModel",
            "_view_count": null,
            "_view_module": "@jupyter-widgets/base",
            "_view_module_version": "1.2.0",
            "_view_name": "LayoutView",
            "align_content": null,
            "align_items": null,
            "align_self": null,
            "border": null,
            "bottom": null,
            "display": null,
            "flex": null,
            "flex_flow": null,
            "grid_area": null,
            "grid_auto_columns": null,
            "grid_auto_flow": null,
            "grid_auto_rows": null,
            "grid_column": null,
            "grid_gap": null,
            "grid_row": null,
            "grid_template_areas": null,
            "grid_template_columns": null,
            "grid_template_rows": null,
            "height": null,
            "justify_content": null,
            "justify_items": null,
            "left": null,
            "margin": null,
            "max_height": null,
            "max_width": null,
            "min_height": null,
            "min_width": null,
            "object_fit": null,
            "object_position": null,
            "order": null,
            "overflow": null,
            "overflow_x": null,
            "overflow_y": null,
            "padding": null,
            "right": null,
            "top": null,
            "visibility": null,
            "width": null
          }
        },
        "58f319a923a2467bbd4a3ab7762daea2": {
          "model_module": "@jupyter-widgets/controls",
          "model_name": "DescriptionStyleModel",
          "state": {
            "_model_module": "@jupyter-widgets/controls",
            "_model_module_version": "1.5.0",
            "_model_name": "DescriptionStyleModel",
            "_view_count": null,
            "_view_module": "@jupyter-widgets/base",
            "_view_module_version": "1.2.0",
            "_view_name": "StyleView",
            "description_width": ""
          }
        },
        "ffff373d6fef47668f9d8bec84c8c5df": {
          "model_module": "@jupyter-widgets/controls",
          "model_name": "HBoxModel",
          "state": {
            "_dom_classes": [],
            "_model_module": "@jupyter-widgets/controls",
            "_model_module_version": "1.5.0",
            "_model_name": "HBoxModel",
            "_view_count": null,
            "_view_module": "@jupyter-widgets/controls",
            "_view_module_version": "1.5.0",
            "_view_name": "HBoxView",
            "box_style": "",
            "children": [
              "IPY_MODEL_bcdddf064a6747f89c72f2c45dbe92cf",
              "IPY_MODEL_e5a0577a77bb4c97a818b4968f04c5e8"
            ],
            "layout": "IPY_MODEL_70adbb6fafb94336b42d00beb6db497c"
          }
        },
        "bcdddf064a6747f89c72f2c45dbe92cf": {
          "model_module": "@jupyter-widgets/controls",
          "model_name": "FloatProgressModel",
          "state": {
            "_dom_classes": [],
            "_model_module": "@jupyter-widgets/controls",
            "_model_module_version": "1.5.0",
            "_model_name": "FloatProgressModel",
            "_view_count": null,
            "_view_module": "@jupyter-widgets/controls",
            "_view_module_version": "1.5.0",
            "_view_name": "ProgressView",
            "bar_style": "success",
            "description": "Epoch 33: 100%",
            "description_tooltip": null,
            "layout": "IPY_MODEL_4cbdd325304e4064a3be5286252d1c46",
            "max": 1700,
            "min": 0,
            "orientation": "horizontal",
            "style": "IPY_MODEL_2dd1061e2a4a485baa43153115002225",
            "value": 1700
          }
        },
        "e5a0577a77bb4c97a818b4968f04c5e8": {
          "model_module": "@jupyter-widgets/controls",
          "model_name": "HTMLModel",
          "state": {
            "_dom_classes": [],
            "_model_module": "@jupyter-widgets/controls",
            "_model_module_version": "1.5.0",
            "_model_name": "HTMLModel",
            "_view_count": null,
            "_view_module": "@jupyter-widgets/controls",
            "_view_module_version": "1.5.0",
            "_view_name": "HTMLView",
            "description": "",
            "description_tooltip": null,
            "layout": "IPY_MODEL_8d624a40edff48e798a988d2cbc0046b",
            "placeholder": "​",
            "style": "IPY_MODEL_248f8578cd2c44098d281a0a25ce5a91",
            "value": " 1700/1700 [00:06&lt;00:00, 276.14it/s, loss=0.96, v_num=6, val_f1=0.606, val_loss=1.020]"
          }
        },
        "70adbb6fafb94336b42d00beb6db497c": {
          "model_module": "@jupyter-widgets/base",
          "model_name": "LayoutModel",
          "state": {
            "_model_module": "@jupyter-widgets/base",
            "_model_module_version": "1.2.0",
            "_model_name": "LayoutModel",
            "_view_count": null,
            "_view_module": "@jupyter-widgets/base",
            "_view_module_version": "1.2.0",
            "_view_name": "LayoutView",
            "align_content": null,
            "align_items": null,
            "align_self": null,
            "border": null,
            "bottom": null,
            "display": "inline-flex",
            "flex": null,
            "flex_flow": "row wrap",
            "grid_area": null,
            "grid_auto_columns": null,
            "grid_auto_flow": null,
            "grid_auto_rows": null,
            "grid_column": null,
            "grid_gap": null,
            "grid_row": null,
            "grid_template_areas": null,
            "grid_template_columns": null,
            "grid_template_rows": null,
            "height": null,
            "justify_content": null,
            "justify_items": null,
            "left": null,
            "margin": null,
            "max_height": null,
            "max_width": null,
            "min_height": null,
            "min_width": null,
            "object_fit": null,
            "object_position": null,
            "order": null,
            "overflow": null,
            "overflow_x": null,
            "overflow_y": null,
            "padding": null,
            "right": null,
            "top": null,
            "visibility": null,
            "width": "100%"
          }
        },
        "4cbdd325304e4064a3be5286252d1c46": {
          "model_module": "@jupyter-widgets/base",
          "model_name": "LayoutModel",
          "state": {
            "_model_module": "@jupyter-widgets/base",
            "_model_module_version": "1.2.0",
            "_model_name": "LayoutModel",
            "_view_count": null,
            "_view_module": "@jupyter-widgets/base",
            "_view_module_version": "1.2.0",
            "_view_name": "LayoutView",
            "align_content": null,
            "align_items": null,
            "align_self": null,
            "border": null,
            "bottom": null,
            "display": null,
            "flex": "2",
            "flex_flow": null,
            "grid_area": null,
            "grid_auto_columns": null,
            "grid_auto_flow": null,
            "grid_auto_rows": null,
            "grid_column": null,
            "grid_gap": null,
            "grid_row": null,
            "grid_template_areas": null,
            "grid_template_columns": null,
            "grid_template_rows": null,
            "height": null,
            "justify_content": null,
            "justify_items": null,
            "left": null,
            "margin": null,
            "max_height": null,
            "max_width": null,
            "min_height": null,
            "min_width": null,
            "object_fit": null,
            "object_position": null,
            "order": null,
            "overflow": null,
            "overflow_x": null,
            "overflow_y": null,
            "padding": null,
            "right": null,
            "top": null,
            "visibility": null,
            "width": null
          }
        },
        "2dd1061e2a4a485baa43153115002225": {
          "model_module": "@jupyter-widgets/controls",
          "model_name": "ProgressStyleModel",
          "state": {
            "_model_module": "@jupyter-widgets/controls",
            "_model_module_version": "1.5.0",
            "_model_name": "ProgressStyleModel",
            "_view_count": null,
            "_view_module": "@jupyter-widgets/base",
            "_view_module_version": "1.2.0",
            "_view_name": "StyleView",
            "bar_color": null,
            "description_width": "initial"
          }
        },
        "8d624a40edff48e798a988d2cbc0046b": {
          "model_module": "@jupyter-widgets/base",
          "model_name": "LayoutModel",
          "state": {
            "_model_module": "@jupyter-widgets/base",
            "_model_module_version": "1.2.0",
            "_model_name": "LayoutModel",
            "_view_count": null,
            "_view_module": "@jupyter-widgets/base",
            "_view_module_version": "1.2.0",
            "_view_name": "LayoutView",
            "align_content": null,
            "align_items": null,
            "align_self": null,
            "border": null,
            "bottom": null,
            "display": null,
            "flex": null,
            "flex_flow": null,
            "grid_area": null,
            "grid_auto_columns": null,
            "grid_auto_flow": null,
            "grid_auto_rows": null,
            "grid_column": null,
            "grid_gap": null,
            "grid_row": null,
            "grid_template_areas": null,
            "grid_template_columns": null,
            "grid_template_rows": null,
            "height": null,
            "justify_content": null,
            "justify_items": null,
            "left": null,
            "margin": null,
            "max_height": null,
            "max_width": null,
            "min_height": null,
            "min_width": null,
            "object_fit": null,
            "object_position": null,
            "order": null,
            "overflow": null,
            "overflow_x": null,
            "overflow_y": null,
            "padding": null,
            "right": null,
            "top": null,
            "visibility": null,
            "width": null
          }
        },
        "248f8578cd2c44098d281a0a25ce5a91": {
          "model_module": "@jupyter-widgets/controls",
          "model_name": "DescriptionStyleModel",
          "state": {
            "_model_module": "@jupyter-widgets/controls",
            "_model_module_version": "1.5.0",
            "_model_name": "DescriptionStyleModel",
            "_view_count": null,
            "_view_module": "@jupyter-widgets/base",
            "_view_module_version": "1.2.0",
            "_view_name": "StyleView",
            "description_width": ""
          }
        },
        "e6717c9629ea49f4b19dd3a7e57faff1": {
          "model_module": "@jupyter-widgets/controls",
          "model_name": "HBoxModel",
          "state": {
            "_dom_classes": [],
            "_model_module": "@jupyter-widgets/controls",
            "_model_module_version": "1.5.0",
            "_model_name": "HBoxModel",
            "_view_count": null,
            "_view_module": "@jupyter-widgets/controls",
            "_view_module_version": "1.5.0",
            "_view_name": "HBoxView",
            "box_style": "",
            "children": [
              "IPY_MODEL_b28b3b54f4114cb2939e60955aa9a124",
              "IPY_MODEL_aca7fcc36cda4a5c9a7f682627a4c0de"
            ],
            "layout": "IPY_MODEL_f1af792e081c437c8d068c72cd59d311"
          }
        },
        "b28b3b54f4114cb2939e60955aa9a124": {
          "model_module": "@jupyter-widgets/controls",
          "model_name": "FloatProgressModel",
          "state": {
            "_dom_classes": [],
            "_model_module": "@jupyter-widgets/controls",
            "_model_module_version": "1.5.0",
            "_model_name": "FloatProgressModel",
            "_view_count": null,
            "_view_module": "@jupyter-widgets/controls",
            "_view_module_version": "1.5.0",
            "_view_name": "ProgressView",
            "bar_style": "info",
            "description": "Validating: 100%",
            "description_tooltip": null,
            "layout": "IPY_MODEL_b3d9931867204c418519adc2d4b27033",
            "max": 155,
            "min": 0,
            "orientation": "horizontal",
            "style": "IPY_MODEL_68ef7074d74047bc9639e357f95ea48f",
            "value": 155
          }
        },
        "aca7fcc36cda4a5c9a7f682627a4c0de": {
          "model_module": "@jupyter-widgets/controls",
          "model_name": "HTMLModel",
          "state": {
            "_dom_classes": [],
            "_model_module": "@jupyter-widgets/controls",
            "_model_module_version": "1.5.0",
            "_model_name": "HTMLModel",
            "_view_count": null,
            "_view_module": "@jupyter-widgets/controls",
            "_view_module_version": "1.5.0",
            "_view_name": "HTMLView",
            "description": "",
            "description_tooltip": null,
            "layout": "IPY_MODEL_33c3a5c3d49b49808cef4e1f042d6517",
            "placeholder": "​",
            "style": "IPY_MODEL_e34fcad4eb4f45ba96c7d4b5793d8e66",
            "value": " 155/155 [00:00&lt;00:00, 309.98it/s]"
          }
        },
        "f1af792e081c437c8d068c72cd59d311": {
          "model_module": "@jupyter-widgets/base",
          "model_name": "LayoutModel",
          "state": {
            "_model_module": "@jupyter-widgets/base",
            "_model_module_version": "1.2.0",
            "_model_name": "LayoutModel",
            "_view_count": null,
            "_view_module": "@jupyter-widgets/base",
            "_view_module_version": "1.2.0",
            "_view_name": "LayoutView",
            "align_content": null,
            "align_items": null,
            "align_self": null,
            "border": null,
            "bottom": null,
            "display": "inline-flex",
            "flex": null,
            "flex_flow": "row wrap",
            "grid_area": null,
            "grid_auto_columns": null,
            "grid_auto_flow": null,
            "grid_auto_rows": null,
            "grid_column": null,
            "grid_gap": null,
            "grid_row": null,
            "grid_template_areas": null,
            "grid_template_columns": null,
            "grid_template_rows": null,
            "height": null,
            "justify_content": null,
            "justify_items": null,
            "left": null,
            "margin": null,
            "max_height": null,
            "max_width": null,
            "min_height": null,
            "min_width": null,
            "object_fit": null,
            "object_position": null,
            "order": null,
            "overflow": null,
            "overflow_x": null,
            "overflow_y": null,
            "padding": null,
            "right": null,
            "top": null,
            "visibility": null,
            "width": "100%"
          }
        },
        "b3d9931867204c418519adc2d4b27033": {
          "model_module": "@jupyter-widgets/base",
          "model_name": "LayoutModel",
          "state": {
            "_model_module": "@jupyter-widgets/base",
            "_model_module_version": "1.2.0",
            "_model_name": "LayoutModel",
            "_view_count": null,
            "_view_module": "@jupyter-widgets/base",
            "_view_module_version": "1.2.0",
            "_view_name": "LayoutView",
            "align_content": null,
            "align_items": null,
            "align_self": null,
            "border": null,
            "bottom": null,
            "display": null,
            "flex": "2",
            "flex_flow": null,
            "grid_area": null,
            "grid_auto_columns": null,
            "grid_auto_flow": null,
            "grid_auto_rows": null,
            "grid_column": null,
            "grid_gap": null,
            "grid_row": null,
            "grid_template_areas": null,
            "grid_template_columns": null,
            "grid_template_rows": null,
            "height": null,
            "justify_content": null,
            "justify_items": null,
            "left": null,
            "margin": null,
            "max_height": null,
            "max_width": null,
            "min_height": null,
            "min_width": null,
            "object_fit": null,
            "object_position": null,
            "order": null,
            "overflow": null,
            "overflow_x": null,
            "overflow_y": null,
            "padding": null,
            "right": null,
            "top": null,
            "visibility": null,
            "width": null
          }
        },
        "68ef7074d74047bc9639e357f95ea48f": {
          "model_module": "@jupyter-widgets/controls",
          "model_name": "ProgressStyleModel",
          "state": {
            "_model_module": "@jupyter-widgets/controls",
            "_model_module_version": "1.5.0",
            "_model_name": "ProgressStyleModel",
            "_view_count": null,
            "_view_module": "@jupyter-widgets/base",
            "_view_module_version": "1.2.0",
            "_view_name": "StyleView",
            "bar_color": null,
            "description_width": "initial"
          }
        },
        "33c3a5c3d49b49808cef4e1f042d6517": {
          "model_module": "@jupyter-widgets/base",
          "model_name": "LayoutModel",
          "state": {
            "_model_module": "@jupyter-widgets/base",
            "_model_module_version": "1.2.0",
            "_model_name": "LayoutModel",
            "_view_count": null,
            "_view_module": "@jupyter-widgets/base",
            "_view_module_version": "1.2.0",
            "_view_name": "LayoutView",
            "align_content": null,
            "align_items": null,
            "align_self": null,
            "border": null,
            "bottom": null,
            "display": null,
            "flex": null,
            "flex_flow": null,
            "grid_area": null,
            "grid_auto_columns": null,
            "grid_auto_flow": null,
            "grid_auto_rows": null,
            "grid_column": null,
            "grid_gap": null,
            "grid_row": null,
            "grid_template_areas": null,
            "grid_template_columns": null,
            "grid_template_rows": null,
            "height": null,
            "justify_content": null,
            "justify_items": null,
            "left": null,
            "margin": null,
            "max_height": null,
            "max_width": null,
            "min_height": null,
            "min_width": null,
            "object_fit": null,
            "object_position": null,
            "order": null,
            "overflow": null,
            "overflow_x": null,
            "overflow_y": null,
            "padding": null,
            "right": null,
            "top": null,
            "visibility": null,
            "width": null
          }
        },
        "e34fcad4eb4f45ba96c7d4b5793d8e66": {
          "model_module": "@jupyter-widgets/controls",
          "model_name": "DescriptionStyleModel",
          "state": {
            "_model_module": "@jupyter-widgets/controls",
            "_model_module_version": "1.5.0",
            "_model_name": "DescriptionStyleModel",
            "_view_count": null,
            "_view_module": "@jupyter-widgets/base",
            "_view_module_version": "1.2.0",
            "_view_name": "StyleView",
            "description_width": ""
          }
        },
        "5a97509c8e034ac28d9113b95f60d3da": {
          "model_module": "@jupyter-widgets/controls",
          "model_name": "HBoxModel",
          "state": {
            "_dom_classes": [],
            "_model_module": "@jupyter-widgets/controls",
            "_model_module_version": "1.5.0",
            "_model_name": "HBoxModel",
            "_view_count": null,
            "_view_module": "@jupyter-widgets/controls",
            "_view_module_version": "1.5.0",
            "_view_name": "HBoxView",
            "box_style": "",
            "children": [
              "IPY_MODEL_8378505d63cb449ab527d15760d11c04",
              "IPY_MODEL_12e8da7d57394e299936e85bb71018ab"
            ],
            "layout": "IPY_MODEL_74d96706422c42d2b6bca95d3f32771b"
          }
        },
        "8378505d63cb449ab527d15760d11c04": {
          "model_module": "@jupyter-widgets/controls",
          "model_name": "FloatProgressModel",
          "state": {
            "_dom_classes": [],
            "_model_module": "@jupyter-widgets/controls",
            "_model_module_version": "1.5.0",
            "_model_name": "FloatProgressModel",
            "_view_count": null,
            "_view_module": "@jupyter-widgets/controls",
            "_view_module_version": "1.5.0",
            "_view_name": "ProgressView",
            "bar_style": "info",
            "description": "Validating: 100%",
            "description_tooltip": null,
            "layout": "IPY_MODEL_29c4974079844184a3074f0df93a760a",
            "max": 155,
            "min": 0,
            "orientation": "horizontal",
            "style": "IPY_MODEL_aed0fd6778c045f89c8f77ff33b3d4e9",
            "value": 155
          }
        },
        "12e8da7d57394e299936e85bb71018ab": {
          "model_module": "@jupyter-widgets/controls",
          "model_name": "HTMLModel",
          "state": {
            "_dom_classes": [],
            "_model_module": "@jupyter-widgets/controls",
            "_model_module_version": "1.5.0",
            "_model_name": "HTMLModel",
            "_view_count": null,
            "_view_module": "@jupyter-widgets/controls",
            "_view_module_version": "1.5.0",
            "_view_name": "HTMLView",
            "description": "",
            "description_tooltip": null,
            "layout": "IPY_MODEL_2b2cc5cfdb8c44caa2ff328422cf6743",
            "placeholder": "​",
            "style": "IPY_MODEL_857c696f7af145de9fdec9b857501e57",
            "value": " 155/155 [00:00&lt;00:00, 296.45it/s]"
          }
        },
        "74d96706422c42d2b6bca95d3f32771b": {
          "model_module": "@jupyter-widgets/base",
          "model_name": "LayoutModel",
          "state": {
            "_model_module": "@jupyter-widgets/base",
            "_model_module_version": "1.2.0",
            "_model_name": "LayoutModel",
            "_view_count": null,
            "_view_module": "@jupyter-widgets/base",
            "_view_module_version": "1.2.0",
            "_view_name": "LayoutView",
            "align_content": null,
            "align_items": null,
            "align_self": null,
            "border": null,
            "bottom": null,
            "display": "inline-flex",
            "flex": null,
            "flex_flow": "row wrap",
            "grid_area": null,
            "grid_auto_columns": null,
            "grid_auto_flow": null,
            "grid_auto_rows": null,
            "grid_column": null,
            "grid_gap": null,
            "grid_row": null,
            "grid_template_areas": null,
            "grid_template_columns": null,
            "grid_template_rows": null,
            "height": null,
            "justify_content": null,
            "justify_items": null,
            "left": null,
            "margin": null,
            "max_height": null,
            "max_width": null,
            "min_height": null,
            "min_width": null,
            "object_fit": null,
            "object_position": null,
            "order": null,
            "overflow": null,
            "overflow_x": null,
            "overflow_y": null,
            "padding": null,
            "right": null,
            "top": null,
            "visibility": null,
            "width": "100%"
          }
        },
        "29c4974079844184a3074f0df93a760a": {
          "model_module": "@jupyter-widgets/base",
          "model_name": "LayoutModel",
          "state": {
            "_model_module": "@jupyter-widgets/base",
            "_model_module_version": "1.2.0",
            "_model_name": "LayoutModel",
            "_view_count": null,
            "_view_module": "@jupyter-widgets/base",
            "_view_module_version": "1.2.0",
            "_view_name": "LayoutView",
            "align_content": null,
            "align_items": null,
            "align_self": null,
            "border": null,
            "bottom": null,
            "display": null,
            "flex": "2",
            "flex_flow": null,
            "grid_area": null,
            "grid_auto_columns": null,
            "grid_auto_flow": null,
            "grid_auto_rows": null,
            "grid_column": null,
            "grid_gap": null,
            "grid_row": null,
            "grid_template_areas": null,
            "grid_template_columns": null,
            "grid_template_rows": null,
            "height": null,
            "justify_content": null,
            "justify_items": null,
            "left": null,
            "margin": null,
            "max_height": null,
            "max_width": null,
            "min_height": null,
            "min_width": null,
            "object_fit": null,
            "object_position": null,
            "order": null,
            "overflow": null,
            "overflow_x": null,
            "overflow_y": null,
            "padding": null,
            "right": null,
            "top": null,
            "visibility": null,
            "width": null
          }
        },
        "aed0fd6778c045f89c8f77ff33b3d4e9": {
          "model_module": "@jupyter-widgets/controls",
          "model_name": "ProgressStyleModel",
          "state": {
            "_model_module": "@jupyter-widgets/controls",
            "_model_module_version": "1.5.0",
            "_model_name": "ProgressStyleModel",
            "_view_count": null,
            "_view_module": "@jupyter-widgets/base",
            "_view_module_version": "1.2.0",
            "_view_name": "StyleView",
            "bar_color": null,
            "description_width": "initial"
          }
        },
        "2b2cc5cfdb8c44caa2ff328422cf6743": {
          "model_module": "@jupyter-widgets/base",
          "model_name": "LayoutModel",
          "state": {
            "_model_module": "@jupyter-widgets/base",
            "_model_module_version": "1.2.0",
            "_model_name": "LayoutModel",
            "_view_count": null,
            "_view_module": "@jupyter-widgets/base",
            "_view_module_version": "1.2.0",
            "_view_name": "LayoutView",
            "align_content": null,
            "align_items": null,
            "align_self": null,
            "border": null,
            "bottom": null,
            "display": null,
            "flex": null,
            "flex_flow": null,
            "grid_area": null,
            "grid_auto_columns": null,
            "grid_auto_flow": null,
            "grid_auto_rows": null,
            "grid_column": null,
            "grid_gap": null,
            "grid_row": null,
            "grid_template_areas": null,
            "grid_template_columns": null,
            "grid_template_rows": null,
            "height": null,
            "justify_content": null,
            "justify_items": null,
            "left": null,
            "margin": null,
            "max_height": null,
            "max_width": null,
            "min_height": null,
            "min_width": null,
            "object_fit": null,
            "object_position": null,
            "order": null,
            "overflow": null,
            "overflow_x": null,
            "overflow_y": null,
            "padding": null,
            "right": null,
            "top": null,
            "visibility": null,
            "width": null
          }
        },
        "857c696f7af145de9fdec9b857501e57": {
          "model_module": "@jupyter-widgets/controls",
          "model_name": "DescriptionStyleModel",
          "state": {
            "_model_module": "@jupyter-widgets/controls",
            "_model_module_version": "1.5.0",
            "_model_name": "DescriptionStyleModel",
            "_view_count": null,
            "_view_module": "@jupyter-widgets/base",
            "_view_module_version": "1.2.0",
            "_view_name": "StyleView",
            "description_width": ""
          }
        },
        "54dd04c650e54504a86a20a90853830c": {
          "model_module": "@jupyter-widgets/controls",
          "model_name": "HBoxModel",
          "state": {
            "_dom_classes": [],
            "_model_module": "@jupyter-widgets/controls",
            "_model_module_version": "1.5.0",
            "_model_name": "HBoxModel",
            "_view_count": null,
            "_view_module": "@jupyter-widgets/controls",
            "_view_module_version": "1.5.0",
            "_view_name": "HBoxView",
            "box_style": "",
            "children": [
              "IPY_MODEL_7507da0f60104b19a9c9a9c9dc284539",
              "IPY_MODEL_573069ff5c1640cc9ebd7dfce93d8f1b"
            ],
            "layout": "IPY_MODEL_dc783e8d0bef48198f4fa70474d51e60"
          }
        },
        "7507da0f60104b19a9c9a9c9dc284539": {
          "model_module": "@jupyter-widgets/controls",
          "model_name": "FloatProgressModel",
          "state": {
            "_dom_classes": [],
            "_model_module": "@jupyter-widgets/controls",
            "_model_module_version": "1.5.0",
            "_model_name": "FloatProgressModel",
            "_view_count": null,
            "_view_module": "@jupyter-widgets/controls",
            "_view_module_version": "1.5.0",
            "_view_name": "ProgressView",
            "bar_style": "info",
            "description": "Validating: 100%",
            "description_tooltip": null,
            "layout": "IPY_MODEL_15cafe1bf0e64aef8c5160c4687e14de",
            "max": 155,
            "min": 0,
            "orientation": "horizontal",
            "style": "IPY_MODEL_8ce73be1e6894118bf1b1e998248fa7a",
            "value": 155
          }
        },
        "573069ff5c1640cc9ebd7dfce93d8f1b": {
          "model_module": "@jupyter-widgets/controls",
          "model_name": "HTMLModel",
          "state": {
            "_dom_classes": [],
            "_model_module": "@jupyter-widgets/controls",
            "_model_module_version": "1.5.0",
            "_model_name": "HTMLModel",
            "_view_count": null,
            "_view_module": "@jupyter-widgets/controls",
            "_view_module_version": "1.5.0",
            "_view_name": "HTMLView",
            "description": "",
            "description_tooltip": null,
            "layout": "IPY_MODEL_64f32ba62c094f2aaaf7c1bc19f96fba",
            "placeholder": "​",
            "style": "IPY_MODEL_442b96e94539498f8c99a58bb703d530",
            "value": " 155/155 [00:00&lt;00:00, 294.27it/s]"
          }
        },
        "dc783e8d0bef48198f4fa70474d51e60": {
          "model_module": "@jupyter-widgets/base",
          "model_name": "LayoutModel",
          "state": {
            "_model_module": "@jupyter-widgets/base",
            "_model_module_version": "1.2.0",
            "_model_name": "LayoutModel",
            "_view_count": null,
            "_view_module": "@jupyter-widgets/base",
            "_view_module_version": "1.2.0",
            "_view_name": "LayoutView",
            "align_content": null,
            "align_items": null,
            "align_self": null,
            "border": null,
            "bottom": null,
            "display": "inline-flex",
            "flex": null,
            "flex_flow": "row wrap",
            "grid_area": null,
            "grid_auto_columns": null,
            "grid_auto_flow": null,
            "grid_auto_rows": null,
            "grid_column": null,
            "grid_gap": null,
            "grid_row": null,
            "grid_template_areas": null,
            "grid_template_columns": null,
            "grid_template_rows": null,
            "height": null,
            "justify_content": null,
            "justify_items": null,
            "left": null,
            "margin": null,
            "max_height": null,
            "max_width": null,
            "min_height": null,
            "min_width": null,
            "object_fit": null,
            "object_position": null,
            "order": null,
            "overflow": null,
            "overflow_x": null,
            "overflow_y": null,
            "padding": null,
            "right": null,
            "top": null,
            "visibility": null,
            "width": "100%"
          }
        },
        "15cafe1bf0e64aef8c5160c4687e14de": {
          "model_module": "@jupyter-widgets/base",
          "model_name": "LayoutModel",
          "state": {
            "_model_module": "@jupyter-widgets/base",
            "_model_module_version": "1.2.0",
            "_model_name": "LayoutModel",
            "_view_count": null,
            "_view_module": "@jupyter-widgets/base",
            "_view_module_version": "1.2.0",
            "_view_name": "LayoutView",
            "align_content": null,
            "align_items": null,
            "align_self": null,
            "border": null,
            "bottom": null,
            "display": null,
            "flex": "2",
            "flex_flow": null,
            "grid_area": null,
            "grid_auto_columns": null,
            "grid_auto_flow": null,
            "grid_auto_rows": null,
            "grid_column": null,
            "grid_gap": null,
            "grid_row": null,
            "grid_template_areas": null,
            "grid_template_columns": null,
            "grid_template_rows": null,
            "height": null,
            "justify_content": null,
            "justify_items": null,
            "left": null,
            "margin": null,
            "max_height": null,
            "max_width": null,
            "min_height": null,
            "min_width": null,
            "object_fit": null,
            "object_position": null,
            "order": null,
            "overflow": null,
            "overflow_x": null,
            "overflow_y": null,
            "padding": null,
            "right": null,
            "top": null,
            "visibility": null,
            "width": null
          }
        },
        "8ce73be1e6894118bf1b1e998248fa7a": {
          "model_module": "@jupyter-widgets/controls",
          "model_name": "ProgressStyleModel",
          "state": {
            "_model_module": "@jupyter-widgets/controls",
            "_model_module_version": "1.5.0",
            "_model_name": "ProgressStyleModel",
            "_view_count": null,
            "_view_module": "@jupyter-widgets/base",
            "_view_module_version": "1.2.0",
            "_view_name": "StyleView",
            "bar_color": null,
            "description_width": "initial"
          }
        },
        "64f32ba62c094f2aaaf7c1bc19f96fba": {
          "model_module": "@jupyter-widgets/base",
          "model_name": "LayoutModel",
          "state": {
            "_model_module": "@jupyter-widgets/base",
            "_model_module_version": "1.2.0",
            "_model_name": "LayoutModel",
            "_view_count": null,
            "_view_module": "@jupyter-widgets/base",
            "_view_module_version": "1.2.0",
            "_view_name": "LayoutView",
            "align_content": null,
            "align_items": null,
            "align_self": null,
            "border": null,
            "bottom": null,
            "display": null,
            "flex": null,
            "flex_flow": null,
            "grid_area": null,
            "grid_auto_columns": null,
            "grid_auto_flow": null,
            "grid_auto_rows": null,
            "grid_column": null,
            "grid_gap": null,
            "grid_row": null,
            "grid_template_areas": null,
            "grid_template_columns": null,
            "grid_template_rows": null,
            "height": null,
            "justify_content": null,
            "justify_items": null,
            "left": null,
            "margin": null,
            "max_height": null,
            "max_width": null,
            "min_height": null,
            "min_width": null,
            "object_fit": null,
            "object_position": null,
            "order": null,
            "overflow": null,
            "overflow_x": null,
            "overflow_y": null,
            "padding": null,
            "right": null,
            "top": null,
            "visibility": null,
            "width": null
          }
        },
        "442b96e94539498f8c99a58bb703d530": {
          "model_module": "@jupyter-widgets/controls",
          "model_name": "DescriptionStyleModel",
          "state": {
            "_model_module": "@jupyter-widgets/controls",
            "_model_module_version": "1.5.0",
            "_model_name": "DescriptionStyleModel",
            "_view_count": null,
            "_view_module": "@jupyter-widgets/base",
            "_view_module_version": "1.2.0",
            "_view_name": "StyleView",
            "description_width": ""
          }
        },
        "164070314de14b6786d9512ca9bce919": {
          "model_module": "@jupyter-widgets/controls",
          "model_name": "HBoxModel",
          "state": {
            "_dom_classes": [],
            "_model_module": "@jupyter-widgets/controls",
            "_model_module_version": "1.5.0",
            "_model_name": "HBoxModel",
            "_view_count": null,
            "_view_module": "@jupyter-widgets/controls",
            "_view_module_version": "1.5.0",
            "_view_name": "HBoxView",
            "box_style": "",
            "children": [
              "IPY_MODEL_3f8665fcf0e447aeb1c5112a681c14c2",
              "IPY_MODEL_664eee20c2cb4bb184ec43743132a3eb"
            ],
            "layout": "IPY_MODEL_de69bc62a7174778aabfadcd34138729"
          }
        },
        "3f8665fcf0e447aeb1c5112a681c14c2": {
          "model_module": "@jupyter-widgets/controls",
          "model_name": "FloatProgressModel",
          "state": {
            "_dom_classes": [],
            "_model_module": "@jupyter-widgets/controls",
            "_model_module_version": "1.5.0",
            "_model_name": "FloatProgressModel",
            "_view_count": null,
            "_view_module": "@jupyter-widgets/controls",
            "_view_module_version": "1.5.0",
            "_view_name": "ProgressView",
            "bar_style": "info",
            "description": "Validating: 100%",
            "description_tooltip": null,
            "layout": "IPY_MODEL_bce008e6eec94143a1ab4907abfc899d",
            "max": 155,
            "min": 0,
            "orientation": "horizontal",
            "style": "IPY_MODEL_b2e22fce660844ab9aeb176a4fcc3e7d",
            "value": 155
          }
        },
        "664eee20c2cb4bb184ec43743132a3eb": {
          "model_module": "@jupyter-widgets/controls",
          "model_name": "HTMLModel",
          "state": {
            "_dom_classes": [],
            "_model_module": "@jupyter-widgets/controls",
            "_model_module_version": "1.5.0",
            "_model_name": "HTMLModel",
            "_view_count": null,
            "_view_module": "@jupyter-widgets/controls",
            "_view_module_version": "1.5.0",
            "_view_name": "HTMLView",
            "description": "",
            "description_tooltip": null,
            "layout": "IPY_MODEL_747b57b5e62544f5ace7dd530286104d",
            "placeholder": "​",
            "style": "IPY_MODEL_0646fc7d92d04c389b3e39d8ad8329ef",
            "value": " 155/155 [00:00&lt;00:00, 295.98it/s]"
          }
        },
        "de69bc62a7174778aabfadcd34138729": {
          "model_module": "@jupyter-widgets/base",
          "model_name": "LayoutModel",
          "state": {
            "_model_module": "@jupyter-widgets/base",
            "_model_module_version": "1.2.0",
            "_model_name": "LayoutModel",
            "_view_count": null,
            "_view_module": "@jupyter-widgets/base",
            "_view_module_version": "1.2.0",
            "_view_name": "LayoutView",
            "align_content": null,
            "align_items": null,
            "align_self": null,
            "border": null,
            "bottom": null,
            "display": "inline-flex",
            "flex": null,
            "flex_flow": "row wrap",
            "grid_area": null,
            "grid_auto_columns": null,
            "grid_auto_flow": null,
            "grid_auto_rows": null,
            "grid_column": null,
            "grid_gap": null,
            "grid_row": null,
            "grid_template_areas": null,
            "grid_template_columns": null,
            "grid_template_rows": null,
            "height": null,
            "justify_content": null,
            "justify_items": null,
            "left": null,
            "margin": null,
            "max_height": null,
            "max_width": null,
            "min_height": null,
            "min_width": null,
            "object_fit": null,
            "object_position": null,
            "order": null,
            "overflow": null,
            "overflow_x": null,
            "overflow_y": null,
            "padding": null,
            "right": null,
            "top": null,
            "visibility": null,
            "width": "100%"
          }
        },
        "bce008e6eec94143a1ab4907abfc899d": {
          "model_module": "@jupyter-widgets/base",
          "model_name": "LayoutModel",
          "state": {
            "_model_module": "@jupyter-widgets/base",
            "_model_module_version": "1.2.0",
            "_model_name": "LayoutModel",
            "_view_count": null,
            "_view_module": "@jupyter-widgets/base",
            "_view_module_version": "1.2.0",
            "_view_name": "LayoutView",
            "align_content": null,
            "align_items": null,
            "align_self": null,
            "border": null,
            "bottom": null,
            "display": null,
            "flex": "2",
            "flex_flow": null,
            "grid_area": null,
            "grid_auto_columns": null,
            "grid_auto_flow": null,
            "grid_auto_rows": null,
            "grid_column": null,
            "grid_gap": null,
            "grid_row": null,
            "grid_template_areas": null,
            "grid_template_columns": null,
            "grid_template_rows": null,
            "height": null,
            "justify_content": null,
            "justify_items": null,
            "left": null,
            "margin": null,
            "max_height": null,
            "max_width": null,
            "min_height": null,
            "min_width": null,
            "object_fit": null,
            "object_position": null,
            "order": null,
            "overflow": null,
            "overflow_x": null,
            "overflow_y": null,
            "padding": null,
            "right": null,
            "top": null,
            "visibility": null,
            "width": null
          }
        },
        "b2e22fce660844ab9aeb176a4fcc3e7d": {
          "model_module": "@jupyter-widgets/controls",
          "model_name": "ProgressStyleModel",
          "state": {
            "_model_module": "@jupyter-widgets/controls",
            "_model_module_version": "1.5.0",
            "_model_name": "ProgressStyleModel",
            "_view_count": null,
            "_view_module": "@jupyter-widgets/base",
            "_view_module_version": "1.2.0",
            "_view_name": "StyleView",
            "bar_color": null,
            "description_width": "initial"
          }
        },
        "747b57b5e62544f5ace7dd530286104d": {
          "model_module": "@jupyter-widgets/base",
          "model_name": "LayoutModel",
          "state": {
            "_model_module": "@jupyter-widgets/base",
            "_model_module_version": "1.2.0",
            "_model_name": "LayoutModel",
            "_view_count": null,
            "_view_module": "@jupyter-widgets/base",
            "_view_module_version": "1.2.0",
            "_view_name": "LayoutView",
            "align_content": null,
            "align_items": null,
            "align_self": null,
            "border": null,
            "bottom": null,
            "display": null,
            "flex": null,
            "flex_flow": null,
            "grid_area": null,
            "grid_auto_columns": null,
            "grid_auto_flow": null,
            "grid_auto_rows": null,
            "grid_column": null,
            "grid_gap": null,
            "grid_row": null,
            "grid_template_areas": null,
            "grid_template_columns": null,
            "grid_template_rows": null,
            "height": null,
            "justify_content": null,
            "justify_items": null,
            "left": null,
            "margin": null,
            "max_height": null,
            "max_width": null,
            "min_height": null,
            "min_width": null,
            "object_fit": null,
            "object_position": null,
            "order": null,
            "overflow": null,
            "overflow_x": null,
            "overflow_y": null,
            "padding": null,
            "right": null,
            "top": null,
            "visibility": null,
            "width": null
          }
        },
        "0646fc7d92d04c389b3e39d8ad8329ef": {
          "model_module": "@jupyter-widgets/controls",
          "model_name": "DescriptionStyleModel",
          "state": {
            "_model_module": "@jupyter-widgets/controls",
            "_model_module_version": "1.5.0",
            "_model_name": "DescriptionStyleModel",
            "_view_count": null,
            "_view_module": "@jupyter-widgets/base",
            "_view_module_version": "1.2.0",
            "_view_name": "StyleView",
            "description_width": ""
          }
        },
        "de20e2f8bffc4dd0b85470ff6332eb74": {
          "model_module": "@jupyter-widgets/controls",
          "model_name": "HBoxModel",
          "state": {
            "_dom_classes": [],
            "_model_module": "@jupyter-widgets/controls",
            "_model_module_version": "1.5.0",
            "_model_name": "HBoxModel",
            "_view_count": null,
            "_view_module": "@jupyter-widgets/controls",
            "_view_module_version": "1.5.0",
            "_view_name": "HBoxView",
            "box_style": "",
            "children": [
              "IPY_MODEL_cbe0b032adb8481da44e08cc99e183a0",
              "IPY_MODEL_9837fdeda77847818a1412a4f6edbcea"
            ],
            "layout": "IPY_MODEL_94808200605a43bebe9943b43a75b96e"
          }
        },
        "cbe0b032adb8481da44e08cc99e183a0": {
          "model_module": "@jupyter-widgets/controls",
          "model_name": "FloatProgressModel",
          "state": {
            "_dom_classes": [],
            "_model_module": "@jupyter-widgets/controls",
            "_model_module_version": "1.5.0",
            "_model_name": "FloatProgressModel",
            "_view_count": null,
            "_view_module": "@jupyter-widgets/controls",
            "_view_module_version": "1.5.0",
            "_view_name": "ProgressView",
            "bar_style": "info",
            "description": "Validating: 100%",
            "description_tooltip": null,
            "layout": "IPY_MODEL_23c4f89a816044dfb9dd3ebcd376227a",
            "max": 155,
            "min": 0,
            "orientation": "horizontal",
            "style": "IPY_MODEL_6bb76466f0674df0a4d49c648e3ace53",
            "value": 155
          }
        },
        "9837fdeda77847818a1412a4f6edbcea": {
          "model_module": "@jupyter-widgets/controls",
          "model_name": "HTMLModel",
          "state": {
            "_dom_classes": [],
            "_model_module": "@jupyter-widgets/controls",
            "_model_module_version": "1.5.0",
            "_model_name": "HTMLModel",
            "_view_count": null,
            "_view_module": "@jupyter-widgets/controls",
            "_view_module_version": "1.5.0",
            "_view_name": "HTMLView",
            "description": "",
            "description_tooltip": null,
            "layout": "IPY_MODEL_b6eca0d1ce77499f80aea21c21405046",
            "placeholder": "​",
            "style": "IPY_MODEL_f8a8530233984944ad213be3532192e4",
            "value": " 155/155 [00:00&lt;00:00, 318.79it/s]"
          }
        },
        "94808200605a43bebe9943b43a75b96e": {
          "model_module": "@jupyter-widgets/base",
          "model_name": "LayoutModel",
          "state": {
            "_model_module": "@jupyter-widgets/base",
            "_model_module_version": "1.2.0",
            "_model_name": "LayoutModel",
            "_view_count": null,
            "_view_module": "@jupyter-widgets/base",
            "_view_module_version": "1.2.0",
            "_view_name": "LayoutView",
            "align_content": null,
            "align_items": null,
            "align_self": null,
            "border": null,
            "bottom": null,
            "display": "inline-flex",
            "flex": null,
            "flex_flow": "row wrap",
            "grid_area": null,
            "grid_auto_columns": null,
            "grid_auto_flow": null,
            "grid_auto_rows": null,
            "grid_column": null,
            "grid_gap": null,
            "grid_row": null,
            "grid_template_areas": null,
            "grid_template_columns": null,
            "grid_template_rows": null,
            "height": null,
            "justify_content": null,
            "justify_items": null,
            "left": null,
            "margin": null,
            "max_height": null,
            "max_width": null,
            "min_height": null,
            "min_width": null,
            "object_fit": null,
            "object_position": null,
            "order": null,
            "overflow": null,
            "overflow_x": null,
            "overflow_y": null,
            "padding": null,
            "right": null,
            "top": null,
            "visibility": null,
            "width": "100%"
          }
        },
        "23c4f89a816044dfb9dd3ebcd376227a": {
          "model_module": "@jupyter-widgets/base",
          "model_name": "LayoutModel",
          "state": {
            "_model_module": "@jupyter-widgets/base",
            "_model_module_version": "1.2.0",
            "_model_name": "LayoutModel",
            "_view_count": null,
            "_view_module": "@jupyter-widgets/base",
            "_view_module_version": "1.2.0",
            "_view_name": "LayoutView",
            "align_content": null,
            "align_items": null,
            "align_self": null,
            "border": null,
            "bottom": null,
            "display": null,
            "flex": "2",
            "flex_flow": null,
            "grid_area": null,
            "grid_auto_columns": null,
            "grid_auto_flow": null,
            "grid_auto_rows": null,
            "grid_column": null,
            "grid_gap": null,
            "grid_row": null,
            "grid_template_areas": null,
            "grid_template_columns": null,
            "grid_template_rows": null,
            "height": null,
            "justify_content": null,
            "justify_items": null,
            "left": null,
            "margin": null,
            "max_height": null,
            "max_width": null,
            "min_height": null,
            "min_width": null,
            "object_fit": null,
            "object_position": null,
            "order": null,
            "overflow": null,
            "overflow_x": null,
            "overflow_y": null,
            "padding": null,
            "right": null,
            "top": null,
            "visibility": null,
            "width": null
          }
        },
        "6bb76466f0674df0a4d49c648e3ace53": {
          "model_module": "@jupyter-widgets/controls",
          "model_name": "ProgressStyleModel",
          "state": {
            "_model_module": "@jupyter-widgets/controls",
            "_model_module_version": "1.5.0",
            "_model_name": "ProgressStyleModel",
            "_view_count": null,
            "_view_module": "@jupyter-widgets/base",
            "_view_module_version": "1.2.0",
            "_view_name": "StyleView",
            "bar_color": null,
            "description_width": "initial"
          }
        },
        "b6eca0d1ce77499f80aea21c21405046": {
          "model_module": "@jupyter-widgets/base",
          "model_name": "LayoutModel",
          "state": {
            "_model_module": "@jupyter-widgets/base",
            "_model_module_version": "1.2.0",
            "_model_name": "LayoutModel",
            "_view_count": null,
            "_view_module": "@jupyter-widgets/base",
            "_view_module_version": "1.2.0",
            "_view_name": "LayoutView",
            "align_content": null,
            "align_items": null,
            "align_self": null,
            "border": null,
            "bottom": null,
            "display": null,
            "flex": null,
            "flex_flow": null,
            "grid_area": null,
            "grid_auto_columns": null,
            "grid_auto_flow": null,
            "grid_auto_rows": null,
            "grid_column": null,
            "grid_gap": null,
            "grid_row": null,
            "grid_template_areas": null,
            "grid_template_columns": null,
            "grid_template_rows": null,
            "height": null,
            "justify_content": null,
            "justify_items": null,
            "left": null,
            "margin": null,
            "max_height": null,
            "max_width": null,
            "min_height": null,
            "min_width": null,
            "object_fit": null,
            "object_position": null,
            "order": null,
            "overflow": null,
            "overflow_x": null,
            "overflow_y": null,
            "padding": null,
            "right": null,
            "top": null,
            "visibility": null,
            "width": null
          }
        },
        "f8a8530233984944ad213be3532192e4": {
          "model_module": "@jupyter-widgets/controls",
          "model_name": "DescriptionStyleModel",
          "state": {
            "_model_module": "@jupyter-widgets/controls",
            "_model_module_version": "1.5.0",
            "_model_name": "DescriptionStyleModel",
            "_view_count": null,
            "_view_module": "@jupyter-widgets/base",
            "_view_module_version": "1.2.0",
            "_view_name": "StyleView",
            "description_width": ""
          }
        },
        "17de690f4f3b4507a00899640dda6bad": {
          "model_module": "@jupyter-widgets/controls",
          "model_name": "HBoxModel",
          "state": {
            "_dom_classes": [],
            "_model_module": "@jupyter-widgets/controls",
            "_model_module_version": "1.5.0",
            "_model_name": "HBoxModel",
            "_view_count": null,
            "_view_module": "@jupyter-widgets/controls",
            "_view_module_version": "1.5.0",
            "_view_name": "HBoxView",
            "box_style": "",
            "children": [
              "IPY_MODEL_1cd93cdddd674fb394f929fc9b529552",
              "IPY_MODEL_f64aad5441d84052849ca04a91371400"
            ],
            "layout": "IPY_MODEL_5bac6555c8f34cf2acc8218739f0cc5e"
          }
        },
        "1cd93cdddd674fb394f929fc9b529552": {
          "model_module": "@jupyter-widgets/controls",
          "model_name": "FloatProgressModel",
          "state": {
            "_dom_classes": [],
            "_model_module": "@jupyter-widgets/controls",
            "_model_module_version": "1.5.0",
            "_model_name": "FloatProgressModel",
            "_view_count": null,
            "_view_module": "@jupyter-widgets/controls",
            "_view_module_version": "1.5.0",
            "_view_name": "ProgressView",
            "bar_style": "info",
            "description": "Validating: 100%",
            "description_tooltip": null,
            "layout": "IPY_MODEL_8c9b72c4ffb748ae99d9a88e57c67255",
            "max": 155,
            "min": 0,
            "orientation": "horizontal",
            "style": "IPY_MODEL_9bb5460d89314b4fbef24e13e4f6491f",
            "value": 155
          }
        },
        "f64aad5441d84052849ca04a91371400": {
          "model_module": "@jupyter-widgets/controls",
          "model_name": "HTMLModel",
          "state": {
            "_dom_classes": [],
            "_model_module": "@jupyter-widgets/controls",
            "_model_module_version": "1.5.0",
            "_model_name": "HTMLModel",
            "_view_count": null,
            "_view_module": "@jupyter-widgets/controls",
            "_view_module_version": "1.5.0",
            "_view_name": "HTMLView",
            "description": "",
            "description_tooltip": null,
            "layout": "IPY_MODEL_6a46ccb0f3574ff990d6510b11de4e28",
            "placeholder": "​",
            "style": "IPY_MODEL_77ee9da4f3f54e9abc8de3cac9f97582",
            "value": " 155/155 [00:00&lt;00:00, 292.80it/s]"
          }
        },
        "5bac6555c8f34cf2acc8218739f0cc5e": {
          "model_module": "@jupyter-widgets/base",
          "model_name": "LayoutModel",
          "state": {
            "_model_module": "@jupyter-widgets/base",
            "_model_module_version": "1.2.0",
            "_model_name": "LayoutModel",
            "_view_count": null,
            "_view_module": "@jupyter-widgets/base",
            "_view_module_version": "1.2.0",
            "_view_name": "LayoutView",
            "align_content": null,
            "align_items": null,
            "align_self": null,
            "border": null,
            "bottom": null,
            "display": "inline-flex",
            "flex": null,
            "flex_flow": "row wrap",
            "grid_area": null,
            "grid_auto_columns": null,
            "grid_auto_flow": null,
            "grid_auto_rows": null,
            "grid_column": null,
            "grid_gap": null,
            "grid_row": null,
            "grid_template_areas": null,
            "grid_template_columns": null,
            "grid_template_rows": null,
            "height": null,
            "justify_content": null,
            "justify_items": null,
            "left": null,
            "margin": null,
            "max_height": null,
            "max_width": null,
            "min_height": null,
            "min_width": null,
            "object_fit": null,
            "object_position": null,
            "order": null,
            "overflow": null,
            "overflow_x": null,
            "overflow_y": null,
            "padding": null,
            "right": null,
            "top": null,
            "visibility": null,
            "width": "100%"
          }
        },
        "8c9b72c4ffb748ae99d9a88e57c67255": {
          "model_module": "@jupyter-widgets/base",
          "model_name": "LayoutModel",
          "state": {
            "_model_module": "@jupyter-widgets/base",
            "_model_module_version": "1.2.0",
            "_model_name": "LayoutModel",
            "_view_count": null,
            "_view_module": "@jupyter-widgets/base",
            "_view_module_version": "1.2.0",
            "_view_name": "LayoutView",
            "align_content": null,
            "align_items": null,
            "align_self": null,
            "border": null,
            "bottom": null,
            "display": null,
            "flex": "2",
            "flex_flow": null,
            "grid_area": null,
            "grid_auto_columns": null,
            "grid_auto_flow": null,
            "grid_auto_rows": null,
            "grid_column": null,
            "grid_gap": null,
            "grid_row": null,
            "grid_template_areas": null,
            "grid_template_columns": null,
            "grid_template_rows": null,
            "height": null,
            "justify_content": null,
            "justify_items": null,
            "left": null,
            "margin": null,
            "max_height": null,
            "max_width": null,
            "min_height": null,
            "min_width": null,
            "object_fit": null,
            "object_position": null,
            "order": null,
            "overflow": null,
            "overflow_x": null,
            "overflow_y": null,
            "padding": null,
            "right": null,
            "top": null,
            "visibility": null,
            "width": null
          }
        },
        "9bb5460d89314b4fbef24e13e4f6491f": {
          "model_module": "@jupyter-widgets/controls",
          "model_name": "ProgressStyleModel",
          "state": {
            "_model_module": "@jupyter-widgets/controls",
            "_model_module_version": "1.5.0",
            "_model_name": "ProgressStyleModel",
            "_view_count": null,
            "_view_module": "@jupyter-widgets/base",
            "_view_module_version": "1.2.0",
            "_view_name": "StyleView",
            "bar_color": null,
            "description_width": "initial"
          }
        },
        "6a46ccb0f3574ff990d6510b11de4e28": {
          "model_module": "@jupyter-widgets/base",
          "model_name": "LayoutModel",
          "state": {
            "_model_module": "@jupyter-widgets/base",
            "_model_module_version": "1.2.0",
            "_model_name": "LayoutModel",
            "_view_count": null,
            "_view_module": "@jupyter-widgets/base",
            "_view_module_version": "1.2.0",
            "_view_name": "LayoutView",
            "align_content": null,
            "align_items": null,
            "align_self": null,
            "border": null,
            "bottom": null,
            "display": null,
            "flex": null,
            "flex_flow": null,
            "grid_area": null,
            "grid_auto_columns": null,
            "grid_auto_flow": null,
            "grid_auto_rows": null,
            "grid_column": null,
            "grid_gap": null,
            "grid_row": null,
            "grid_template_areas": null,
            "grid_template_columns": null,
            "grid_template_rows": null,
            "height": null,
            "justify_content": null,
            "justify_items": null,
            "left": null,
            "margin": null,
            "max_height": null,
            "max_width": null,
            "min_height": null,
            "min_width": null,
            "object_fit": null,
            "object_position": null,
            "order": null,
            "overflow": null,
            "overflow_x": null,
            "overflow_y": null,
            "padding": null,
            "right": null,
            "top": null,
            "visibility": null,
            "width": null
          }
        },
        "77ee9da4f3f54e9abc8de3cac9f97582": {
          "model_module": "@jupyter-widgets/controls",
          "model_name": "DescriptionStyleModel",
          "state": {
            "_model_module": "@jupyter-widgets/controls",
            "_model_module_version": "1.5.0",
            "_model_name": "DescriptionStyleModel",
            "_view_count": null,
            "_view_module": "@jupyter-widgets/base",
            "_view_module_version": "1.2.0",
            "_view_name": "StyleView",
            "description_width": ""
          }
        },
        "d65a89c242c944c980c80625167e418d": {
          "model_module": "@jupyter-widgets/controls",
          "model_name": "HBoxModel",
          "state": {
            "_dom_classes": [],
            "_model_module": "@jupyter-widgets/controls",
            "_model_module_version": "1.5.0",
            "_model_name": "HBoxModel",
            "_view_count": null,
            "_view_module": "@jupyter-widgets/controls",
            "_view_module_version": "1.5.0",
            "_view_name": "HBoxView",
            "box_style": "",
            "children": [
              "IPY_MODEL_b3e157879a504f998441bb235ebec474",
              "IPY_MODEL_8b378ffcb88749068d8a07498faf5d57"
            ],
            "layout": "IPY_MODEL_ef711a8544db4414831406be7a777790"
          }
        },
        "b3e157879a504f998441bb235ebec474": {
          "model_module": "@jupyter-widgets/controls",
          "model_name": "FloatProgressModel",
          "state": {
            "_dom_classes": [],
            "_model_module": "@jupyter-widgets/controls",
            "_model_module_version": "1.5.0",
            "_model_name": "FloatProgressModel",
            "_view_count": null,
            "_view_module": "@jupyter-widgets/controls",
            "_view_module_version": "1.5.0",
            "_view_name": "ProgressView",
            "bar_style": "info",
            "description": "Validating: 100%",
            "description_tooltip": null,
            "layout": "IPY_MODEL_6c184c6384f74bbca1173c48d33ccebf",
            "max": 155,
            "min": 0,
            "orientation": "horizontal",
            "style": "IPY_MODEL_391581ba964e4b1d98314c640fd42c35",
            "value": 155
          }
        },
        "8b378ffcb88749068d8a07498faf5d57": {
          "model_module": "@jupyter-widgets/controls",
          "model_name": "HTMLModel",
          "state": {
            "_dom_classes": [],
            "_model_module": "@jupyter-widgets/controls",
            "_model_module_version": "1.5.0",
            "_model_name": "HTMLModel",
            "_view_count": null,
            "_view_module": "@jupyter-widgets/controls",
            "_view_module_version": "1.5.0",
            "_view_name": "HTMLView",
            "description": "",
            "description_tooltip": null,
            "layout": "IPY_MODEL_3aaff0183df3487da4e0e5a9e1644789",
            "placeholder": "​",
            "style": "IPY_MODEL_630d60cd7bb44d02b80050cb70607b90",
            "value": " 155/155 [00:00&lt;00:00, 294.07it/s]"
          }
        },
        "ef711a8544db4414831406be7a777790": {
          "model_module": "@jupyter-widgets/base",
          "model_name": "LayoutModel",
          "state": {
            "_model_module": "@jupyter-widgets/base",
            "_model_module_version": "1.2.0",
            "_model_name": "LayoutModel",
            "_view_count": null,
            "_view_module": "@jupyter-widgets/base",
            "_view_module_version": "1.2.0",
            "_view_name": "LayoutView",
            "align_content": null,
            "align_items": null,
            "align_self": null,
            "border": null,
            "bottom": null,
            "display": "inline-flex",
            "flex": null,
            "flex_flow": "row wrap",
            "grid_area": null,
            "grid_auto_columns": null,
            "grid_auto_flow": null,
            "grid_auto_rows": null,
            "grid_column": null,
            "grid_gap": null,
            "grid_row": null,
            "grid_template_areas": null,
            "grid_template_columns": null,
            "grid_template_rows": null,
            "height": null,
            "justify_content": null,
            "justify_items": null,
            "left": null,
            "margin": null,
            "max_height": null,
            "max_width": null,
            "min_height": null,
            "min_width": null,
            "object_fit": null,
            "object_position": null,
            "order": null,
            "overflow": null,
            "overflow_x": null,
            "overflow_y": null,
            "padding": null,
            "right": null,
            "top": null,
            "visibility": null,
            "width": "100%"
          }
        },
        "6c184c6384f74bbca1173c48d33ccebf": {
          "model_module": "@jupyter-widgets/base",
          "model_name": "LayoutModel",
          "state": {
            "_model_module": "@jupyter-widgets/base",
            "_model_module_version": "1.2.0",
            "_model_name": "LayoutModel",
            "_view_count": null,
            "_view_module": "@jupyter-widgets/base",
            "_view_module_version": "1.2.0",
            "_view_name": "LayoutView",
            "align_content": null,
            "align_items": null,
            "align_self": null,
            "border": null,
            "bottom": null,
            "display": null,
            "flex": "2",
            "flex_flow": null,
            "grid_area": null,
            "grid_auto_columns": null,
            "grid_auto_flow": null,
            "grid_auto_rows": null,
            "grid_column": null,
            "grid_gap": null,
            "grid_row": null,
            "grid_template_areas": null,
            "grid_template_columns": null,
            "grid_template_rows": null,
            "height": null,
            "justify_content": null,
            "justify_items": null,
            "left": null,
            "margin": null,
            "max_height": null,
            "max_width": null,
            "min_height": null,
            "min_width": null,
            "object_fit": null,
            "object_position": null,
            "order": null,
            "overflow": null,
            "overflow_x": null,
            "overflow_y": null,
            "padding": null,
            "right": null,
            "top": null,
            "visibility": null,
            "width": null
          }
        },
        "391581ba964e4b1d98314c640fd42c35": {
          "model_module": "@jupyter-widgets/controls",
          "model_name": "ProgressStyleModel",
          "state": {
            "_model_module": "@jupyter-widgets/controls",
            "_model_module_version": "1.5.0",
            "_model_name": "ProgressStyleModel",
            "_view_count": null,
            "_view_module": "@jupyter-widgets/base",
            "_view_module_version": "1.2.0",
            "_view_name": "StyleView",
            "bar_color": null,
            "description_width": "initial"
          }
        },
        "3aaff0183df3487da4e0e5a9e1644789": {
          "model_module": "@jupyter-widgets/base",
          "model_name": "LayoutModel",
          "state": {
            "_model_module": "@jupyter-widgets/base",
            "_model_module_version": "1.2.0",
            "_model_name": "LayoutModel",
            "_view_count": null,
            "_view_module": "@jupyter-widgets/base",
            "_view_module_version": "1.2.0",
            "_view_name": "LayoutView",
            "align_content": null,
            "align_items": null,
            "align_self": null,
            "border": null,
            "bottom": null,
            "display": null,
            "flex": null,
            "flex_flow": null,
            "grid_area": null,
            "grid_auto_columns": null,
            "grid_auto_flow": null,
            "grid_auto_rows": null,
            "grid_column": null,
            "grid_gap": null,
            "grid_row": null,
            "grid_template_areas": null,
            "grid_template_columns": null,
            "grid_template_rows": null,
            "height": null,
            "justify_content": null,
            "justify_items": null,
            "left": null,
            "margin": null,
            "max_height": null,
            "max_width": null,
            "min_height": null,
            "min_width": null,
            "object_fit": null,
            "object_position": null,
            "order": null,
            "overflow": null,
            "overflow_x": null,
            "overflow_y": null,
            "padding": null,
            "right": null,
            "top": null,
            "visibility": null,
            "width": null
          }
        },
        "630d60cd7bb44d02b80050cb70607b90": {
          "model_module": "@jupyter-widgets/controls",
          "model_name": "DescriptionStyleModel",
          "state": {
            "_model_module": "@jupyter-widgets/controls",
            "_model_module_version": "1.5.0",
            "_model_name": "DescriptionStyleModel",
            "_view_count": null,
            "_view_module": "@jupyter-widgets/base",
            "_view_module_version": "1.2.0",
            "_view_name": "StyleView",
            "description_width": ""
          }
        },
        "c4639a41e1864efa8f9effb33a9c4dae": {
          "model_module": "@jupyter-widgets/controls",
          "model_name": "HBoxModel",
          "state": {
            "_dom_classes": [],
            "_model_module": "@jupyter-widgets/controls",
            "_model_module_version": "1.5.0",
            "_model_name": "HBoxModel",
            "_view_count": null,
            "_view_module": "@jupyter-widgets/controls",
            "_view_module_version": "1.5.0",
            "_view_name": "HBoxView",
            "box_style": "",
            "children": [
              "IPY_MODEL_20021fcc73c14a2bbd0c4034c90978cc",
              "IPY_MODEL_9d342166e9de42e48c0d5dbb2bd8f038"
            ],
            "layout": "IPY_MODEL_bcb0e744d6c04d44a4cc5de523eb6e83"
          }
        },
        "20021fcc73c14a2bbd0c4034c90978cc": {
          "model_module": "@jupyter-widgets/controls",
          "model_name": "FloatProgressModel",
          "state": {
            "_dom_classes": [],
            "_model_module": "@jupyter-widgets/controls",
            "_model_module_version": "1.5.0",
            "_model_name": "FloatProgressModel",
            "_view_count": null,
            "_view_module": "@jupyter-widgets/controls",
            "_view_module_version": "1.5.0",
            "_view_name": "ProgressView",
            "bar_style": "info",
            "description": "Validating: 100%",
            "description_tooltip": null,
            "layout": "IPY_MODEL_38c603c898f84a74961c3f1e3b703dab",
            "max": 155,
            "min": 0,
            "orientation": "horizontal",
            "style": "IPY_MODEL_6f484fbdfdb844ff88d0e9f9850cfffb",
            "value": 155
          }
        },
        "9d342166e9de42e48c0d5dbb2bd8f038": {
          "model_module": "@jupyter-widgets/controls",
          "model_name": "HTMLModel",
          "state": {
            "_dom_classes": [],
            "_model_module": "@jupyter-widgets/controls",
            "_model_module_version": "1.5.0",
            "_model_name": "HTMLModel",
            "_view_count": null,
            "_view_module": "@jupyter-widgets/controls",
            "_view_module_version": "1.5.0",
            "_view_name": "HTMLView",
            "description": "",
            "description_tooltip": null,
            "layout": "IPY_MODEL_2ffcc02260fb495dbac44c43de6d0f20",
            "placeholder": "​",
            "style": "IPY_MODEL_ee3fcb7ba3424dc8a596bc8dffffbc50",
            "value": " 155/155 [00:00&lt;00:00, 322.87it/s]"
          }
        },
        "bcb0e744d6c04d44a4cc5de523eb6e83": {
          "model_module": "@jupyter-widgets/base",
          "model_name": "LayoutModel",
          "state": {
            "_model_module": "@jupyter-widgets/base",
            "_model_module_version": "1.2.0",
            "_model_name": "LayoutModel",
            "_view_count": null,
            "_view_module": "@jupyter-widgets/base",
            "_view_module_version": "1.2.0",
            "_view_name": "LayoutView",
            "align_content": null,
            "align_items": null,
            "align_self": null,
            "border": null,
            "bottom": null,
            "display": "inline-flex",
            "flex": null,
            "flex_flow": "row wrap",
            "grid_area": null,
            "grid_auto_columns": null,
            "grid_auto_flow": null,
            "grid_auto_rows": null,
            "grid_column": null,
            "grid_gap": null,
            "grid_row": null,
            "grid_template_areas": null,
            "grid_template_columns": null,
            "grid_template_rows": null,
            "height": null,
            "justify_content": null,
            "justify_items": null,
            "left": null,
            "margin": null,
            "max_height": null,
            "max_width": null,
            "min_height": null,
            "min_width": null,
            "object_fit": null,
            "object_position": null,
            "order": null,
            "overflow": null,
            "overflow_x": null,
            "overflow_y": null,
            "padding": null,
            "right": null,
            "top": null,
            "visibility": null,
            "width": "100%"
          }
        },
        "38c603c898f84a74961c3f1e3b703dab": {
          "model_module": "@jupyter-widgets/base",
          "model_name": "LayoutModel",
          "state": {
            "_model_module": "@jupyter-widgets/base",
            "_model_module_version": "1.2.0",
            "_model_name": "LayoutModel",
            "_view_count": null,
            "_view_module": "@jupyter-widgets/base",
            "_view_module_version": "1.2.0",
            "_view_name": "LayoutView",
            "align_content": null,
            "align_items": null,
            "align_self": null,
            "border": null,
            "bottom": null,
            "display": null,
            "flex": "2",
            "flex_flow": null,
            "grid_area": null,
            "grid_auto_columns": null,
            "grid_auto_flow": null,
            "grid_auto_rows": null,
            "grid_column": null,
            "grid_gap": null,
            "grid_row": null,
            "grid_template_areas": null,
            "grid_template_columns": null,
            "grid_template_rows": null,
            "height": null,
            "justify_content": null,
            "justify_items": null,
            "left": null,
            "margin": null,
            "max_height": null,
            "max_width": null,
            "min_height": null,
            "min_width": null,
            "object_fit": null,
            "object_position": null,
            "order": null,
            "overflow": null,
            "overflow_x": null,
            "overflow_y": null,
            "padding": null,
            "right": null,
            "top": null,
            "visibility": null,
            "width": null
          }
        },
        "6f484fbdfdb844ff88d0e9f9850cfffb": {
          "model_module": "@jupyter-widgets/controls",
          "model_name": "ProgressStyleModel",
          "state": {
            "_model_module": "@jupyter-widgets/controls",
            "_model_module_version": "1.5.0",
            "_model_name": "ProgressStyleModel",
            "_view_count": null,
            "_view_module": "@jupyter-widgets/base",
            "_view_module_version": "1.2.0",
            "_view_name": "StyleView",
            "bar_color": null,
            "description_width": "initial"
          }
        },
        "2ffcc02260fb495dbac44c43de6d0f20": {
          "model_module": "@jupyter-widgets/base",
          "model_name": "LayoutModel",
          "state": {
            "_model_module": "@jupyter-widgets/base",
            "_model_module_version": "1.2.0",
            "_model_name": "LayoutModel",
            "_view_count": null,
            "_view_module": "@jupyter-widgets/base",
            "_view_module_version": "1.2.0",
            "_view_name": "LayoutView",
            "align_content": null,
            "align_items": null,
            "align_self": null,
            "border": null,
            "bottom": null,
            "display": null,
            "flex": null,
            "flex_flow": null,
            "grid_area": null,
            "grid_auto_columns": null,
            "grid_auto_flow": null,
            "grid_auto_rows": null,
            "grid_column": null,
            "grid_gap": null,
            "grid_row": null,
            "grid_template_areas": null,
            "grid_template_columns": null,
            "grid_template_rows": null,
            "height": null,
            "justify_content": null,
            "justify_items": null,
            "left": null,
            "margin": null,
            "max_height": null,
            "max_width": null,
            "min_height": null,
            "min_width": null,
            "object_fit": null,
            "object_position": null,
            "order": null,
            "overflow": null,
            "overflow_x": null,
            "overflow_y": null,
            "padding": null,
            "right": null,
            "top": null,
            "visibility": null,
            "width": null
          }
        },
        "ee3fcb7ba3424dc8a596bc8dffffbc50": {
          "model_module": "@jupyter-widgets/controls",
          "model_name": "DescriptionStyleModel",
          "state": {
            "_model_module": "@jupyter-widgets/controls",
            "_model_module_version": "1.5.0",
            "_model_name": "DescriptionStyleModel",
            "_view_count": null,
            "_view_module": "@jupyter-widgets/base",
            "_view_module_version": "1.2.0",
            "_view_name": "StyleView",
            "description_width": ""
          }
        },
        "65f6027842184e7f9041e5443812d166": {
          "model_module": "@jupyter-widgets/controls",
          "model_name": "HBoxModel",
          "state": {
            "_dom_classes": [],
            "_model_module": "@jupyter-widgets/controls",
            "_model_module_version": "1.5.0",
            "_model_name": "HBoxModel",
            "_view_count": null,
            "_view_module": "@jupyter-widgets/controls",
            "_view_module_version": "1.5.0",
            "_view_name": "HBoxView",
            "box_style": "",
            "children": [
              "IPY_MODEL_3bd278d90c984b5cbcf4a2a403c10703",
              "IPY_MODEL_9a8a2cfe6a5a408bb446d85578bfab18"
            ],
            "layout": "IPY_MODEL_32985665f7b64827bab3d70dd8432e2b"
          }
        },
        "3bd278d90c984b5cbcf4a2a403c10703": {
          "model_module": "@jupyter-widgets/controls",
          "model_name": "FloatProgressModel",
          "state": {
            "_dom_classes": [],
            "_model_module": "@jupyter-widgets/controls",
            "_model_module_version": "1.5.0",
            "_model_name": "FloatProgressModel",
            "_view_count": null,
            "_view_module": "@jupyter-widgets/controls",
            "_view_module_version": "1.5.0",
            "_view_name": "ProgressView",
            "bar_style": "info",
            "description": "Validating: 100%",
            "description_tooltip": null,
            "layout": "IPY_MODEL_230312dba4134d35b703685aa201d79c",
            "max": 155,
            "min": 0,
            "orientation": "horizontal",
            "style": "IPY_MODEL_ea428733b34c47dd8a3fd58b5657d320",
            "value": 155
          }
        },
        "9a8a2cfe6a5a408bb446d85578bfab18": {
          "model_module": "@jupyter-widgets/controls",
          "model_name": "HTMLModel",
          "state": {
            "_dom_classes": [],
            "_model_module": "@jupyter-widgets/controls",
            "_model_module_version": "1.5.0",
            "_model_name": "HTMLModel",
            "_view_count": null,
            "_view_module": "@jupyter-widgets/controls",
            "_view_module_version": "1.5.0",
            "_view_name": "HTMLView",
            "description": "",
            "description_tooltip": null,
            "layout": "IPY_MODEL_e12eb464ca3e4f42b8fd587ff9673ad3",
            "placeholder": "​",
            "style": "IPY_MODEL_093d975f853647b4821f2ab2d460d0c6",
            "value": " 155/155 [00:00&lt;00:00, 293.36it/s]"
          }
        },
        "32985665f7b64827bab3d70dd8432e2b": {
          "model_module": "@jupyter-widgets/base",
          "model_name": "LayoutModel",
          "state": {
            "_model_module": "@jupyter-widgets/base",
            "_model_module_version": "1.2.0",
            "_model_name": "LayoutModel",
            "_view_count": null,
            "_view_module": "@jupyter-widgets/base",
            "_view_module_version": "1.2.0",
            "_view_name": "LayoutView",
            "align_content": null,
            "align_items": null,
            "align_self": null,
            "border": null,
            "bottom": null,
            "display": "inline-flex",
            "flex": null,
            "flex_flow": "row wrap",
            "grid_area": null,
            "grid_auto_columns": null,
            "grid_auto_flow": null,
            "grid_auto_rows": null,
            "grid_column": null,
            "grid_gap": null,
            "grid_row": null,
            "grid_template_areas": null,
            "grid_template_columns": null,
            "grid_template_rows": null,
            "height": null,
            "justify_content": null,
            "justify_items": null,
            "left": null,
            "margin": null,
            "max_height": null,
            "max_width": null,
            "min_height": null,
            "min_width": null,
            "object_fit": null,
            "object_position": null,
            "order": null,
            "overflow": null,
            "overflow_x": null,
            "overflow_y": null,
            "padding": null,
            "right": null,
            "top": null,
            "visibility": null,
            "width": "100%"
          }
        },
        "230312dba4134d35b703685aa201d79c": {
          "model_module": "@jupyter-widgets/base",
          "model_name": "LayoutModel",
          "state": {
            "_model_module": "@jupyter-widgets/base",
            "_model_module_version": "1.2.0",
            "_model_name": "LayoutModel",
            "_view_count": null,
            "_view_module": "@jupyter-widgets/base",
            "_view_module_version": "1.2.0",
            "_view_name": "LayoutView",
            "align_content": null,
            "align_items": null,
            "align_self": null,
            "border": null,
            "bottom": null,
            "display": null,
            "flex": "2",
            "flex_flow": null,
            "grid_area": null,
            "grid_auto_columns": null,
            "grid_auto_flow": null,
            "grid_auto_rows": null,
            "grid_column": null,
            "grid_gap": null,
            "grid_row": null,
            "grid_template_areas": null,
            "grid_template_columns": null,
            "grid_template_rows": null,
            "height": null,
            "justify_content": null,
            "justify_items": null,
            "left": null,
            "margin": null,
            "max_height": null,
            "max_width": null,
            "min_height": null,
            "min_width": null,
            "object_fit": null,
            "object_position": null,
            "order": null,
            "overflow": null,
            "overflow_x": null,
            "overflow_y": null,
            "padding": null,
            "right": null,
            "top": null,
            "visibility": null,
            "width": null
          }
        },
        "ea428733b34c47dd8a3fd58b5657d320": {
          "model_module": "@jupyter-widgets/controls",
          "model_name": "ProgressStyleModel",
          "state": {
            "_model_module": "@jupyter-widgets/controls",
            "_model_module_version": "1.5.0",
            "_model_name": "ProgressStyleModel",
            "_view_count": null,
            "_view_module": "@jupyter-widgets/base",
            "_view_module_version": "1.2.0",
            "_view_name": "StyleView",
            "bar_color": null,
            "description_width": "initial"
          }
        },
        "e12eb464ca3e4f42b8fd587ff9673ad3": {
          "model_module": "@jupyter-widgets/base",
          "model_name": "LayoutModel",
          "state": {
            "_model_module": "@jupyter-widgets/base",
            "_model_module_version": "1.2.0",
            "_model_name": "LayoutModel",
            "_view_count": null,
            "_view_module": "@jupyter-widgets/base",
            "_view_module_version": "1.2.0",
            "_view_name": "LayoutView",
            "align_content": null,
            "align_items": null,
            "align_self": null,
            "border": null,
            "bottom": null,
            "display": null,
            "flex": null,
            "flex_flow": null,
            "grid_area": null,
            "grid_auto_columns": null,
            "grid_auto_flow": null,
            "grid_auto_rows": null,
            "grid_column": null,
            "grid_gap": null,
            "grid_row": null,
            "grid_template_areas": null,
            "grid_template_columns": null,
            "grid_template_rows": null,
            "height": null,
            "justify_content": null,
            "justify_items": null,
            "left": null,
            "margin": null,
            "max_height": null,
            "max_width": null,
            "min_height": null,
            "min_width": null,
            "object_fit": null,
            "object_position": null,
            "order": null,
            "overflow": null,
            "overflow_x": null,
            "overflow_y": null,
            "padding": null,
            "right": null,
            "top": null,
            "visibility": null,
            "width": null
          }
        },
        "093d975f853647b4821f2ab2d460d0c6": {
          "model_module": "@jupyter-widgets/controls",
          "model_name": "DescriptionStyleModel",
          "state": {
            "_model_module": "@jupyter-widgets/controls",
            "_model_module_version": "1.5.0",
            "_model_name": "DescriptionStyleModel",
            "_view_count": null,
            "_view_module": "@jupyter-widgets/base",
            "_view_module_version": "1.2.0",
            "_view_name": "StyleView",
            "description_width": ""
          }
        },
        "d1a56e1672cf48298e665a6aa72b35a6": {
          "model_module": "@jupyter-widgets/controls",
          "model_name": "HBoxModel",
          "state": {
            "_dom_classes": [],
            "_model_module": "@jupyter-widgets/controls",
            "_model_module_version": "1.5.0",
            "_model_name": "HBoxModel",
            "_view_count": null,
            "_view_module": "@jupyter-widgets/controls",
            "_view_module_version": "1.5.0",
            "_view_name": "HBoxView",
            "box_style": "",
            "children": [
              "IPY_MODEL_63d836a1d942494fa1e5e5aac5728b28",
              "IPY_MODEL_aa8ffb8983bd496398e8dcbc59941707"
            ],
            "layout": "IPY_MODEL_66b19f05c08242878c86bb1492853d24"
          }
        },
        "63d836a1d942494fa1e5e5aac5728b28": {
          "model_module": "@jupyter-widgets/controls",
          "model_name": "FloatProgressModel",
          "state": {
            "_dom_classes": [],
            "_model_module": "@jupyter-widgets/controls",
            "_model_module_version": "1.5.0",
            "_model_name": "FloatProgressModel",
            "_view_count": null,
            "_view_module": "@jupyter-widgets/controls",
            "_view_module_version": "1.5.0",
            "_view_name": "ProgressView",
            "bar_style": "info",
            "description": "Validating: 100%",
            "description_tooltip": null,
            "layout": "IPY_MODEL_0fd99ba4cd6e409e97288154a8bc9328",
            "max": 155,
            "min": 0,
            "orientation": "horizontal",
            "style": "IPY_MODEL_6f9c362bbcef4a3ca233cfb645c78a14",
            "value": 155
          }
        },
        "aa8ffb8983bd496398e8dcbc59941707": {
          "model_module": "@jupyter-widgets/controls",
          "model_name": "HTMLModel",
          "state": {
            "_dom_classes": [],
            "_model_module": "@jupyter-widgets/controls",
            "_model_module_version": "1.5.0",
            "_model_name": "HTMLModel",
            "_view_count": null,
            "_view_module": "@jupyter-widgets/controls",
            "_view_module_version": "1.5.0",
            "_view_name": "HTMLView",
            "description": "",
            "description_tooltip": null,
            "layout": "IPY_MODEL_21318fa74f3b48e782a48435d75e18be",
            "placeholder": "​",
            "style": "IPY_MODEL_ce06250091b2478eb4c9f9480b95b28c",
            "value": " 155/155 [00:00&lt;00:00, 300.38it/s]"
          }
        },
        "66b19f05c08242878c86bb1492853d24": {
          "model_module": "@jupyter-widgets/base",
          "model_name": "LayoutModel",
          "state": {
            "_model_module": "@jupyter-widgets/base",
            "_model_module_version": "1.2.0",
            "_model_name": "LayoutModel",
            "_view_count": null,
            "_view_module": "@jupyter-widgets/base",
            "_view_module_version": "1.2.0",
            "_view_name": "LayoutView",
            "align_content": null,
            "align_items": null,
            "align_self": null,
            "border": null,
            "bottom": null,
            "display": "inline-flex",
            "flex": null,
            "flex_flow": "row wrap",
            "grid_area": null,
            "grid_auto_columns": null,
            "grid_auto_flow": null,
            "grid_auto_rows": null,
            "grid_column": null,
            "grid_gap": null,
            "grid_row": null,
            "grid_template_areas": null,
            "grid_template_columns": null,
            "grid_template_rows": null,
            "height": null,
            "justify_content": null,
            "justify_items": null,
            "left": null,
            "margin": null,
            "max_height": null,
            "max_width": null,
            "min_height": null,
            "min_width": null,
            "object_fit": null,
            "object_position": null,
            "order": null,
            "overflow": null,
            "overflow_x": null,
            "overflow_y": null,
            "padding": null,
            "right": null,
            "top": null,
            "visibility": null,
            "width": "100%"
          }
        },
        "0fd99ba4cd6e409e97288154a8bc9328": {
          "model_module": "@jupyter-widgets/base",
          "model_name": "LayoutModel",
          "state": {
            "_model_module": "@jupyter-widgets/base",
            "_model_module_version": "1.2.0",
            "_model_name": "LayoutModel",
            "_view_count": null,
            "_view_module": "@jupyter-widgets/base",
            "_view_module_version": "1.2.0",
            "_view_name": "LayoutView",
            "align_content": null,
            "align_items": null,
            "align_self": null,
            "border": null,
            "bottom": null,
            "display": null,
            "flex": "2",
            "flex_flow": null,
            "grid_area": null,
            "grid_auto_columns": null,
            "grid_auto_flow": null,
            "grid_auto_rows": null,
            "grid_column": null,
            "grid_gap": null,
            "grid_row": null,
            "grid_template_areas": null,
            "grid_template_columns": null,
            "grid_template_rows": null,
            "height": null,
            "justify_content": null,
            "justify_items": null,
            "left": null,
            "margin": null,
            "max_height": null,
            "max_width": null,
            "min_height": null,
            "min_width": null,
            "object_fit": null,
            "object_position": null,
            "order": null,
            "overflow": null,
            "overflow_x": null,
            "overflow_y": null,
            "padding": null,
            "right": null,
            "top": null,
            "visibility": null,
            "width": null
          }
        },
        "6f9c362bbcef4a3ca233cfb645c78a14": {
          "model_module": "@jupyter-widgets/controls",
          "model_name": "ProgressStyleModel",
          "state": {
            "_model_module": "@jupyter-widgets/controls",
            "_model_module_version": "1.5.0",
            "_model_name": "ProgressStyleModel",
            "_view_count": null,
            "_view_module": "@jupyter-widgets/base",
            "_view_module_version": "1.2.0",
            "_view_name": "StyleView",
            "bar_color": null,
            "description_width": "initial"
          }
        },
        "21318fa74f3b48e782a48435d75e18be": {
          "model_module": "@jupyter-widgets/base",
          "model_name": "LayoutModel",
          "state": {
            "_model_module": "@jupyter-widgets/base",
            "_model_module_version": "1.2.0",
            "_model_name": "LayoutModel",
            "_view_count": null,
            "_view_module": "@jupyter-widgets/base",
            "_view_module_version": "1.2.0",
            "_view_name": "LayoutView",
            "align_content": null,
            "align_items": null,
            "align_self": null,
            "border": null,
            "bottom": null,
            "display": null,
            "flex": null,
            "flex_flow": null,
            "grid_area": null,
            "grid_auto_columns": null,
            "grid_auto_flow": null,
            "grid_auto_rows": null,
            "grid_column": null,
            "grid_gap": null,
            "grid_row": null,
            "grid_template_areas": null,
            "grid_template_columns": null,
            "grid_template_rows": null,
            "height": null,
            "justify_content": null,
            "justify_items": null,
            "left": null,
            "margin": null,
            "max_height": null,
            "max_width": null,
            "min_height": null,
            "min_width": null,
            "object_fit": null,
            "object_position": null,
            "order": null,
            "overflow": null,
            "overflow_x": null,
            "overflow_y": null,
            "padding": null,
            "right": null,
            "top": null,
            "visibility": null,
            "width": null
          }
        },
        "ce06250091b2478eb4c9f9480b95b28c": {
          "model_module": "@jupyter-widgets/controls",
          "model_name": "DescriptionStyleModel",
          "state": {
            "_model_module": "@jupyter-widgets/controls",
            "_model_module_version": "1.5.0",
            "_model_name": "DescriptionStyleModel",
            "_view_count": null,
            "_view_module": "@jupyter-widgets/base",
            "_view_module_version": "1.2.0",
            "_view_name": "StyleView",
            "description_width": ""
          }
        },
        "d9731040c82848b1a80c357345af9aab": {
          "model_module": "@jupyter-widgets/controls",
          "model_name": "HBoxModel",
          "state": {
            "_dom_classes": [],
            "_model_module": "@jupyter-widgets/controls",
            "_model_module_version": "1.5.0",
            "_model_name": "HBoxModel",
            "_view_count": null,
            "_view_module": "@jupyter-widgets/controls",
            "_view_module_version": "1.5.0",
            "_view_name": "HBoxView",
            "box_style": "",
            "children": [
              "IPY_MODEL_3353ad107e0c487794f320baea3c8344",
              "IPY_MODEL_2debe267fb824f3da9ffef18316859ea"
            ],
            "layout": "IPY_MODEL_5c897a9948f6450981ef9c49477b350f"
          }
        },
        "3353ad107e0c487794f320baea3c8344": {
          "model_module": "@jupyter-widgets/controls",
          "model_name": "FloatProgressModel",
          "state": {
            "_dom_classes": [],
            "_model_module": "@jupyter-widgets/controls",
            "_model_module_version": "1.5.0",
            "_model_name": "FloatProgressModel",
            "_view_count": null,
            "_view_module": "@jupyter-widgets/controls",
            "_view_module_version": "1.5.0",
            "_view_name": "ProgressView",
            "bar_style": "info",
            "description": "Validating: 100%",
            "description_tooltip": null,
            "layout": "IPY_MODEL_61d87669de044093ab5dc5565e11c653",
            "max": 155,
            "min": 0,
            "orientation": "horizontal",
            "style": "IPY_MODEL_7af12aa88519467ea881da7324a5e4f8",
            "value": 155
          }
        },
        "2debe267fb824f3da9ffef18316859ea": {
          "model_module": "@jupyter-widgets/controls",
          "model_name": "HTMLModel",
          "state": {
            "_dom_classes": [],
            "_model_module": "@jupyter-widgets/controls",
            "_model_module_version": "1.5.0",
            "_model_name": "HTMLModel",
            "_view_count": null,
            "_view_module": "@jupyter-widgets/controls",
            "_view_module_version": "1.5.0",
            "_view_name": "HTMLView",
            "description": "",
            "description_tooltip": null,
            "layout": "IPY_MODEL_b5a2ea8aef1b4e0484671a269443c4e5",
            "placeholder": "​",
            "style": "IPY_MODEL_3ea32cfef9924c0f9460114ba8f9379b",
            "value": " 155/155 [00:00&lt;00:00, 302.87it/s]"
          }
        },
        "5c897a9948f6450981ef9c49477b350f": {
          "model_module": "@jupyter-widgets/base",
          "model_name": "LayoutModel",
          "state": {
            "_model_module": "@jupyter-widgets/base",
            "_model_module_version": "1.2.0",
            "_model_name": "LayoutModel",
            "_view_count": null,
            "_view_module": "@jupyter-widgets/base",
            "_view_module_version": "1.2.0",
            "_view_name": "LayoutView",
            "align_content": null,
            "align_items": null,
            "align_self": null,
            "border": null,
            "bottom": null,
            "display": "inline-flex",
            "flex": null,
            "flex_flow": "row wrap",
            "grid_area": null,
            "grid_auto_columns": null,
            "grid_auto_flow": null,
            "grid_auto_rows": null,
            "grid_column": null,
            "grid_gap": null,
            "grid_row": null,
            "grid_template_areas": null,
            "grid_template_columns": null,
            "grid_template_rows": null,
            "height": null,
            "justify_content": null,
            "justify_items": null,
            "left": null,
            "margin": null,
            "max_height": null,
            "max_width": null,
            "min_height": null,
            "min_width": null,
            "object_fit": null,
            "object_position": null,
            "order": null,
            "overflow": null,
            "overflow_x": null,
            "overflow_y": null,
            "padding": null,
            "right": null,
            "top": null,
            "visibility": null,
            "width": "100%"
          }
        },
        "61d87669de044093ab5dc5565e11c653": {
          "model_module": "@jupyter-widgets/base",
          "model_name": "LayoutModel",
          "state": {
            "_model_module": "@jupyter-widgets/base",
            "_model_module_version": "1.2.0",
            "_model_name": "LayoutModel",
            "_view_count": null,
            "_view_module": "@jupyter-widgets/base",
            "_view_module_version": "1.2.0",
            "_view_name": "LayoutView",
            "align_content": null,
            "align_items": null,
            "align_self": null,
            "border": null,
            "bottom": null,
            "display": null,
            "flex": "2",
            "flex_flow": null,
            "grid_area": null,
            "grid_auto_columns": null,
            "grid_auto_flow": null,
            "grid_auto_rows": null,
            "grid_column": null,
            "grid_gap": null,
            "grid_row": null,
            "grid_template_areas": null,
            "grid_template_columns": null,
            "grid_template_rows": null,
            "height": null,
            "justify_content": null,
            "justify_items": null,
            "left": null,
            "margin": null,
            "max_height": null,
            "max_width": null,
            "min_height": null,
            "min_width": null,
            "object_fit": null,
            "object_position": null,
            "order": null,
            "overflow": null,
            "overflow_x": null,
            "overflow_y": null,
            "padding": null,
            "right": null,
            "top": null,
            "visibility": null,
            "width": null
          }
        },
        "7af12aa88519467ea881da7324a5e4f8": {
          "model_module": "@jupyter-widgets/controls",
          "model_name": "ProgressStyleModel",
          "state": {
            "_model_module": "@jupyter-widgets/controls",
            "_model_module_version": "1.5.0",
            "_model_name": "ProgressStyleModel",
            "_view_count": null,
            "_view_module": "@jupyter-widgets/base",
            "_view_module_version": "1.2.0",
            "_view_name": "StyleView",
            "bar_color": null,
            "description_width": "initial"
          }
        },
        "b5a2ea8aef1b4e0484671a269443c4e5": {
          "model_module": "@jupyter-widgets/base",
          "model_name": "LayoutModel",
          "state": {
            "_model_module": "@jupyter-widgets/base",
            "_model_module_version": "1.2.0",
            "_model_name": "LayoutModel",
            "_view_count": null,
            "_view_module": "@jupyter-widgets/base",
            "_view_module_version": "1.2.0",
            "_view_name": "LayoutView",
            "align_content": null,
            "align_items": null,
            "align_self": null,
            "border": null,
            "bottom": null,
            "display": null,
            "flex": null,
            "flex_flow": null,
            "grid_area": null,
            "grid_auto_columns": null,
            "grid_auto_flow": null,
            "grid_auto_rows": null,
            "grid_column": null,
            "grid_gap": null,
            "grid_row": null,
            "grid_template_areas": null,
            "grid_template_columns": null,
            "grid_template_rows": null,
            "height": null,
            "justify_content": null,
            "justify_items": null,
            "left": null,
            "margin": null,
            "max_height": null,
            "max_width": null,
            "min_height": null,
            "min_width": null,
            "object_fit": null,
            "object_position": null,
            "order": null,
            "overflow": null,
            "overflow_x": null,
            "overflow_y": null,
            "padding": null,
            "right": null,
            "top": null,
            "visibility": null,
            "width": null
          }
        },
        "3ea32cfef9924c0f9460114ba8f9379b": {
          "model_module": "@jupyter-widgets/controls",
          "model_name": "DescriptionStyleModel",
          "state": {
            "_model_module": "@jupyter-widgets/controls",
            "_model_module_version": "1.5.0",
            "_model_name": "DescriptionStyleModel",
            "_view_count": null,
            "_view_module": "@jupyter-widgets/base",
            "_view_module_version": "1.2.0",
            "_view_name": "StyleView",
            "description_width": ""
          }
        },
        "cc6c1cad257f41cfad74289b248192e4": {
          "model_module": "@jupyter-widgets/controls",
          "model_name": "HBoxModel",
          "state": {
            "_dom_classes": [],
            "_model_module": "@jupyter-widgets/controls",
            "_model_module_version": "1.5.0",
            "_model_name": "HBoxModel",
            "_view_count": null,
            "_view_module": "@jupyter-widgets/controls",
            "_view_module_version": "1.5.0",
            "_view_name": "HBoxView",
            "box_style": "",
            "children": [
              "IPY_MODEL_f69943a7f81b4a818382400d756ad54c",
              "IPY_MODEL_b62304edae834a3b8c63e02397cc12bf"
            ],
            "layout": "IPY_MODEL_c6c363e6c8fa4e6db9292b07d10108b4"
          }
        },
        "f69943a7f81b4a818382400d756ad54c": {
          "model_module": "@jupyter-widgets/controls",
          "model_name": "FloatProgressModel",
          "state": {
            "_dom_classes": [],
            "_model_module": "@jupyter-widgets/controls",
            "_model_module_version": "1.5.0",
            "_model_name": "FloatProgressModel",
            "_view_count": null,
            "_view_module": "@jupyter-widgets/controls",
            "_view_module_version": "1.5.0",
            "_view_name": "ProgressView",
            "bar_style": "info",
            "description": "Validating: 100%",
            "description_tooltip": null,
            "layout": "IPY_MODEL_6fbfe479f63d4cb7b40291c938c00fea",
            "max": 155,
            "min": 0,
            "orientation": "horizontal",
            "style": "IPY_MODEL_0ac1851015a14f758bf040efa7e9b7f3",
            "value": 155
          }
        },
        "b62304edae834a3b8c63e02397cc12bf": {
          "model_module": "@jupyter-widgets/controls",
          "model_name": "HTMLModel",
          "state": {
            "_dom_classes": [],
            "_model_module": "@jupyter-widgets/controls",
            "_model_module_version": "1.5.0",
            "_model_name": "HTMLModel",
            "_view_count": null,
            "_view_module": "@jupyter-widgets/controls",
            "_view_module_version": "1.5.0",
            "_view_name": "HTMLView",
            "description": "",
            "description_tooltip": null,
            "layout": "IPY_MODEL_cb4f4c83fe8b41299f176167b989770f",
            "placeholder": "​",
            "style": "IPY_MODEL_7810c62c098f4d47a7b977a50c905908",
            "value": " 155/155 [00:00&lt;00:00, 291.43it/s]"
          }
        },
        "c6c363e6c8fa4e6db9292b07d10108b4": {
          "model_module": "@jupyter-widgets/base",
          "model_name": "LayoutModel",
          "state": {
            "_model_module": "@jupyter-widgets/base",
            "_model_module_version": "1.2.0",
            "_model_name": "LayoutModel",
            "_view_count": null,
            "_view_module": "@jupyter-widgets/base",
            "_view_module_version": "1.2.0",
            "_view_name": "LayoutView",
            "align_content": null,
            "align_items": null,
            "align_self": null,
            "border": null,
            "bottom": null,
            "display": "inline-flex",
            "flex": null,
            "flex_flow": "row wrap",
            "grid_area": null,
            "grid_auto_columns": null,
            "grid_auto_flow": null,
            "grid_auto_rows": null,
            "grid_column": null,
            "grid_gap": null,
            "grid_row": null,
            "grid_template_areas": null,
            "grid_template_columns": null,
            "grid_template_rows": null,
            "height": null,
            "justify_content": null,
            "justify_items": null,
            "left": null,
            "margin": null,
            "max_height": null,
            "max_width": null,
            "min_height": null,
            "min_width": null,
            "object_fit": null,
            "object_position": null,
            "order": null,
            "overflow": null,
            "overflow_x": null,
            "overflow_y": null,
            "padding": null,
            "right": null,
            "top": null,
            "visibility": null,
            "width": "100%"
          }
        },
        "6fbfe479f63d4cb7b40291c938c00fea": {
          "model_module": "@jupyter-widgets/base",
          "model_name": "LayoutModel",
          "state": {
            "_model_module": "@jupyter-widgets/base",
            "_model_module_version": "1.2.0",
            "_model_name": "LayoutModel",
            "_view_count": null,
            "_view_module": "@jupyter-widgets/base",
            "_view_module_version": "1.2.0",
            "_view_name": "LayoutView",
            "align_content": null,
            "align_items": null,
            "align_self": null,
            "border": null,
            "bottom": null,
            "display": null,
            "flex": "2",
            "flex_flow": null,
            "grid_area": null,
            "grid_auto_columns": null,
            "grid_auto_flow": null,
            "grid_auto_rows": null,
            "grid_column": null,
            "grid_gap": null,
            "grid_row": null,
            "grid_template_areas": null,
            "grid_template_columns": null,
            "grid_template_rows": null,
            "height": null,
            "justify_content": null,
            "justify_items": null,
            "left": null,
            "margin": null,
            "max_height": null,
            "max_width": null,
            "min_height": null,
            "min_width": null,
            "object_fit": null,
            "object_position": null,
            "order": null,
            "overflow": null,
            "overflow_x": null,
            "overflow_y": null,
            "padding": null,
            "right": null,
            "top": null,
            "visibility": null,
            "width": null
          }
        },
        "0ac1851015a14f758bf040efa7e9b7f3": {
          "model_module": "@jupyter-widgets/controls",
          "model_name": "ProgressStyleModel",
          "state": {
            "_model_module": "@jupyter-widgets/controls",
            "_model_module_version": "1.5.0",
            "_model_name": "ProgressStyleModel",
            "_view_count": null,
            "_view_module": "@jupyter-widgets/base",
            "_view_module_version": "1.2.0",
            "_view_name": "StyleView",
            "bar_color": null,
            "description_width": "initial"
          }
        },
        "cb4f4c83fe8b41299f176167b989770f": {
          "model_module": "@jupyter-widgets/base",
          "model_name": "LayoutModel",
          "state": {
            "_model_module": "@jupyter-widgets/base",
            "_model_module_version": "1.2.0",
            "_model_name": "LayoutModel",
            "_view_count": null,
            "_view_module": "@jupyter-widgets/base",
            "_view_module_version": "1.2.0",
            "_view_name": "LayoutView",
            "align_content": null,
            "align_items": null,
            "align_self": null,
            "border": null,
            "bottom": null,
            "display": null,
            "flex": null,
            "flex_flow": null,
            "grid_area": null,
            "grid_auto_columns": null,
            "grid_auto_flow": null,
            "grid_auto_rows": null,
            "grid_column": null,
            "grid_gap": null,
            "grid_row": null,
            "grid_template_areas": null,
            "grid_template_columns": null,
            "grid_template_rows": null,
            "height": null,
            "justify_content": null,
            "justify_items": null,
            "left": null,
            "margin": null,
            "max_height": null,
            "max_width": null,
            "min_height": null,
            "min_width": null,
            "object_fit": null,
            "object_position": null,
            "order": null,
            "overflow": null,
            "overflow_x": null,
            "overflow_y": null,
            "padding": null,
            "right": null,
            "top": null,
            "visibility": null,
            "width": null
          }
        },
        "7810c62c098f4d47a7b977a50c905908": {
          "model_module": "@jupyter-widgets/controls",
          "model_name": "DescriptionStyleModel",
          "state": {
            "_model_module": "@jupyter-widgets/controls",
            "_model_module_version": "1.5.0",
            "_model_name": "DescriptionStyleModel",
            "_view_count": null,
            "_view_module": "@jupyter-widgets/base",
            "_view_module_version": "1.2.0",
            "_view_name": "StyleView",
            "description_width": ""
          }
        },
        "a84dac72fa46428589eb9b888c2e479d": {
          "model_module": "@jupyter-widgets/controls",
          "model_name": "HBoxModel",
          "state": {
            "_dom_classes": [],
            "_model_module": "@jupyter-widgets/controls",
            "_model_module_version": "1.5.0",
            "_model_name": "HBoxModel",
            "_view_count": null,
            "_view_module": "@jupyter-widgets/controls",
            "_view_module_version": "1.5.0",
            "_view_name": "HBoxView",
            "box_style": "",
            "children": [
              "IPY_MODEL_48bbba00018a441a87620626e3033b42",
              "IPY_MODEL_8041d725b6524759b9f354d373cb9d0c"
            ],
            "layout": "IPY_MODEL_70091899a55c4a8f81a59fbd62592d19"
          }
        },
        "48bbba00018a441a87620626e3033b42": {
          "model_module": "@jupyter-widgets/controls",
          "model_name": "FloatProgressModel",
          "state": {
            "_dom_classes": [],
            "_model_module": "@jupyter-widgets/controls",
            "_model_module_version": "1.5.0",
            "_model_name": "FloatProgressModel",
            "_view_count": null,
            "_view_module": "@jupyter-widgets/controls",
            "_view_module_version": "1.5.0",
            "_view_name": "ProgressView",
            "bar_style": "info",
            "description": "Validating: 100%",
            "description_tooltip": null,
            "layout": "IPY_MODEL_0dcb891df7aa4d14a9339ee39b99f1ff",
            "max": 155,
            "min": 0,
            "orientation": "horizontal",
            "style": "IPY_MODEL_da35b5e0d9004c5e99e93769bca9b144",
            "value": 155
          }
        },
        "8041d725b6524759b9f354d373cb9d0c": {
          "model_module": "@jupyter-widgets/controls",
          "model_name": "HTMLModel",
          "state": {
            "_dom_classes": [],
            "_model_module": "@jupyter-widgets/controls",
            "_model_module_version": "1.5.0",
            "_model_name": "HTMLModel",
            "_view_count": null,
            "_view_module": "@jupyter-widgets/controls",
            "_view_module_version": "1.5.0",
            "_view_name": "HTMLView",
            "description": "",
            "description_tooltip": null,
            "layout": "IPY_MODEL_a780e9274b074aebb05765fa1f783f55",
            "placeholder": "​",
            "style": "IPY_MODEL_904610ccbd274d6187df6d8655ab0b60",
            "value": " 155/155 [00:00&lt;00:00, 281.54it/s]"
          }
        },
        "70091899a55c4a8f81a59fbd62592d19": {
          "model_module": "@jupyter-widgets/base",
          "model_name": "LayoutModel",
          "state": {
            "_model_module": "@jupyter-widgets/base",
            "_model_module_version": "1.2.0",
            "_model_name": "LayoutModel",
            "_view_count": null,
            "_view_module": "@jupyter-widgets/base",
            "_view_module_version": "1.2.0",
            "_view_name": "LayoutView",
            "align_content": null,
            "align_items": null,
            "align_self": null,
            "border": null,
            "bottom": null,
            "display": "inline-flex",
            "flex": null,
            "flex_flow": "row wrap",
            "grid_area": null,
            "grid_auto_columns": null,
            "grid_auto_flow": null,
            "grid_auto_rows": null,
            "grid_column": null,
            "grid_gap": null,
            "grid_row": null,
            "grid_template_areas": null,
            "grid_template_columns": null,
            "grid_template_rows": null,
            "height": null,
            "justify_content": null,
            "justify_items": null,
            "left": null,
            "margin": null,
            "max_height": null,
            "max_width": null,
            "min_height": null,
            "min_width": null,
            "object_fit": null,
            "object_position": null,
            "order": null,
            "overflow": null,
            "overflow_x": null,
            "overflow_y": null,
            "padding": null,
            "right": null,
            "top": null,
            "visibility": null,
            "width": "100%"
          }
        },
        "0dcb891df7aa4d14a9339ee39b99f1ff": {
          "model_module": "@jupyter-widgets/base",
          "model_name": "LayoutModel",
          "state": {
            "_model_module": "@jupyter-widgets/base",
            "_model_module_version": "1.2.0",
            "_model_name": "LayoutModel",
            "_view_count": null,
            "_view_module": "@jupyter-widgets/base",
            "_view_module_version": "1.2.0",
            "_view_name": "LayoutView",
            "align_content": null,
            "align_items": null,
            "align_self": null,
            "border": null,
            "bottom": null,
            "display": null,
            "flex": "2",
            "flex_flow": null,
            "grid_area": null,
            "grid_auto_columns": null,
            "grid_auto_flow": null,
            "grid_auto_rows": null,
            "grid_column": null,
            "grid_gap": null,
            "grid_row": null,
            "grid_template_areas": null,
            "grid_template_columns": null,
            "grid_template_rows": null,
            "height": null,
            "justify_content": null,
            "justify_items": null,
            "left": null,
            "margin": null,
            "max_height": null,
            "max_width": null,
            "min_height": null,
            "min_width": null,
            "object_fit": null,
            "object_position": null,
            "order": null,
            "overflow": null,
            "overflow_x": null,
            "overflow_y": null,
            "padding": null,
            "right": null,
            "top": null,
            "visibility": null,
            "width": null
          }
        },
        "da35b5e0d9004c5e99e93769bca9b144": {
          "model_module": "@jupyter-widgets/controls",
          "model_name": "ProgressStyleModel",
          "state": {
            "_model_module": "@jupyter-widgets/controls",
            "_model_module_version": "1.5.0",
            "_model_name": "ProgressStyleModel",
            "_view_count": null,
            "_view_module": "@jupyter-widgets/base",
            "_view_module_version": "1.2.0",
            "_view_name": "StyleView",
            "bar_color": null,
            "description_width": "initial"
          }
        },
        "a780e9274b074aebb05765fa1f783f55": {
          "model_module": "@jupyter-widgets/base",
          "model_name": "LayoutModel",
          "state": {
            "_model_module": "@jupyter-widgets/base",
            "_model_module_version": "1.2.0",
            "_model_name": "LayoutModel",
            "_view_count": null,
            "_view_module": "@jupyter-widgets/base",
            "_view_module_version": "1.2.0",
            "_view_name": "LayoutView",
            "align_content": null,
            "align_items": null,
            "align_self": null,
            "border": null,
            "bottom": null,
            "display": null,
            "flex": null,
            "flex_flow": null,
            "grid_area": null,
            "grid_auto_columns": null,
            "grid_auto_flow": null,
            "grid_auto_rows": null,
            "grid_column": null,
            "grid_gap": null,
            "grid_row": null,
            "grid_template_areas": null,
            "grid_template_columns": null,
            "grid_template_rows": null,
            "height": null,
            "justify_content": null,
            "justify_items": null,
            "left": null,
            "margin": null,
            "max_height": null,
            "max_width": null,
            "min_height": null,
            "min_width": null,
            "object_fit": null,
            "object_position": null,
            "order": null,
            "overflow": null,
            "overflow_x": null,
            "overflow_y": null,
            "padding": null,
            "right": null,
            "top": null,
            "visibility": null,
            "width": null
          }
        },
        "904610ccbd274d6187df6d8655ab0b60": {
          "model_module": "@jupyter-widgets/controls",
          "model_name": "DescriptionStyleModel",
          "state": {
            "_model_module": "@jupyter-widgets/controls",
            "_model_module_version": "1.5.0",
            "_model_name": "DescriptionStyleModel",
            "_view_count": null,
            "_view_module": "@jupyter-widgets/base",
            "_view_module_version": "1.2.0",
            "_view_name": "StyleView",
            "description_width": ""
          }
        },
        "769a7e79ad6d48bdbacd024d6da49a19": {
          "model_module": "@jupyter-widgets/controls",
          "model_name": "HBoxModel",
          "state": {
            "_dom_classes": [],
            "_model_module": "@jupyter-widgets/controls",
            "_model_module_version": "1.5.0",
            "_model_name": "HBoxModel",
            "_view_count": null,
            "_view_module": "@jupyter-widgets/controls",
            "_view_module_version": "1.5.0",
            "_view_name": "HBoxView",
            "box_style": "",
            "children": [
              "IPY_MODEL_bae9c69a76a74da09e1ea32f9da113e0",
              "IPY_MODEL_ea6b31c4bf4f425aae6a8d6f915839dc"
            ],
            "layout": "IPY_MODEL_8e06878c03224ddabbb3248f46d43fdd"
          }
        },
        "bae9c69a76a74da09e1ea32f9da113e0": {
          "model_module": "@jupyter-widgets/controls",
          "model_name": "FloatProgressModel",
          "state": {
            "_dom_classes": [],
            "_model_module": "@jupyter-widgets/controls",
            "_model_module_version": "1.5.0",
            "_model_name": "FloatProgressModel",
            "_view_count": null,
            "_view_module": "@jupyter-widgets/controls",
            "_view_module_version": "1.5.0",
            "_view_name": "ProgressView",
            "bar_style": "info",
            "description": "Validating: 100%",
            "description_tooltip": null,
            "layout": "IPY_MODEL_f3c34f3bc36543a9a7aa9490c2f68433",
            "max": 155,
            "min": 0,
            "orientation": "horizontal",
            "style": "IPY_MODEL_e6e47fe631214f9a81b2973cdfd2bd7e",
            "value": 155
          }
        },
        "ea6b31c4bf4f425aae6a8d6f915839dc": {
          "model_module": "@jupyter-widgets/controls",
          "model_name": "HTMLModel",
          "state": {
            "_dom_classes": [],
            "_model_module": "@jupyter-widgets/controls",
            "_model_module_version": "1.5.0",
            "_model_name": "HTMLModel",
            "_view_count": null,
            "_view_module": "@jupyter-widgets/controls",
            "_view_module_version": "1.5.0",
            "_view_name": "HTMLView",
            "description": "",
            "description_tooltip": null,
            "layout": "IPY_MODEL_7132d0de47974d19b568e45c63f59c7e",
            "placeholder": "​",
            "style": "IPY_MODEL_10937053d9cb41a9ae22300f40cd4548",
            "value": " 155/155 [00:00&lt;00:00, 301.92it/s]"
          }
        },
        "8e06878c03224ddabbb3248f46d43fdd": {
          "model_module": "@jupyter-widgets/base",
          "model_name": "LayoutModel",
          "state": {
            "_model_module": "@jupyter-widgets/base",
            "_model_module_version": "1.2.0",
            "_model_name": "LayoutModel",
            "_view_count": null,
            "_view_module": "@jupyter-widgets/base",
            "_view_module_version": "1.2.0",
            "_view_name": "LayoutView",
            "align_content": null,
            "align_items": null,
            "align_self": null,
            "border": null,
            "bottom": null,
            "display": "inline-flex",
            "flex": null,
            "flex_flow": "row wrap",
            "grid_area": null,
            "grid_auto_columns": null,
            "grid_auto_flow": null,
            "grid_auto_rows": null,
            "grid_column": null,
            "grid_gap": null,
            "grid_row": null,
            "grid_template_areas": null,
            "grid_template_columns": null,
            "grid_template_rows": null,
            "height": null,
            "justify_content": null,
            "justify_items": null,
            "left": null,
            "margin": null,
            "max_height": null,
            "max_width": null,
            "min_height": null,
            "min_width": null,
            "object_fit": null,
            "object_position": null,
            "order": null,
            "overflow": null,
            "overflow_x": null,
            "overflow_y": null,
            "padding": null,
            "right": null,
            "top": null,
            "visibility": null,
            "width": "100%"
          }
        },
        "f3c34f3bc36543a9a7aa9490c2f68433": {
          "model_module": "@jupyter-widgets/base",
          "model_name": "LayoutModel",
          "state": {
            "_model_module": "@jupyter-widgets/base",
            "_model_module_version": "1.2.0",
            "_model_name": "LayoutModel",
            "_view_count": null,
            "_view_module": "@jupyter-widgets/base",
            "_view_module_version": "1.2.0",
            "_view_name": "LayoutView",
            "align_content": null,
            "align_items": null,
            "align_self": null,
            "border": null,
            "bottom": null,
            "display": null,
            "flex": "2",
            "flex_flow": null,
            "grid_area": null,
            "grid_auto_columns": null,
            "grid_auto_flow": null,
            "grid_auto_rows": null,
            "grid_column": null,
            "grid_gap": null,
            "grid_row": null,
            "grid_template_areas": null,
            "grid_template_columns": null,
            "grid_template_rows": null,
            "height": null,
            "justify_content": null,
            "justify_items": null,
            "left": null,
            "margin": null,
            "max_height": null,
            "max_width": null,
            "min_height": null,
            "min_width": null,
            "object_fit": null,
            "object_position": null,
            "order": null,
            "overflow": null,
            "overflow_x": null,
            "overflow_y": null,
            "padding": null,
            "right": null,
            "top": null,
            "visibility": null,
            "width": null
          }
        },
        "e6e47fe631214f9a81b2973cdfd2bd7e": {
          "model_module": "@jupyter-widgets/controls",
          "model_name": "ProgressStyleModel",
          "state": {
            "_model_module": "@jupyter-widgets/controls",
            "_model_module_version": "1.5.0",
            "_model_name": "ProgressStyleModel",
            "_view_count": null,
            "_view_module": "@jupyter-widgets/base",
            "_view_module_version": "1.2.0",
            "_view_name": "StyleView",
            "bar_color": null,
            "description_width": "initial"
          }
        },
        "7132d0de47974d19b568e45c63f59c7e": {
          "model_module": "@jupyter-widgets/base",
          "model_name": "LayoutModel",
          "state": {
            "_model_module": "@jupyter-widgets/base",
            "_model_module_version": "1.2.0",
            "_model_name": "LayoutModel",
            "_view_count": null,
            "_view_module": "@jupyter-widgets/base",
            "_view_module_version": "1.2.0",
            "_view_name": "LayoutView",
            "align_content": null,
            "align_items": null,
            "align_self": null,
            "border": null,
            "bottom": null,
            "display": null,
            "flex": null,
            "flex_flow": null,
            "grid_area": null,
            "grid_auto_columns": null,
            "grid_auto_flow": null,
            "grid_auto_rows": null,
            "grid_column": null,
            "grid_gap": null,
            "grid_row": null,
            "grid_template_areas": null,
            "grid_template_columns": null,
            "grid_template_rows": null,
            "height": null,
            "justify_content": null,
            "justify_items": null,
            "left": null,
            "margin": null,
            "max_height": null,
            "max_width": null,
            "min_height": null,
            "min_width": null,
            "object_fit": null,
            "object_position": null,
            "order": null,
            "overflow": null,
            "overflow_x": null,
            "overflow_y": null,
            "padding": null,
            "right": null,
            "top": null,
            "visibility": null,
            "width": null
          }
        },
        "10937053d9cb41a9ae22300f40cd4548": {
          "model_module": "@jupyter-widgets/controls",
          "model_name": "DescriptionStyleModel",
          "state": {
            "_model_module": "@jupyter-widgets/controls",
            "_model_module_version": "1.5.0",
            "_model_name": "DescriptionStyleModel",
            "_view_count": null,
            "_view_module": "@jupyter-widgets/base",
            "_view_module_version": "1.2.0",
            "_view_name": "StyleView",
            "description_width": ""
          }
        },
        "57131686248f4bcaaaa4c22877105b45": {
          "model_module": "@jupyter-widgets/controls",
          "model_name": "HBoxModel",
          "state": {
            "_dom_classes": [],
            "_model_module": "@jupyter-widgets/controls",
            "_model_module_version": "1.5.0",
            "_model_name": "HBoxModel",
            "_view_count": null,
            "_view_module": "@jupyter-widgets/controls",
            "_view_module_version": "1.5.0",
            "_view_name": "HBoxView",
            "box_style": "",
            "children": [
              "IPY_MODEL_0a78eaddc6c542b69ea696a5df5d733a",
              "IPY_MODEL_2c7e19d578c74c64af7111433fa51d51"
            ],
            "layout": "IPY_MODEL_447c009d24cb496cb363af30409016b3"
          }
        },
        "0a78eaddc6c542b69ea696a5df5d733a": {
          "model_module": "@jupyter-widgets/controls",
          "model_name": "FloatProgressModel",
          "state": {
            "_dom_classes": [],
            "_model_module": "@jupyter-widgets/controls",
            "_model_module_version": "1.5.0",
            "_model_name": "FloatProgressModel",
            "_view_count": null,
            "_view_module": "@jupyter-widgets/controls",
            "_view_module_version": "1.5.0",
            "_view_name": "ProgressView",
            "bar_style": "info",
            "description": "Validating: 100%",
            "description_tooltip": null,
            "layout": "IPY_MODEL_73e9f4263e70479e9e96df80fa2d0546",
            "max": 155,
            "min": 0,
            "orientation": "horizontal",
            "style": "IPY_MODEL_a738e1f3e24d4207bc490d3b0bad7ded",
            "value": 155
          }
        },
        "2c7e19d578c74c64af7111433fa51d51": {
          "model_module": "@jupyter-widgets/controls",
          "model_name": "HTMLModel",
          "state": {
            "_dom_classes": [],
            "_model_module": "@jupyter-widgets/controls",
            "_model_module_version": "1.5.0",
            "_model_name": "HTMLModel",
            "_view_count": null,
            "_view_module": "@jupyter-widgets/controls",
            "_view_module_version": "1.5.0",
            "_view_name": "HTMLView",
            "description": "",
            "description_tooltip": null,
            "layout": "IPY_MODEL_8341cd7c3a8449b0a21a62a21ea86fce",
            "placeholder": "​",
            "style": "IPY_MODEL_85dcecaaf054451a9da32709781422ca",
            "value": " 155/155 [00:00&lt;00:00, 259.48it/s]"
          }
        },
        "447c009d24cb496cb363af30409016b3": {
          "model_module": "@jupyter-widgets/base",
          "model_name": "LayoutModel",
          "state": {
            "_model_module": "@jupyter-widgets/base",
            "_model_module_version": "1.2.0",
            "_model_name": "LayoutModel",
            "_view_count": null,
            "_view_module": "@jupyter-widgets/base",
            "_view_module_version": "1.2.0",
            "_view_name": "LayoutView",
            "align_content": null,
            "align_items": null,
            "align_self": null,
            "border": null,
            "bottom": null,
            "display": "inline-flex",
            "flex": null,
            "flex_flow": "row wrap",
            "grid_area": null,
            "grid_auto_columns": null,
            "grid_auto_flow": null,
            "grid_auto_rows": null,
            "grid_column": null,
            "grid_gap": null,
            "grid_row": null,
            "grid_template_areas": null,
            "grid_template_columns": null,
            "grid_template_rows": null,
            "height": null,
            "justify_content": null,
            "justify_items": null,
            "left": null,
            "margin": null,
            "max_height": null,
            "max_width": null,
            "min_height": null,
            "min_width": null,
            "object_fit": null,
            "object_position": null,
            "order": null,
            "overflow": null,
            "overflow_x": null,
            "overflow_y": null,
            "padding": null,
            "right": null,
            "top": null,
            "visibility": null,
            "width": "100%"
          }
        },
        "73e9f4263e70479e9e96df80fa2d0546": {
          "model_module": "@jupyter-widgets/base",
          "model_name": "LayoutModel",
          "state": {
            "_model_module": "@jupyter-widgets/base",
            "_model_module_version": "1.2.0",
            "_model_name": "LayoutModel",
            "_view_count": null,
            "_view_module": "@jupyter-widgets/base",
            "_view_module_version": "1.2.0",
            "_view_name": "LayoutView",
            "align_content": null,
            "align_items": null,
            "align_self": null,
            "border": null,
            "bottom": null,
            "display": null,
            "flex": "2",
            "flex_flow": null,
            "grid_area": null,
            "grid_auto_columns": null,
            "grid_auto_flow": null,
            "grid_auto_rows": null,
            "grid_column": null,
            "grid_gap": null,
            "grid_row": null,
            "grid_template_areas": null,
            "grid_template_columns": null,
            "grid_template_rows": null,
            "height": null,
            "justify_content": null,
            "justify_items": null,
            "left": null,
            "margin": null,
            "max_height": null,
            "max_width": null,
            "min_height": null,
            "min_width": null,
            "object_fit": null,
            "object_position": null,
            "order": null,
            "overflow": null,
            "overflow_x": null,
            "overflow_y": null,
            "padding": null,
            "right": null,
            "top": null,
            "visibility": null,
            "width": null
          }
        },
        "a738e1f3e24d4207bc490d3b0bad7ded": {
          "model_module": "@jupyter-widgets/controls",
          "model_name": "ProgressStyleModel",
          "state": {
            "_model_module": "@jupyter-widgets/controls",
            "_model_module_version": "1.5.0",
            "_model_name": "ProgressStyleModel",
            "_view_count": null,
            "_view_module": "@jupyter-widgets/base",
            "_view_module_version": "1.2.0",
            "_view_name": "StyleView",
            "bar_color": null,
            "description_width": "initial"
          }
        },
        "8341cd7c3a8449b0a21a62a21ea86fce": {
          "model_module": "@jupyter-widgets/base",
          "model_name": "LayoutModel",
          "state": {
            "_model_module": "@jupyter-widgets/base",
            "_model_module_version": "1.2.0",
            "_model_name": "LayoutModel",
            "_view_count": null,
            "_view_module": "@jupyter-widgets/base",
            "_view_module_version": "1.2.0",
            "_view_name": "LayoutView",
            "align_content": null,
            "align_items": null,
            "align_self": null,
            "border": null,
            "bottom": null,
            "display": null,
            "flex": null,
            "flex_flow": null,
            "grid_area": null,
            "grid_auto_columns": null,
            "grid_auto_flow": null,
            "grid_auto_rows": null,
            "grid_column": null,
            "grid_gap": null,
            "grid_row": null,
            "grid_template_areas": null,
            "grid_template_columns": null,
            "grid_template_rows": null,
            "height": null,
            "justify_content": null,
            "justify_items": null,
            "left": null,
            "margin": null,
            "max_height": null,
            "max_width": null,
            "min_height": null,
            "min_width": null,
            "object_fit": null,
            "object_position": null,
            "order": null,
            "overflow": null,
            "overflow_x": null,
            "overflow_y": null,
            "padding": null,
            "right": null,
            "top": null,
            "visibility": null,
            "width": null
          }
        },
        "85dcecaaf054451a9da32709781422ca": {
          "model_module": "@jupyter-widgets/controls",
          "model_name": "DescriptionStyleModel",
          "state": {
            "_model_module": "@jupyter-widgets/controls",
            "_model_module_version": "1.5.0",
            "_model_name": "DescriptionStyleModel",
            "_view_count": null,
            "_view_module": "@jupyter-widgets/base",
            "_view_module_version": "1.2.0",
            "_view_name": "StyleView",
            "description_width": ""
          }
        },
        "3cde75d272ef4e9fa2036157c986158c": {
          "model_module": "@jupyter-widgets/controls",
          "model_name": "HBoxModel",
          "state": {
            "_dom_classes": [],
            "_model_module": "@jupyter-widgets/controls",
            "_model_module_version": "1.5.0",
            "_model_name": "HBoxModel",
            "_view_count": null,
            "_view_module": "@jupyter-widgets/controls",
            "_view_module_version": "1.5.0",
            "_view_name": "HBoxView",
            "box_style": "",
            "children": [
              "IPY_MODEL_6bf7f70c9f6c41f59e29a6c4a7048362",
              "IPY_MODEL_cc81aa0d0429431d873ca0c053ab421a"
            ],
            "layout": "IPY_MODEL_fceaf3c3ce7d45a79ee1bcdfb2c90988"
          }
        },
        "6bf7f70c9f6c41f59e29a6c4a7048362": {
          "model_module": "@jupyter-widgets/controls",
          "model_name": "FloatProgressModel",
          "state": {
            "_dom_classes": [],
            "_model_module": "@jupyter-widgets/controls",
            "_model_module_version": "1.5.0",
            "_model_name": "FloatProgressModel",
            "_view_count": null,
            "_view_module": "@jupyter-widgets/controls",
            "_view_module_version": "1.5.0",
            "_view_name": "ProgressView",
            "bar_style": "info",
            "description": "Validating: 100%",
            "description_tooltip": null,
            "layout": "IPY_MODEL_17bc21a97f82447d895481802f0e9ef4",
            "max": 155,
            "min": 0,
            "orientation": "horizontal",
            "style": "IPY_MODEL_11ac007dfac04f9bb2b13816bc0864df",
            "value": 155
          }
        },
        "cc81aa0d0429431d873ca0c053ab421a": {
          "model_module": "@jupyter-widgets/controls",
          "model_name": "HTMLModel",
          "state": {
            "_dom_classes": [],
            "_model_module": "@jupyter-widgets/controls",
            "_model_module_version": "1.5.0",
            "_model_name": "HTMLModel",
            "_view_count": null,
            "_view_module": "@jupyter-widgets/controls",
            "_view_module_version": "1.5.0",
            "_view_name": "HTMLView",
            "description": "",
            "description_tooltip": null,
            "layout": "IPY_MODEL_3db1aa3f97174deda9e51d9c4095c037",
            "placeholder": "​",
            "style": "IPY_MODEL_8203c45c12cb4db1b55fccb05c20fe18",
            "value": " 155/155 [00:00&lt;00:00, 290.67it/s]"
          }
        },
        "fceaf3c3ce7d45a79ee1bcdfb2c90988": {
          "model_module": "@jupyter-widgets/base",
          "model_name": "LayoutModel",
          "state": {
            "_model_module": "@jupyter-widgets/base",
            "_model_module_version": "1.2.0",
            "_model_name": "LayoutModel",
            "_view_count": null,
            "_view_module": "@jupyter-widgets/base",
            "_view_module_version": "1.2.0",
            "_view_name": "LayoutView",
            "align_content": null,
            "align_items": null,
            "align_self": null,
            "border": null,
            "bottom": null,
            "display": "inline-flex",
            "flex": null,
            "flex_flow": "row wrap",
            "grid_area": null,
            "grid_auto_columns": null,
            "grid_auto_flow": null,
            "grid_auto_rows": null,
            "grid_column": null,
            "grid_gap": null,
            "grid_row": null,
            "grid_template_areas": null,
            "grid_template_columns": null,
            "grid_template_rows": null,
            "height": null,
            "justify_content": null,
            "justify_items": null,
            "left": null,
            "margin": null,
            "max_height": null,
            "max_width": null,
            "min_height": null,
            "min_width": null,
            "object_fit": null,
            "object_position": null,
            "order": null,
            "overflow": null,
            "overflow_x": null,
            "overflow_y": null,
            "padding": null,
            "right": null,
            "top": null,
            "visibility": null,
            "width": "100%"
          }
        },
        "17bc21a97f82447d895481802f0e9ef4": {
          "model_module": "@jupyter-widgets/base",
          "model_name": "LayoutModel",
          "state": {
            "_model_module": "@jupyter-widgets/base",
            "_model_module_version": "1.2.0",
            "_model_name": "LayoutModel",
            "_view_count": null,
            "_view_module": "@jupyter-widgets/base",
            "_view_module_version": "1.2.0",
            "_view_name": "LayoutView",
            "align_content": null,
            "align_items": null,
            "align_self": null,
            "border": null,
            "bottom": null,
            "display": null,
            "flex": "2",
            "flex_flow": null,
            "grid_area": null,
            "grid_auto_columns": null,
            "grid_auto_flow": null,
            "grid_auto_rows": null,
            "grid_column": null,
            "grid_gap": null,
            "grid_row": null,
            "grid_template_areas": null,
            "grid_template_columns": null,
            "grid_template_rows": null,
            "height": null,
            "justify_content": null,
            "justify_items": null,
            "left": null,
            "margin": null,
            "max_height": null,
            "max_width": null,
            "min_height": null,
            "min_width": null,
            "object_fit": null,
            "object_position": null,
            "order": null,
            "overflow": null,
            "overflow_x": null,
            "overflow_y": null,
            "padding": null,
            "right": null,
            "top": null,
            "visibility": null,
            "width": null
          }
        },
        "11ac007dfac04f9bb2b13816bc0864df": {
          "model_module": "@jupyter-widgets/controls",
          "model_name": "ProgressStyleModel",
          "state": {
            "_model_module": "@jupyter-widgets/controls",
            "_model_module_version": "1.5.0",
            "_model_name": "ProgressStyleModel",
            "_view_count": null,
            "_view_module": "@jupyter-widgets/base",
            "_view_module_version": "1.2.0",
            "_view_name": "StyleView",
            "bar_color": null,
            "description_width": "initial"
          }
        },
        "3db1aa3f97174deda9e51d9c4095c037": {
          "model_module": "@jupyter-widgets/base",
          "model_name": "LayoutModel",
          "state": {
            "_model_module": "@jupyter-widgets/base",
            "_model_module_version": "1.2.0",
            "_model_name": "LayoutModel",
            "_view_count": null,
            "_view_module": "@jupyter-widgets/base",
            "_view_module_version": "1.2.0",
            "_view_name": "LayoutView",
            "align_content": null,
            "align_items": null,
            "align_self": null,
            "border": null,
            "bottom": null,
            "display": null,
            "flex": null,
            "flex_flow": null,
            "grid_area": null,
            "grid_auto_columns": null,
            "grid_auto_flow": null,
            "grid_auto_rows": null,
            "grid_column": null,
            "grid_gap": null,
            "grid_row": null,
            "grid_template_areas": null,
            "grid_template_columns": null,
            "grid_template_rows": null,
            "height": null,
            "justify_content": null,
            "justify_items": null,
            "left": null,
            "margin": null,
            "max_height": null,
            "max_width": null,
            "min_height": null,
            "min_width": null,
            "object_fit": null,
            "object_position": null,
            "order": null,
            "overflow": null,
            "overflow_x": null,
            "overflow_y": null,
            "padding": null,
            "right": null,
            "top": null,
            "visibility": null,
            "width": null
          }
        },
        "8203c45c12cb4db1b55fccb05c20fe18": {
          "model_module": "@jupyter-widgets/controls",
          "model_name": "DescriptionStyleModel",
          "state": {
            "_model_module": "@jupyter-widgets/controls",
            "_model_module_version": "1.5.0",
            "_model_name": "DescriptionStyleModel",
            "_view_count": null,
            "_view_module": "@jupyter-widgets/base",
            "_view_module_version": "1.2.0",
            "_view_name": "StyleView",
            "description_width": ""
          }
        },
        "cdb15f310b3840ae9beac097b26bf26e": {
          "model_module": "@jupyter-widgets/controls",
          "model_name": "HBoxModel",
          "state": {
            "_dom_classes": [],
            "_model_module": "@jupyter-widgets/controls",
            "_model_module_version": "1.5.0",
            "_model_name": "HBoxModel",
            "_view_count": null,
            "_view_module": "@jupyter-widgets/controls",
            "_view_module_version": "1.5.0",
            "_view_name": "HBoxView",
            "box_style": "",
            "children": [
              "IPY_MODEL_8b8f03d778dd4c2bb0c2d48a0a5237fc",
              "IPY_MODEL_fc0e3854ac8145658c3d16343217d7fd"
            ],
            "layout": "IPY_MODEL_0efcb05a95034fc9a379e43b352524cf"
          }
        },
        "8b8f03d778dd4c2bb0c2d48a0a5237fc": {
          "model_module": "@jupyter-widgets/controls",
          "model_name": "FloatProgressModel",
          "state": {
            "_dom_classes": [],
            "_model_module": "@jupyter-widgets/controls",
            "_model_module_version": "1.5.0",
            "_model_name": "FloatProgressModel",
            "_view_count": null,
            "_view_module": "@jupyter-widgets/controls",
            "_view_module_version": "1.5.0",
            "_view_name": "ProgressView",
            "bar_style": "info",
            "description": "Validating: 100%",
            "description_tooltip": null,
            "layout": "IPY_MODEL_b70e5a09bd0843958a909cdbffd1e5f3",
            "max": 155,
            "min": 0,
            "orientation": "horizontal",
            "style": "IPY_MODEL_f3eec845eee740678fdd36e8a8adc2e8",
            "value": 155
          }
        },
        "fc0e3854ac8145658c3d16343217d7fd": {
          "model_module": "@jupyter-widgets/controls",
          "model_name": "HTMLModel",
          "state": {
            "_dom_classes": [],
            "_model_module": "@jupyter-widgets/controls",
            "_model_module_version": "1.5.0",
            "_model_name": "HTMLModel",
            "_view_count": null,
            "_view_module": "@jupyter-widgets/controls",
            "_view_module_version": "1.5.0",
            "_view_name": "HTMLView",
            "description": "",
            "description_tooltip": null,
            "layout": "IPY_MODEL_1a0516d31e534e3a89b3871e32dea2f8",
            "placeholder": "​",
            "style": "IPY_MODEL_50556b432fd446b5b0168d84cd7314cc",
            "value": " 155/155 [00:00&lt;00:00, 294.12it/s]"
          }
        },
        "0efcb05a95034fc9a379e43b352524cf": {
          "model_module": "@jupyter-widgets/base",
          "model_name": "LayoutModel",
          "state": {
            "_model_module": "@jupyter-widgets/base",
            "_model_module_version": "1.2.0",
            "_model_name": "LayoutModel",
            "_view_count": null,
            "_view_module": "@jupyter-widgets/base",
            "_view_module_version": "1.2.0",
            "_view_name": "LayoutView",
            "align_content": null,
            "align_items": null,
            "align_self": null,
            "border": null,
            "bottom": null,
            "display": "inline-flex",
            "flex": null,
            "flex_flow": "row wrap",
            "grid_area": null,
            "grid_auto_columns": null,
            "grid_auto_flow": null,
            "grid_auto_rows": null,
            "grid_column": null,
            "grid_gap": null,
            "grid_row": null,
            "grid_template_areas": null,
            "grid_template_columns": null,
            "grid_template_rows": null,
            "height": null,
            "justify_content": null,
            "justify_items": null,
            "left": null,
            "margin": null,
            "max_height": null,
            "max_width": null,
            "min_height": null,
            "min_width": null,
            "object_fit": null,
            "object_position": null,
            "order": null,
            "overflow": null,
            "overflow_x": null,
            "overflow_y": null,
            "padding": null,
            "right": null,
            "top": null,
            "visibility": null,
            "width": "100%"
          }
        },
        "b70e5a09bd0843958a909cdbffd1e5f3": {
          "model_module": "@jupyter-widgets/base",
          "model_name": "LayoutModel",
          "state": {
            "_model_module": "@jupyter-widgets/base",
            "_model_module_version": "1.2.0",
            "_model_name": "LayoutModel",
            "_view_count": null,
            "_view_module": "@jupyter-widgets/base",
            "_view_module_version": "1.2.0",
            "_view_name": "LayoutView",
            "align_content": null,
            "align_items": null,
            "align_self": null,
            "border": null,
            "bottom": null,
            "display": null,
            "flex": "2",
            "flex_flow": null,
            "grid_area": null,
            "grid_auto_columns": null,
            "grid_auto_flow": null,
            "grid_auto_rows": null,
            "grid_column": null,
            "grid_gap": null,
            "grid_row": null,
            "grid_template_areas": null,
            "grid_template_columns": null,
            "grid_template_rows": null,
            "height": null,
            "justify_content": null,
            "justify_items": null,
            "left": null,
            "margin": null,
            "max_height": null,
            "max_width": null,
            "min_height": null,
            "min_width": null,
            "object_fit": null,
            "object_position": null,
            "order": null,
            "overflow": null,
            "overflow_x": null,
            "overflow_y": null,
            "padding": null,
            "right": null,
            "top": null,
            "visibility": null,
            "width": null
          }
        },
        "f3eec845eee740678fdd36e8a8adc2e8": {
          "model_module": "@jupyter-widgets/controls",
          "model_name": "ProgressStyleModel",
          "state": {
            "_model_module": "@jupyter-widgets/controls",
            "_model_module_version": "1.5.0",
            "_model_name": "ProgressStyleModel",
            "_view_count": null,
            "_view_module": "@jupyter-widgets/base",
            "_view_module_version": "1.2.0",
            "_view_name": "StyleView",
            "bar_color": null,
            "description_width": "initial"
          }
        },
        "1a0516d31e534e3a89b3871e32dea2f8": {
          "model_module": "@jupyter-widgets/base",
          "model_name": "LayoutModel",
          "state": {
            "_model_module": "@jupyter-widgets/base",
            "_model_module_version": "1.2.0",
            "_model_name": "LayoutModel",
            "_view_count": null,
            "_view_module": "@jupyter-widgets/base",
            "_view_module_version": "1.2.0",
            "_view_name": "LayoutView",
            "align_content": null,
            "align_items": null,
            "align_self": null,
            "border": null,
            "bottom": null,
            "display": null,
            "flex": null,
            "flex_flow": null,
            "grid_area": null,
            "grid_auto_columns": null,
            "grid_auto_flow": null,
            "grid_auto_rows": null,
            "grid_column": null,
            "grid_gap": null,
            "grid_row": null,
            "grid_template_areas": null,
            "grid_template_columns": null,
            "grid_template_rows": null,
            "height": null,
            "justify_content": null,
            "justify_items": null,
            "left": null,
            "margin": null,
            "max_height": null,
            "max_width": null,
            "min_height": null,
            "min_width": null,
            "object_fit": null,
            "object_position": null,
            "order": null,
            "overflow": null,
            "overflow_x": null,
            "overflow_y": null,
            "padding": null,
            "right": null,
            "top": null,
            "visibility": null,
            "width": null
          }
        },
        "50556b432fd446b5b0168d84cd7314cc": {
          "model_module": "@jupyter-widgets/controls",
          "model_name": "DescriptionStyleModel",
          "state": {
            "_model_module": "@jupyter-widgets/controls",
            "_model_module_version": "1.5.0",
            "_model_name": "DescriptionStyleModel",
            "_view_count": null,
            "_view_module": "@jupyter-widgets/base",
            "_view_module_version": "1.2.0",
            "_view_name": "StyleView",
            "description_width": ""
          }
        },
        "e5f7d0859ca04d8d8f9c481773fd7fe3": {
          "model_module": "@jupyter-widgets/controls",
          "model_name": "HBoxModel",
          "state": {
            "_dom_classes": [],
            "_model_module": "@jupyter-widgets/controls",
            "_model_module_version": "1.5.0",
            "_model_name": "HBoxModel",
            "_view_count": null,
            "_view_module": "@jupyter-widgets/controls",
            "_view_module_version": "1.5.0",
            "_view_name": "HBoxView",
            "box_style": "",
            "children": [
              "IPY_MODEL_89b149b4f4e848beac3022cfae74979c",
              "IPY_MODEL_2cf732be15164fab924551736b89e32f"
            ],
            "layout": "IPY_MODEL_35a063e18da24f8d91bb312f38765e5a"
          }
        },
        "89b149b4f4e848beac3022cfae74979c": {
          "model_module": "@jupyter-widgets/controls",
          "model_name": "FloatProgressModel",
          "state": {
            "_dom_classes": [],
            "_model_module": "@jupyter-widgets/controls",
            "_model_module_version": "1.5.0",
            "_model_name": "FloatProgressModel",
            "_view_count": null,
            "_view_module": "@jupyter-widgets/controls",
            "_view_module_version": "1.5.0",
            "_view_name": "ProgressView",
            "bar_style": "info",
            "description": "Validating: 100%",
            "description_tooltip": null,
            "layout": "IPY_MODEL_62764f5b36f7415d94ace2380023daf4",
            "max": 155,
            "min": 0,
            "orientation": "horizontal",
            "style": "IPY_MODEL_d1bfc84b626a4ae2a548e2259c256455",
            "value": 155
          }
        },
        "2cf732be15164fab924551736b89e32f": {
          "model_module": "@jupyter-widgets/controls",
          "model_name": "HTMLModel",
          "state": {
            "_dom_classes": [],
            "_model_module": "@jupyter-widgets/controls",
            "_model_module_version": "1.5.0",
            "_model_name": "HTMLModel",
            "_view_count": null,
            "_view_module": "@jupyter-widgets/controls",
            "_view_module_version": "1.5.0",
            "_view_name": "HTMLView",
            "description": "",
            "description_tooltip": null,
            "layout": "IPY_MODEL_20bfb63f4f184ba1b9f09fd1f5e45ad1",
            "placeholder": "​",
            "style": "IPY_MODEL_4a2297a06409456a8feb06b79031a9d7",
            "value": " 155/155 [00:00&lt;00:00, 293.61it/s]"
          }
        },
        "35a063e18da24f8d91bb312f38765e5a": {
          "model_module": "@jupyter-widgets/base",
          "model_name": "LayoutModel",
          "state": {
            "_model_module": "@jupyter-widgets/base",
            "_model_module_version": "1.2.0",
            "_model_name": "LayoutModel",
            "_view_count": null,
            "_view_module": "@jupyter-widgets/base",
            "_view_module_version": "1.2.0",
            "_view_name": "LayoutView",
            "align_content": null,
            "align_items": null,
            "align_self": null,
            "border": null,
            "bottom": null,
            "display": "inline-flex",
            "flex": null,
            "flex_flow": "row wrap",
            "grid_area": null,
            "grid_auto_columns": null,
            "grid_auto_flow": null,
            "grid_auto_rows": null,
            "grid_column": null,
            "grid_gap": null,
            "grid_row": null,
            "grid_template_areas": null,
            "grid_template_columns": null,
            "grid_template_rows": null,
            "height": null,
            "justify_content": null,
            "justify_items": null,
            "left": null,
            "margin": null,
            "max_height": null,
            "max_width": null,
            "min_height": null,
            "min_width": null,
            "object_fit": null,
            "object_position": null,
            "order": null,
            "overflow": null,
            "overflow_x": null,
            "overflow_y": null,
            "padding": null,
            "right": null,
            "top": null,
            "visibility": null,
            "width": "100%"
          }
        },
        "62764f5b36f7415d94ace2380023daf4": {
          "model_module": "@jupyter-widgets/base",
          "model_name": "LayoutModel",
          "state": {
            "_model_module": "@jupyter-widgets/base",
            "_model_module_version": "1.2.0",
            "_model_name": "LayoutModel",
            "_view_count": null,
            "_view_module": "@jupyter-widgets/base",
            "_view_module_version": "1.2.0",
            "_view_name": "LayoutView",
            "align_content": null,
            "align_items": null,
            "align_self": null,
            "border": null,
            "bottom": null,
            "display": null,
            "flex": "2",
            "flex_flow": null,
            "grid_area": null,
            "grid_auto_columns": null,
            "grid_auto_flow": null,
            "grid_auto_rows": null,
            "grid_column": null,
            "grid_gap": null,
            "grid_row": null,
            "grid_template_areas": null,
            "grid_template_columns": null,
            "grid_template_rows": null,
            "height": null,
            "justify_content": null,
            "justify_items": null,
            "left": null,
            "margin": null,
            "max_height": null,
            "max_width": null,
            "min_height": null,
            "min_width": null,
            "object_fit": null,
            "object_position": null,
            "order": null,
            "overflow": null,
            "overflow_x": null,
            "overflow_y": null,
            "padding": null,
            "right": null,
            "top": null,
            "visibility": null,
            "width": null
          }
        },
        "d1bfc84b626a4ae2a548e2259c256455": {
          "model_module": "@jupyter-widgets/controls",
          "model_name": "ProgressStyleModel",
          "state": {
            "_model_module": "@jupyter-widgets/controls",
            "_model_module_version": "1.5.0",
            "_model_name": "ProgressStyleModel",
            "_view_count": null,
            "_view_module": "@jupyter-widgets/base",
            "_view_module_version": "1.2.0",
            "_view_name": "StyleView",
            "bar_color": null,
            "description_width": "initial"
          }
        },
        "20bfb63f4f184ba1b9f09fd1f5e45ad1": {
          "model_module": "@jupyter-widgets/base",
          "model_name": "LayoutModel",
          "state": {
            "_model_module": "@jupyter-widgets/base",
            "_model_module_version": "1.2.0",
            "_model_name": "LayoutModel",
            "_view_count": null,
            "_view_module": "@jupyter-widgets/base",
            "_view_module_version": "1.2.0",
            "_view_name": "LayoutView",
            "align_content": null,
            "align_items": null,
            "align_self": null,
            "border": null,
            "bottom": null,
            "display": null,
            "flex": null,
            "flex_flow": null,
            "grid_area": null,
            "grid_auto_columns": null,
            "grid_auto_flow": null,
            "grid_auto_rows": null,
            "grid_column": null,
            "grid_gap": null,
            "grid_row": null,
            "grid_template_areas": null,
            "grid_template_columns": null,
            "grid_template_rows": null,
            "height": null,
            "justify_content": null,
            "justify_items": null,
            "left": null,
            "margin": null,
            "max_height": null,
            "max_width": null,
            "min_height": null,
            "min_width": null,
            "object_fit": null,
            "object_position": null,
            "order": null,
            "overflow": null,
            "overflow_x": null,
            "overflow_y": null,
            "padding": null,
            "right": null,
            "top": null,
            "visibility": null,
            "width": null
          }
        },
        "4a2297a06409456a8feb06b79031a9d7": {
          "model_module": "@jupyter-widgets/controls",
          "model_name": "DescriptionStyleModel",
          "state": {
            "_model_module": "@jupyter-widgets/controls",
            "_model_module_version": "1.5.0",
            "_model_name": "DescriptionStyleModel",
            "_view_count": null,
            "_view_module": "@jupyter-widgets/base",
            "_view_module_version": "1.2.0",
            "_view_name": "StyleView",
            "description_width": ""
          }
        },
        "3585c87073c14290a1e5f161c5f9eed4": {
          "model_module": "@jupyter-widgets/controls",
          "model_name": "HBoxModel",
          "state": {
            "_dom_classes": [],
            "_model_module": "@jupyter-widgets/controls",
            "_model_module_version": "1.5.0",
            "_model_name": "HBoxModel",
            "_view_count": null,
            "_view_module": "@jupyter-widgets/controls",
            "_view_module_version": "1.5.0",
            "_view_name": "HBoxView",
            "box_style": "",
            "children": [
              "IPY_MODEL_c6a5c5a612004b0ea822660cca1b8339",
              "IPY_MODEL_0ec5405865f94db197d5ffb9bb0cfd8b"
            ],
            "layout": "IPY_MODEL_59b8b1cec2c04050b1f1c1968cf3982b"
          }
        },
        "c6a5c5a612004b0ea822660cca1b8339": {
          "model_module": "@jupyter-widgets/controls",
          "model_name": "FloatProgressModel",
          "state": {
            "_dom_classes": [],
            "_model_module": "@jupyter-widgets/controls",
            "_model_module_version": "1.5.0",
            "_model_name": "FloatProgressModel",
            "_view_count": null,
            "_view_module": "@jupyter-widgets/controls",
            "_view_module_version": "1.5.0",
            "_view_name": "ProgressView",
            "bar_style": "info",
            "description": "Validating: 100%",
            "description_tooltip": null,
            "layout": "IPY_MODEL_6f2754c0bdc44689ae521e3a9b76cfd0",
            "max": 155,
            "min": 0,
            "orientation": "horizontal",
            "style": "IPY_MODEL_deb0b300010041378d5ee3e2b79283b5",
            "value": 155
          }
        },
        "0ec5405865f94db197d5ffb9bb0cfd8b": {
          "model_module": "@jupyter-widgets/controls",
          "model_name": "HTMLModel",
          "state": {
            "_dom_classes": [],
            "_model_module": "@jupyter-widgets/controls",
            "_model_module_version": "1.5.0",
            "_model_name": "HTMLModel",
            "_view_count": null,
            "_view_module": "@jupyter-widgets/controls",
            "_view_module_version": "1.5.0",
            "_view_name": "HTMLView",
            "description": "",
            "description_tooltip": null,
            "layout": "IPY_MODEL_e7bdbd096886479e8e6384f7d5fce62b",
            "placeholder": "​",
            "style": "IPY_MODEL_34ab0a360e864e6eb3575cea719f4c70",
            "value": " 155/155 [00:00&lt;00:00, 298.25it/s]"
          }
        },
        "59b8b1cec2c04050b1f1c1968cf3982b": {
          "model_module": "@jupyter-widgets/base",
          "model_name": "LayoutModel",
          "state": {
            "_model_module": "@jupyter-widgets/base",
            "_model_module_version": "1.2.0",
            "_model_name": "LayoutModel",
            "_view_count": null,
            "_view_module": "@jupyter-widgets/base",
            "_view_module_version": "1.2.0",
            "_view_name": "LayoutView",
            "align_content": null,
            "align_items": null,
            "align_self": null,
            "border": null,
            "bottom": null,
            "display": "inline-flex",
            "flex": null,
            "flex_flow": "row wrap",
            "grid_area": null,
            "grid_auto_columns": null,
            "grid_auto_flow": null,
            "grid_auto_rows": null,
            "grid_column": null,
            "grid_gap": null,
            "grid_row": null,
            "grid_template_areas": null,
            "grid_template_columns": null,
            "grid_template_rows": null,
            "height": null,
            "justify_content": null,
            "justify_items": null,
            "left": null,
            "margin": null,
            "max_height": null,
            "max_width": null,
            "min_height": null,
            "min_width": null,
            "object_fit": null,
            "object_position": null,
            "order": null,
            "overflow": null,
            "overflow_x": null,
            "overflow_y": null,
            "padding": null,
            "right": null,
            "top": null,
            "visibility": null,
            "width": "100%"
          }
        },
        "6f2754c0bdc44689ae521e3a9b76cfd0": {
          "model_module": "@jupyter-widgets/base",
          "model_name": "LayoutModel",
          "state": {
            "_model_module": "@jupyter-widgets/base",
            "_model_module_version": "1.2.0",
            "_model_name": "LayoutModel",
            "_view_count": null,
            "_view_module": "@jupyter-widgets/base",
            "_view_module_version": "1.2.0",
            "_view_name": "LayoutView",
            "align_content": null,
            "align_items": null,
            "align_self": null,
            "border": null,
            "bottom": null,
            "display": null,
            "flex": "2",
            "flex_flow": null,
            "grid_area": null,
            "grid_auto_columns": null,
            "grid_auto_flow": null,
            "grid_auto_rows": null,
            "grid_column": null,
            "grid_gap": null,
            "grid_row": null,
            "grid_template_areas": null,
            "grid_template_columns": null,
            "grid_template_rows": null,
            "height": null,
            "justify_content": null,
            "justify_items": null,
            "left": null,
            "margin": null,
            "max_height": null,
            "max_width": null,
            "min_height": null,
            "min_width": null,
            "object_fit": null,
            "object_position": null,
            "order": null,
            "overflow": null,
            "overflow_x": null,
            "overflow_y": null,
            "padding": null,
            "right": null,
            "top": null,
            "visibility": null,
            "width": null
          }
        },
        "deb0b300010041378d5ee3e2b79283b5": {
          "model_module": "@jupyter-widgets/controls",
          "model_name": "ProgressStyleModel",
          "state": {
            "_model_module": "@jupyter-widgets/controls",
            "_model_module_version": "1.5.0",
            "_model_name": "ProgressStyleModel",
            "_view_count": null,
            "_view_module": "@jupyter-widgets/base",
            "_view_module_version": "1.2.0",
            "_view_name": "StyleView",
            "bar_color": null,
            "description_width": "initial"
          }
        },
        "e7bdbd096886479e8e6384f7d5fce62b": {
          "model_module": "@jupyter-widgets/base",
          "model_name": "LayoutModel",
          "state": {
            "_model_module": "@jupyter-widgets/base",
            "_model_module_version": "1.2.0",
            "_model_name": "LayoutModel",
            "_view_count": null,
            "_view_module": "@jupyter-widgets/base",
            "_view_module_version": "1.2.0",
            "_view_name": "LayoutView",
            "align_content": null,
            "align_items": null,
            "align_self": null,
            "border": null,
            "bottom": null,
            "display": null,
            "flex": null,
            "flex_flow": null,
            "grid_area": null,
            "grid_auto_columns": null,
            "grid_auto_flow": null,
            "grid_auto_rows": null,
            "grid_column": null,
            "grid_gap": null,
            "grid_row": null,
            "grid_template_areas": null,
            "grid_template_columns": null,
            "grid_template_rows": null,
            "height": null,
            "justify_content": null,
            "justify_items": null,
            "left": null,
            "margin": null,
            "max_height": null,
            "max_width": null,
            "min_height": null,
            "min_width": null,
            "object_fit": null,
            "object_position": null,
            "order": null,
            "overflow": null,
            "overflow_x": null,
            "overflow_y": null,
            "padding": null,
            "right": null,
            "top": null,
            "visibility": null,
            "width": null
          }
        },
        "34ab0a360e864e6eb3575cea719f4c70": {
          "model_module": "@jupyter-widgets/controls",
          "model_name": "DescriptionStyleModel",
          "state": {
            "_model_module": "@jupyter-widgets/controls",
            "_model_module_version": "1.5.0",
            "_model_name": "DescriptionStyleModel",
            "_view_count": null,
            "_view_module": "@jupyter-widgets/base",
            "_view_module_version": "1.2.0",
            "_view_name": "StyleView",
            "description_width": ""
          }
        },
        "e8afc37f53f945d6a2ede29d6109ed11": {
          "model_module": "@jupyter-widgets/controls",
          "model_name": "HBoxModel",
          "state": {
            "_dom_classes": [],
            "_model_module": "@jupyter-widgets/controls",
            "_model_module_version": "1.5.0",
            "_model_name": "HBoxModel",
            "_view_count": null,
            "_view_module": "@jupyter-widgets/controls",
            "_view_module_version": "1.5.0",
            "_view_name": "HBoxView",
            "box_style": "",
            "children": [
              "IPY_MODEL_e86aa27de66845f0ae49e565a506921a",
              "IPY_MODEL_6b27c004aba441dbae9c11ecc39cb0f8"
            ],
            "layout": "IPY_MODEL_d0b3fc1372b54906a7c7bcea98230f45"
          }
        },
        "e86aa27de66845f0ae49e565a506921a": {
          "model_module": "@jupyter-widgets/controls",
          "model_name": "FloatProgressModel",
          "state": {
            "_dom_classes": [],
            "_model_module": "@jupyter-widgets/controls",
            "_model_module_version": "1.5.0",
            "_model_name": "FloatProgressModel",
            "_view_count": null,
            "_view_module": "@jupyter-widgets/controls",
            "_view_module_version": "1.5.0",
            "_view_name": "ProgressView",
            "bar_style": "info",
            "description": "Validating: 100%",
            "description_tooltip": null,
            "layout": "IPY_MODEL_6213df61c2274e7cb8a1dce9847420ea",
            "max": 155,
            "min": 0,
            "orientation": "horizontal",
            "style": "IPY_MODEL_12630a5693b94b3e8363a2f582dca876",
            "value": 155
          }
        },
        "6b27c004aba441dbae9c11ecc39cb0f8": {
          "model_module": "@jupyter-widgets/controls",
          "model_name": "HTMLModel",
          "state": {
            "_dom_classes": [],
            "_model_module": "@jupyter-widgets/controls",
            "_model_module_version": "1.5.0",
            "_model_name": "HTMLModel",
            "_view_count": null,
            "_view_module": "@jupyter-widgets/controls",
            "_view_module_version": "1.5.0",
            "_view_name": "HTMLView",
            "description": "",
            "description_tooltip": null,
            "layout": "IPY_MODEL_81c50b8e14c343bd8bc0d26de04badd2",
            "placeholder": "​",
            "style": "IPY_MODEL_ee54edc9a356422191cbd17bdcf44b67",
            "value": " 155/155 [00:00&lt;00:00, 317.36it/s]"
          }
        },
        "d0b3fc1372b54906a7c7bcea98230f45": {
          "model_module": "@jupyter-widgets/base",
          "model_name": "LayoutModel",
          "state": {
            "_model_module": "@jupyter-widgets/base",
            "_model_module_version": "1.2.0",
            "_model_name": "LayoutModel",
            "_view_count": null,
            "_view_module": "@jupyter-widgets/base",
            "_view_module_version": "1.2.0",
            "_view_name": "LayoutView",
            "align_content": null,
            "align_items": null,
            "align_self": null,
            "border": null,
            "bottom": null,
            "display": "inline-flex",
            "flex": null,
            "flex_flow": "row wrap",
            "grid_area": null,
            "grid_auto_columns": null,
            "grid_auto_flow": null,
            "grid_auto_rows": null,
            "grid_column": null,
            "grid_gap": null,
            "grid_row": null,
            "grid_template_areas": null,
            "grid_template_columns": null,
            "grid_template_rows": null,
            "height": null,
            "justify_content": null,
            "justify_items": null,
            "left": null,
            "margin": null,
            "max_height": null,
            "max_width": null,
            "min_height": null,
            "min_width": null,
            "object_fit": null,
            "object_position": null,
            "order": null,
            "overflow": null,
            "overflow_x": null,
            "overflow_y": null,
            "padding": null,
            "right": null,
            "top": null,
            "visibility": null,
            "width": "100%"
          }
        },
        "6213df61c2274e7cb8a1dce9847420ea": {
          "model_module": "@jupyter-widgets/base",
          "model_name": "LayoutModel",
          "state": {
            "_model_module": "@jupyter-widgets/base",
            "_model_module_version": "1.2.0",
            "_model_name": "LayoutModel",
            "_view_count": null,
            "_view_module": "@jupyter-widgets/base",
            "_view_module_version": "1.2.0",
            "_view_name": "LayoutView",
            "align_content": null,
            "align_items": null,
            "align_self": null,
            "border": null,
            "bottom": null,
            "display": null,
            "flex": "2",
            "flex_flow": null,
            "grid_area": null,
            "grid_auto_columns": null,
            "grid_auto_flow": null,
            "grid_auto_rows": null,
            "grid_column": null,
            "grid_gap": null,
            "grid_row": null,
            "grid_template_areas": null,
            "grid_template_columns": null,
            "grid_template_rows": null,
            "height": null,
            "justify_content": null,
            "justify_items": null,
            "left": null,
            "margin": null,
            "max_height": null,
            "max_width": null,
            "min_height": null,
            "min_width": null,
            "object_fit": null,
            "object_position": null,
            "order": null,
            "overflow": null,
            "overflow_x": null,
            "overflow_y": null,
            "padding": null,
            "right": null,
            "top": null,
            "visibility": null,
            "width": null
          }
        },
        "12630a5693b94b3e8363a2f582dca876": {
          "model_module": "@jupyter-widgets/controls",
          "model_name": "ProgressStyleModel",
          "state": {
            "_model_module": "@jupyter-widgets/controls",
            "_model_module_version": "1.5.0",
            "_model_name": "ProgressStyleModel",
            "_view_count": null,
            "_view_module": "@jupyter-widgets/base",
            "_view_module_version": "1.2.0",
            "_view_name": "StyleView",
            "bar_color": null,
            "description_width": "initial"
          }
        },
        "81c50b8e14c343bd8bc0d26de04badd2": {
          "model_module": "@jupyter-widgets/base",
          "model_name": "LayoutModel",
          "state": {
            "_model_module": "@jupyter-widgets/base",
            "_model_module_version": "1.2.0",
            "_model_name": "LayoutModel",
            "_view_count": null,
            "_view_module": "@jupyter-widgets/base",
            "_view_module_version": "1.2.0",
            "_view_name": "LayoutView",
            "align_content": null,
            "align_items": null,
            "align_self": null,
            "border": null,
            "bottom": null,
            "display": null,
            "flex": null,
            "flex_flow": null,
            "grid_area": null,
            "grid_auto_columns": null,
            "grid_auto_flow": null,
            "grid_auto_rows": null,
            "grid_column": null,
            "grid_gap": null,
            "grid_row": null,
            "grid_template_areas": null,
            "grid_template_columns": null,
            "grid_template_rows": null,
            "height": null,
            "justify_content": null,
            "justify_items": null,
            "left": null,
            "margin": null,
            "max_height": null,
            "max_width": null,
            "min_height": null,
            "min_width": null,
            "object_fit": null,
            "object_position": null,
            "order": null,
            "overflow": null,
            "overflow_x": null,
            "overflow_y": null,
            "padding": null,
            "right": null,
            "top": null,
            "visibility": null,
            "width": null
          }
        },
        "ee54edc9a356422191cbd17bdcf44b67": {
          "model_module": "@jupyter-widgets/controls",
          "model_name": "DescriptionStyleModel",
          "state": {
            "_model_module": "@jupyter-widgets/controls",
            "_model_module_version": "1.5.0",
            "_model_name": "DescriptionStyleModel",
            "_view_count": null,
            "_view_module": "@jupyter-widgets/base",
            "_view_module_version": "1.2.0",
            "_view_name": "StyleView",
            "description_width": ""
          }
        },
        "7b51439d030b4275b3eefa5a8237b02d": {
          "model_module": "@jupyter-widgets/controls",
          "model_name": "HBoxModel",
          "state": {
            "_dom_classes": [],
            "_model_module": "@jupyter-widgets/controls",
            "_model_module_version": "1.5.0",
            "_model_name": "HBoxModel",
            "_view_count": null,
            "_view_module": "@jupyter-widgets/controls",
            "_view_module_version": "1.5.0",
            "_view_name": "HBoxView",
            "box_style": "",
            "children": [
              "IPY_MODEL_dec6109b63c54b9fb3bd586710e778f2",
              "IPY_MODEL_37903c3f82fa4332942ed32387eb6940"
            ],
            "layout": "IPY_MODEL_7e49983bfe4d4ddc96ce5edc899cd0ea"
          }
        },
        "dec6109b63c54b9fb3bd586710e778f2": {
          "model_module": "@jupyter-widgets/controls",
          "model_name": "FloatProgressModel",
          "state": {
            "_dom_classes": [],
            "_model_module": "@jupyter-widgets/controls",
            "_model_module_version": "1.5.0",
            "_model_name": "FloatProgressModel",
            "_view_count": null,
            "_view_module": "@jupyter-widgets/controls",
            "_view_module_version": "1.5.0",
            "_view_name": "ProgressView",
            "bar_style": "info",
            "description": "Validating: 100%",
            "description_tooltip": null,
            "layout": "IPY_MODEL_c04ba092e91d4f659fe7cbb62b5c8a18",
            "max": 155,
            "min": 0,
            "orientation": "horizontal",
            "style": "IPY_MODEL_2b5a846e2d7a4f708f4c23c4ed567b38",
            "value": 155
          }
        },
        "37903c3f82fa4332942ed32387eb6940": {
          "model_module": "@jupyter-widgets/controls",
          "model_name": "HTMLModel",
          "state": {
            "_dom_classes": [],
            "_model_module": "@jupyter-widgets/controls",
            "_model_module_version": "1.5.0",
            "_model_name": "HTMLModel",
            "_view_count": null,
            "_view_module": "@jupyter-widgets/controls",
            "_view_module_version": "1.5.0",
            "_view_name": "HTMLView",
            "description": "",
            "description_tooltip": null,
            "layout": "IPY_MODEL_31924bd66a624c189256a8983a6d906b",
            "placeholder": "​",
            "style": "IPY_MODEL_102622403c6a4d74a05d6732cd9ab9cd",
            "value": " 155/155 [00:00&lt;00:00, 282.25it/s]"
          }
        },
        "7e49983bfe4d4ddc96ce5edc899cd0ea": {
          "model_module": "@jupyter-widgets/base",
          "model_name": "LayoutModel",
          "state": {
            "_model_module": "@jupyter-widgets/base",
            "_model_module_version": "1.2.0",
            "_model_name": "LayoutModel",
            "_view_count": null,
            "_view_module": "@jupyter-widgets/base",
            "_view_module_version": "1.2.0",
            "_view_name": "LayoutView",
            "align_content": null,
            "align_items": null,
            "align_self": null,
            "border": null,
            "bottom": null,
            "display": "inline-flex",
            "flex": null,
            "flex_flow": "row wrap",
            "grid_area": null,
            "grid_auto_columns": null,
            "grid_auto_flow": null,
            "grid_auto_rows": null,
            "grid_column": null,
            "grid_gap": null,
            "grid_row": null,
            "grid_template_areas": null,
            "grid_template_columns": null,
            "grid_template_rows": null,
            "height": null,
            "justify_content": null,
            "justify_items": null,
            "left": null,
            "margin": null,
            "max_height": null,
            "max_width": null,
            "min_height": null,
            "min_width": null,
            "object_fit": null,
            "object_position": null,
            "order": null,
            "overflow": null,
            "overflow_x": null,
            "overflow_y": null,
            "padding": null,
            "right": null,
            "top": null,
            "visibility": null,
            "width": "100%"
          }
        },
        "c04ba092e91d4f659fe7cbb62b5c8a18": {
          "model_module": "@jupyter-widgets/base",
          "model_name": "LayoutModel",
          "state": {
            "_model_module": "@jupyter-widgets/base",
            "_model_module_version": "1.2.0",
            "_model_name": "LayoutModel",
            "_view_count": null,
            "_view_module": "@jupyter-widgets/base",
            "_view_module_version": "1.2.0",
            "_view_name": "LayoutView",
            "align_content": null,
            "align_items": null,
            "align_self": null,
            "border": null,
            "bottom": null,
            "display": null,
            "flex": "2",
            "flex_flow": null,
            "grid_area": null,
            "grid_auto_columns": null,
            "grid_auto_flow": null,
            "grid_auto_rows": null,
            "grid_column": null,
            "grid_gap": null,
            "grid_row": null,
            "grid_template_areas": null,
            "grid_template_columns": null,
            "grid_template_rows": null,
            "height": null,
            "justify_content": null,
            "justify_items": null,
            "left": null,
            "margin": null,
            "max_height": null,
            "max_width": null,
            "min_height": null,
            "min_width": null,
            "object_fit": null,
            "object_position": null,
            "order": null,
            "overflow": null,
            "overflow_x": null,
            "overflow_y": null,
            "padding": null,
            "right": null,
            "top": null,
            "visibility": null,
            "width": null
          }
        },
        "2b5a846e2d7a4f708f4c23c4ed567b38": {
          "model_module": "@jupyter-widgets/controls",
          "model_name": "ProgressStyleModel",
          "state": {
            "_model_module": "@jupyter-widgets/controls",
            "_model_module_version": "1.5.0",
            "_model_name": "ProgressStyleModel",
            "_view_count": null,
            "_view_module": "@jupyter-widgets/base",
            "_view_module_version": "1.2.0",
            "_view_name": "StyleView",
            "bar_color": null,
            "description_width": "initial"
          }
        },
        "31924bd66a624c189256a8983a6d906b": {
          "model_module": "@jupyter-widgets/base",
          "model_name": "LayoutModel",
          "state": {
            "_model_module": "@jupyter-widgets/base",
            "_model_module_version": "1.2.0",
            "_model_name": "LayoutModel",
            "_view_count": null,
            "_view_module": "@jupyter-widgets/base",
            "_view_module_version": "1.2.0",
            "_view_name": "LayoutView",
            "align_content": null,
            "align_items": null,
            "align_self": null,
            "border": null,
            "bottom": null,
            "display": null,
            "flex": null,
            "flex_flow": null,
            "grid_area": null,
            "grid_auto_columns": null,
            "grid_auto_flow": null,
            "grid_auto_rows": null,
            "grid_column": null,
            "grid_gap": null,
            "grid_row": null,
            "grid_template_areas": null,
            "grid_template_columns": null,
            "grid_template_rows": null,
            "height": null,
            "justify_content": null,
            "justify_items": null,
            "left": null,
            "margin": null,
            "max_height": null,
            "max_width": null,
            "min_height": null,
            "min_width": null,
            "object_fit": null,
            "object_position": null,
            "order": null,
            "overflow": null,
            "overflow_x": null,
            "overflow_y": null,
            "padding": null,
            "right": null,
            "top": null,
            "visibility": null,
            "width": null
          }
        },
        "102622403c6a4d74a05d6732cd9ab9cd": {
          "model_module": "@jupyter-widgets/controls",
          "model_name": "DescriptionStyleModel",
          "state": {
            "_model_module": "@jupyter-widgets/controls",
            "_model_module_version": "1.5.0",
            "_model_name": "DescriptionStyleModel",
            "_view_count": null,
            "_view_module": "@jupyter-widgets/base",
            "_view_module_version": "1.2.0",
            "_view_name": "StyleView",
            "description_width": ""
          }
        },
        "5afabdd2ad94421a91439126861ff0d7": {
          "model_module": "@jupyter-widgets/controls",
          "model_name": "HBoxModel",
          "state": {
            "_dom_classes": [],
            "_model_module": "@jupyter-widgets/controls",
            "_model_module_version": "1.5.0",
            "_model_name": "HBoxModel",
            "_view_count": null,
            "_view_module": "@jupyter-widgets/controls",
            "_view_module_version": "1.5.0",
            "_view_name": "HBoxView",
            "box_style": "",
            "children": [
              "IPY_MODEL_279c5f8515b74b5ab6dd2f3134ca60e1",
              "IPY_MODEL_675d07625eed4f25b819d23313be3bd0"
            ],
            "layout": "IPY_MODEL_be83dd25d0cc489789236e582ee27b90"
          }
        },
        "279c5f8515b74b5ab6dd2f3134ca60e1": {
          "model_module": "@jupyter-widgets/controls",
          "model_name": "FloatProgressModel",
          "state": {
            "_dom_classes": [],
            "_model_module": "@jupyter-widgets/controls",
            "_model_module_version": "1.5.0",
            "_model_name": "FloatProgressModel",
            "_view_count": null,
            "_view_module": "@jupyter-widgets/controls",
            "_view_module_version": "1.5.0",
            "_view_name": "ProgressView",
            "bar_style": "info",
            "description": "Validating: 100%",
            "description_tooltip": null,
            "layout": "IPY_MODEL_255878d876584c44850fc4c997ec484d",
            "max": 155,
            "min": 0,
            "orientation": "horizontal",
            "style": "IPY_MODEL_f1f4ee80be1d4a719d971b2c82db2f44",
            "value": 155
          }
        },
        "675d07625eed4f25b819d23313be3bd0": {
          "model_module": "@jupyter-widgets/controls",
          "model_name": "HTMLModel",
          "state": {
            "_dom_classes": [],
            "_model_module": "@jupyter-widgets/controls",
            "_model_module_version": "1.5.0",
            "_model_name": "HTMLModel",
            "_view_count": null,
            "_view_module": "@jupyter-widgets/controls",
            "_view_module_version": "1.5.0",
            "_view_name": "HTMLView",
            "description": "",
            "description_tooltip": null,
            "layout": "IPY_MODEL_9f558d492e60409e8449902adaed42b5",
            "placeholder": "​",
            "style": "IPY_MODEL_37f1d4688f77497a83a654a770930e2b",
            "value": " 155/155 [00:00&lt;00:00, 286.65it/s]"
          }
        },
        "be83dd25d0cc489789236e582ee27b90": {
          "model_module": "@jupyter-widgets/base",
          "model_name": "LayoutModel",
          "state": {
            "_model_module": "@jupyter-widgets/base",
            "_model_module_version": "1.2.0",
            "_model_name": "LayoutModel",
            "_view_count": null,
            "_view_module": "@jupyter-widgets/base",
            "_view_module_version": "1.2.0",
            "_view_name": "LayoutView",
            "align_content": null,
            "align_items": null,
            "align_self": null,
            "border": null,
            "bottom": null,
            "display": "inline-flex",
            "flex": null,
            "flex_flow": "row wrap",
            "grid_area": null,
            "grid_auto_columns": null,
            "grid_auto_flow": null,
            "grid_auto_rows": null,
            "grid_column": null,
            "grid_gap": null,
            "grid_row": null,
            "grid_template_areas": null,
            "grid_template_columns": null,
            "grid_template_rows": null,
            "height": null,
            "justify_content": null,
            "justify_items": null,
            "left": null,
            "margin": null,
            "max_height": null,
            "max_width": null,
            "min_height": null,
            "min_width": null,
            "object_fit": null,
            "object_position": null,
            "order": null,
            "overflow": null,
            "overflow_x": null,
            "overflow_y": null,
            "padding": null,
            "right": null,
            "top": null,
            "visibility": null,
            "width": "100%"
          }
        },
        "255878d876584c44850fc4c997ec484d": {
          "model_module": "@jupyter-widgets/base",
          "model_name": "LayoutModel",
          "state": {
            "_model_module": "@jupyter-widgets/base",
            "_model_module_version": "1.2.0",
            "_model_name": "LayoutModel",
            "_view_count": null,
            "_view_module": "@jupyter-widgets/base",
            "_view_module_version": "1.2.0",
            "_view_name": "LayoutView",
            "align_content": null,
            "align_items": null,
            "align_self": null,
            "border": null,
            "bottom": null,
            "display": null,
            "flex": "2",
            "flex_flow": null,
            "grid_area": null,
            "grid_auto_columns": null,
            "grid_auto_flow": null,
            "grid_auto_rows": null,
            "grid_column": null,
            "grid_gap": null,
            "grid_row": null,
            "grid_template_areas": null,
            "grid_template_columns": null,
            "grid_template_rows": null,
            "height": null,
            "justify_content": null,
            "justify_items": null,
            "left": null,
            "margin": null,
            "max_height": null,
            "max_width": null,
            "min_height": null,
            "min_width": null,
            "object_fit": null,
            "object_position": null,
            "order": null,
            "overflow": null,
            "overflow_x": null,
            "overflow_y": null,
            "padding": null,
            "right": null,
            "top": null,
            "visibility": null,
            "width": null
          }
        },
        "f1f4ee80be1d4a719d971b2c82db2f44": {
          "model_module": "@jupyter-widgets/controls",
          "model_name": "ProgressStyleModel",
          "state": {
            "_model_module": "@jupyter-widgets/controls",
            "_model_module_version": "1.5.0",
            "_model_name": "ProgressStyleModel",
            "_view_count": null,
            "_view_module": "@jupyter-widgets/base",
            "_view_module_version": "1.2.0",
            "_view_name": "StyleView",
            "bar_color": null,
            "description_width": "initial"
          }
        },
        "9f558d492e60409e8449902adaed42b5": {
          "model_module": "@jupyter-widgets/base",
          "model_name": "LayoutModel",
          "state": {
            "_model_module": "@jupyter-widgets/base",
            "_model_module_version": "1.2.0",
            "_model_name": "LayoutModel",
            "_view_count": null,
            "_view_module": "@jupyter-widgets/base",
            "_view_module_version": "1.2.0",
            "_view_name": "LayoutView",
            "align_content": null,
            "align_items": null,
            "align_self": null,
            "border": null,
            "bottom": null,
            "display": null,
            "flex": null,
            "flex_flow": null,
            "grid_area": null,
            "grid_auto_columns": null,
            "grid_auto_flow": null,
            "grid_auto_rows": null,
            "grid_column": null,
            "grid_gap": null,
            "grid_row": null,
            "grid_template_areas": null,
            "grid_template_columns": null,
            "grid_template_rows": null,
            "height": null,
            "justify_content": null,
            "justify_items": null,
            "left": null,
            "margin": null,
            "max_height": null,
            "max_width": null,
            "min_height": null,
            "min_width": null,
            "object_fit": null,
            "object_position": null,
            "order": null,
            "overflow": null,
            "overflow_x": null,
            "overflow_y": null,
            "padding": null,
            "right": null,
            "top": null,
            "visibility": null,
            "width": null
          }
        },
        "37f1d4688f77497a83a654a770930e2b": {
          "model_module": "@jupyter-widgets/controls",
          "model_name": "DescriptionStyleModel",
          "state": {
            "_model_module": "@jupyter-widgets/controls",
            "_model_module_version": "1.5.0",
            "_model_name": "DescriptionStyleModel",
            "_view_count": null,
            "_view_module": "@jupyter-widgets/base",
            "_view_module_version": "1.2.0",
            "_view_name": "StyleView",
            "description_width": ""
          }
        },
        "cab737ce4ee447e2ad598b6ee61e4c27": {
          "model_module": "@jupyter-widgets/controls",
          "model_name": "HBoxModel",
          "state": {
            "_dom_classes": [],
            "_model_module": "@jupyter-widgets/controls",
            "_model_module_version": "1.5.0",
            "_model_name": "HBoxModel",
            "_view_count": null,
            "_view_module": "@jupyter-widgets/controls",
            "_view_module_version": "1.5.0",
            "_view_name": "HBoxView",
            "box_style": "",
            "children": [
              "IPY_MODEL_d8e1848df4224df78b02d90dba99479b",
              "IPY_MODEL_52c2a390a2dd434185d884b3e35f091d"
            ],
            "layout": "IPY_MODEL_32fd6a7ac335407da49a46b488ad0e23"
          }
        },
        "d8e1848df4224df78b02d90dba99479b": {
          "model_module": "@jupyter-widgets/controls",
          "model_name": "FloatProgressModel",
          "state": {
            "_dom_classes": [],
            "_model_module": "@jupyter-widgets/controls",
            "_model_module_version": "1.5.0",
            "_model_name": "FloatProgressModel",
            "_view_count": null,
            "_view_module": "@jupyter-widgets/controls",
            "_view_module_version": "1.5.0",
            "_view_name": "ProgressView",
            "bar_style": "info",
            "description": "Validating: 100%",
            "description_tooltip": null,
            "layout": "IPY_MODEL_3167f901734041938caf53d665bd734d",
            "max": 155,
            "min": 0,
            "orientation": "horizontal",
            "style": "IPY_MODEL_aa21ccc628954957be4f4ce0329430ff",
            "value": 155
          }
        },
        "52c2a390a2dd434185d884b3e35f091d": {
          "model_module": "@jupyter-widgets/controls",
          "model_name": "HTMLModel",
          "state": {
            "_dom_classes": [],
            "_model_module": "@jupyter-widgets/controls",
            "_model_module_version": "1.5.0",
            "_model_name": "HTMLModel",
            "_view_count": null,
            "_view_module": "@jupyter-widgets/controls",
            "_view_module_version": "1.5.0",
            "_view_name": "HTMLView",
            "description": "",
            "description_tooltip": null,
            "layout": "IPY_MODEL_674ded785ab04f4fbf9dc9b540056ea3",
            "placeholder": "​",
            "style": "IPY_MODEL_3f269b8d754f435eb1877887a9fa4a71",
            "value": " 155/155 [00:00&lt;00:00, 287.54it/s]"
          }
        },
        "32fd6a7ac335407da49a46b488ad0e23": {
          "model_module": "@jupyter-widgets/base",
          "model_name": "LayoutModel",
          "state": {
            "_model_module": "@jupyter-widgets/base",
            "_model_module_version": "1.2.0",
            "_model_name": "LayoutModel",
            "_view_count": null,
            "_view_module": "@jupyter-widgets/base",
            "_view_module_version": "1.2.0",
            "_view_name": "LayoutView",
            "align_content": null,
            "align_items": null,
            "align_self": null,
            "border": null,
            "bottom": null,
            "display": "inline-flex",
            "flex": null,
            "flex_flow": "row wrap",
            "grid_area": null,
            "grid_auto_columns": null,
            "grid_auto_flow": null,
            "grid_auto_rows": null,
            "grid_column": null,
            "grid_gap": null,
            "grid_row": null,
            "grid_template_areas": null,
            "grid_template_columns": null,
            "grid_template_rows": null,
            "height": null,
            "justify_content": null,
            "justify_items": null,
            "left": null,
            "margin": null,
            "max_height": null,
            "max_width": null,
            "min_height": null,
            "min_width": null,
            "object_fit": null,
            "object_position": null,
            "order": null,
            "overflow": null,
            "overflow_x": null,
            "overflow_y": null,
            "padding": null,
            "right": null,
            "top": null,
            "visibility": null,
            "width": "100%"
          }
        },
        "3167f901734041938caf53d665bd734d": {
          "model_module": "@jupyter-widgets/base",
          "model_name": "LayoutModel",
          "state": {
            "_model_module": "@jupyter-widgets/base",
            "_model_module_version": "1.2.0",
            "_model_name": "LayoutModel",
            "_view_count": null,
            "_view_module": "@jupyter-widgets/base",
            "_view_module_version": "1.2.0",
            "_view_name": "LayoutView",
            "align_content": null,
            "align_items": null,
            "align_self": null,
            "border": null,
            "bottom": null,
            "display": null,
            "flex": "2",
            "flex_flow": null,
            "grid_area": null,
            "grid_auto_columns": null,
            "grid_auto_flow": null,
            "grid_auto_rows": null,
            "grid_column": null,
            "grid_gap": null,
            "grid_row": null,
            "grid_template_areas": null,
            "grid_template_columns": null,
            "grid_template_rows": null,
            "height": null,
            "justify_content": null,
            "justify_items": null,
            "left": null,
            "margin": null,
            "max_height": null,
            "max_width": null,
            "min_height": null,
            "min_width": null,
            "object_fit": null,
            "object_position": null,
            "order": null,
            "overflow": null,
            "overflow_x": null,
            "overflow_y": null,
            "padding": null,
            "right": null,
            "top": null,
            "visibility": null,
            "width": null
          }
        },
        "aa21ccc628954957be4f4ce0329430ff": {
          "model_module": "@jupyter-widgets/controls",
          "model_name": "ProgressStyleModel",
          "state": {
            "_model_module": "@jupyter-widgets/controls",
            "_model_module_version": "1.5.0",
            "_model_name": "ProgressStyleModel",
            "_view_count": null,
            "_view_module": "@jupyter-widgets/base",
            "_view_module_version": "1.2.0",
            "_view_name": "StyleView",
            "bar_color": null,
            "description_width": "initial"
          }
        },
        "674ded785ab04f4fbf9dc9b540056ea3": {
          "model_module": "@jupyter-widgets/base",
          "model_name": "LayoutModel",
          "state": {
            "_model_module": "@jupyter-widgets/base",
            "_model_module_version": "1.2.0",
            "_model_name": "LayoutModel",
            "_view_count": null,
            "_view_module": "@jupyter-widgets/base",
            "_view_module_version": "1.2.0",
            "_view_name": "LayoutView",
            "align_content": null,
            "align_items": null,
            "align_self": null,
            "border": null,
            "bottom": null,
            "display": null,
            "flex": null,
            "flex_flow": null,
            "grid_area": null,
            "grid_auto_columns": null,
            "grid_auto_flow": null,
            "grid_auto_rows": null,
            "grid_column": null,
            "grid_gap": null,
            "grid_row": null,
            "grid_template_areas": null,
            "grid_template_columns": null,
            "grid_template_rows": null,
            "height": null,
            "justify_content": null,
            "justify_items": null,
            "left": null,
            "margin": null,
            "max_height": null,
            "max_width": null,
            "min_height": null,
            "min_width": null,
            "object_fit": null,
            "object_position": null,
            "order": null,
            "overflow": null,
            "overflow_x": null,
            "overflow_y": null,
            "padding": null,
            "right": null,
            "top": null,
            "visibility": null,
            "width": null
          }
        },
        "3f269b8d754f435eb1877887a9fa4a71": {
          "model_module": "@jupyter-widgets/controls",
          "model_name": "DescriptionStyleModel",
          "state": {
            "_model_module": "@jupyter-widgets/controls",
            "_model_module_version": "1.5.0",
            "_model_name": "DescriptionStyleModel",
            "_view_count": null,
            "_view_module": "@jupyter-widgets/base",
            "_view_module_version": "1.2.0",
            "_view_name": "StyleView",
            "description_width": ""
          }
        },
        "40bca0eea9bc4353adb244f5715ed5c7": {
          "model_module": "@jupyter-widgets/controls",
          "model_name": "HBoxModel",
          "state": {
            "_dom_classes": [],
            "_model_module": "@jupyter-widgets/controls",
            "_model_module_version": "1.5.0",
            "_model_name": "HBoxModel",
            "_view_count": null,
            "_view_module": "@jupyter-widgets/controls",
            "_view_module_version": "1.5.0",
            "_view_name": "HBoxView",
            "box_style": "",
            "children": [
              "IPY_MODEL_f77647f13b944199869faccb56c629c1",
              "IPY_MODEL_246b5080a0e84a50ae7b4ddcd84badc8"
            ],
            "layout": "IPY_MODEL_2f6340472a4d4d6ab9eb08659df202d4"
          }
        },
        "f77647f13b944199869faccb56c629c1": {
          "model_module": "@jupyter-widgets/controls",
          "model_name": "FloatProgressModel",
          "state": {
            "_dom_classes": [],
            "_model_module": "@jupyter-widgets/controls",
            "_model_module_version": "1.5.0",
            "_model_name": "FloatProgressModel",
            "_view_count": null,
            "_view_module": "@jupyter-widgets/controls",
            "_view_module_version": "1.5.0",
            "_view_name": "ProgressView",
            "bar_style": "info",
            "description": "Validating: 100%",
            "description_tooltip": null,
            "layout": "IPY_MODEL_c1e0fc166d764b838a54ca51c2bd66b0",
            "max": 155,
            "min": 0,
            "orientation": "horizontal",
            "style": "IPY_MODEL_6e8eb2f5687844eebf9b5c1a55969aaa",
            "value": 155
          }
        },
        "246b5080a0e84a50ae7b4ddcd84badc8": {
          "model_module": "@jupyter-widgets/controls",
          "model_name": "HTMLModel",
          "state": {
            "_dom_classes": [],
            "_model_module": "@jupyter-widgets/controls",
            "_model_module_version": "1.5.0",
            "_model_name": "HTMLModel",
            "_view_count": null,
            "_view_module": "@jupyter-widgets/controls",
            "_view_module_version": "1.5.0",
            "_view_name": "HTMLView",
            "description": "",
            "description_tooltip": null,
            "layout": "IPY_MODEL_e3670fc6ace04525b94d44eb2a7ffb03",
            "placeholder": "​",
            "style": "IPY_MODEL_23024dac87564d09ba955d71219f1e8a",
            "value": " 155/155 [00:00&lt;00:00, 280.01it/s]"
          }
        },
        "2f6340472a4d4d6ab9eb08659df202d4": {
          "model_module": "@jupyter-widgets/base",
          "model_name": "LayoutModel",
          "state": {
            "_model_module": "@jupyter-widgets/base",
            "_model_module_version": "1.2.0",
            "_model_name": "LayoutModel",
            "_view_count": null,
            "_view_module": "@jupyter-widgets/base",
            "_view_module_version": "1.2.0",
            "_view_name": "LayoutView",
            "align_content": null,
            "align_items": null,
            "align_self": null,
            "border": null,
            "bottom": null,
            "display": "inline-flex",
            "flex": null,
            "flex_flow": "row wrap",
            "grid_area": null,
            "grid_auto_columns": null,
            "grid_auto_flow": null,
            "grid_auto_rows": null,
            "grid_column": null,
            "grid_gap": null,
            "grid_row": null,
            "grid_template_areas": null,
            "grid_template_columns": null,
            "grid_template_rows": null,
            "height": null,
            "justify_content": null,
            "justify_items": null,
            "left": null,
            "margin": null,
            "max_height": null,
            "max_width": null,
            "min_height": null,
            "min_width": null,
            "object_fit": null,
            "object_position": null,
            "order": null,
            "overflow": null,
            "overflow_x": null,
            "overflow_y": null,
            "padding": null,
            "right": null,
            "top": null,
            "visibility": null,
            "width": "100%"
          }
        },
        "c1e0fc166d764b838a54ca51c2bd66b0": {
          "model_module": "@jupyter-widgets/base",
          "model_name": "LayoutModel",
          "state": {
            "_model_module": "@jupyter-widgets/base",
            "_model_module_version": "1.2.0",
            "_model_name": "LayoutModel",
            "_view_count": null,
            "_view_module": "@jupyter-widgets/base",
            "_view_module_version": "1.2.0",
            "_view_name": "LayoutView",
            "align_content": null,
            "align_items": null,
            "align_self": null,
            "border": null,
            "bottom": null,
            "display": null,
            "flex": "2",
            "flex_flow": null,
            "grid_area": null,
            "grid_auto_columns": null,
            "grid_auto_flow": null,
            "grid_auto_rows": null,
            "grid_column": null,
            "grid_gap": null,
            "grid_row": null,
            "grid_template_areas": null,
            "grid_template_columns": null,
            "grid_template_rows": null,
            "height": null,
            "justify_content": null,
            "justify_items": null,
            "left": null,
            "margin": null,
            "max_height": null,
            "max_width": null,
            "min_height": null,
            "min_width": null,
            "object_fit": null,
            "object_position": null,
            "order": null,
            "overflow": null,
            "overflow_x": null,
            "overflow_y": null,
            "padding": null,
            "right": null,
            "top": null,
            "visibility": null,
            "width": null
          }
        },
        "6e8eb2f5687844eebf9b5c1a55969aaa": {
          "model_module": "@jupyter-widgets/controls",
          "model_name": "ProgressStyleModel",
          "state": {
            "_model_module": "@jupyter-widgets/controls",
            "_model_module_version": "1.5.0",
            "_model_name": "ProgressStyleModel",
            "_view_count": null,
            "_view_module": "@jupyter-widgets/base",
            "_view_module_version": "1.2.0",
            "_view_name": "StyleView",
            "bar_color": null,
            "description_width": "initial"
          }
        },
        "e3670fc6ace04525b94d44eb2a7ffb03": {
          "model_module": "@jupyter-widgets/base",
          "model_name": "LayoutModel",
          "state": {
            "_model_module": "@jupyter-widgets/base",
            "_model_module_version": "1.2.0",
            "_model_name": "LayoutModel",
            "_view_count": null,
            "_view_module": "@jupyter-widgets/base",
            "_view_module_version": "1.2.0",
            "_view_name": "LayoutView",
            "align_content": null,
            "align_items": null,
            "align_self": null,
            "border": null,
            "bottom": null,
            "display": null,
            "flex": null,
            "flex_flow": null,
            "grid_area": null,
            "grid_auto_columns": null,
            "grid_auto_flow": null,
            "grid_auto_rows": null,
            "grid_column": null,
            "grid_gap": null,
            "grid_row": null,
            "grid_template_areas": null,
            "grid_template_columns": null,
            "grid_template_rows": null,
            "height": null,
            "justify_content": null,
            "justify_items": null,
            "left": null,
            "margin": null,
            "max_height": null,
            "max_width": null,
            "min_height": null,
            "min_width": null,
            "object_fit": null,
            "object_position": null,
            "order": null,
            "overflow": null,
            "overflow_x": null,
            "overflow_y": null,
            "padding": null,
            "right": null,
            "top": null,
            "visibility": null,
            "width": null
          }
        },
        "23024dac87564d09ba955d71219f1e8a": {
          "model_module": "@jupyter-widgets/controls",
          "model_name": "DescriptionStyleModel",
          "state": {
            "_model_module": "@jupyter-widgets/controls",
            "_model_module_version": "1.5.0",
            "_model_name": "DescriptionStyleModel",
            "_view_count": null,
            "_view_module": "@jupyter-widgets/base",
            "_view_module_version": "1.2.0",
            "_view_name": "StyleView",
            "description_width": ""
          }
        },
        "bdd20aafe6474e41a4c228976b47f315": {
          "model_module": "@jupyter-widgets/controls",
          "model_name": "HBoxModel",
          "state": {
            "_dom_classes": [],
            "_model_module": "@jupyter-widgets/controls",
            "_model_module_version": "1.5.0",
            "_model_name": "HBoxModel",
            "_view_count": null,
            "_view_module": "@jupyter-widgets/controls",
            "_view_module_version": "1.5.0",
            "_view_name": "HBoxView",
            "box_style": "",
            "children": [
              "IPY_MODEL_1f68ba42f2d440c4b5b9522e886cc82c",
              "IPY_MODEL_9fce3de4271f41fd80dcef5808e0bed9"
            ],
            "layout": "IPY_MODEL_c6d9b83582314d82a4e2f9571fb73b7f"
          }
        },
        "1f68ba42f2d440c4b5b9522e886cc82c": {
          "model_module": "@jupyter-widgets/controls",
          "model_name": "FloatProgressModel",
          "state": {
            "_dom_classes": [],
            "_model_module": "@jupyter-widgets/controls",
            "_model_module_version": "1.5.0",
            "_model_name": "FloatProgressModel",
            "_view_count": null,
            "_view_module": "@jupyter-widgets/controls",
            "_view_module_version": "1.5.0",
            "_view_name": "ProgressView",
            "bar_style": "info",
            "description": "Validating: 100%",
            "description_tooltip": null,
            "layout": "IPY_MODEL_8eeba69c9edf4caeb2a89f37fe9876b9",
            "max": 155,
            "min": 0,
            "orientation": "horizontal",
            "style": "IPY_MODEL_1e3e8eb7239049648d4287033788260b",
            "value": 155
          }
        },
        "9fce3de4271f41fd80dcef5808e0bed9": {
          "model_module": "@jupyter-widgets/controls",
          "model_name": "HTMLModel",
          "state": {
            "_dom_classes": [],
            "_model_module": "@jupyter-widgets/controls",
            "_model_module_version": "1.5.0",
            "_model_name": "HTMLModel",
            "_view_count": null,
            "_view_module": "@jupyter-widgets/controls",
            "_view_module_version": "1.5.0",
            "_view_name": "HTMLView",
            "description": "",
            "description_tooltip": null,
            "layout": "IPY_MODEL_cd38fe3a43884f0385b38b1fb16e7c3f",
            "placeholder": "​",
            "style": "IPY_MODEL_e4ba31997f3a4b4da382dc5efd37af1c",
            "value": " 155/155 [00:00&lt;00:00, 280.58it/s]"
          }
        },
        "c6d9b83582314d82a4e2f9571fb73b7f": {
          "model_module": "@jupyter-widgets/base",
          "model_name": "LayoutModel",
          "state": {
            "_model_module": "@jupyter-widgets/base",
            "_model_module_version": "1.2.0",
            "_model_name": "LayoutModel",
            "_view_count": null,
            "_view_module": "@jupyter-widgets/base",
            "_view_module_version": "1.2.0",
            "_view_name": "LayoutView",
            "align_content": null,
            "align_items": null,
            "align_self": null,
            "border": null,
            "bottom": null,
            "display": "inline-flex",
            "flex": null,
            "flex_flow": "row wrap",
            "grid_area": null,
            "grid_auto_columns": null,
            "grid_auto_flow": null,
            "grid_auto_rows": null,
            "grid_column": null,
            "grid_gap": null,
            "grid_row": null,
            "grid_template_areas": null,
            "grid_template_columns": null,
            "grid_template_rows": null,
            "height": null,
            "justify_content": null,
            "justify_items": null,
            "left": null,
            "margin": null,
            "max_height": null,
            "max_width": null,
            "min_height": null,
            "min_width": null,
            "object_fit": null,
            "object_position": null,
            "order": null,
            "overflow": null,
            "overflow_x": null,
            "overflow_y": null,
            "padding": null,
            "right": null,
            "top": null,
            "visibility": null,
            "width": "100%"
          }
        },
        "8eeba69c9edf4caeb2a89f37fe9876b9": {
          "model_module": "@jupyter-widgets/base",
          "model_name": "LayoutModel",
          "state": {
            "_model_module": "@jupyter-widgets/base",
            "_model_module_version": "1.2.0",
            "_model_name": "LayoutModel",
            "_view_count": null,
            "_view_module": "@jupyter-widgets/base",
            "_view_module_version": "1.2.0",
            "_view_name": "LayoutView",
            "align_content": null,
            "align_items": null,
            "align_self": null,
            "border": null,
            "bottom": null,
            "display": null,
            "flex": "2",
            "flex_flow": null,
            "grid_area": null,
            "grid_auto_columns": null,
            "grid_auto_flow": null,
            "grid_auto_rows": null,
            "grid_column": null,
            "grid_gap": null,
            "grid_row": null,
            "grid_template_areas": null,
            "grid_template_columns": null,
            "grid_template_rows": null,
            "height": null,
            "justify_content": null,
            "justify_items": null,
            "left": null,
            "margin": null,
            "max_height": null,
            "max_width": null,
            "min_height": null,
            "min_width": null,
            "object_fit": null,
            "object_position": null,
            "order": null,
            "overflow": null,
            "overflow_x": null,
            "overflow_y": null,
            "padding": null,
            "right": null,
            "top": null,
            "visibility": null,
            "width": null
          }
        },
        "1e3e8eb7239049648d4287033788260b": {
          "model_module": "@jupyter-widgets/controls",
          "model_name": "ProgressStyleModel",
          "state": {
            "_model_module": "@jupyter-widgets/controls",
            "_model_module_version": "1.5.0",
            "_model_name": "ProgressStyleModel",
            "_view_count": null,
            "_view_module": "@jupyter-widgets/base",
            "_view_module_version": "1.2.0",
            "_view_name": "StyleView",
            "bar_color": null,
            "description_width": "initial"
          }
        },
        "cd38fe3a43884f0385b38b1fb16e7c3f": {
          "model_module": "@jupyter-widgets/base",
          "model_name": "LayoutModel",
          "state": {
            "_model_module": "@jupyter-widgets/base",
            "_model_module_version": "1.2.0",
            "_model_name": "LayoutModel",
            "_view_count": null,
            "_view_module": "@jupyter-widgets/base",
            "_view_module_version": "1.2.0",
            "_view_name": "LayoutView",
            "align_content": null,
            "align_items": null,
            "align_self": null,
            "border": null,
            "bottom": null,
            "display": null,
            "flex": null,
            "flex_flow": null,
            "grid_area": null,
            "grid_auto_columns": null,
            "grid_auto_flow": null,
            "grid_auto_rows": null,
            "grid_column": null,
            "grid_gap": null,
            "grid_row": null,
            "grid_template_areas": null,
            "grid_template_columns": null,
            "grid_template_rows": null,
            "height": null,
            "justify_content": null,
            "justify_items": null,
            "left": null,
            "margin": null,
            "max_height": null,
            "max_width": null,
            "min_height": null,
            "min_width": null,
            "object_fit": null,
            "object_position": null,
            "order": null,
            "overflow": null,
            "overflow_x": null,
            "overflow_y": null,
            "padding": null,
            "right": null,
            "top": null,
            "visibility": null,
            "width": null
          }
        },
        "e4ba31997f3a4b4da382dc5efd37af1c": {
          "model_module": "@jupyter-widgets/controls",
          "model_name": "DescriptionStyleModel",
          "state": {
            "_model_module": "@jupyter-widgets/controls",
            "_model_module_version": "1.5.0",
            "_model_name": "DescriptionStyleModel",
            "_view_count": null,
            "_view_module": "@jupyter-widgets/base",
            "_view_module_version": "1.2.0",
            "_view_name": "StyleView",
            "description_width": ""
          }
        },
        "ddf2296131f548cf8fe67d2055428549": {
          "model_module": "@jupyter-widgets/controls",
          "model_name": "HBoxModel",
          "state": {
            "_dom_classes": [],
            "_model_module": "@jupyter-widgets/controls",
            "_model_module_version": "1.5.0",
            "_model_name": "HBoxModel",
            "_view_count": null,
            "_view_module": "@jupyter-widgets/controls",
            "_view_module_version": "1.5.0",
            "_view_name": "HBoxView",
            "box_style": "",
            "children": [
              "IPY_MODEL_99f212da25c445fbae6c798b4c7d305f",
              "IPY_MODEL_c4af9404ff6446d086a0149cac98d4cf"
            ],
            "layout": "IPY_MODEL_8b4afb916cf64689b99f9efae286ffa8"
          }
        },
        "99f212da25c445fbae6c798b4c7d305f": {
          "model_module": "@jupyter-widgets/controls",
          "model_name": "FloatProgressModel",
          "state": {
            "_dom_classes": [],
            "_model_module": "@jupyter-widgets/controls",
            "_model_module_version": "1.5.0",
            "_model_name": "FloatProgressModel",
            "_view_count": null,
            "_view_module": "@jupyter-widgets/controls",
            "_view_module_version": "1.5.0",
            "_view_name": "ProgressView",
            "bar_style": "info",
            "description": "Validating: 100%",
            "description_tooltip": null,
            "layout": "IPY_MODEL_1c6a830cc1264c20a10a070bc17f8e80",
            "max": 155,
            "min": 0,
            "orientation": "horizontal",
            "style": "IPY_MODEL_d34431dd336d4c42adeaf08c48ff8bcd",
            "value": 155
          }
        },
        "c4af9404ff6446d086a0149cac98d4cf": {
          "model_module": "@jupyter-widgets/controls",
          "model_name": "HTMLModel",
          "state": {
            "_dom_classes": [],
            "_model_module": "@jupyter-widgets/controls",
            "_model_module_version": "1.5.0",
            "_model_name": "HTMLModel",
            "_view_count": null,
            "_view_module": "@jupyter-widgets/controls",
            "_view_module_version": "1.5.0",
            "_view_name": "HTMLView",
            "description": "",
            "description_tooltip": null,
            "layout": "IPY_MODEL_dabf8e39f68d48f0aa83e2fa7414b2d9",
            "placeholder": "​",
            "style": "IPY_MODEL_e0903360024844f2970e00c46395f2e6",
            "value": " 155/155 [00:00&lt;00:00, 278.46it/s]"
          }
        },
        "8b4afb916cf64689b99f9efae286ffa8": {
          "model_module": "@jupyter-widgets/base",
          "model_name": "LayoutModel",
          "state": {
            "_model_module": "@jupyter-widgets/base",
            "_model_module_version": "1.2.0",
            "_model_name": "LayoutModel",
            "_view_count": null,
            "_view_module": "@jupyter-widgets/base",
            "_view_module_version": "1.2.0",
            "_view_name": "LayoutView",
            "align_content": null,
            "align_items": null,
            "align_self": null,
            "border": null,
            "bottom": null,
            "display": "inline-flex",
            "flex": null,
            "flex_flow": "row wrap",
            "grid_area": null,
            "grid_auto_columns": null,
            "grid_auto_flow": null,
            "grid_auto_rows": null,
            "grid_column": null,
            "grid_gap": null,
            "grid_row": null,
            "grid_template_areas": null,
            "grid_template_columns": null,
            "grid_template_rows": null,
            "height": null,
            "justify_content": null,
            "justify_items": null,
            "left": null,
            "margin": null,
            "max_height": null,
            "max_width": null,
            "min_height": null,
            "min_width": null,
            "object_fit": null,
            "object_position": null,
            "order": null,
            "overflow": null,
            "overflow_x": null,
            "overflow_y": null,
            "padding": null,
            "right": null,
            "top": null,
            "visibility": null,
            "width": "100%"
          }
        },
        "1c6a830cc1264c20a10a070bc17f8e80": {
          "model_module": "@jupyter-widgets/base",
          "model_name": "LayoutModel",
          "state": {
            "_model_module": "@jupyter-widgets/base",
            "_model_module_version": "1.2.0",
            "_model_name": "LayoutModel",
            "_view_count": null,
            "_view_module": "@jupyter-widgets/base",
            "_view_module_version": "1.2.0",
            "_view_name": "LayoutView",
            "align_content": null,
            "align_items": null,
            "align_self": null,
            "border": null,
            "bottom": null,
            "display": null,
            "flex": "2",
            "flex_flow": null,
            "grid_area": null,
            "grid_auto_columns": null,
            "grid_auto_flow": null,
            "grid_auto_rows": null,
            "grid_column": null,
            "grid_gap": null,
            "grid_row": null,
            "grid_template_areas": null,
            "grid_template_columns": null,
            "grid_template_rows": null,
            "height": null,
            "justify_content": null,
            "justify_items": null,
            "left": null,
            "margin": null,
            "max_height": null,
            "max_width": null,
            "min_height": null,
            "min_width": null,
            "object_fit": null,
            "object_position": null,
            "order": null,
            "overflow": null,
            "overflow_x": null,
            "overflow_y": null,
            "padding": null,
            "right": null,
            "top": null,
            "visibility": null,
            "width": null
          }
        },
        "d34431dd336d4c42adeaf08c48ff8bcd": {
          "model_module": "@jupyter-widgets/controls",
          "model_name": "ProgressStyleModel",
          "state": {
            "_model_module": "@jupyter-widgets/controls",
            "_model_module_version": "1.5.0",
            "_model_name": "ProgressStyleModel",
            "_view_count": null,
            "_view_module": "@jupyter-widgets/base",
            "_view_module_version": "1.2.0",
            "_view_name": "StyleView",
            "bar_color": null,
            "description_width": "initial"
          }
        },
        "dabf8e39f68d48f0aa83e2fa7414b2d9": {
          "model_module": "@jupyter-widgets/base",
          "model_name": "LayoutModel",
          "state": {
            "_model_module": "@jupyter-widgets/base",
            "_model_module_version": "1.2.0",
            "_model_name": "LayoutModel",
            "_view_count": null,
            "_view_module": "@jupyter-widgets/base",
            "_view_module_version": "1.2.0",
            "_view_name": "LayoutView",
            "align_content": null,
            "align_items": null,
            "align_self": null,
            "border": null,
            "bottom": null,
            "display": null,
            "flex": null,
            "flex_flow": null,
            "grid_area": null,
            "grid_auto_columns": null,
            "grid_auto_flow": null,
            "grid_auto_rows": null,
            "grid_column": null,
            "grid_gap": null,
            "grid_row": null,
            "grid_template_areas": null,
            "grid_template_columns": null,
            "grid_template_rows": null,
            "height": null,
            "justify_content": null,
            "justify_items": null,
            "left": null,
            "margin": null,
            "max_height": null,
            "max_width": null,
            "min_height": null,
            "min_width": null,
            "object_fit": null,
            "object_position": null,
            "order": null,
            "overflow": null,
            "overflow_x": null,
            "overflow_y": null,
            "padding": null,
            "right": null,
            "top": null,
            "visibility": null,
            "width": null
          }
        },
        "e0903360024844f2970e00c46395f2e6": {
          "model_module": "@jupyter-widgets/controls",
          "model_name": "DescriptionStyleModel",
          "state": {
            "_model_module": "@jupyter-widgets/controls",
            "_model_module_version": "1.5.0",
            "_model_name": "DescriptionStyleModel",
            "_view_count": null,
            "_view_module": "@jupyter-widgets/base",
            "_view_module_version": "1.2.0",
            "_view_name": "StyleView",
            "description_width": ""
          }
        },
        "c1b1ba446b014a0ea8ea68d02c49a13f": {
          "model_module": "@jupyter-widgets/controls",
          "model_name": "HBoxModel",
          "state": {
            "_dom_classes": [],
            "_model_module": "@jupyter-widgets/controls",
            "_model_module_version": "1.5.0",
            "_model_name": "HBoxModel",
            "_view_count": null,
            "_view_module": "@jupyter-widgets/controls",
            "_view_module_version": "1.5.0",
            "_view_name": "HBoxView",
            "box_style": "",
            "children": [
              "IPY_MODEL_4874ac9dc6d245bab04f8ad8f76fcb5e",
              "IPY_MODEL_f5051891bfcd49b49c5c1bbdc1bf227d"
            ],
            "layout": "IPY_MODEL_bb6fcee01ac148f881820e42fcaddc11"
          }
        },
        "4874ac9dc6d245bab04f8ad8f76fcb5e": {
          "model_module": "@jupyter-widgets/controls",
          "model_name": "FloatProgressModel",
          "state": {
            "_dom_classes": [],
            "_model_module": "@jupyter-widgets/controls",
            "_model_module_version": "1.5.0",
            "_model_name": "FloatProgressModel",
            "_view_count": null,
            "_view_module": "@jupyter-widgets/controls",
            "_view_module_version": "1.5.0",
            "_view_name": "ProgressView",
            "bar_style": "info",
            "description": "Validating: 100%",
            "description_tooltip": null,
            "layout": "IPY_MODEL_7d607f6fce3f43d39b34bde95b233d78",
            "max": 155,
            "min": 0,
            "orientation": "horizontal",
            "style": "IPY_MODEL_ab6976f66d584d5bb9bc30a7a9bef9aa",
            "value": 155
          }
        },
        "f5051891bfcd49b49c5c1bbdc1bf227d": {
          "model_module": "@jupyter-widgets/controls",
          "model_name": "HTMLModel",
          "state": {
            "_dom_classes": [],
            "_model_module": "@jupyter-widgets/controls",
            "_model_module_version": "1.5.0",
            "_model_name": "HTMLModel",
            "_view_count": null,
            "_view_module": "@jupyter-widgets/controls",
            "_view_module_version": "1.5.0",
            "_view_name": "HTMLView",
            "description": "",
            "description_tooltip": null,
            "layout": "IPY_MODEL_7e4bd5c2503f47279dcf1dceeabff6a6",
            "placeholder": "​",
            "style": "IPY_MODEL_9f03c2f5d5a143ebb8b676356274c03b",
            "value": " 155/155 [00:00&lt;00:00, 293.62it/s]"
          }
        },
        "bb6fcee01ac148f881820e42fcaddc11": {
          "model_module": "@jupyter-widgets/base",
          "model_name": "LayoutModel",
          "state": {
            "_model_module": "@jupyter-widgets/base",
            "_model_module_version": "1.2.0",
            "_model_name": "LayoutModel",
            "_view_count": null,
            "_view_module": "@jupyter-widgets/base",
            "_view_module_version": "1.2.0",
            "_view_name": "LayoutView",
            "align_content": null,
            "align_items": null,
            "align_self": null,
            "border": null,
            "bottom": null,
            "display": "inline-flex",
            "flex": null,
            "flex_flow": "row wrap",
            "grid_area": null,
            "grid_auto_columns": null,
            "grid_auto_flow": null,
            "grid_auto_rows": null,
            "grid_column": null,
            "grid_gap": null,
            "grid_row": null,
            "grid_template_areas": null,
            "grid_template_columns": null,
            "grid_template_rows": null,
            "height": null,
            "justify_content": null,
            "justify_items": null,
            "left": null,
            "margin": null,
            "max_height": null,
            "max_width": null,
            "min_height": null,
            "min_width": null,
            "object_fit": null,
            "object_position": null,
            "order": null,
            "overflow": null,
            "overflow_x": null,
            "overflow_y": null,
            "padding": null,
            "right": null,
            "top": null,
            "visibility": null,
            "width": "100%"
          }
        },
        "7d607f6fce3f43d39b34bde95b233d78": {
          "model_module": "@jupyter-widgets/base",
          "model_name": "LayoutModel",
          "state": {
            "_model_module": "@jupyter-widgets/base",
            "_model_module_version": "1.2.0",
            "_model_name": "LayoutModel",
            "_view_count": null,
            "_view_module": "@jupyter-widgets/base",
            "_view_module_version": "1.2.0",
            "_view_name": "LayoutView",
            "align_content": null,
            "align_items": null,
            "align_self": null,
            "border": null,
            "bottom": null,
            "display": null,
            "flex": "2",
            "flex_flow": null,
            "grid_area": null,
            "grid_auto_columns": null,
            "grid_auto_flow": null,
            "grid_auto_rows": null,
            "grid_column": null,
            "grid_gap": null,
            "grid_row": null,
            "grid_template_areas": null,
            "grid_template_columns": null,
            "grid_template_rows": null,
            "height": null,
            "justify_content": null,
            "justify_items": null,
            "left": null,
            "margin": null,
            "max_height": null,
            "max_width": null,
            "min_height": null,
            "min_width": null,
            "object_fit": null,
            "object_position": null,
            "order": null,
            "overflow": null,
            "overflow_x": null,
            "overflow_y": null,
            "padding": null,
            "right": null,
            "top": null,
            "visibility": null,
            "width": null
          }
        },
        "ab6976f66d584d5bb9bc30a7a9bef9aa": {
          "model_module": "@jupyter-widgets/controls",
          "model_name": "ProgressStyleModel",
          "state": {
            "_model_module": "@jupyter-widgets/controls",
            "_model_module_version": "1.5.0",
            "_model_name": "ProgressStyleModel",
            "_view_count": null,
            "_view_module": "@jupyter-widgets/base",
            "_view_module_version": "1.2.0",
            "_view_name": "StyleView",
            "bar_color": null,
            "description_width": "initial"
          }
        },
        "7e4bd5c2503f47279dcf1dceeabff6a6": {
          "model_module": "@jupyter-widgets/base",
          "model_name": "LayoutModel",
          "state": {
            "_model_module": "@jupyter-widgets/base",
            "_model_module_version": "1.2.0",
            "_model_name": "LayoutModel",
            "_view_count": null,
            "_view_module": "@jupyter-widgets/base",
            "_view_module_version": "1.2.0",
            "_view_name": "LayoutView",
            "align_content": null,
            "align_items": null,
            "align_self": null,
            "border": null,
            "bottom": null,
            "display": null,
            "flex": null,
            "flex_flow": null,
            "grid_area": null,
            "grid_auto_columns": null,
            "grid_auto_flow": null,
            "grid_auto_rows": null,
            "grid_column": null,
            "grid_gap": null,
            "grid_row": null,
            "grid_template_areas": null,
            "grid_template_columns": null,
            "grid_template_rows": null,
            "height": null,
            "justify_content": null,
            "justify_items": null,
            "left": null,
            "margin": null,
            "max_height": null,
            "max_width": null,
            "min_height": null,
            "min_width": null,
            "object_fit": null,
            "object_position": null,
            "order": null,
            "overflow": null,
            "overflow_x": null,
            "overflow_y": null,
            "padding": null,
            "right": null,
            "top": null,
            "visibility": null,
            "width": null
          }
        },
        "9f03c2f5d5a143ebb8b676356274c03b": {
          "model_module": "@jupyter-widgets/controls",
          "model_name": "DescriptionStyleModel",
          "state": {
            "_model_module": "@jupyter-widgets/controls",
            "_model_module_version": "1.5.0",
            "_model_name": "DescriptionStyleModel",
            "_view_count": null,
            "_view_module": "@jupyter-widgets/base",
            "_view_module_version": "1.2.0",
            "_view_name": "StyleView",
            "description_width": ""
          }
        },
        "abcf5471855e4f03914176936b82425f": {
          "model_module": "@jupyter-widgets/controls",
          "model_name": "HBoxModel",
          "state": {
            "_dom_classes": [],
            "_model_module": "@jupyter-widgets/controls",
            "_model_module_version": "1.5.0",
            "_model_name": "HBoxModel",
            "_view_count": null,
            "_view_module": "@jupyter-widgets/controls",
            "_view_module_version": "1.5.0",
            "_view_name": "HBoxView",
            "box_style": "",
            "children": [
              "IPY_MODEL_0cc93d45ae264d2897851abf4930c2d8",
              "IPY_MODEL_cddd8a08dd8d446a8a8a144522af5308"
            ],
            "layout": "IPY_MODEL_601328e8b4014a52bc5a176889d8c920"
          }
        },
        "0cc93d45ae264d2897851abf4930c2d8": {
          "model_module": "@jupyter-widgets/controls",
          "model_name": "FloatProgressModel",
          "state": {
            "_dom_classes": [],
            "_model_module": "@jupyter-widgets/controls",
            "_model_module_version": "1.5.0",
            "_model_name": "FloatProgressModel",
            "_view_count": null,
            "_view_module": "@jupyter-widgets/controls",
            "_view_module_version": "1.5.0",
            "_view_name": "ProgressView",
            "bar_style": "info",
            "description": "Validating: 100%",
            "description_tooltip": null,
            "layout": "IPY_MODEL_575f2120a92a49fcbeaead513f0ed50b",
            "max": 155,
            "min": 0,
            "orientation": "horizontal",
            "style": "IPY_MODEL_f0da6d35edfb485ab72a11c7539a334b",
            "value": 155
          }
        },
        "cddd8a08dd8d446a8a8a144522af5308": {
          "model_module": "@jupyter-widgets/controls",
          "model_name": "HTMLModel",
          "state": {
            "_dom_classes": [],
            "_model_module": "@jupyter-widgets/controls",
            "_model_module_version": "1.5.0",
            "_model_name": "HTMLModel",
            "_view_count": null,
            "_view_module": "@jupyter-widgets/controls",
            "_view_module_version": "1.5.0",
            "_view_name": "HTMLView",
            "description": "",
            "description_tooltip": null,
            "layout": "IPY_MODEL_8875537d279e478a9c074613d3d1223c",
            "placeholder": "​",
            "style": "IPY_MODEL_8b93cff1cf9e417088af82616f06aadc",
            "value": " 155/155 [00:00&lt;00:00, 285.08it/s]"
          }
        },
        "601328e8b4014a52bc5a176889d8c920": {
          "model_module": "@jupyter-widgets/base",
          "model_name": "LayoutModel",
          "state": {
            "_model_module": "@jupyter-widgets/base",
            "_model_module_version": "1.2.0",
            "_model_name": "LayoutModel",
            "_view_count": null,
            "_view_module": "@jupyter-widgets/base",
            "_view_module_version": "1.2.0",
            "_view_name": "LayoutView",
            "align_content": null,
            "align_items": null,
            "align_self": null,
            "border": null,
            "bottom": null,
            "display": "inline-flex",
            "flex": null,
            "flex_flow": "row wrap",
            "grid_area": null,
            "grid_auto_columns": null,
            "grid_auto_flow": null,
            "grid_auto_rows": null,
            "grid_column": null,
            "grid_gap": null,
            "grid_row": null,
            "grid_template_areas": null,
            "grid_template_columns": null,
            "grid_template_rows": null,
            "height": null,
            "justify_content": null,
            "justify_items": null,
            "left": null,
            "margin": null,
            "max_height": null,
            "max_width": null,
            "min_height": null,
            "min_width": null,
            "object_fit": null,
            "object_position": null,
            "order": null,
            "overflow": null,
            "overflow_x": null,
            "overflow_y": null,
            "padding": null,
            "right": null,
            "top": null,
            "visibility": null,
            "width": "100%"
          }
        },
        "575f2120a92a49fcbeaead513f0ed50b": {
          "model_module": "@jupyter-widgets/base",
          "model_name": "LayoutModel",
          "state": {
            "_model_module": "@jupyter-widgets/base",
            "_model_module_version": "1.2.0",
            "_model_name": "LayoutModel",
            "_view_count": null,
            "_view_module": "@jupyter-widgets/base",
            "_view_module_version": "1.2.0",
            "_view_name": "LayoutView",
            "align_content": null,
            "align_items": null,
            "align_self": null,
            "border": null,
            "bottom": null,
            "display": null,
            "flex": "2",
            "flex_flow": null,
            "grid_area": null,
            "grid_auto_columns": null,
            "grid_auto_flow": null,
            "grid_auto_rows": null,
            "grid_column": null,
            "grid_gap": null,
            "grid_row": null,
            "grid_template_areas": null,
            "grid_template_columns": null,
            "grid_template_rows": null,
            "height": null,
            "justify_content": null,
            "justify_items": null,
            "left": null,
            "margin": null,
            "max_height": null,
            "max_width": null,
            "min_height": null,
            "min_width": null,
            "object_fit": null,
            "object_position": null,
            "order": null,
            "overflow": null,
            "overflow_x": null,
            "overflow_y": null,
            "padding": null,
            "right": null,
            "top": null,
            "visibility": null,
            "width": null
          }
        },
        "f0da6d35edfb485ab72a11c7539a334b": {
          "model_module": "@jupyter-widgets/controls",
          "model_name": "ProgressStyleModel",
          "state": {
            "_model_module": "@jupyter-widgets/controls",
            "_model_module_version": "1.5.0",
            "_model_name": "ProgressStyleModel",
            "_view_count": null,
            "_view_module": "@jupyter-widgets/base",
            "_view_module_version": "1.2.0",
            "_view_name": "StyleView",
            "bar_color": null,
            "description_width": "initial"
          }
        },
        "8875537d279e478a9c074613d3d1223c": {
          "model_module": "@jupyter-widgets/base",
          "model_name": "LayoutModel",
          "state": {
            "_model_module": "@jupyter-widgets/base",
            "_model_module_version": "1.2.0",
            "_model_name": "LayoutModel",
            "_view_count": null,
            "_view_module": "@jupyter-widgets/base",
            "_view_module_version": "1.2.0",
            "_view_name": "LayoutView",
            "align_content": null,
            "align_items": null,
            "align_self": null,
            "border": null,
            "bottom": null,
            "display": null,
            "flex": null,
            "flex_flow": null,
            "grid_area": null,
            "grid_auto_columns": null,
            "grid_auto_flow": null,
            "grid_auto_rows": null,
            "grid_column": null,
            "grid_gap": null,
            "grid_row": null,
            "grid_template_areas": null,
            "grid_template_columns": null,
            "grid_template_rows": null,
            "height": null,
            "justify_content": null,
            "justify_items": null,
            "left": null,
            "margin": null,
            "max_height": null,
            "max_width": null,
            "min_height": null,
            "min_width": null,
            "object_fit": null,
            "object_position": null,
            "order": null,
            "overflow": null,
            "overflow_x": null,
            "overflow_y": null,
            "padding": null,
            "right": null,
            "top": null,
            "visibility": null,
            "width": null
          }
        },
        "8b93cff1cf9e417088af82616f06aadc": {
          "model_module": "@jupyter-widgets/controls",
          "model_name": "DescriptionStyleModel",
          "state": {
            "_model_module": "@jupyter-widgets/controls",
            "_model_module_version": "1.5.0",
            "_model_name": "DescriptionStyleModel",
            "_view_count": null,
            "_view_module": "@jupyter-widgets/base",
            "_view_module_version": "1.2.0",
            "_view_name": "StyleView",
            "description_width": ""
          }
        },
        "b9bd5f66453d45ca8936e142fb55c0a4": {
          "model_module": "@jupyter-widgets/controls",
          "model_name": "HBoxModel",
          "state": {
            "_dom_classes": [],
            "_model_module": "@jupyter-widgets/controls",
            "_model_module_version": "1.5.0",
            "_model_name": "HBoxModel",
            "_view_count": null,
            "_view_module": "@jupyter-widgets/controls",
            "_view_module_version": "1.5.0",
            "_view_name": "HBoxView",
            "box_style": "",
            "children": [
              "IPY_MODEL_23cdce581f5b4ab1a954f9a1d063b524",
              "IPY_MODEL_4f689654ff694de48a504a77fd8e4a04"
            ],
            "layout": "IPY_MODEL_b3d3b242ff8f4c61afa597ed1f3a98b8"
          }
        },
        "23cdce581f5b4ab1a954f9a1d063b524": {
          "model_module": "@jupyter-widgets/controls",
          "model_name": "FloatProgressModel",
          "state": {
            "_dom_classes": [],
            "_model_module": "@jupyter-widgets/controls",
            "_model_module_version": "1.5.0",
            "_model_name": "FloatProgressModel",
            "_view_count": null,
            "_view_module": "@jupyter-widgets/controls",
            "_view_module_version": "1.5.0",
            "_view_name": "ProgressView",
            "bar_style": "info",
            "description": "Validating: 100%",
            "description_tooltip": null,
            "layout": "IPY_MODEL_8f5ab2b9924841a7b83f844c8b0d027b",
            "max": 155,
            "min": 0,
            "orientation": "horizontal",
            "style": "IPY_MODEL_69df37871c5d4eee86d21aa10727dde9",
            "value": 155
          }
        },
        "4f689654ff694de48a504a77fd8e4a04": {
          "model_module": "@jupyter-widgets/controls",
          "model_name": "HTMLModel",
          "state": {
            "_dom_classes": [],
            "_model_module": "@jupyter-widgets/controls",
            "_model_module_version": "1.5.0",
            "_model_name": "HTMLModel",
            "_view_count": null,
            "_view_module": "@jupyter-widgets/controls",
            "_view_module_version": "1.5.0",
            "_view_name": "HTMLView",
            "description": "",
            "description_tooltip": null,
            "layout": "IPY_MODEL_83638565f4ae4a13ad353b36e355ea2b",
            "placeholder": "​",
            "style": "IPY_MODEL_5b3a42802bbb47dfa6d75d4345798453",
            "value": " 155/155 [00:00&lt;00:00, 281.83it/s]"
          }
        },
        "b3d3b242ff8f4c61afa597ed1f3a98b8": {
          "model_module": "@jupyter-widgets/base",
          "model_name": "LayoutModel",
          "state": {
            "_model_module": "@jupyter-widgets/base",
            "_model_module_version": "1.2.0",
            "_model_name": "LayoutModel",
            "_view_count": null,
            "_view_module": "@jupyter-widgets/base",
            "_view_module_version": "1.2.0",
            "_view_name": "LayoutView",
            "align_content": null,
            "align_items": null,
            "align_self": null,
            "border": null,
            "bottom": null,
            "display": "inline-flex",
            "flex": null,
            "flex_flow": "row wrap",
            "grid_area": null,
            "grid_auto_columns": null,
            "grid_auto_flow": null,
            "grid_auto_rows": null,
            "grid_column": null,
            "grid_gap": null,
            "grid_row": null,
            "grid_template_areas": null,
            "grid_template_columns": null,
            "grid_template_rows": null,
            "height": null,
            "justify_content": null,
            "justify_items": null,
            "left": null,
            "margin": null,
            "max_height": null,
            "max_width": null,
            "min_height": null,
            "min_width": null,
            "object_fit": null,
            "object_position": null,
            "order": null,
            "overflow": null,
            "overflow_x": null,
            "overflow_y": null,
            "padding": null,
            "right": null,
            "top": null,
            "visibility": null,
            "width": "100%"
          }
        },
        "8f5ab2b9924841a7b83f844c8b0d027b": {
          "model_module": "@jupyter-widgets/base",
          "model_name": "LayoutModel",
          "state": {
            "_model_module": "@jupyter-widgets/base",
            "_model_module_version": "1.2.0",
            "_model_name": "LayoutModel",
            "_view_count": null,
            "_view_module": "@jupyter-widgets/base",
            "_view_module_version": "1.2.0",
            "_view_name": "LayoutView",
            "align_content": null,
            "align_items": null,
            "align_self": null,
            "border": null,
            "bottom": null,
            "display": null,
            "flex": "2",
            "flex_flow": null,
            "grid_area": null,
            "grid_auto_columns": null,
            "grid_auto_flow": null,
            "grid_auto_rows": null,
            "grid_column": null,
            "grid_gap": null,
            "grid_row": null,
            "grid_template_areas": null,
            "grid_template_columns": null,
            "grid_template_rows": null,
            "height": null,
            "justify_content": null,
            "justify_items": null,
            "left": null,
            "margin": null,
            "max_height": null,
            "max_width": null,
            "min_height": null,
            "min_width": null,
            "object_fit": null,
            "object_position": null,
            "order": null,
            "overflow": null,
            "overflow_x": null,
            "overflow_y": null,
            "padding": null,
            "right": null,
            "top": null,
            "visibility": null,
            "width": null
          }
        },
        "69df37871c5d4eee86d21aa10727dde9": {
          "model_module": "@jupyter-widgets/controls",
          "model_name": "ProgressStyleModel",
          "state": {
            "_model_module": "@jupyter-widgets/controls",
            "_model_module_version": "1.5.0",
            "_model_name": "ProgressStyleModel",
            "_view_count": null,
            "_view_module": "@jupyter-widgets/base",
            "_view_module_version": "1.2.0",
            "_view_name": "StyleView",
            "bar_color": null,
            "description_width": "initial"
          }
        },
        "83638565f4ae4a13ad353b36e355ea2b": {
          "model_module": "@jupyter-widgets/base",
          "model_name": "LayoutModel",
          "state": {
            "_model_module": "@jupyter-widgets/base",
            "_model_module_version": "1.2.0",
            "_model_name": "LayoutModel",
            "_view_count": null,
            "_view_module": "@jupyter-widgets/base",
            "_view_module_version": "1.2.0",
            "_view_name": "LayoutView",
            "align_content": null,
            "align_items": null,
            "align_self": null,
            "border": null,
            "bottom": null,
            "display": null,
            "flex": null,
            "flex_flow": null,
            "grid_area": null,
            "grid_auto_columns": null,
            "grid_auto_flow": null,
            "grid_auto_rows": null,
            "grid_column": null,
            "grid_gap": null,
            "grid_row": null,
            "grid_template_areas": null,
            "grid_template_columns": null,
            "grid_template_rows": null,
            "height": null,
            "justify_content": null,
            "justify_items": null,
            "left": null,
            "margin": null,
            "max_height": null,
            "max_width": null,
            "min_height": null,
            "min_width": null,
            "object_fit": null,
            "object_position": null,
            "order": null,
            "overflow": null,
            "overflow_x": null,
            "overflow_y": null,
            "padding": null,
            "right": null,
            "top": null,
            "visibility": null,
            "width": null
          }
        },
        "5b3a42802bbb47dfa6d75d4345798453": {
          "model_module": "@jupyter-widgets/controls",
          "model_name": "DescriptionStyleModel",
          "state": {
            "_model_module": "@jupyter-widgets/controls",
            "_model_module_version": "1.5.0",
            "_model_name": "DescriptionStyleModel",
            "_view_count": null,
            "_view_module": "@jupyter-widgets/base",
            "_view_module_version": "1.2.0",
            "_view_name": "StyleView",
            "description_width": ""
          }
        },
        "266ce1b79152407ea75623d0e52e1a21": {
          "model_module": "@jupyter-widgets/controls",
          "model_name": "HBoxModel",
          "state": {
            "_dom_classes": [],
            "_model_module": "@jupyter-widgets/controls",
            "_model_module_version": "1.5.0",
            "_model_name": "HBoxModel",
            "_view_count": null,
            "_view_module": "@jupyter-widgets/controls",
            "_view_module_version": "1.5.0",
            "_view_name": "HBoxView",
            "box_style": "",
            "children": [
              "IPY_MODEL_cf3edb6eb4b242c787dc131558fd96ca",
              "IPY_MODEL_a1076b64effd4537bad3f1a86acb37eb"
            ],
            "layout": "IPY_MODEL_c1a2bb662ab1465791f317159d47e0f7"
          }
        },
        "cf3edb6eb4b242c787dc131558fd96ca": {
          "model_module": "@jupyter-widgets/controls",
          "model_name": "FloatProgressModel",
          "state": {
            "_dom_classes": [],
            "_model_module": "@jupyter-widgets/controls",
            "_model_module_version": "1.5.0",
            "_model_name": "FloatProgressModel",
            "_view_count": null,
            "_view_module": "@jupyter-widgets/controls",
            "_view_module_version": "1.5.0",
            "_view_name": "ProgressView",
            "bar_style": "info",
            "description": "Validating: 100%",
            "description_tooltip": null,
            "layout": "IPY_MODEL_97eba6df315344e3b9e3d2ef345c5343",
            "max": 155,
            "min": 0,
            "orientation": "horizontal",
            "style": "IPY_MODEL_aaea81cfaef9406bafd41ce2e1fbae94",
            "value": 155
          }
        },
        "a1076b64effd4537bad3f1a86acb37eb": {
          "model_module": "@jupyter-widgets/controls",
          "model_name": "HTMLModel",
          "state": {
            "_dom_classes": [],
            "_model_module": "@jupyter-widgets/controls",
            "_model_module_version": "1.5.0",
            "_model_name": "HTMLModel",
            "_view_count": null,
            "_view_module": "@jupyter-widgets/controls",
            "_view_module_version": "1.5.0",
            "_view_name": "HTMLView",
            "description": "",
            "description_tooltip": null,
            "layout": "IPY_MODEL_856e5528c2a54f70beb545347a33e2b9",
            "placeholder": "​",
            "style": "IPY_MODEL_4e65cab0b175418b83f165300edf100e",
            "value": " 155/155 [00:00&lt;00:00, 282.55it/s]"
          }
        },
        "c1a2bb662ab1465791f317159d47e0f7": {
          "model_module": "@jupyter-widgets/base",
          "model_name": "LayoutModel",
          "state": {
            "_model_module": "@jupyter-widgets/base",
            "_model_module_version": "1.2.0",
            "_model_name": "LayoutModel",
            "_view_count": null,
            "_view_module": "@jupyter-widgets/base",
            "_view_module_version": "1.2.0",
            "_view_name": "LayoutView",
            "align_content": null,
            "align_items": null,
            "align_self": null,
            "border": null,
            "bottom": null,
            "display": "inline-flex",
            "flex": null,
            "flex_flow": "row wrap",
            "grid_area": null,
            "grid_auto_columns": null,
            "grid_auto_flow": null,
            "grid_auto_rows": null,
            "grid_column": null,
            "grid_gap": null,
            "grid_row": null,
            "grid_template_areas": null,
            "grid_template_columns": null,
            "grid_template_rows": null,
            "height": null,
            "justify_content": null,
            "justify_items": null,
            "left": null,
            "margin": null,
            "max_height": null,
            "max_width": null,
            "min_height": null,
            "min_width": null,
            "object_fit": null,
            "object_position": null,
            "order": null,
            "overflow": null,
            "overflow_x": null,
            "overflow_y": null,
            "padding": null,
            "right": null,
            "top": null,
            "visibility": null,
            "width": "100%"
          }
        },
        "97eba6df315344e3b9e3d2ef345c5343": {
          "model_module": "@jupyter-widgets/base",
          "model_name": "LayoutModel",
          "state": {
            "_model_module": "@jupyter-widgets/base",
            "_model_module_version": "1.2.0",
            "_model_name": "LayoutModel",
            "_view_count": null,
            "_view_module": "@jupyter-widgets/base",
            "_view_module_version": "1.2.0",
            "_view_name": "LayoutView",
            "align_content": null,
            "align_items": null,
            "align_self": null,
            "border": null,
            "bottom": null,
            "display": null,
            "flex": "2",
            "flex_flow": null,
            "grid_area": null,
            "grid_auto_columns": null,
            "grid_auto_flow": null,
            "grid_auto_rows": null,
            "grid_column": null,
            "grid_gap": null,
            "grid_row": null,
            "grid_template_areas": null,
            "grid_template_columns": null,
            "grid_template_rows": null,
            "height": null,
            "justify_content": null,
            "justify_items": null,
            "left": null,
            "margin": null,
            "max_height": null,
            "max_width": null,
            "min_height": null,
            "min_width": null,
            "object_fit": null,
            "object_position": null,
            "order": null,
            "overflow": null,
            "overflow_x": null,
            "overflow_y": null,
            "padding": null,
            "right": null,
            "top": null,
            "visibility": null,
            "width": null
          }
        },
        "aaea81cfaef9406bafd41ce2e1fbae94": {
          "model_module": "@jupyter-widgets/controls",
          "model_name": "ProgressStyleModel",
          "state": {
            "_model_module": "@jupyter-widgets/controls",
            "_model_module_version": "1.5.0",
            "_model_name": "ProgressStyleModel",
            "_view_count": null,
            "_view_module": "@jupyter-widgets/base",
            "_view_module_version": "1.2.0",
            "_view_name": "StyleView",
            "bar_color": null,
            "description_width": "initial"
          }
        },
        "856e5528c2a54f70beb545347a33e2b9": {
          "model_module": "@jupyter-widgets/base",
          "model_name": "LayoutModel",
          "state": {
            "_model_module": "@jupyter-widgets/base",
            "_model_module_version": "1.2.0",
            "_model_name": "LayoutModel",
            "_view_count": null,
            "_view_module": "@jupyter-widgets/base",
            "_view_module_version": "1.2.0",
            "_view_name": "LayoutView",
            "align_content": null,
            "align_items": null,
            "align_self": null,
            "border": null,
            "bottom": null,
            "display": null,
            "flex": null,
            "flex_flow": null,
            "grid_area": null,
            "grid_auto_columns": null,
            "grid_auto_flow": null,
            "grid_auto_rows": null,
            "grid_column": null,
            "grid_gap": null,
            "grid_row": null,
            "grid_template_areas": null,
            "grid_template_columns": null,
            "grid_template_rows": null,
            "height": null,
            "justify_content": null,
            "justify_items": null,
            "left": null,
            "margin": null,
            "max_height": null,
            "max_width": null,
            "min_height": null,
            "min_width": null,
            "object_fit": null,
            "object_position": null,
            "order": null,
            "overflow": null,
            "overflow_x": null,
            "overflow_y": null,
            "padding": null,
            "right": null,
            "top": null,
            "visibility": null,
            "width": null
          }
        },
        "4e65cab0b175418b83f165300edf100e": {
          "model_module": "@jupyter-widgets/controls",
          "model_name": "DescriptionStyleModel",
          "state": {
            "_model_module": "@jupyter-widgets/controls",
            "_model_module_version": "1.5.0",
            "_model_name": "DescriptionStyleModel",
            "_view_count": null,
            "_view_module": "@jupyter-widgets/base",
            "_view_module_version": "1.2.0",
            "_view_name": "StyleView",
            "description_width": ""
          }
        },
        "1e3ff58bc6674dcfbd5a263aaf9376cb": {
          "model_module": "@jupyter-widgets/controls",
          "model_name": "HBoxModel",
          "state": {
            "_dom_classes": [],
            "_model_module": "@jupyter-widgets/controls",
            "_model_module_version": "1.5.0",
            "_model_name": "HBoxModel",
            "_view_count": null,
            "_view_module": "@jupyter-widgets/controls",
            "_view_module_version": "1.5.0",
            "_view_name": "HBoxView",
            "box_style": "",
            "children": [
              "IPY_MODEL_f573a5ef7a12420bb0bff01a218f1ca8",
              "IPY_MODEL_936ec6ef9e1a49c4b7cbc0482b50169c"
            ],
            "layout": "IPY_MODEL_4f37e7c0109646e0b62af644071cdf1b"
          }
        },
        "f573a5ef7a12420bb0bff01a218f1ca8": {
          "model_module": "@jupyter-widgets/controls",
          "model_name": "FloatProgressModel",
          "state": {
            "_dom_classes": [],
            "_model_module": "@jupyter-widgets/controls",
            "_model_module_version": "1.5.0",
            "_model_name": "FloatProgressModel",
            "_view_count": null,
            "_view_module": "@jupyter-widgets/controls",
            "_view_module_version": "1.5.0",
            "_view_name": "ProgressView",
            "bar_style": "info",
            "description": "Validating: 100%",
            "description_tooltip": null,
            "layout": "IPY_MODEL_e111ed520be449628cdb34bcd97049d6",
            "max": 155,
            "min": 0,
            "orientation": "horizontal",
            "style": "IPY_MODEL_3eff63d1fb36480b922813727a112ef7",
            "value": 155
          }
        },
        "936ec6ef9e1a49c4b7cbc0482b50169c": {
          "model_module": "@jupyter-widgets/controls",
          "model_name": "HTMLModel",
          "state": {
            "_dom_classes": [],
            "_model_module": "@jupyter-widgets/controls",
            "_model_module_version": "1.5.0",
            "_model_name": "HTMLModel",
            "_view_count": null,
            "_view_module": "@jupyter-widgets/controls",
            "_view_module_version": "1.5.0",
            "_view_name": "HTMLView",
            "description": "",
            "description_tooltip": null,
            "layout": "IPY_MODEL_11a4733f66014379ac52c5a8fe534205",
            "placeholder": "​",
            "style": "IPY_MODEL_9000cfcb23224135830e0d27f4ba672f",
            "value": " 155/155 [00:00&lt;00:00, 305.37it/s]"
          }
        },
        "4f37e7c0109646e0b62af644071cdf1b": {
          "model_module": "@jupyter-widgets/base",
          "model_name": "LayoutModel",
          "state": {
            "_model_module": "@jupyter-widgets/base",
            "_model_module_version": "1.2.0",
            "_model_name": "LayoutModel",
            "_view_count": null,
            "_view_module": "@jupyter-widgets/base",
            "_view_module_version": "1.2.0",
            "_view_name": "LayoutView",
            "align_content": null,
            "align_items": null,
            "align_self": null,
            "border": null,
            "bottom": null,
            "display": "inline-flex",
            "flex": null,
            "flex_flow": "row wrap",
            "grid_area": null,
            "grid_auto_columns": null,
            "grid_auto_flow": null,
            "grid_auto_rows": null,
            "grid_column": null,
            "grid_gap": null,
            "grid_row": null,
            "grid_template_areas": null,
            "grid_template_columns": null,
            "grid_template_rows": null,
            "height": null,
            "justify_content": null,
            "justify_items": null,
            "left": null,
            "margin": null,
            "max_height": null,
            "max_width": null,
            "min_height": null,
            "min_width": null,
            "object_fit": null,
            "object_position": null,
            "order": null,
            "overflow": null,
            "overflow_x": null,
            "overflow_y": null,
            "padding": null,
            "right": null,
            "top": null,
            "visibility": null,
            "width": "100%"
          }
        },
        "e111ed520be449628cdb34bcd97049d6": {
          "model_module": "@jupyter-widgets/base",
          "model_name": "LayoutModel",
          "state": {
            "_model_module": "@jupyter-widgets/base",
            "_model_module_version": "1.2.0",
            "_model_name": "LayoutModel",
            "_view_count": null,
            "_view_module": "@jupyter-widgets/base",
            "_view_module_version": "1.2.0",
            "_view_name": "LayoutView",
            "align_content": null,
            "align_items": null,
            "align_self": null,
            "border": null,
            "bottom": null,
            "display": null,
            "flex": "2",
            "flex_flow": null,
            "grid_area": null,
            "grid_auto_columns": null,
            "grid_auto_flow": null,
            "grid_auto_rows": null,
            "grid_column": null,
            "grid_gap": null,
            "grid_row": null,
            "grid_template_areas": null,
            "grid_template_columns": null,
            "grid_template_rows": null,
            "height": null,
            "justify_content": null,
            "justify_items": null,
            "left": null,
            "margin": null,
            "max_height": null,
            "max_width": null,
            "min_height": null,
            "min_width": null,
            "object_fit": null,
            "object_position": null,
            "order": null,
            "overflow": null,
            "overflow_x": null,
            "overflow_y": null,
            "padding": null,
            "right": null,
            "top": null,
            "visibility": null,
            "width": null
          }
        },
        "3eff63d1fb36480b922813727a112ef7": {
          "model_module": "@jupyter-widgets/controls",
          "model_name": "ProgressStyleModel",
          "state": {
            "_model_module": "@jupyter-widgets/controls",
            "_model_module_version": "1.5.0",
            "_model_name": "ProgressStyleModel",
            "_view_count": null,
            "_view_module": "@jupyter-widgets/base",
            "_view_module_version": "1.2.0",
            "_view_name": "StyleView",
            "bar_color": null,
            "description_width": "initial"
          }
        },
        "11a4733f66014379ac52c5a8fe534205": {
          "model_module": "@jupyter-widgets/base",
          "model_name": "LayoutModel",
          "state": {
            "_model_module": "@jupyter-widgets/base",
            "_model_module_version": "1.2.0",
            "_model_name": "LayoutModel",
            "_view_count": null,
            "_view_module": "@jupyter-widgets/base",
            "_view_module_version": "1.2.0",
            "_view_name": "LayoutView",
            "align_content": null,
            "align_items": null,
            "align_self": null,
            "border": null,
            "bottom": null,
            "display": null,
            "flex": null,
            "flex_flow": null,
            "grid_area": null,
            "grid_auto_columns": null,
            "grid_auto_flow": null,
            "grid_auto_rows": null,
            "grid_column": null,
            "grid_gap": null,
            "grid_row": null,
            "grid_template_areas": null,
            "grid_template_columns": null,
            "grid_template_rows": null,
            "height": null,
            "justify_content": null,
            "justify_items": null,
            "left": null,
            "margin": null,
            "max_height": null,
            "max_width": null,
            "min_height": null,
            "min_width": null,
            "object_fit": null,
            "object_position": null,
            "order": null,
            "overflow": null,
            "overflow_x": null,
            "overflow_y": null,
            "padding": null,
            "right": null,
            "top": null,
            "visibility": null,
            "width": null
          }
        },
        "9000cfcb23224135830e0d27f4ba672f": {
          "model_module": "@jupyter-widgets/controls",
          "model_name": "DescriptionStyleModel",
          "state": {
            "_model_module": "@jupyter-widgets/controls",
            "_model_module_version": "1.5.0",
            "_model_name": "DescriptionStyleModel",
            "_view_count": null,
            "_view_module": "@jupyter-widgets/base",
            "_view_module_version": "1.2.0",
            "_view_name": "StyleView",
            "description_width": ""
          }
        },
        "ec6709a921b1423ea181caf2ee061c57": {
          "model_module": "@jupyter-widgets/controls",
          "model_name": "HBoxModel",
          "state": {
            "_dom_classes": [],
            "_model_module": "@jupyter-widgets/controls",
            "_model_module_version": "1.5.0",
            "_model_name": "HBoxModel",
            "_view_count": null,
            "_view_module": "@jupyter-widgets/controls",
            "_view_module_version": "1.5.0",
            "_view_name": "HBoxView",
            "box_style": "",
            "children": [
              "IPY_MODEL_e6d65aaf60974b8489ef94e1a00a7ab3",
              "IPY_MODEL_b22137121ac94709803a598042d55bb0"
            ],
            "layout": "IPY_MODEL_d01fad5f9ed74857809310cb672704be"
          }
        },
        "e6d65aaf60974b8489ef94e1a00a7ab3": {
          "model_module": "@jupyter-widgets/controls",
          "model_name": "FloatProgressModel",
          "state": {
            "_dom_classes": [],
            "_model_module": "@jupyter-widgets/controls",
            "_model_module_version": "1.5.0",
            "_model_name": "FloatProgressModel",
            "_view_count": null,
            "_view_module": "@jupyter-widgets/controls",
            "_view_module_version": "1.5.0",
            "_view_name": "ProgressView",
            "bar_style": "info",
            "description": "Validating: 100%",
            "description_tooltip": null,
            "layout": "IPY_MODEL_9396035fc6ac42099f6660d1d5145b39",
            "max": 155,
            "min": 0,
            "orientation": "horizontal",
            "style": "IPY_MODEL_a3c746f4889f4f898e76c0563fd43fbc",
            "value": 155
          }
        },
        "b22137121ac94709803a598042d55bb0": {
          "model_module": "@jupyter-widgets/controls",
          "model_name": "HTMLModel",
          "state": {
            "_dom_classes": [],
            "_model_module": "@jupyter-widgets/controls",
            "_model_module_version": "1.5.0",
            "_model_name": "HTMLModel",
            "_view_count": null,
            "_view_module": "@jupyter-widgets/controls",
            "_view_module_version": "1.5.0",
            "_view_name": "HTMLView",
            "description": "",
            "description_tooltip": null,
            "layout": "IPY_MODEL_d22613763c954735a1aab638fb04b9f3",
            "placeholder": "​",
            "style": "IPY_MODEL_59b658e7e5cb4fc48ff349586cdde454",
            "value": " 155/155 [00:00&lt;00:00, 286.13it/s]"
          }
        },
        "d01fad5f9ed74857809310cb672704be": {
          "model_module": "@jupyter-widgets/base",
          "model_name": "LayoutModel",
          "state": {
            "_model_module": "@jupyter-widgets/base",
            "_model_module_version": "1.2.0",
            "_model_name": "LayoutModel",
            "_view_count": null,
            "_view_module": "@jupyter-widgets/base",
            "_view_module_version": "1.2.0",
            "_view_name": "LayoutView",
            "align_content": null,
            "align_items": null,
            "align_self": null,
            "border": null,
            "bottom": null,
            "display": "inline-flex",
            "flex": null,
            "flex_flow": "row wrap",
            "grid_area": null,
            "grid_auto_columns": null,
            "grid_auto_flow": null,
            "grid_auto_rows": null,
            "grid_column": null,
            "grid_gap": null,
            "grid_row": null,
            "grid_template_areas": null,
            "grid_template_columns": null,
            "grid_template_rows": null,
            "height": null,
            "justify_content": null,
            "justify_items": null,
            "left": null,
            "margin": null,
            "max_height": null,
            "max_width": null,
            "min_height": null,
            "min_width": null,
            "object_fit": null,
            "object_position": null,
            "order": null,
            "overflow": null,
            "overflow_x": null,
            "overflow_y": null,
            "padding": null,
            "right": null,
            "top": null,
            "visibility": null,
            "width": "100%"
          }
        },
        "9396035fc6ac42099f6660d1d5145b39": {
          "model_module": "@jupyter-widgets/base",
          "model_name": "LayoutModel",
          "state": {
            "_model_module": "@jupyter-widgets/base",
            "_model_module_version": "1.2.0",
            "_model_name": "LayoutModel",
            "_view_count": null,
            "_view_module": "@jupyter-widgets/base",
            "_view_module_version": "1.2.0",
            "_view_name": "LayoutView",
            "align_content": null,
            "align_items": null,
            "align_self": null,
            "border": null,
            "bottom": null,
            "display": null,
            "flex": "2",
            "flex_flow": null,
            "grid_area": null,
            "grid_auto_columns": null,
            "grid_auto_flow": null,
            "grid_auto_rows": null,
            "grid_column": null,
            "grid_gap": null,
            "grid_row": null,
            "grid_template_areas": null,
            "grid_template_columns": null,
            "grid_template_rows": null,
            "height": null,
            "justify_content": null,
            "justify_items": null,
            "left": null,
            "margin": null,
            "max_height": null,
            "max_width": null,
            "min_height": null,
            "min_width": null,
            "object_fit": null,
            "object_position": null,
            "order": null,
            "overflow": null,
            "overflow_x": null,
            "overflow_y": null,
            "padding": null,
            "right": null,
            "top": null,
            "visibility": null,
            "width": null
          }
        },
        "a3c746f4889f4f898e76c0563fd43fbc": {
          "model_module": "@jupyter-widgets/controls",
          "model_name": "ProgressStyleModel",
          "state": {
            "_model_module": "@jupyter-widgets/controls",
            "_model_module_version": "1.5.0",
            "_model_name": "ProgressStyleModel",
            "_view_count": null,
            "_view_module": "@jupyter-widgets/base",
            "_view_module_version": "1.2.0",
            "_view_name": "StyleView",
            "bar_color": null,
            "description_width": "initial"
          }
        },
        "d22613763c954735a1aab638fb04b9f3": {
          "model_module": "@jupyter-widgets/base",
          "model_name": "LayoutModel",
          "state": {
            "_model_module": "@jupyter-widgets/base",
            "_model_module_version": "1.2.0",
            "_model_name": "LayoutModel",
            "_view_count": null,
            "_view_module": "@jupyter-widgets/base",
            "_view_module_version": "1.2.0",
            "_view_name": "LayoutView",
            "align_content": null,
            "align_items": null,
            "align_self": null,
            "border": null,
            "bottom": null,
            "display": null,
            "flex": null,
            "flex_flow": null,
            "grid_area": null,
            "grid_auto_columns": null,
            "grid_auto_flow": null,
            "grid_auto_rows": null,
            "grid_column": null,
            "grid_gap": null,
            "grid_row": null,
            "grid_template_areas": null,
            "grid_template_columns": null,
            "grid_template_rows": null,
            "height": null,
            "justify_content": null,
            "justify_items": null,
            "left": null,
            "margin": null,
            "max_height": null,
            "max_width": null,
            "min_height": null,
            "min_width": null,
            "object_fit": null,
            "object_position": null,
            "order": null,
            "overflow": null,
            "overflow_x": null,
            "overflow_y": null,
            "padding": null,
            "right": null,
            "top": null,
            "visibility": null,
            "width": null
          }
        },
        "59b658e7e5cb4fc48ff349586cdde454": {
          "model_module": "@jupyter-widgets/controls",
          "model_name": "DescriptionStyleModel",
          "state": {
            "_model_module": "@jupyter-widgets/controls",
            "_model_module_version": "1.5.0",
            "_model_name": "DescriptionStyleModel",
            "_view_count": null,
            "_view_module": "@jupyter-widgets/base",
            "_view_module_version": "1.2.0",
            "_view_name": "StyleView",
            "description_width": ""
          }
        },
        "ef2895d7d87243d79e42f9747a3e76e5": {
          "model_module": "@jupyter-widgets/controls",
          "model_name": "HBoxModel",
          "state": {
            "_dom_classes": [],
            "_model_module": "@jupyter-widgets/controls",
            "_model_module_version": "1.5.0",
            "_model_name": "HBoxModel",
            "_view_count": null,
            "_view_module": "@jupyter-widgets/controls",
            "_view_module_version": "1.5.0",
            "_view_name": "HBoxView",
            "box_style": "",
            "children": [
              "IPY_MODEL_82e49424804d42d4a7dbe89f7b1b2bde",
              "IPY_MODEL_f67dee5976b04c999fd0a7b912e930bc"
            ],
            "layout": "IPY_MODEL_9cb6a59d36784e1cab78c0ae89975c43"
          }
        },
        "82e49424804d42d4a7dbe89f7b1b2bde": {
          "model_module": "@jupyter-widgets/controls",
          "model_name": "FloatProgressModel",
          "state": {
            "_dom_classes": [],
            "_model_module": "@jupyter-widgets/controls",
            "_model_module_version": "1.5.0",
            "_model_name": "FloatProgressModel",
            "_view_count": null,
            "_view_module": "@jupyter-widgets/controls",
            "_view_module_version": "1.5.0",
            "_view_name": "ProgressView",
            "bar_style": "info",
            "description": "Validating: 100%",
            "description_tooltip": null,
            "layout": "IPY_MODEL_57392911ec794e27b5be39eb26cded57",
            "max": 155,
            "min": 0,
            "orientation": "horizontal",
            "style": "IPY_MODEL_4c195c671f534dd5a6e7fd0d897c1f5b",
            "value": 155
          }
        },
        "f67dee5976b04c999fd0a7b912e930bc": {
          "model_module": "@jupyter-widgets/controls",
          "model_name": "HTMLModel",
          "state": {
            "_dom_classes": [],
            "_model_module": "@jupyter-widgets/controls",
            "_model_module_version": "1.5.0",
            "_model_name": "HTMLModel",
            "_view_count": null,
            "_view_module": "@jupyter-widgets/controls",
            "_view_module_version": "1.5.0",
            "_view_name": "HTMLView",
            "description": "",
            "description_tooltip": null,
            "layout": "IPY_MODEL_3f4de3e58a5d4f6fa16457b87efafc9a",
            "placeholder": "​",
            "style": "IPY_MODEL_c5673c04f7ac45ea8fbaf15aae4c7883",
            "value": " 155/155 [00:00&lt;00:00, 276.06it/s]"
          }
        },
        "9cb6a59d36784e1cab78c0ae89975c43": {
          "model_module": "@jupyter-widgets/base",
          "model_name": "LayoutModel",
          "state": {
            "_model_module": "@jupyter-widgets/base",
            "_model_module_version": "1.2.0",
            "_model_name": "LayoutModel",
            "_view_count": null,
            "_view_module": "@jupyter-widgets/base",
            "_view_module_version": "1.2.0",
            "_view_name": "LayoutView",
            "align_content": null,
            "align_items": null,
            "align_self": null,
            "border": null,
            "bottom": null,
            "display": "inline-flex",
            "flex": null,
            "flex_flow": "row wrap",
            "grid_area": null,
            "grid_auto_columns": null,
            "grid_auto_flow": null,
            "grid_auto_rows": null,
            "grid_column": null,
            "grid_gap": null,
            "grid_row": null,
            "grid_template_areas": null,
            "grid_template_columns": null,
            "grid_template_rows": null,
            "height": null,
            "justify_content": null,
            "justify_items": null,
            "left": null,
            "margin": null,
            "max_height": null,
            "max_width": null,
            "min_height": null,
            "min_width": null,
            "object_fit": null,
            "object_position": null,
            "order": null,
            "overflow": null,
            "overflow_x": null,
            "overflow_y": null,
            "padding": null,
            "right": null,
            "top": null,
            "visibility": null,
            "width": "100%"
          }
        },
        "57392911ec794e27b5be39eb26cded57": {
          "model_module": "@jupyter-widgets/base",
          "model_name": "LayoutModel",
          "state": {
            "_model_module": "@jupyter-widgets/base",
            "_model_module_version": "1.2.0",
            "_model_name": "LayoutModel",
            "_view_count": null,
            "_view_module": "@jupyter-widgets/base",
            "_view_module_version": "1.2.0",
            "_view_name": "LayoutView",
            "align_content": null,
            "align_items": null,
            "align_self": null,
            "border": null,
            "bottom": null,
            "display": null,
            "flex": "2",
            "flex_flow": null,
            "grid_area": null,
            "grid_auto_columns": null,
            "grid_auto_flow": null,
            "grid_auto_rows": null,
            "grid_column": null,
            "grid_gap": null,
            "grid_row": null,
            "grid_template_areas": null,
            "grid_template_columns": null,
            "grid_template_rows": null,
            "height": null,
            "justify_content": null,
            "justify_items": null,
            "left": null,
            "margin": null,
            "max_height": null,
            "max_width": null,
            "min_height": null,
            "min_width": null,
            "object_fit": null,
            "object_position": null,
            "order": null,
            "overflow": null,
            "overflow_x": null,
            "overflow_y": null,
            "padding": null,
            "right": null,
            "top": null,
            "visibility": null,
            "width": null
          }
        },
        "4c195c671f534dd5a6e7fd0d897c1f5b": {
          "model_module": "@jupyter-widgets/controls",
          "model_name": "ProgressStyleModel",
          "state": {
            "_model_module": "@jupyter-widgets/controls",
            "_model_module_version": "1.5.0",
            "_model_name": "ProgressStyleModel",
            "_view_count": null,
            "_view_module": "@jupyter-widgets/base",
            "_view_module_version": "1.2.0",
            "_view_name": "StyleView",
            "bar_color": null,
            "description_width": "initial"
          }
        },
        "3f4de3e58a5d4f6fa16457b87efafc9a": {
          "model_module": "@jupyter-widgets/base",
          "model_name": "LayoutModel",
          "state": {
            "_model_module": "@jupyter-widgets/base",
            "_model_module_version": "1.2.0",
            "_model_name": "LayoutModel",
            "_view_count": null,
            "_view_module": "@jupyter-widgets/base",
            "_view_module_version": "1.2.0",
            "_view_name": "LayoutView",
            "align_content": null,
            "align_items": null,
            "align_self": null,
            "border": null,
            "bottom": null,
            "display": null,
            "flex": null,
            "flex_flow": null,
            "grid_area": null,
            "grid_auto_columns": null,
            "grid_auto_flow": null,
            "grid_auto_rows": null,
            "grid_column": null,
            "grid_gap": null,
            "grid_row": null,
            "grid_template_areas": null,
            "grid_template_columns": null,
            "grid_template_rows": null,
            "height": null,
            "justify_content": null,
            "justify_items": null,
            "left": null,
            "margin": null,
            "max_height": null,
            "max_width": null,
            "min_height": null,
            "min_width": null,
            "object_fit": null,
            "object_position": null,
            "order": null,
            "overflow": null,
            "overflow_x": null,
            "overflow_y": null,
            "padding": null,
            "right": null,
            "top": null,
            "visibility": null,
            "width": null
          }
        },
        "c5673c04f7ac45ea8fbaf15aae4c7883": {
          "model_module": "@jupyter-widgets/controls",
          "model_name": "DescriptionStyleModel",
          "state": {
            "_model_module": "@jupyter-widgets/controls",
            "_model_module_version": "1.5.0",
            "_model_name": "DescriptionStyleModel",
            "_view_count": null,
            "_view_module": "@jupyter-widgets/base",
            "_view_module_version": "1.2.0",
            "_view_name": "StyleView",
            "description_width": ""
          }
        },
        "9b6eed9ff5fe48e5afec18c3e27398a3": {
          "model_module": "@jupyter-widgets/controls",
          "model_name": "HBoxModel",
          "state": {
            "_dom_classes": [],
            "_model_module": "@jupyter-widgets/controls",
            "_model_module_version": "1.5.0",
            "_model_name": "HBoxModel",
            "_view_count": null,
            "_view_module": "@jupyter-widgets/controls",
            "_view_module_version": "1.5.0",
            "_view_name": "HBoxView",
            "box_style": "",
            "children": [
              "IPY_MODEL_6d75843ad4334c5b9d3b2dedff5293cc",
              "IPY_MODEL_84e4ce946fee42969c01e88b6bc683fc"
            ],
            "layout": "IPY_MODEL_5c781b6a38254064a379e3d259eebee2"
          }
        },
        "6d75843ad4334c5b9d3b2dedff5293cc": {
          "model_module": "@jupyter-widgets/controls",
          "model_name": "FloatProgressModel",
          "state": {
            "_dom_classes": [],
            "_model_module": "@jupyter-widgets/controls",
            "_model_module_version": "1.5.0",
            "_model_name": "FloatProgressModel",
            "_view_count": null,
            "_view_module": "@jupyter-widgets/controls",
            "_view_module_version": "1.5.0",
            "_view_name": "ProgressView",
            "bar_style": "info",
            "description": "Validating: 100%",
            "description_tooltip": null,
            "layout": "IPY_MODEL_33f37b32db574ea990eabdeafb9be56c",
            "max": 155,
            "min": 0,
            "orientation": "horizontal",
            "style": "IPY_MODEL_fa2af913ff634a8d90d3fc3feeb4e5c9",
            "value": 155
          }
        },
        "84e4ce946fee42969c01e88b6bc683fc": {
          "model_module": "@jupyter-widgets/controls",
          "model_name": "HTMLModel",
          "state": {
            "_dom_classes": [],
            "_model_module": "@jupyter-widgets/controls",
            "_model_module_version": "1.5.0",
            "_model_name": "HTMLModel",
            "_view_count": null,
            "_view_module": "@jupyter-widgets/controls",
            "_view_module_version": "1.5.0",
            "_view_name": "HTMLView",
            "description": "",
            "description_tooltip": null,
            "layout": "IPY_MODEL_40ce0532d0cb400a89ff23c27aaa1c86",
            "placeholder": "​",
            "style": "IPY_MODEL_26bc9c58e11e4501afefdea1916b3fd1",
            "value": " 155/155 [00:00&lt;00:00, 266.27it/s]"
          }
        },
        "5c781b6a38254064a379e3d259eebee2": {
          "model_module": "@jupyter-widgets/base",
          "model_name": "LayoutModel",
          "state": {
            "_model_module": "@jupyter-widgets/base",
            "_model_module_version": "1.2.0",
            "_model_name": "LayoutModel",
            "_view_count": null,
            "_view_module": "@jupyter-widgets/base",
            "_view_module_version": "1.2.0",
            "_view_name": "LayoutView",
            "align_content": null,
            "align_items": null,
            "align_self": null,
            "border": null,
            "bottom": null,
            "display": "inline-flex",
            "flex": null,
            "flex_flow": "row wrap",
            "grid_area": null,
            "grid_auto_columns": null,
            "grid_auto_flow": null,
            "grid_auto_rows": null,
            "grid_column": null,
            "grid_gap": null,
            "grid_row": null,
            "grid_template_areas": null,
            "grid_template_columns": null,
            "grid_template_rows": null,
            "height": null,
            "justify_content": null,
            "justify_items": null,
            "left": null,
            "margin": null,
            "max_height": null,
            "max_width": null,
            "min_height": null,
            "min_width": null,
            "object_fit": null,
            "object_position": null,
            "order": null,
            "overflow": null,
            "overflow_x": null,
            "overflow_y": null,
            "padding": null,
            "right": null,
            "top": null,
            "visibility": null,
            "width": "100%"
          }
        },
        "33f37b32db574ea990eabdeafb9be56c": {
          "model_module": "@jupyter-widgets/base",
          "model_name": "LayoutModel",
          "state": {
            "_model_module": "@jupyter-widgets/base",
            "_model_module_version": "1.2.0",
            "_model_name": "LayoutModel",
            "_view_count": null,
            "_view_module": "@jupyter-widgets/base",
            "_view_module_version": "1.2.0",
            "_view_name": "LayoutView",
            "align_content": null,
            "align_items": null,
            "align_self": null,
            "border": null,
            "bottom": null,
            "display": null,
            "flex": "2",
            "flex_flow": null,
            "grid_area": null,
            "grid_auto_columns": null,
            "grid_auto_flow": null,
            "grid_auto_rows": null,
            "grid_column": null,
            "grid_gap": null,
            "grid_row": null,
            "grid_template_areas": null,
            "grid_template_columns": null,
            "grid_template_rows": null,
            "height": null,
            "justify_content": null,
            "justify_items": null,
            "left": null,
            "margin": null,
            "max_height": null,
            "max_width": null,
            "min_height": null,
            "min_width": null,
            "object_fit": null,
            "object_position": null,
            "order": null,
            "overflow": null,
            "overflow_x": null,
            "overflow_y": null,
            "padding": null,
            "right": null,
            "top": null,
            "visibility": null,
            "width": null
          }
        },
        "fa2af913ff634a8d90d3fc3feeb4e5c9": {
          "model_module": "@jupyter-widgets/controls",
          "model_name": "ProgressStyleModel",
          "state": {
            "_model_module": "@jupyter-widgets/controls",
            "_model_module_version": "1.5.0",
            "_model_name": "ProgressStyleModel",
            "_view_count": null,
            "_view_module": "@jupyter-widgets/base",
            "_view_module_version": "1.2.0",
            "_view_name": "StyleView",
            "bar_color": null,
            "description_width": "initial"
          }
        },
        "40ce0532d0cb400a89ff23c27aaa1c86": {
          "model_module": "@jupyter-widgets/base",
          "model_name": "LayoutModel",
          "state": {
            "_model_module": "@jupyter-widgets/base",
            "_model_module_version": "1.2.0",
            "_model_name": "LayoutModel",
            "_view_count": null,
            "_view_module": "@jupyter-widgets/base",
            "_view_module_version": "1.2.0",
            "_view_name": "LayoutView",
            "align_content": null,
            "align_items": null,
            "align_self": null,
            "border": null,
            "bottom": null,
            "display": null,
            "flex": null,
            "flex_flow": null,
            "grid_area": null,
            "grid_auto_columns": null,
            "grid_auto_flow": null,
            "grid_auto_rows": null,
            "grid_column": null,
            "grid_gap": null,
            "grid_row": null,
            "grid_template_areas": null,
            "grid_template_columns": null,
            "grid_template_rows": null,
            "height": null,
            "justify_content": null,
            "justify_items": null,
            "left": null,
            "margin": null,
            "max_height": null,
            "max_width": null,
            "min_height": null,
            "min_width": null,
            "object_fit": null,
            "object_position": null,
            "order": null,
            "overflow": null,
            "overflow_x": null,
            "overflow_y": null,
            "padding": null,
            "right": null,
            "top": null,
            "visibility": null,
            "width": null
          }
        },
        "26bc9c58e11e4501afefdea1916b3fd1": {
          "model_module": "@jupyter-widgets/controls",
          "model_name": "DescriptionStyleModel",
          "state": {
            "_model_module": "@jupyter-widgets/controls",
            "_model_module_version": "1.5.0",
            "_model_name": "DescriptionStyleModel",
            "_view_count": null,
            "_view_module": "@jupyter-widgets/base",
            "_view_module_version": "1.2.0",
            "_view_name": "StyleView",
            "description_width": ""
          }
        },
        "24c8afbe1f734fd7995b3af20f30243b": {
          "model_module": "@jupyter-widgets/controls",
          "model_name": "HBoxModel",
          "state": {
            "_dom_classes": [],
            "_model_module": "@jupyter-widgets/controls",
            "_model_module_version": "1.5.0",
            "_model_name": "HBoxModel",
            "_view_count": null,
            "_view_module": "@jupyter-widgets/controls",
            "_view_module_version": "1.5.0",
            "_view_name": "HBoxView",
            "box_style": "",
            "children": [
              "IPY_MODEL_ff66183ab4fb422b9f61c462d1dec3bf",
              "IPY_MODEL_f0dab5749f794a6f83049329e0da2229"
            ],
            "layout": "IPY_MODEL_adeb8f88e02f47f5b4bd109445228255"
          }
        },
        "ff66183ab4fb422b9f61c462d1dec3bf": {
          "model_module": "@jupyter-widgets/controls",
          "model_name": "FloatProgressModel",
          "state": {
            "_dom_classes": [],
            "_model_module": "@jupyter-widgets/controls",
            "_model_module_version": "1.5.0",
            "_model_name": "FloatProgressModel",
            "_view_count": null,
            "_view_module": "@jupyter-widgets/controls",
            "_view_module_version": "1.5.0",
            "_view_name": "ProgressView",
            "bar_style": "success",
            "description": "Testing: 100%",
            "description_tooltip": null,
            "layout": "IPY_MODEL_58ac9c07b62c408b9c7b3be98af84e2a",
            "max": 1,
            "min": 0,
            "orientation": "horizontal",
            "style": "IPY_MODEL_2858d571a08f450a879145a6b8d35cc5",
            "value": 1
          }
        },
        "f0dab5749f794a6f83049329e0da2229": {
          "model_module": "@jupyter-widgets/controls",
          "model_name": "HTMLModel",
          "state": {
            "_dom_classes": [],
            "_model_module": "@jupyter-widgets/controls",
            "_model_module_version": "1.5.0",
            "_model_name": "HTMLModel",
            "_view_count": null,
            "_view_module": "@jupyter-widgets/controls",
            "_view_module_version": "1.5.0",
            "_view_name": "HTMLView",
            "description": "",
            "description_tooltip": null,
            "layout": "IPY_MODEL_981c93940f3a4735b712e06afd9fd988",
            "placeholder": "​",
            "style": "IPY_MODEL_a4035f17af9241b0ac0b71fa190af347",
            "value": " 155/155 [00:00&lt;00:00, 221.40it/s]"
          }
        },
        "adeb8f88e02f47f5b4bd109445228255": {
          "model_module": "@jupyter-widgets/base",
          "model_name": "LayoutModel",
          "state": {
            "_model_module": "@jupyter-widgets/base",
            "_model_module_version": "1.2.0",
            "_model_name": "LayoutModel",
            "_view_count": null,
            "_view_module": "@jupyter-widgets/base",
            "_view_module_version": "1.2.0",
            "_view_name": "LayoutView",
            "align_content": null,
            "align_items": null,
            "align_self": null,
            "border": null,
            "bottom": null,
            "display": "inline-flex",
            "flex": null,
            "flex_flow": "row wrap",
            "grid_area": null,
            "grid_auto_columns": null,
            "grid_auto_flow": null,
            "grid_auto_rows": null,
            "grid_column": null,
            "grid_gap": null,
            "grid_row": null,
            "grid_template_areas": null,
            "grid_template_columns": null,
            "grid_template_rows": null,
            "height": null,
            "justify_content": null,
            "justify_items": null,
            "left": null,
            "margin": null,
            "max_height": null,
            "max_width": null,
            "min_height": null,
            "min_width": null,
            "object_fit": null,
            "object_position": null,
            "order": null,
            "overflow": null,
            "overflow_x": null,
            "overflow_y": null,
            "padding": null,
            "right": null,
            "top": null,
            "visibility": null,
            "width": "100%"
          }
        },
        "58ac9c07b62c408b9c7b3be98af84e2a": {
          "model_module": "@jupyter-widgets/base",
          "model_name": "LayoutModel",
          "state": {
            "_model_module": "@jupyter-widgets/base",
            "_model_module_version": "1.2.0",
            "_model_name": "LayoutModel",
            "_view_count": null,
            "_view_module": "@jupyter-widgets/base",
            "_view_module_version": "1.2.0",
            "_view_name": "LayoutView",
            "align_content": null,
            "align_items": null,
            "align_self": null,
            "border": null,
            "bottom": null,
            "display": null,
            "flex": "2",
            "flex_flow": null,
            "grid_area": null,
            "grid_auto_columns": null,
            "grid_auto_flow": null,
            "grid_auto_rows": null,
            "grid_column": null,
            "grid_gap": null,
            "grid_row": null,
            "grid_template_areas": null,
            "grid_template_columns": null,
            "grid_template_rows": null,
            "height": null,
            "justify_content": null,
            "justify_items": null,
            "left": null,
            "margin": null,
            "max_height": null,
            "max_width": null,
            "min_height": null,
            "min_width": null,
            "object_fit": null,
            "object_position": null,
            "order": null,
            "overflow": null,
            "overflow_x": null,
            "overflow_y": null,
            "padding": null,
            "right": null,
            "top": null,
            "visibility": null,
            "width": null
          }
        },
        "2858d571a08f450a879145a6b8d35cc5": {
          "model_module": "@jupyter-widgets/controls",
          "model_name": "ProgressStyleModel",
          "state": {
            "_model_module": "@jupyter-widgets/controls",
            "_model_module_version": "1.5.0",
            "_model_name": "ProgressStyleModel",
            "_view_count": null,
            "_view_module": "@jupyter-widgets/base",
            "_view_module_version": "1.2.0",
            "_view_name": "StyleView",
            "bar_color": null,
            "description_width": "initial"
          }
        },
        "981c93940f3a4735b712e06afd9fd988": {
          "model_module": "@jupyter-widgets/base",
          "model_name": "LayoutModel",
          "state": {
            "_model_module": "@jupyter-widgets/base",
            "_model_module_version": "1.2.0",
            "_model_name": "LayoutModel",
            "_view_count": null,
            "_view_module": "@jupyter-widgets/base",
            "_view_module_version": "1.2.0",
            "_view_name": "LayoutView",
            "align_content": null,
            "align_items": null,
            "align_self": null,
            "border": null,
            "bottom": null,
            "display": null,
            "flex": null,
            "flex_flow": null,
            "grid_area": null,
            "grid_auto_columns": null,
            "grid_auto_flow": null,
            "grid_auto_rows": null,
            "grid_column": null,
            "grid_gap": null,
            "grid_row": null,
            "grid_template_areas": null,
            "grid_template_columns": null,
            "grid_template_rows": null,
            "height": null,
            "justify_content": null,
            "justify_items": null,
            "left": null,
            "margin": null,
            "max_height": null,
            "max_width": null,
            "min_height": null,
            "min_width": null,
            "object_fit": null,
            "object_position": null,
            "order": null,
            "overflow": null,
            "overflow_x": null,
            "overflow_y": null,
            "padding": null,
            "right": null,
            "top": null,
            "visibility": null,
            "width": null
          }
        },
        "a4035f17af9241b0ac0b71fa190af347": {
          "model_module": "@jupyter-widgets/controls",
          "model_name": "DescriptionStyleModel",
          "state": {
            "_model_module": "@jupyter-widgets/controls",
            "_model_module_version": "1.5.0",
            "_model_name": "DescriptionStyleModel",
            "_view_count": null,
            "_view_module": "@jupyter-widgets/base",
            "_view_module_version": "1.2.0",
            "_view_name": "StyleView",
            "description_width": ""
          }
        },
        "1c9af171a9844da9a6b9e436e3e1ab9a": {
          "model_module": "@jupyter-widgets/controls",
          "model_name": "HBoxModel",
          "state": {
            "_dom_classes": [],
            "_model_module": "@jupyter-widgets/controls",
            "_model_module_version": "1.5.0",
            "_model_name": "HBoxModel",
            "_view_count": null,
            "_view_module": "@jupyter-widgets/controls",
            "_view_module_version": "1.5.0",
            "_view_name": "HBoxView",
            "box_style": "",
            "children": [
              "IPY_MODEL_419492e867174e8680542494fae594bb",
              "IPY_MODEL_2fdd7c70053d4463a309125378bd2a11"
            ],
            "layout": "IPY_MODEL_2183cb5f33024a64afe0775a0afe5030"
          }
        },
        "419492e867174e8680542494fae594bb": {
          "model_module": "@jupyter-widgets/controls",
          "model_name": "FloatProgressModel",
          "state": {
            "_dom_classes": [],
            "_model_module": "@jupyter-widgets/controls",
            "_model_module_version": "1.5.0",
            "_model_name": "FloatProgressModel",
            "_view_count": null,
            "_view_module": "@jupyter-widgets/controls",
            "_view_module_version": "1.5.0",
            "_view_name": "ProgressView",
            "bar_style": "danger",
            "description": "Validation sanity check:   0%",
            "description_tooltip": null,
            "layout": "IPY_MODEL_22c3fb4df64140608b425a3e95701768",
            "max": 2,
            "min": 0,
            "orientation": "horizontal",
            "style": "IPY_MODEL_30b4f353997043df83b105849e9b044a",
            "value": 0
          }
        },
        "2fdd7c70053d4463a309125378bd2a11": {
          "model_module": "@jupyter-widgets/controls",
          "model_name": "HTMLModel",
          "state": {
            "_dom_classes": [],
            "_model_module": "@jupyter-widgets/controls",
            "_model_module_version": "1.5.0",
            "_model_name": "HTMLModel",
            "_view_count": null,
            "_view_module": "@jupyter-widgets/controls",
            "_view_module_version": "1.5.0",
            "_view_name": "HTMLView",
            "description": "",
            "description_tooltip": null,
            "layout": "IPY_MODEL_2cb9eb57e27a498d960de6bc84381eef",
            "placeholder": "​",
            "style": "IPY_MODEL_790d549cba5646209670607067a9d312",
            "value": " 0/2 [05:56&lt;?, ?it/s]"
          }
        },
        "2183cb5f33024a64afe0775a0afe5030": {
          "model_module": "@jupyter-widgets/base",
          "model_name": "LayoutModel",
          "state": {
            "_model_module": "@jupyter-widgets/base",
            "_model_module_version": "1.2.0",
            "_model_name": "LayoutModel",
            "_view_count": null,
            "_view_module": "@jupyter-widgets/base",
            "_view_module_version": "1.2.0",
            "_view_name": "LayoutView",
            "align_content": null,
            "align_items": null,
            "align_self": null,
            "border": null,
            "bottom": null,
            "display": "inline-flex",
            "flex": null,
            "flex_flow": "row wrap",
            "grid_area": null,
            "grid_auto_columns": null,
            "grid_auto_flow": null,
            "grid_auto_rows": null,
            "grid_column": null,
            "grid_gap": null,
            "grid_row": null,
            "grid_template_areas": null,
            "grid_template_columns": null,
            "grid_template_rows": null,
            "height": null,
            "justify_content": null,
            "justify_items": null,
            "left": null,
            "margin": null,
            "max_height": null,
            "max_width": null,
            "min_height": null,
            "min_width": null,
            "object_fit": null,
            "object_position": null,
            "order": null,
            "overflow": null,
            "overflow_x": null,
            "overflow_y": null,
            "padding": null,
            "right": null,
            "top": null,
            "visibility": null,
            "width": "100%"
          }
        },
        "22c3fb4df64140608b425a3e95701768": {
          "model_module": "@jupyter-widgets/base",
          "model_name": "LayoutModel",
          "state": {
            "_model_module": "@jupyter-widgets/base",
            "_model_module_version": "1.2.0",
            "_model_name": "LayoutModel",
            "_view_count": null,
            "_view_module": "@jupyter-widgets/base",
            "_view_module_version": "1.2.0",
            "_view_name": "LayoutView",
            "align_content": null,
            "align_items": null,
            "align_self": null,
            "border": null,
            "bottom": null,
            "display": null,
            "flex": "2",
            "flex_flow": null,
            "grid_area": null,
            "grid_auto_columns": null,
            "grid_auto_flow": null,
            "grid_auto_rows": null,
            "grid_column": null,
            "grid_gap": null,
            "grid_row": null,
            "grid_template_areas": null,
            "grid_template_columns": null,
            "grid_template_rows": null,
            "height": null,
            "justify_content": null,
            "justify_items": null,
            "left": null,
            "margin": null,
            "max_height": null,
            "max_width": null,
            "min_height": null,
            "min_width": null,
            "object_fit": null,
            "object_position": null,
            "order": null,
            "overflow": null,
            "overflow_x": null,
            "overflow_y": null,
            "padding": null,
            "right": null,
            "top": null,
            "visibility": null,
            "width": null
          }
        },
        "30b4f353997043df83b105849e9b044a": {
          "model_module": "@jupyter-widgets/controls",
          "model_name": "ProgressStyleModel",
          "state": {
            "_model_module": "@jupyter-widgets/controls",
            "_model_module_version": "1.5.0",
            "_model_name": "ProgressStyleModel",
            "_view_count": null,
            "_view_module": "@jupyter-widgets/base",
            "_view_module_version": "1.2.0",
            "_view_name": "StyleView",
            "bar_color": null,
            "description_width": "initial"
          }
        },
        "2cb9eb57e27a498d960de6bc84381eef": {
          "model_module": "@jupyter-widgets/base",
          "model_name": "LayoutModel",
          "state": {
            "_model_module": "@jupyter-widgets/base",
            "_model_module_version": "1.2.0",
            "_model_name": "LayoutModel",
            "_view_count": null,
            "_view_module": "@jupyter-widgets/base",
            "_view_module_version": "1.2.0",
            "_view_name": "LayoutView",
            "align_content": null,
            "align_items": null,
            "align_self": null,
            "border": null,
            "bottom": null,
            "display": null,
            "flex": null,
            "flex_flow": null,
            "grid_area": null,
            "grid_auto_columns": null,
            "grid_auto_flow": null,
            "grid_auto_rows": null,
            "grid_column": null,
            "grid_gap": null,
            "grid_row": null,
            "grid_template_areas": null,
            "grid_template_columns": null,
            "grid_template_rows": null,
            "height": null,
            "justify_content": null,
            "justify_items": null,
            "left": null,
            "margin": null,
            "max_height": null,
            "max_width": null,
            "min_height": null,
            "min_width": null,
            "object_fit": null,
            "object_position": null,
            "order": null,
            "overflow": null,
            "overflow_x": null,
            "overflow_y": null,
            "padding": null,
            "right": null,
            "top": null,
            "visibility": null,
            "width": null
          }
        },
        "790d549cba5646209670607067a9d312": {
          "model_module": "@jupyter-widgets/controls",
          "model_name": "DescriptionStyleModel",
          "state": {
            "_model_module": "@jupyter-widgets/controls",
            "_model_module_version": "1.5.0",
            "_model_name": "DescriptionStyleModel",
            "_view_count": null,
            "_view_module": "@jupyter-widgets/base",
            "_view_module_version": "1.2.0",
            "_view_name": "StyleView",
            "description_width": ""
          }
        },
        "f57e5eea1365449aa08fa031d49e6677": {
          "model_module": "@jupyter-widgets/controls",
          "model_name": "HBoxModel",
          "state": {
            "_dom_classes": [],
            "_model_module": "@jupyter-widgets/controls",
            "_model_module_version": "1.5.0",
            "_model_name": "HBoxModel",
            "_view_count": null,
            "_view_module": "@jupyter-widgets/controls",
            "_view_module_version": "1.5.0",
            "_view_name": "HBoxView",
            "box_style": "",
            "children": [
              "IPY_MODEL_a78896e2ac864917a278b166239ed82f",
              "IPY_MODEL_6c222cb2aa844092995c5797ecead018"
            ],
            "layout": "IPY_MODEL_49e6e7f18e3648f293cbedf254d645c0"
          }
        },
        "a78896e2ac864917a278b166239ed82f": {
          "model_module": "@jupyter-widgets/controls",
          "model_name": "FloatProgressModel",
          "state": {
            "_dom_classes": [],
            "_model_module": "@jupyter-widgets/controls",
            "_model_module_version": "1.5.0",
            "_model_name": "FloatProgressModel",
            "_view_count": null,
            "_view_module": "@jupyter-widgets/controls",
            "_view_module_version": "1.5.0",
            "_view_name": "ProgressView",
            "bar_style": "info",
            "description": "Epoch 6:   3%",
            "description_tooltip": null,
            "layout": "IPY_MODEL_affb8943e9334cf6a04caf3e5a3286b6",
            "max": 1720,
            "min": 0,
            "orientation": "horizontal",
            "style": "IPY_MODEL_dd185a862d674f4bbaa0f3eb69f9fd0b",
            "value": 50
          }
        },
        "6c222cb2aa844092995c5797ecead018": {
          "model_module": "@jupyter-widgets/controls",
          "model_name": "HTMLModel",
          "state": {
            "_dom_classes": [],
            "_model_module": "@jupyter-widgets/controls",
            "_model_module_version": "1.5.0",
            "_model_name": "HTMLModel",
            "_view_count": null,
            "_view_module": "@jupyter-widgets/controls",
            "_view_module_version": "1.5.0",
            "_view_name": "HTMLView",
            "description": "",
            "description_tooltip": null,
            "layout": "IPY_MODEL_5f4f179151364787b311d5a8a4159b68",
            "placeholder": "​",
            "style": "IPY_MODEL_a1f5a01e04e947d98bee2bd37e9a8b2e",
            "value": " 50/1720 [00:05&lt;02:54,  9.58it/s, loss=0.789, v_num=7, val_f1=0.653, val_loss=0.889]"
          }
        },
        "49e6e7f18e3648f293cbedf254d645c0": {
          "model_module": "@jupyter-widgets/base",
          "model_name": "LayoutModel",
          "state": {
            "_model_module": "@jupyter-widgets/base",
            "_model_module_version": "1.2.0",
            "_model_name": "LayoutModel",
            "_view_count": null,
            "_view_module": "@jupyter-widgets/base",
            "_view_module_version": "1.2.0",
            "_view_name": "LayoutView",
            "align_content": null,
            "align_items": null,
            "align_self": null,
            "border": null,
            "bottom": null,
            "display": "inline-flex",
            "flex": null,
            "flex_flow": "row wrap",
            "grid_area": null,
            "grid_auto_columns": null,
            "grid_auto_flow": null,
            "grid_auto_rows": null,
            "grid_column": null,
            "grid_gap": null,
            "grid_row": null,
            "grid_template_areas": null,
            "grid_template_columns": null,
            "grid_template_rows": null,
            "height": null,
            "justify_content": null,
            "justify_items": null,
            "left": null,
            "margin": null,
            "max_height": null,
            "max_width": null,
            "min_height": null,
            "min_width": null,
            "object_fit": null,
            "object_position": null,
            "order": null,
            "overflow": null,
            "overflow_x": null,
            "overflow_y": null,
            "padding": null,
            "right": null,
            "top": null,
            "visibility": null,
            "width": "100%"
          }
        },
        "affb8943e9334cf6a04caf3e5a3286b6": {
          "model_module": "@jupyter-widgets/base",
          "model_name": "LayoutModel",
          "state": {
            "_model_module": "@jupyter-widgets/base",
            "_model_module_version": "1.2.0",
            "_model_name": "LayoutModel",
            "_view_count": null,
            "_view_module": "@jupyter-widgets/base",
            "_view_module_version": "1.2.0",
            "_view_name": "LayoutView",
            "align_content": null,
            "align_items": null,
            "align_self": null,
            "border": null,
            "bottom": null,
            "display": null,
            "flex": "2",
            "flex_flow": null,
            "grid_area": null,
            "grid_auto_columns": null,
            "grid_auto_flow": null,
            "grid_auto_rows": null,
            "grid_column": null,
            "grid_gap": null,
            "grid_row": null,
            "grid_template_areas": null,
            "grid_template_columns": null,
            "grid_template_rows": null,
            "height": null,
            "justify_content": null,
            "justify_items": null,
            "left": null,
            "margin": null,
            "max_height": null,
            "max_width": null,
            "min_height": null,
            "min_width": null,
            "object_fit": null,
            "object_position": null,
            "order": null,
            "overflow": null,
            "overflow_x": null,
            "overflow_y": null,
            "padding": null,
            "right": null,
            "top": null,
            "visibility": null,
            "width": null
          }
        },
        "dd185a862d674f4bbaa0f3eb69f9fd0b": {
          "model_module": "@jupyter-widgets/controls",
          "model_name": "ProgressStyleModel",
          "state": {
            "_model_module": "@jupyter-widgets/controls",
            "_model_module_version": "1.5.0",
            "_model_name": "ProgressStyleModel",
            "_view_count": null,
            "_view_module": "@jupyter-widgets/base",
            "_view_module_version": "1.2.0",
            "_view_name": "StyleView",
            "bar_color": null,
            "description_width": "initial"
          }
        },
        "5f4f179151364787b311d5a8a4159b68": {
          "model_module": "@jupyter-widgets/base",
          "model_name": "LayoutModel",
          "state": {
            "_model_module": "@jupyter-widgets/base",
            "_model_module_version": "1.2.0",
            "_model_name": "LayoutModel",
            "_view_count": null,
            "_view_module": "@jupyter-widgets/base",
            "_view_module_version": "1.2.0",
            "_view_name": "LayoutView",
            "align_content": null,
            "align_items": null,
            "align_self": null,
            "border": null,
            "bottom": null,
            "display": null,
            "flex": null,
            "flex_flow": null,
            "grid_area": null,
            "grid_auto_columns": null,
            "grid_auto_flow": null,
            "grid_auto_rows": null,
            "grid_column": null,
            "grid_gap": null,
            "grid_row": null,
            "grid_template_areas": null,
            "grid_template_columns": null,
            "grid_template_rows": null,
            "height": null,
            "justify_content": null,
            "justify_items": null,
            "left": null,
            "margin": null,
            "max_height": null,
            "max_width": null,
            "min_height": null,
            "min_width": null,
            "object_fit": null,
            "object_position": null,
            "order": null,
            "overflow": null,
            "overflow_x": null,
            "overflow_y": null,
            "padding": null,
            "right": null,
            "top": null,
            "visibility": null,
            "width": null
          }
        },
        "a1f5a01e04e947d98bee2bd37e9a8b2e": {
          "model_module": "@jupyter-widgets/controls",
          "model_name": "DescriptionStyleModel",
          "state": {
            "_model_module": "@jupyter-widgets/controls",
            "_model_module_version": "1.5.0",
            "_model_name": "DescriptionStyleModel",
            "_view_count": null,
            "_view_module": "@jupyter-widgets/base",
            "_view_module_version": "1.2.0",
            "_view_name": "StyleView",
            "description_width": ""
          }
        },
        "a5b441674a094ae0840f5bd1a7d9ea70": {
          "model_module": "@jupyter-widgets/controls",
          "model_name": "HBoxModel",
          "state": {
            "_dom_classes": [],
            "_model_module": "@jupyter-widgets/controls",
            "_model_module_version": "1.5.0",
            "_model_name": "HBoxModel",
            "_view_count": null,
            "_view_module": "@jupyter-widgets/controls",
            "_view_module_version": "1.5.0",
            "_view_name": "HBoxView",
            "box_style": "",
            "children": [
              "IPY_MODEL_a3e63a3d8e8c4161a67b7194c0289f92",
              "IPY_MODEL_43faa26fc1824c949c7afb5e4cee6ccb"
            ],
            "layout": "IPY_MODEL_8771920621a44a188cf825c0838846c5"
          }
        },
        "a3e63a3d8e8c4161a67b7194c0289f92": {
          "model_module": "@jupyter-widgets/controls",
          "model_name": "FloatProgressModel",
          "state": {
            "_dom_classes": [],
            "_model_module": "@jupyter-widgets/controls",
            "_model_module_version": "1.5.0",
            "_model_name": "FloatProgressModel",
            "_view_count": null,
            "_view_module": "@jupyter-widgets/controls",
            "_view_module_version": "1.5.0",
            "_view_name": "ProgressView",
            "bar_style": "info",
            "description": "Validating: 100%",
            "description_tooltip": null,
            "layout": "IPY_MODEL_ab70e0db041f41c2a6bc3dcca8132023",
            "max": 157,
            "min": 0,
            "orientation": "horizontal",
            "style": "IPY_MODEL_2e65b5166e944fdba3b5a9da1a07c5ea",
            "value": 157
          }
        },
        "43faa26fc1824c949c7afb5e4cee6ccb": {
          "model_module": "@jupyter-widgets/controls",
          "model_name": "HTMLModel",
          "state": {
            "_dom_classes": [],
            "_model_module": "@jupyter-widgets/controls",
            "_model_module_version": "1.5.0",
            "_model_name": "HTMLModel",
            "_view_count": null,
            "_view_module": "@jupyter-widgets/controls",
            "_view_module_version": "1.5.0",
            "_view_name": "HTMLView",
            "description": "",
            "description_tooltip": null,
            "layout": "IPY_MODEL_7ff83a18395c466cbef5ddf82d75b0dc",
            "placeholder": "​",
            "style": "IPY_MODEL_cf0a90f3d3bb4cee85e52eb5c82e78e8",
            "value": " 157/157 [00:05&lt;00:00, 26.84it/s]"
          }
        },
        "8771920621a44a188cf825c0838846c5": {
          "model_module": "@jupyter-widgets/base",
          "model_name": "LayoutModel",
          "state": {
            "_model_module": "@jupyter-widgets/base",
            "_model_module_version": "1.2.0",
            "_model_name": "LayoutModel",
            "_view_count": null,
            "_view_module": "@jupyter-widgets/base",
            "_view_module_version": "1.2.0",
            "_view_name": "LayoutView",
            "align_content": null,
            "align_items": null,
            "align_self": null,
            "border": null,
            "bottom": null,
            "display": "inline-flex",
            "flex": null,
            "flex_flow": "row wrap",
            "grid_area": null,
            "grid_auto_columns": null,
            "grid_auto_flow": null,
            "grid_auto_rows": null,
            "grid_column": null,
            "grid_gap": null,
            "grid_row": null,
            "grid_template_areas": null,
            "grid_template_columns": null,
            "grid_template_rows": null,
            "height": null,
            "justify_content": null,
            "justify_items": null,
            "left": null,
            "margin": null,
            "max_height": null,
            "max_width": null,
            "min_height": null,
            "min_width": null,
            "object_fit": null,
            "object_position": null,
            "order": null,
            "overflow": null,
            "overflow_x": null,
            "overflow_y": null,
            "padding": null,
            "right": null,
            "top": null,
            "visibility": null,
            "width": "100%"
          }
        },
        "ab70e0db041f41c2a6bc3dcca8132023": {
          "model_module": "@jupyter-widgets/base",
          "model_name": "LayoutModel",
          "state": {
            "_model_module": "@jupyter-widgets/base",
            "_model_module_version": "1.2.0",
            "_model_name": "LayoutModel",
            "_view_count": null,
            "_view_module": "@jupyter-widgets/base",
            "_view_module_version": "1.2.0",
            "_view_name": "LayoutView",
            "align_content": null,
            "align_items": null,
            "align_self": null,
            "border": null,
            "bottom": null,
            "display": null,
            "flex": "2",
            "flex_flow": null,
            "grid_area": null,
            "grid_auto_columns": null,
            "grid_auto_flow": null,
            "grid_auto_rows": null,
            "grid_column": null,
            "grid_gap": null,
            "grid_row": null,
            "grid_template_areas": null,
            "grid_template_columns": null,
            "grid_template_rows": null,
            "height": null,
            "justify_content": null,
            "justify_items": null,
            "left": null,
            "margin": null,
            "max_height": null,
            "max_width": null,
            "min_height": null,
            "min_width": null,
            "object_fit": null,
            "object_position": null,
            "order": null,
            "overflow": null,
            "overflow_x": null,
            "overflow_y": null,
            "padding": null,
            "right": null,
            "top": null,
            "visibility": null,
            "width": null
          }
        },
        "2e65b5166e944fdba3b5a9da1a07c5ea": {
          "model_module": "@jupyter-widgets/controls",
          "model_name": "ProgressStyleModel",
          "state": {
            "_model_module": "@jupyter-widgets/controls",
            "_model_module_version": "1.5.0",
            "_model_name": "ProgressStyleModel",
            "_view_count": null,
            "_view_module": "@jupyter-widgets/base",
            "_view_module_version": "1.2.0",
            "_view_name": "StyleView",
            "bar_color": null,
            "description_width": "initial"
          }
        },
        "7ff83a18395c466cbef5ddf82d75b0dc": {
          "model_module": "@jupyter-widgets/base",
          "model_name": "LayoutModel",
          "state": {
            "_model_module": "@jupyter-widgets/base",
            "_model_module_version": "1.2.0",
            "_model_name": "LayoutModel",
            "_view_count": null,
            "_view_module": "@jupyter-widgets/base",
            "_view_module_version": "1.2.0",
            "_view_name": "LayoutView",
            "align_content": null,
            "align_items": null,
            "align_self": null,
            "border": null,
            "bottom": null,
            "display": null,
            "flex": null,
            "flex_flow": null,
            "grid_area": null,
            "grid_auto_columns": null,
            "grid_auto_flow": null,
            "grid_auto_rows": null,
            "grid_column": null,
            "grid_gap": null,
            "grid_row": null,
            "grid_template_areas": null,
            "grid_template_columns": null,
            "grid_template_rows": null,
            "height": null,
            "justify_content": null,
            "justify_items": null,
            "left": null,
            "margin": null,
            "max_height": null,
            "max_width": null,
            "min_height": null,
            "min_width": null,
            "object_fit": null,
            "object_position": null,
            "order": null,
            "overflow": null,
            "overflow_x": null,
            "overflow_y": null,
            "padding": null,
            "right": null,
            "top": null,
            "visibility": null,
            "width": null
          }
        },
        "cf0a90f3d3bb4cee85e52eb5c82e78e8": {
          "model_module": "@jupyter-widgets/controls",
          "model_name": "DescriptionStyleModel",
          "state": {
            "_model_module": "@jupyter-widgets/controls",
            "_model_module_version": "1.5.0",
            "_model_name": "DescriptionStyleModel",
            "_view_count": null,
            "_view_module": "@jupyter-widgets/base",
            "_view_module_version": "1.2.0",
            "_view_name": "StyleView",
            "description_width": ""
          }
        },
        "2abd6af6a38c4940aee13cf9bb4302bf": {
          "model_module": "@jupyter-widgets/controls",
          "model_name": "HBoxModel",
          "state": {
            "_dom_classes": [],
            "_model_module": "@jupyter-widgets/controls",
            "_model_module_version": "1.5.0",
            "_model_name": "HBoxModel",
            "_view_count": null,
            "_view_module": "@jupyter-widgets/controls",
            "_view_module_version": "1.5.0",
            "_view_name": "HBoxView",
            "box_style": "",
            "children": [
              "IPY_MODEL_d14419170562402db38fc1652568dffa",
              "IPY_MODEL_f333dbe2bfac476a84256d4315acbb80"
            ],
            "layout": "IPY_MODEL_18c274ee341d46debd6a7da3a273eb98"
          }
        },
        "d14419170562402db38fc1652568dffa": {
          "model_module": "@jupyter-widgets/controls",
          "model_name": "FloatProgressModel",
          "state": {
            "_dom_classes": [],
            "_model_module": "@jupyter-widgets/controls",
            "_model_module_version": "1.5.0",
            "_model_name": "FloatProgressModel",
            "_view_count": null,
            "_view_module": "@jupyter-widgets/controls",
            "_view_module_version": "1.5.0",
            "_view_name": "ProgressView",
            "bar_style": "info",
            "description": "Validating: 100%",
            "description_tooltip": null,
            "layout": "IPY_MODEL_95fcd6c8d0134166a2b8985a05b88ee1",
            "max": 157,
            "min": 0,
            "orientation": "horizontal",
            "style": "IPY_MODEL_aba7a58f3f314750a0108cf40247e996",
            "value": 157
          }
        },
        "f333dbe2bfac476a84256d4315acbb80": {
          "model_module": "@jupyter-widgets/controls",
          "model_name": "HTMLModel",
          "state": {
            "_dom_classes": [],
            "_model_module": "@jupyter-widgets/controls",
            "_model_module_version": "1.5.0",
            "_model_name": "HTMLModel",
            "_view_count": null,
            "_view_module": "@jupyter-widgets/controls",
            "_view_module_version": "1.5.0",
            "_view_name": "HTMLView",
            "description": "",
            "description_tooltip": null,
            "layout": "IPY_MODEL_6bb15d223bf14960ba533e74e5002c46",
            "placeholder": "​",
            "style": "IPY_MODEL_188ac6ef11494748ba6f5c398838e926",
            "value": " 157/157 [00:05&lt;00:00, 26.45it/s]"
          }
        },
        "18c274ee341d46debd6a7da3a273eb98": {
          "model_module": "@jupyter-widgets/base",
          "model_name": "LayoutModel",
          "state": {
            "_model_module": "@jupyter-widgets/base",
            "_model_module_version": "1.2.0",
            "_model_name": "LayoutModel",
            "_view_count": null,
            "_view_module": "@jupyter-widgets/base",
            "_view_module_version": "1.2.0",
            "_view_name": "LayoutView",
            "align_content": null,
            "align_items": null,
            "align_self": null,
            "border": null,
            "bottom": null,
            "display": "inline-flex",
            "flex": null,
            "flex_flow": "row wrap",
            "grid_area": null,
            "grid_auto_columns": null,
            "grid_auto_flow": null,
            "grid_auto_rows": null,
            "grid_column": null,
            "grid_gap": null,
            "grid_row": null,
            "grid_template_areas": null,
            "grid_template_columns": null,
            "grid_template_rows": null,
            "height": null,
            "justify_content": null,
            "justify_items": null,
            "left": null,
            "margin": null,
            "max_height": null,
            "max_width": null,
            "min_height": null,
            "min_width": null,
            "object_fit": null,
            "object_position": null,
            "order": null,
            "overflow": null,
            "overflow_x": null,
            "overflow_y": null,
            "padding": null,
            "right": null,
            "top": null,
            "visibility": null,
            "width": "100%"
          }
        },
        "95fcd6c8d0134166a2b8985a05b88ee1": {
          "model_module": "@jupyter-widgets/base",
          "model_name": "LayoutModel",
          "state": {
            "_model_module": "@jupyter-widgets/base",
            "_model_module_version": "1.2.0",
            "_model_name": "LayoutModel",
            "_view_count": null,
            "_view_module": "@jupyter-widgets/base",
            "_view_module_version": "1.2.0",
            "_view_name": "LayoutView",
            "align_content": null,
            "align_items": null,
            "align_self": null,
            "border": null,
            "bottom": null,
            "display": null,
            "flex": "2",
            "flex_flow": null,
            "grid_area": null,
            "grid_auto_columns": null,
            "grid_auto_flow": null,
            "grid_auto_rows": null,
            "grid_column": null,
            "grid_gap": null,
            "grid_row": null,
            "grid_template_areas": null,
            "grid_template_columns": null,
            "grid_template_rows": null,
            "height": null,
            "justify_content": null,
            "justify_items": null,
            "left": null,
            "margin": null,
            "max_height": null,
            "max_width": null,
            "min_height": null,
            "min_width": null,
            "object_fit": null,
            "object_position": null,
            "order": null,
            "overflow": null,
            "overflow_x": null,
            "overflow_y": null,
            "padding": null,
            "right": null,
            "top": null,
            "visibility": null,
            "width": null
          }
        },
        "aba7a58f3f314750a0108cf40247e996": {
          "model_module": "@jupyter-widgets/controls",
          "model_name": "ProgressStyleModel",
          "state": {
            "_model_module": "@jupyter-widgets/controls",
            "_model_module_version": "1.5.0",
            "_model_name": "ProgressStyleModel",
            "_view_count": null,
            "_view_module": "@jupyter-widgets/base",
            "_view_module_version": "1.2.0",
            "_view_name": "StyleView",
            "bar_color": null,
            "description_width": "initial"
          }
        },
        "6bb15d223bf14960ba533e74e5002c46": {
          "model_module": "@jupyter-widgets/base",
          "model_name": "LayoutModel",
          "state": {
            "_model_module": "@jupyter-widgets/base",
            "_model_module_version": "1.2.0",
            "_model_name": "LayoutModel",
            "_view_count": null,
            "_view_module": "@jupyter-widgets/base",
            "_view_module_version": "1.2.0",
            "_view_name": "LayoutView",
            "align_content": null,
            "align_items": null,
            "align_self": null,
            "border": null,
            "bottom": null,
            "display": null,
            "flex": null,
            "flex_flow": null,
            "grid_area": null,
            "grid_auto_columns": null,
            "grid_auto_flow": null,
            "grid_auto_rows": null,
            "grid_column": null,
            "grid_gap": null,
            "grid_row": null,
            "grid_template_areas": null,
            "grid_template_columns": null,
            "grid_template_rows": null,
            "height": null,
            "justify_content": null,
            "justify_items": null,
            "left": null,
            "margin": null,
            "max_height": null,
            "max_width": null,
            "min_height": null,
            "min_width": null,
            "object_fit": null,
            "object_position": null,
            "order": null,
            "overflow": null,
            "overflow_x": null,
            "overflow_y": null,
            "padding": null,
            "right": null,
            "top": null,
            "visibility": null,
            "width": null
          }
        },
        "188ac6ef11494748ba6f5c398838e926": {
          "model_module": "@jupyter-widgets/controls",
          "model_name": "DescriptionStyleModel",
          "state": {
            "_model_module": "@jupyter-widgets/controls",
            "_model_module_version": "1.5.0",
            "_model_name": "DescriptionStyleModel",
            "_view_count": null,
            "_view_module": "@jupyter-widgets/base",
            "_view_module_version": "1.2.0",
            "_view_name": "StyleView",
            "description_width": ""
          }
        },
        "763af43b152141ee95f43ce671d29a23": {
          "model_module": "@jupyter-widgets/controls",
          "model_name": "HBoxModel",
          "state": {
            "_dom_classes": [],
            "_model_module": "@jupyter-widgets/controls",
            "_model_module_version": "1.5.0",
            "_model_name": "HBoxModel",
            "_view_count": null,
            "_view_module": "@jupyter-widgets/controls",
            "_view_module_version": "1.5.0",
            "_view_name": "HBoxView",
            "box_style": "",
            "children": [
              "IPY_MODEL_d4fbdcb8fa2f4587a23a42b345975751",
              "IPY_MODEL_71a7ab53319442169cdd4dcdbbf7a508"
            ],
            "layout": "IPY_MODEL_fce3ce12973b4605af372a0a3ff21ded"
          }
        },
        "d4fbdcb8fa2f4587a23a42b345975751": {
          "model_module": "@jupyter-widgets/controls",
          "model_name": "FloatProgressModel",
          "state": {
            "_dom_classes": [],
            "_model_module": "@jupyter-widgets/controls",
            "_model_module_version": "1.5.0",
            "_model_name": "FloatProgressModel",
            "_view_count": null,
            "_view_module": "@jupyter-widgets/controls",
            "_view_module_version": "1.5.0",
            "_view_name": "ProgressView",
            "bar_style": "info",
            "description": "Validating: 100%",
            "description_tooltip": null,
            "layout": "IPY_MODEL_6ef467a79e014109a7ea05bd9dff6e60",
            "max": 157,
            "min": 0,
            "orientation": "horizontal",
            "style": "IPY_MODEL_673cdf2d668949ab962edccd3a871f53",
            "value": 157
          }
        },
        "71a7ab53319442169cdd4dcdbbf7a508": {
          "model_module": "@jupyter-widgets/controls",
          "model_name": "HTMLModel",
          "state": {
            "_dom_classes": [],
            "_model_module": "@jupyter-widgets/controls",
            "_model_module_version": "1.5.0",
            "_model_name": "HTMLModel",
            "_view_count": null,
            "_view_module": "@jupyter-widgets/controls",
            "_view_module_version": "1.5.0",
            "_view_name": "HTMLView",
            "description": "",
            "description_tooltip": null,
            "layout": "IPY_MODEL_7bea38d0d6a54fdcb212d2518b03c2da",
            "placeholder": "​",
            "style": "IPY_MODEL_e075f29669954368987d8cd3d3b78447",
            "value": " 157/157 [00:05&lt;00:00, 26.48it/s]"
          }
        },
        "fce3ce12973b4605af372a0a3ff21ded": {
          "model_module": "@jupyter-widgets/base",
          "model_name": "LayoutModel",
          "state": {
            "_model_module": "@jupyter-widgets/base",
            "_model_module_version": "1.2.0",
            "_model_name": "LayoutModel",
            "_view_count": null,
            "_view_module": "@jupyter-widgets/base",
            "_view_module_version": "1.2.0",
            "_view_name": "LayoutView",
            "align_content": null,
            "align_items": null,
            "align_self": null,
            "border": null,
            "bottom": null,
            "display": "inline-flex",
            "flex": null,
            "flex_flow": "row wrap",
            "grid_area": null,
            "grid_auto_columns": null,
            "grid_auto_flow": null,
            "grid_auto_rows": null,
            "grid_column": null,
            "grid_gap": null,
            "grid_row": null,
            "grid_template_areas": null,
            "grid_template_columns": null,
            "grid_template_rows": null,
            "height": null,
            "justify_content": null,
            "justify_items": null,
            "left": null,
            "margin": null,
            "max_height": null,
            "max_width": null,
            "min_height": null,
            "min_width": null,
            "object_fit": null,
            "object_position": null,
            "order": null,
            "overflow": null,
            "overflow_x": null,
            "overflow_y": null,
            "padding": null,
            "right": null,
            "top": null,
            "visibility": null,
            "width": "100%"
          }
        },
        "6ef467a79e014109a7ea05bd9dff6e60": {
          "model_module": "@jupyter-widgets/base",
          "model_name": "LayoutModel",
          "state": {
            "_model_module": "@jupyter-widgets/base",
            "_model_module_version": "1.2.0",
            "_model_name": "LayoutModel",
            "_view_count": null,
            "_view_module": "@jupyter-widgets/base",
            "_view_module_version": "1.2.0",
            "_view_name": "LayoutView",
            "align_content": null,
            "align_items": null,
            "align_self": null,
            "border": null,
            "bottom": null,
            "display": null,
            "flex": "2",
            "flex_flow": null,
            "grid_area": null,
            "grid_auto_columns": null,
            "grid_auto_flow": null,
            "grid_auto_rows": null,
            "grid_column": null,
            "grid_gap": null,
            "grid_row": null,
            "grid_template_areas": null,
            "grid_template_columns": null,
            "grid_template_rows": null,
            "height": null,
            "justify_content": null,
            "justify_items": null,
            "left": null,
            "margin": null,
            "max_height": null,
            "max_width": null,
            "min_height": null,
            "min_width": null,
            "object_fit": null,
            "object_position": null,
            "order": null,
            "overflow": null,
            "overflow_x": null,
            "overflow_y": null,
            "padding": null,
            "right": null,
            "top": null,
            "visibility": null,
            "width": null
          }
        },
        "673cdf2d668949ab962edccd3a871f53": {
          "model_module": "@jupyter-widgets/controls",
          "model_name": "ProgressStyleModel",
          "state": {
            "_model_module": "@jupyter-widgets/controls",
            "_model_module_version": "1.5.0",
            "_model_name": "ProgressStyleModel",
            "_view_count": null,
            "_view_module": "@jupyter-widgets/base",
            "_view_module_version": "1.2.0",
            "_view_name": "StyleView",
            "bar_color": null,
            "description_width": "initial"
          }
        },
        "7bea38d0d6a54fdcb212d2518b03c2da": {
          "model_module": "@jupyter-widgets/base",
          "model_name": "LayoutModel",
          "state": {
            "_model_module": "@jupyter-widgets/base",
            "_model_module_version": "1.2.0",
            "_model_name": "LayoutModel",
            "_view_count": null,
            "_view_module": "@jupyter-widgets/base",
            "_view_module_version": "1.2.0",
            "_view_name": "LayoutView",
            "align_content": null,
            "align_items": null,
            "align_self": null,
            "border": null,
            "bottom": null,
            "display": null,
            "flex": null,
            "flex_flow": null,
            "grid_area": null,
            "grid_auto_columns": null,
            "grid_auto_flow": null,
            "grid_auto_rows": null,
            "grid_column": null,
            "grid_gap": null,
            "grid_row": null,
            "grid_template_areas": null,
            "grid_template_columns": null,
            "grid_template_rows": null,
            "height": null,
            "justify_content": null,
            "justify_items": null,
            "left": null,
            "margin": null,
            "max_height": null,
            "max_width": null,
            "min_height": null,
            "min_width": null,
            "object_fit": null,
            "object_position": null,
            "order": null,
            "overflow": null,
            "overflow_x": null,
            "overflow_y": null,
            "padding": null,
            "right": null,
            "top": null,
            "visibility": null,
            "width": null
          }
        },
        "e075f29669954368987d8cd3d3b78447": {
          "model_module": "@jupyter-widgets/controls",
          "model_name": "DescriptionStyleModel",
          "state": {
            "_model_module": "@jupyter-widgets/controls",
            "_model_module_version": "1.5.0",
            "_model_name": "DescriptionStyleModel",
            "_view_count": null,
            "_view_module": "@jupyter-widgets/base",
            "_view_module_version": "1.2.0",
            "_view_name": "StyleView",
            "description_width": ""
          }
        },
        "084fb8bea2ac4f6eb0d3c9f70dac14bc": {
          "model_module": "@jupyter-widgets/controls",
          "model_name": "HBoxModel",
          "state": {
            "_dom_classes": [],
            "_model_module": "@jupyter-widgets/controls",
            "_model_module_version": "1.5.0",
            "_model_name": "HBoxModel",
            "_view_count": null,
            "_view_module": "@jupyter-widgets/controls",
            "_view_module_version": "1.5.0",
            "_view_name": "HBoxView",
            "box_style": "",
            "children": [
              "IPY_MODEL_4c3b641f589c45028636a2d174a4648b",
              "IPY_MODEL_289b28305df148d1967998ea6626784f"
            ],
            "layout": "IPY_MODEL_5a80e9d53dfe407e859894fffa6beb37"
          }
        },
        "4c3b641f589c45028636a2d174a4648b": {
          "model_module": "@jupyter-widgets/controls",
          "model_name": "FloatProgressModel",
          "state": {
            "_dom_classes": [],
            "_model_module": "@jupyter-widgets/controls",
            "_model_module_version": "1.5.0",
            "_model_name": "FloatProgressModel",
            "_view_count": null,
            "_view_module": "@jupyter-widgets/controls",
            "_view_module_version": "1.5.0",
            "_view_name": "ProgressView",
            "bar_style": "info",
            "description": "Validating: 100%",
            "description_tooltip": null,
            "layout": "IPY_MODEL_6959eb33e86341d98c807c5a039be10e",
            "max": 157,
            "min": 0,
            "orientation": "horizontal",
            "style": "IPY_MODEL_628e126bd6b74c0883867af21b0a153c",
            "value": 157
          }
        },
        "289b28305df148d1967998ea6626784f": {
          "model_module": "@jupyter-widgets/controls",
          "model_name": "HTMLModel",
          "state": {
            "_dom_classes": [],
            "_model_module": "@jupyter-widgets/controls",
            "_model_module_version": "1.5.0",
            "_model_name": "HTMLModel",
            "_view_count": null,
            "_view_module": "@jupyter-widgets/controls",
            "_view_module_version": "1.5.0",
            "_view_name": "HTMLView",
            "description": "",
            "description_tooltip": null,
            "layout": "IPY_MODEL_c52c814a9bca42808a2f8ac4cc6da1f6",
            "placeholder": "​",
            "style": "IPY_MODEL_4b0910e7f9e14d3587b4ff92b175e725",
            "value": " 157/157 [00:05&lt;00:00, 26.68it/s]"
          }
        },
        "5a80e9d53dfe407e859894fffa6beb37": {
          "model_module": "@jupyter-widgets/base",
          "model_name": "LayoutModel",
          "state": {
            "_model_module": "@jupyter-widgets/base",
            "_model_module_version": "1.2.0",
            "_model_name": "LayoutModel",
            "_view_count": null,
            "_view_module": "@jupyter-widgets/base",
            "_view_module_version": "1.2.0",
            "_view_name": "LayoutView",
            "align_content": null,
            "align_items": null,
            "align_self": null,
            "border": null,
            "bottom": null,
            "display": "inline-flex",
            "flex": null,
            "flex_flow": "row wrap",
            "grid_area": null,
            "grid_auto_columns": null,
            "grid_auto_flow": null,
            "grid_auto_rows": null,
            "grid_column": null,
            "grid_gap": null,
            "grid_row": null,
            "grid_template_areas": null,
            "grid_template_columns": null,
            "grid_template_rows": null,
            "height": null,
            "justify_content": null,
            "justify_items": null,
            "left": null,
            "margin": null,
            "max_height": null,
            "max_width": null,
            "min_height": null,
            "min_width": null,
            "object_fit": null,
            "object_position": null,
            "order": null,
            "overflow": null,
            "overflow_x": null,
            "overflow_y": null,
            "padding": null,
            "right": null,
            "top": null,
            "visibility": null,
            "width": "100%"
          }
        },
        "6959eb33e86341d98c807c5a039be10e": {
          "model_module": "@jupyter-widgets/base",
          "model_name": "LayoutModel",
          "state": {
            "_model_module": "@jupyter-widgets/base",
            "_model_module_version": "1.2.0",
            "_model_name": "LayoutModel",
            "_view_count": null,
            "_view_module": "@jupyter-widgets/base",
            "_view_module_version": "1.2.0",
            "_view_name": "LayoutView",
            "align_content": null,
            "align_items": null,
            "align_self": null,
            "border": null,
            "bottom": null,
            "display": null,
            "flex": "2",
            "flex_flow": null,
            "grid_area": null,
            "grid_auto_columns": null,
            "grid_auto_flow": null,
            "grid_auto_rows": null,
            "grid_column": null,
            "grid_gap": null,
            "grid_row": null,
            "grid_template_areas": null,
            "grid_template_columns": null,
            "grid_template_rows": null,
            "height": null,
            "justify_content": null,
            "justify_items": null,
            "left": null,
            "margin": null,
            "max_height": null,
            "max_width": null,
            "min_height": null,
            "min_width": null,
            "object_fit": null,
            "object_position": null,
            "order": null,
            "overflow": null,
            "overflow_x": null,
            "overflow_y": null,
            "padding": null,
            "right": null,
            "top": null,
            "visibility": null,
            "width": null
          }
        },
        "628e126bd6b74c0883867af21b0a153c": {
          "model_module": "@jupyter-widgets/controls",
          "model_name": "ProgressStyleModel",
          "state": {
            "_model_module": "@jupyter-widgets/controls",
            "_model_module_version": "1.5.0",
            "_model_name": "ProgressStyleModel",
            "_view_count": null,
            "_view_module": "@jupyter-widgets/base",
            "_view_module_version": "1.2.0",
            "_view_name": "StyleView",
            "bar_color": null,
            "description_width": "initial"
          }
        },
        "c52c814a9bca42808a2f8ac4cc6da1f6": {
          "model_module": "@jupyter-widgets/base",
          "model_name": "LayoutModel",
          "state": {
            "_model_module": "@jupyter-widgets/base",
            "_model_module_version": "1.2.0",
            "_model_name": "LayoutModel",
            "_view_count": null,
            "_view_module": "@jupyter-widgets/base",
            "_view_module_version": "1.2.0",
            "_view_name": "LayoutView",
            "align_content": null,
            "align_items": null,
            "align_self": null,
            "border": null,
            "bottom": null,
            "display": null,
            "flex": null,
            "flex_flow": null,
            "grid_area": null,
            "grid_auto_columns": null,
            "grid_auto_flow": null,
            "grid_auto_rows": null,
            "grid_column": null,
            "grid_gap": null,
            "grid_row": null,
            "grid_template_areas": null,
            "grid_template_columns": null,
            "grid_template_rows": null,
            "height": null,
            "justify_content": null,
            "justify_items": null,
            "left": null,
            "margin": null,
            "max_height": null,
            "max_width": null,
            "min_height": null,
            "min_width": null,
            "object_fit": null,
            "object_position": null,
            "order": null,
            "overflow": null,
            "overflow_x": null,
            "overflow_y": null,
            "padding": null,
            "right": null,
            "top": null,
            "visibility": null,
            "width": null
          }
        },
        "4b0910e7f9e14d3587b4ff92b175e725": {
          "model_module": "@jupyter-widgets/controls",
          "model_name": "DescriptionStyleModel",
          "state": {
            "_model_module": "@jupyter-widgets/controls",
            "_model_module_version": "1.5.0",
            "_model_name": "DescriptionStyleModel",
            "_view_count": null,
            "_view_module": "@jupyter-widgets/base",
            "_view_module_version": "1.2.0",
            "_view_name": "StyleView",
            "description_width": ""
          }
        }
      }
    }
  },
  "cells": [
    {
      "cell_type": "markdown",
      "metadata": {
        "id": "view-in-github",
        "colab_type": "text"
      },
      "source": [
        "<a href=\"https://colab.research.google.com/github/furio1999/Natural-Language-Processing/blob/main/Word_Embeddings_and_RNNs.ipynb\" target=\"_parent\"><img src=\"https://colab.research.google.com/assets/colab-badge.svg\" alt=\"Open In Colab\"/></a>"
      ]
    },
    {
      "cell_type": "markdown",
      "metadata": {
        "id": "X8S3v6-VU7in"
      },
      "source": [
        "**Copyright 2021 Sapienza NLP research group (http://nlp.uniroma1.it/)**\n",
        "\n",
        "Authors: Edoardo Barba, Michele Bevilacqua, Cesare Campagnano, Simone Conia, ‪Pere-Lluís Huguet Cabot‬, Luigi Procopio, Roberto Navigli\n",
        "\n",
        "All the material is made available under a Creative Commons Attribution-NonCommercial-ShareAlike 4.0 License (international): https://creativecommons.org/licenses/by-nc-sa/4.0/."
      ]
    },
    {
      "cell_type": "markdown",
      "metadata": {
        "id": "-OkzgMrDjpPV"
      },
      "source": [
        "# Introduction\n",
        "\n",
        "In this notebook we are going to discuss two of the most used techniques in Natural Language Processing:\n",
        "1. **Word Embeddings**: we will show the benefits of leveraging pretrained Word Embeddings on our running example i.e. the \"Amazon Reviews Stars Predictors\".\n",
        "2. **Recurrent Neural Networks**: a neural architecture that is meant for modeling sequences of elements (e.g. words in text).\n",
        "\n",
        "At the end of this notebook you will understand why these two techniques combined have been a major breakthrough in Natural Language Processing and you will be able to apply them on different tasks. \n",
        "\n",
        "Let the dances begin.\n"
      ]
    },
    {
      "cell_type": "markdown",
      "metadata": {
        "id": "EqE12EYXlGLT"
      },
      "source": [
        "## Prepairing the Environment\n"
      ]
    },
    {
      "cell_type": "markdown",
      "metadata": {
        "id": "iAptcbLdlLIi"
      },
      "source": [
        "As usual, we will start by prepairing the environment and downloading the Amazon Reviews dataset."
      ]
    },
    {
      "cell_type": "code",
      "metadata": {
        "colab": {
          "base_uri": "https://localhost:8080/"
        },
        "id": "FHapvPMlAef6",
        "outputId": "a28c0662-9ec7-4de6-a35a-d788d8def5fe"
      },
      "source": [
        "! pip install pytorch-lightning"
      ],
      "execution_count": null,
      "outputs": [
        {
          "output_type": "stream",
          "text": [
            "Requirement already satisfied: pytorch-lightning in /usr/local/lib/python3.7/dist-packages (1.2.7)\n",
            "Requirement already satisfied: torchmetrics>=0.2.0 in /usr/local/lib/python3.7/dist-packages (from pytorch-lightning) (0.2.0)\n",
            "Requirement already satisfied: numpy>=1.16.6 in /usr/local/lib/python3.7/dist-packages (from pytorch-lightning) (1.19.5)\n",
            "Requirement already satisfied: fsspec[http]>=0.8.1 in /usr/local/lib/python3.7/dist-packages (from pytorch-lightning) (0.9.0)\n",
            "Requirement already satisfied: tensorboard>=2.2.0 in /usr/local/lib/python3.7/dist-packages (from pytorch-lightning) (2.4.1)\n",
            "Requirement already satisfied: torch>=1.4 in /usr/local/lib/python3.7/dist-packages (from pytorch-lightning) (1.8.1+cu101)\n",
            "Requirement already satisfied: PyYAML!=5.4.*,>=5.1 in /usr/local/lib/python3.7/dist-packages (from pytorch-lightning) (5.3.1)\n",
            "Requirement already satisfied: tqdm>=4.41.0 in /usr/local/lib/python3.7/dist-packages (from pytorch-lightning) (4.41.1)\n",
            "Requirement already satisfied: future>=0.17.1 in /usr/local/lib/python3.7/dist-packages (from pytorch-lightning) (0.18.2)\n",
            "Requirement already satisfied: importlib-metadata; python_version < \"3.8\" in /usr/local/lib/python3.7/dist-packages (from fsspec[http]>=0.8.1->pytorch-lightning) (3.8.1)\n",
            "Requirement already satisfied: aiohttp; extra == \"http\" in /usr/local/lib/python3.7/dist-packages (from fsspec[http]>=0.8.1->pytorch-lightning) (3.7.4.post0)\n",
            "Requirement already satisfied: requests; extra == \"http\" in /usr/local/lib/python3.7/dist-packages (from fsspec[http]>=0.8.1->pytorch-lightning) (2.23.0)\n",
            "Requirement already satisfied: google-auth-oauthlib<0.5,>=0.4.1 in /usr/local/lib/python3.7/dist-packages (from tensorboard>=2.2.0->pytorch-lightning) (0.4.3)\n",
            "Requirement already satisfied: protobuf>=3.6.0 in /usr/local/lib/python3.7/dist-packages (from tensorboard>=2.2.0->pytorch-lightning) (3.12.4)\n",
            "Requirement already satisfied: wheel>=0.26; python_version >= \"3\" in /usr/local/lib/python3.7/dist-packages (from tensorboard>=2.2.0->pytorch-lightning) (0.36.2)\n",
            "Requirement already satisfied: google-auth<2,>=1.6.3 in /usr/local/lib/python3.7/dist-packages (from tensorboard>=2.2.0->pytorch-lightning) (1.28.0)\n",
            "Requirement already satisfied: grpcio>=1.24.3 in /usr/local/lib/python3.7/dist-packages (from tensorboard>=2.2.0->pytorch-lightning) (1.32.0)\n",
            "Requirement already satisfied: werkzeug>=0.11.15 in /usr/local/lib/python3.7/dist-packages (from tensorboard>=2.2.0->pytorch-lightning) (1.0.1)\n",
            "Requirement already satisfied: setuptools>=41.0.0 in /usr/local/lib/python3.7/dist-packages (from tensorboard>=2.2.0->pytorch-lightning) (54.2.0)\n",
            "Requirement already satisfied: absl-py>=0.4 in /usr/local/lib/python3.7/dist-packages (from tensorboard>=2.2.0->pytorch-lightning) (0.12.0)\n",
            "Requirement already satisfied: six>=1.10.0 in /usr/local/lib/python3.7/dist-packages (from tensorboard>=2.2.0->pytorch-lightning) (1.15.0)\n",
            "Requirement already satisfied: markdown>=2.6.8 in /usr/local/lib/python3.7/dist-packages (from tensorboard>=2.2.0->pytorch-lightning) (3.3.4)\n",
            "Requirement already satisfied: tensorboard-plugin-wit>=1.6.0 in /usr/local/lib/python3.7/dist-packages (from tensorboard>=2.2.0->pytorch-lightning) (1.8.0)\n",
            "Requirement already satisfied: typing-extensions in /usr/local/lib/python3.7/dist-packages (from torch>=1.4->pytorch-lightning) (3.7.4.3)\n",
            "Requirement already satisfied: zipp>=0.5 in /usr/local/lib/python3.7/dist-packages (from importlib-metadata; python_version < \"3.8\"->fsspec[http]>=0.8.1->pytorch-lightning) (3.4.1)\n",
            "Requirement already satisfied: multidict<7.0,>=4.5 in /usr/local/lib/python3.7/dist-packages (from aiohttp; extra == \"http\"->fsspec[http]>=0.8.1->pytorch-lightning) (5.1.0)\n",
            "Requirement already satisfied: yarl<2.0,>=1.0 in /usr/local/lib/python3.7/dist-packages (from aiohttp; extra == \"http\"->fsspec[http]>=0.8.1->pytorch-lightning) (1.6.3)\n",
            "Requirement already satisfied: async-timeout<4.0,>=3.0 in /usr/local/lib/python3.7/dist-packages (from aiohttp; extra == \"http\"->fsspec[http]>=0.8.1->pytorch-lightning) (3.0.1)\n",
            "Requirement already satisfied: attrs>=17.3.0 in /usr/local/lib/python3.7/dist-packages (from aiohttp; extra == \"http\"->fsspec[http]>=0.8.1->pytorch-lightning) (20.3.0)\n",
            "Requirement already satisfied: chardet<5.0,>=2.0 in /usr/local/lib/python3.7/dist-packages (from aiohttp; extra == \"http\"->fsspec[http]>=0.8.1->pytorch-lightning) (3.0.4)\n",
            "Requirement already satisfied: certifi>=2017.4.17 in /usr/local/lib/python3.7/dist-packages (from requests; extra == \"http\"->fsspec[http]>=0.8.1->pytorch-lightning) (2020.12.5)\n",
            "Requirement already satisfied: urllib3!=1.25.0,!=1.25.1,<1.26,>=1.21.1 in /usr/local/lib/python3.7/dist-packages (from requests; extra == \"http\"->fsspec[http]>=0.8.1->pytorch-lightning) (1.24.3)\n",
            "Requirement already satisfied: idna<3,>=2.5 in /usr/local/lib/python3.7/dist-packages (from requests; extra == \"http\"->fsspec[http]>=0.8.1->pytorch-lightning) (2.10)\n",
            "Requirement already satisfied: requests-oauthlib>=0.7.0 in /usr/local/lib/python3.7/dist-packages (from google-auth-oauthlib<0.5,>=0.4.1->tensorboard>=2.2.0->pytorch-lightning) (1.3.0)\n",
            "Requirement already satisfied: cachetools<5.0,>=2.0.0 in /usr/local/lib/python3.7/dist-packages (from google-auth<2,>=1.6.3->tensorboard>=2.2.0->pytorch-lightning) (4.2.1)\n",
            "Requirement already satisfied: pyasn1-modules>=0.2.1 in /usr/local/lib/python3.7/dist-packages (from google-auth<2,>=1.6.3->tensorboard>=2.2.0->pytorch-lightning) (0.2.8)\n",
            "Requirement already satisfied: rsa<5,>=3.1.4; python_version >= \"3.6\" in /usr/local/lib/python3.7/dist-packages (from google-auth<2,>=1.6.3->tensorboard>=2.2.0->pytorch-lightning) (4.7.2)\n",
            "Requirement already satisfied: oauthlib>=3.0.0 in /usr/local/lib/python3.7/dist-packages (from requests-oauthlib>=0.7.0->google-auth-oauthlib<0.5,>=0.4.1->tensorboard>=2.2.0->pytorch-lightning) (3.1.0)\n",
            "Requirement already satisfied: pyasn1<0.5.0,>=0.4.6 in /usr/local/lib/python3.7/dist-packages (from pyasn1-modules>=0.2.1->google-auth<2,>=1.6.3->tensorboard>=2.2.0->pytorch-lightning) (0.4.8)\n"
          ],
          "name": "stdout"
        }
      ]
    },
    {
      "cell_type": "code",
      "metadata": {
        "id": "ozEvB10I3xhk"
      },
      "source": [
        "# general\n",
        "import matplotlib.pyplot as plt\n",
        "import numpy as np\n",
        "\n",
        "from collections import Counter, defaultdict\n",
        "from tqdm.notebook import tqdm\n",
        "from typing import *\n",
        "\n",
        "# torch\n",
        "import torch\n",
        "\n",
        "from torch import nn\n",
        "from torch.utils.data import Dataset, DataLoader\n",
        "from torch.optim import SGD\n",
        "\n",
        "# Lightning\n",
        "import pytorch_lightning as pl"
      ],
      "execution_count": null,
      "outputs": []
    },
    {
      "cell_type": "code",
      "metadata": {
        "colab": {
          "base_uri": "https://localhost:8080/"
        },
        "id": "kek4suSblFJ5",
        "outputId": "709e121a-ca8d-4e60-f7db-d8a7e1afa752"
      },
      "source": [
        "# sample_data: we don't need this folder\n",
        "! rm -rf sample_data\n",
        "\n",
        "# let's create a new folder and download the dataset. We'll also need to unzip it\n",
        "! mkdir data\n",
        "! wget -O data/amazon-reviews.tsv.gz https://s3.amazonaws.com/amazon-reviews-pds/tsv/amazon_reviews_us_Video_Games_v1_00.tsv.gz\n",
        "! gzip -d data/amazon-reviews.tsv.gz"
      ],
      "execution_count": null,
      "outputs": [
        {
          "output_type": "stream",
          "text": [
            "mkdir: cannot create directory ‘data’: File exists\n",
            "--2021-04-08 11:19:01--  https://s3.amazonaws.com/amazon-reviews-pds/tsv/amazon_reviews_us_Video_Games_v1_00.tsv.gz\n",
            "Resolving s3.amazonaws.com (s3.amazonaws.com)... 52.216.26.54\n",
            "Connecting to s3.amazonaws.com (s3.amazonaws.com)|52.216.26.54|:443... connected.\n",
            "HTTP request sent, awaiting response... 200 OK\n",
            "Length: 475199894 (453M) [application/x-gzip]\n",
            "Saving to: ‘data/amazon-reviews.tsv.gz’\n",
            "\n",
            "data/amazon-reviews 100%[===================>] 453.19M  35.9MB/s    in 14s     \n",
            "\n",
            "2021-04-08 11:19:16 (32.5 MB/s) - ‘data/amazon-reviews.tsv.gz’ saved [475199894/475199894]\n",
            "\n",
            "gzip: data/amazon-reviews.tsv already exists; do you wish to overwrite (y or n)? n\n",
            "\tnot overwritten\n"
          ],
          "name": "stdout"
        }
      ]
    },
    {
      "cell_type": "code",
      "metadata": {
        "id": "_Dey5qryloxX"
      },
      "source": [
        "! tail +2 data/amazon-reviews.tsv | cut -f8,14 > data/dataset.raw.tsv "
      ],
      "execution_count": null,
      "outputs": []
    },
    {
      "cell_type": "code",
      "metadata": {
        "colab": {
          "base_uri": "https://localhost:8080/"
        },
        "id": "7F7MosOdlxmL",
        "outputId": "e39fe57a-2e69-4fc0-90b7-a7699a1d19c5"
      },
      "source": [
        "! head -5 data/dataset.raw.tsv"
      ],
      "execution_count": null,
      "outputs": [
        {
          "output_type": "stream",
          "text": [
            "5\tUsed this for Elite Dangerous on my mac, an amazing joystick. I especially love that you can twist the stick for different movement bindings as well as move it in the normal way.\n",
            "5\tLoved it,  I didn't even realise it was a gaming mouse,  I typed in &#34;silent mouse&#34; and selected this one. It is perfect and looks pretty cool as well. Now my boyfriend's gaming is wonderfully comfortably silent :) . Think I might just get one for myself.\n",
            "1\tpoor quality work and not as it is advertised.\n",
            "3\tnice, but tend to slip away from stick in intense (hard pressed) gaming sessions.\n",
            "4\tGreat amiibo, great for collecting. Quality material to be desired, since its not perfect.\n"
          ],
          "name": "stdout"
        }
      ]
    },
    {
      "cell_type": "markdown",
      "metadata": {
        "id": "Tq3JktftBIIw"
      },
      "source": [
        "## Word Embeddings"
      ]
    },
    {
      "cell_type": "markdown",
      "metadata": {
        "id": "7ZEVLgtiBOnP"
      },
      "source": [
        "Now we give a brief overview of some of the main advantages they provide over handcrafted features:\n",
        "\n",
        "1. **Pretrained syntactic- and semantic-level features**.\n",
        "2. **Task agnostic representation** that can be utilized in several applications.\n",
        "3. Handling of synonyms and more in general related words via **neighbors-aware representations**.\n",
        "\n",
        "To understand the capabilities of the Word Embeddings, we will plug them in our running example: the Amazon Reviews Stars Predictor. \n",
        "Indeed, we will replace the usage of hand-crafted features (e.g. the presence or the absence of specific words) to represent each review, by utilizing the embedding of the words in it. To keep things simple we will start by using the **average of those vectors**."
      ]
    },
    {
      "cell_type": "markdown",
      "metadata": {
        "id": "gfK99OCqIwtA"
      },
      "source": [
        "First of all, let's retrieve the word embeddings we are going to use for the rest of the notebook. While, theoretically, we could train our own word embeddings with the technique we introduced in the Notebook 2b, a number of more-sophisticated techniques have been developed to create better vectorial representations.\n",
        "\n",
        "In this notebook, we will use [FastText](https://fasttext.cc/docs/en/crawl-vectors.html), one of the currently most popular word embeddings. So let's download them and get our hands dirty."
      ]
    },
    {
      "cell_type": "code",
      "metadata": {
        "colab": {
          "base_uri": "https://localhost:8080/"
        },
        "id": "NhfGikM8vUo-",
        "outputId": "dc26a515-d44c-4ad8-c099-041b1eaf276b"
      },
      "source": [
        "! wget https://dl.fbaipublicfiles.com/fasttext/vectors-crawl/cc.en.300.vec.gz\n",
        "! mv cc.en.300.vec.gz data/.\n",
        "! gzip -d data/cc.en.300.vec.gz"
      ],
      "execution_count": null,
      "outputs": [
        {
          "output_type": "stream",
          "text": [
            "--2021-04-08 11:20:39--  https://dl.fbaipublicfiles.com/fasttext/vectors-crawl/cc.en.300.vec.gz\n",
            "Resolving dl.fbaipublicfiles.com (dl.fbaipublicfiles.com)... 172.67.9.4, 104.22.74.142, 104.22.75.142, ...\n",
            "Connecting to dl.fbaipublicfiles.com (dl.fbaipublicfiles.com)|172.67.9.4|:443... connected.\n",
            "HTTP request sent, awaiting response... 200 OK\n",
            "Length: 1325960915 (1.2G) [binary/octet-stream]\n",
            "Saving to: ‘cc.en.300.vec.gz’\n",
            "\n",
            "cc.en.300.vec.gz    100%[===================>]   1.23G  12.3MB/s    in 1m 46s  \n",
            "\n",
            "2021-04-08 11:22:26 (11.9 MB/s) - ‘cc.en.300.vec.gz’ saved [1325960915/1325960915]\n",
            "\n",
            "gzip: data/cc.en.300.vec already exists; do you wish to overwrite (y or n)? n\n",
            "\tnot overwritten\n"
          ],
          "name": "stdout"
        }
      ]
    },
    {
      "cell_type": "code",
      "metadata": {
        "colab": {
          "base_uri": "https://localhost:8080/"
        },
        "id": "Bkf49ffZK_jT",
        "outputId": "0541414b-e06f-43ff-df34-3d9eb0160d69"
      },
      "source": [
        "! head data/cc.en.300.vec"
      ],
      "execution_count": null,
      "outputs": [
        {
          "output_type": "stream",
          "text": [
            "2000000 300\n",
            ", 0.1250 -0.1079 0.0245 -0.2529 0.1057 -0.0184 0.1177 -0.0701 -0.0401 -0.0080 0.0772 -0.0226 0.0893 -0.0487 -0.0897 -0.0835 0.0200 0.0273 -0.0194 0.0964 0.0875 0.0098 0.0453 0.0155 0.1462 0.0225 0.0448 0.0137 0.0570 0.1764 -0.1072 -0.0826 0.0173 0.1090 0.0207 -0.1271 0.2445 0.0375 -0.0209 -0.0445 0.0540 0.1282 0.0437 0.0588 0.0984 0.0539 0.0004 0.1290 0.0242 -0.0120 -0.0480 0.0346 -0.0664 -0.0330 -0.0625 -0.0708 -0.0579 0.1738 0.4448 0.0370 -0.1001 -0.0032 0.0359 -0.0685 -0.0361 0.0070 0.1316 -0.0945 -0.0610 0.0178 -0.0763 -0.0192 0.0033 0.0056 0.1878 -0.0754 -0.0095 0.0446 -0.0588 0.0244 -0.0251 -0.0493 0.0308 -0.0359 -0.1884 -0.0988 0.1887 0.0459 -0.0816 -0.1524 -0.0375 -0.0692 0.0427 -0.0471 -0.0086 -0.2190 -0.0064 0.0877 -0.0074 -0.1400 -0.0156 0.0161 0.1040 -0.1445 -0.0719 -0.0144 -0.0293 -0.0126 0.0619 -0.0373 -0.1471 -0.2552 -0.0685 0.2892 -0.0275 0.0436 0.0311 0.0249 0.0142 0.0403 0.1729 0.0023 -0.0255 -0.0212 0.0701 -0.0727 0.0279 0.1151 -0.0394 -0.0962 -0.0598 -0.0459 -0.0326 -0.2317 0.0945 0.0110 -0.2511 0.1087 -0.0699 0.0359 0.0208 -0.0536 0.0478 0.0178 0.0095 0.0354 -0.7726 -0.0790 0.0472 0.0584 -0.1013 0.0448 -0.1202 0.0376 0.0510 -0.0616 0.4321 0.0179 0.0263 0.0271 0.0473 -0.0951 -0.2261 0.0261 0.0262 -0.0235 -0.0369 -0.1655 -0.0697 0.0122 -0.0303 0.0427 0.0787 -0.0360 0.0206 -0.0068 0.1257 0.0447 -0.0776 -0.1122 -0.0291 0.4654 0.1010 0.4440 0.0095 0.1312 0.0766 0.0873 -0.0878 -0.0296 0.0046 0.0416 -0.0134 0.0571 -0.0109 -0.0655 0.0082 -0.0563 -0.0830 -0.0550 -0.0688 0.0091 -0.0677 -0.1001 0.0200 -0.0979 0.1134 -0.0188 0.0136 0.0782 0.0207 0.0133 -0.0492 -0.0139 0.0123 0.0360 0.1249 0.0503 0.0015 0.1246 -0.0897 -0.0121 -0.0182 0.2245 -0.0313 -0.1596 0.0073 -0.0772 -0.0830 -0.0716 0.0112 0.0218 0.1245 -0.0361 0.0312 0.0652 0.0560 0.0670 0.0709 -0.0248 0.0449 -0.1296 0.1408 -0.0359 1.1585 0.0027 0.0185 0.0549 0.1367 0.2742 -0.0472 -0.0414 -0.0548 -0.0911 -0.0015 -0.1613 0.0179 -0.0040 0.0610 0.0559 0.1138 0.2978 -0.1511 -0.0079 -0.0838 0.0296 -0.1041 0.1627 -0.0670 0.0504 -0.0420 -0.0020 0.1840 0.0596 0.0448 0.0989 -0.2157 -0.0117 0.2142 -0.1672 -0.0444 0.2045 -0.4620 -0.0482 0.0688 -0.0304 0.0478 0.1583 0.0920 0.0949 0.0650 -0.0398 -0.1376 -0.0436 0.0578 0.0188 0.0148 0.2305 -0.0696 -0.0215\n",
            "the -0.0517 0.0740 -0.0131 0.0447 -0.0343 0.0212 0.0069 -0.0163 -0.0181 -0.0020 -0.1021 0.0059 0.0257 -0.0026 -0.0586 -0.0378 0.0163 0.0146 -0.0088 -0.0176 -0.0085 -0.0078 -0.0183 0.0088 0.0013 -0.0938 0.0139 0.0149 -0.0394 -0.0294 0.0094 -0.0252 -0.0104 -0.2213 -0.0229 -0.0089 -0.0322 0.0822 0.0021 0.0282 0.0072 -0.0091 -0.0352 -0.0178 -0.0706 0.0630 -0.0092 -0.0223 -0.0056 0.0515 -0.0307 0.0436 -0.0110 -0.0555 0.0089 -0.0673 0.0105 0.0574 0.0099 -0.0283 0.0470 0.0053 0.0030 0.0007 0.0443 0.0069 -0.0334 0.0091 -0.0076 0.0066 0.0917 0.0311 0.0543 0.0282 -0.0200 -0.0334 0.0053 0.0364 0.2249 0.0928 -0.0123 0.0086 -0.0599 0.0676 0.0402 0.0012 0.0464 -0.0437 0.0059 0.0917 -0.0412 -0.0151 -0.0231 0.0095 0.0588 0.0279 0.0647 -0.0568 -0.0130 0.0474 0.0354 -0.0121 -0.0077 -0.1306 0.0134 -0.0506 0.0111 0.0119 -0.0221 0.0394 0.0221 0.0245 0.0039 0.1146 0.0228 -0.0468 -0.0459 -0.0189 0.0076 -0.0302 -0.0348 -0.0289 -0.0399 0.0245 -0.0102 0.0578 -0.0388 -0.0117 -0.0304 0.2466 -0.0111 0.0356 0.0046 0.2094 -0.1022 0.0336 0.0688 -0.0708 0.0269 -0.0423 0.0077 -0.0267 0.0072 0.0035 0.0351 -0.0063 -0.4462 0.0105 -0.0120 -0.0449 -0.1696 0.0504 0.0930 -0.0044 -0.0041 0.0322 0.2026 0.0613 -0.0295 0.0228 -0.0190 0.0173 0.1480 -0.0175 -0.0125 0.0687 0.0333 -0.0303 0.0428 0.0051 0.0228 0.0104 0.0731 0.0079 -0.0051 0.0543 -0.0325 0.0512 0.0288 -0.0586 -0.0000 0.0493 0.0166 -0.0143 0.0359 0.0543 -0.0005 -0.0589 0.0162 -0.0222 -0.0199 0.0235 -0.0678 0.0179 0.0033 0.0114 0.0473 -0.0443 0.0323 0.0195 -0.0647 0.3388 0.0699 -0.0215 -0.0244 -0.0034 -0.0034 -0.0622 0.0123 0.0375 -0.0197 0.0241 -0.0877 0.0201 -0.0061 -0.0256 -0.0191 -0.0264 0.0190 -0.0422 0.0251 0.0825 -0.0096 0.1288 0.0621 0.0538 0.0189 0.0422 0.1803 -0.0010 -0.0328 -0.0559 -0.0157 0.0490 0.0352 -0.0417 0.0159 -0.0766 -0.0657 0.0497 0.0102 0.1471 -0.0711 -0.1469 0.4737 -0.0169 -0.0051 0.0159 0.0550 -0.0634 -0.0210 0.0122 0.0269 0.0060 0.0664 0.0106 -0.0705 -0.0207 -0.0784 -0.0291 -0.0283 -0.1568 -0.0393 0.0050 0.0204 -0.0026 0.0436 0.0279 -0.0393 0.0367 -0.0042 -0.0156 -0.0733 -0.1637 0.0652 -0.0062 -0.0650 -0.1984 -0.0411 -0.1534 0.0020 0.0133 -0.2364 -0.0528 -0.0042 -0.0447 0.0112 -0.0332 -0.0550 0.0013 0.0169 -0.0439 -0.0578 0.0223 -0.0777 -0.0432 -0.0251 0.2370 0.0004 -0.0042\n",
            ". 0.0342 -0.0801 0.1162 -0.3968 -0.0147 -0.0533 0.0606 -0.1052 0.0005 -0.0360 0.0257 0.0177 0.0285 0.0037 -0.0419 0.2374 0.0073 -0.0303 -0.0578 -0.0616 0.0065 0.0055 0.0620 -0.0036 -0.1077 -0.1046 0.0654 -0.0007 0.0235 0.0449 0.0013 -0.0496 -0.0030 0.1332 0.0314 -0.0152 0.0773 -0.3238 -0.0081 0.0108 -0.0478 0.1037 -0.0894 0.1494 0.5013 -0.1842 -0.0259 0.0780 -0.0296 0.0597 0.0438 -0.0477 -0.0359 -0.0604 0.0376 -0.0455 -0.1325 -0.0595 -0.0999 -0.0824 -0.0963 -0.0855 -0.0244 0.5080 -0.0271 -0.0886 -0.0160 -0.0503 -0.0295 -0.0177 0.3846 0.1046 0.1692 -0.0120 0.0465 -0.0801 0.0126 0.0522 0.1096 0.2034 0.0128 0.0064 -0.0638 0.0208 0.1247 0.0043 0.0863 0.1134 0.0314 0.0870 0.0581 0.0139 0.1129 0.0039 -0.1928 -0.1918 -0.2264 0.0319 -0.0108 -0.0572 0.0661 0.0072 -0.0243 0.0817 0.0124 -0.0023 -0.0671 0.0637 0.0683 -0.0160 0.0638 0.0179 0.0930 -0.1994 -0.0062 -0.0831 -0.0390 0.0223 0.0752 -0.0473 -0.0331 0.0411 -0.0264 0.0050 0.0732 0.0127 -0.0120 -0.1518 -0.0482 0.0112 -0.0677 -0.0567 0.0096 -0.4102 -0.1054 0.0108 -0.4377 0.0009 -0.0180 0.0575 0.0029 -0.0109 0.0439 -0.0377 0.0886 -0.0430 -0.9954 -0.0102 0.0165 -0.0913 0.1988 0.1050 -0.0605 0.0899 0.0143 0.0235 0.5098 0.1648 -0.0803 0.0982 -0.0146 -0.0691 -0.2319 0.0812 0.0033 0.0185 0.0190 0.0252 0.0410 -0.0093 -0.0462 -0.0149 0.1279 0.0029 -0.0192 -0.0110 -0.0070 -0.0739 0.0538 -0.0325 0.0112 -0.3188 0.0089 0.7444 0.0718 0.1976 0.0864 -0.1032 -0.0250 0.0158 -0.0967 -0.0028 -0.0473 0.0746 0.0153 0.0036 -0.0198 -0.0598 0.0702 -0.0945 -0.0444 -0.5588 -0.0280 -0.0655 0.1006 0.0174 -0.2034 -0.0155 0.0551 -0.0476 0.0795 0.0621 -0.0732 -0.0093 -0.0274 -0.0583 0.0597 -0.0671 0.0376 -0.1652 0.0615 0.0988 0.0516 -0.1770 -0.0328 0.0048 0.0501 -0.0052 -0.1288 -0.0688 -0.1061 -0.0701 -0.0147 -0.0525 0.0487 0.1475 0.0576 -0.0084 -0.0227 -0.0459 -0.0869 -0.1352 0.0435 -0.1126 1.1697 -0.0520 0.0239 0.0460 -0.0097 0.2175 -0.0613 -0.0294 -0.0274 -0.1675 -0.0110 0.0282 -0.1193 -0.0581 0.1425 -0.0218 0.0801 -0.1664 -0.0608 0.0108 0.2657 0.0531 0.0112 -0.1190 -0.1190 -0.1326 -0.1026 0.0041 0.4929 0.3728 0.1085 0.1950 -0.3836 -0.1544 0.2013 0.0457 0.0052 0.0232 0.2838 -0.1311 0.0553 -0.0563 0.0974 -0.0534 -0.0549 0.0354 0.0415 -0.0418 -0.1440 -0.0659 -0.0491 -0.0467 -0.0042 0.5423 -0.0624 0.0900\n",
            "and 0.0082 -0.0899 0.0265 -0.0086 -0.0609 0.0068 0.0652 0.0106 -0.0475 -0.0076 -0.0023 0.0009 -0.0067 -0.0226 -0.0066 -0.0725 0.0203 0.0215 -0.0507 0.0392 0.0533 -0.0045 -0.0019 0.0557 0.0146 -0.0571 0.0005 -0.0071 0.0149 -0.0528 0.0285 -0.0496 0.0222 0.0586 0.0213 0.0079 0.0187 0.0919 -0.0278 0.0239 0.0426 -0.0099 -0.0223 0.0856 -0.0448 -0.0142 -0.0001 -0.1002 -0.0124 0.0595 0.0236 0.0156 0.0194 0.0086 0.0152 0.0416 0.0198 -0.0075 -0.0308 -0.0211 0.0274 -0.0417 -0.0356 -0.0217 0.0138 0.0272 0.0291 0.0162 0.0223 0.0312 -0.0075 0.0103 0.0294 0.0126 0.0729 -0.0124 -0.0444 0.0331 -0.0976 -0.0259 0.0053 0.0176 -0.0195 0.0300 -0.0319 0.0281 0.0548 -0.0153 -0.0437 -0.0541 0.0112 0.0216 -0.0360 -0.0145 -0.0036 0.0196 0.0122 -0.0571 -0.0270 0.0638 0.0429 -0.0607 -0.0319 0.0032 -0.0125 -0.0713 -0.0304 -0.0122 0.0212 -0.0269 0.0082 -0.1155 0.0008 0.0896 -0.0165 -0.0128 -0.0411 -0.0135 0.0154 -0.0281 0.0618 -0.0037 -0.0811 0.0207 0.0202 0.0587 -0.0165 0.1276 -0.0317 -0.0039 -0.0439 0.0147 -0.0587 -0.0186 0.0126 -0.0054 -0.0426 0.0606 -0.0428 -0.0296 -0.0103 -0.0180 0.0103 0.0300 0.0206 0.0247 -0.3690 -0.0039 0.0272 -0.0251 -0.0401 0.0254 -0.0440 -0.0038 -0.0002 0.0138 0.0608 0.0326 -0.0870 -0.0047 -0.0584 -0.0243 -0.0934 -0.0029 -0.0029 0.0198 0.0149 -0.0409 0.0181 -0.0210 -0.0221 0.0168 0.0311 0.0334 -0.0504 0.0164 -0.0313 0.1001 0.0283 -0.0844 0.0168 0.0222 -0.0625 -0.0627 0.0308 0.0266 -0.0627 -0.0390 0.0234 -0.0504 -0.0445 0.0474 -0.0452 0.0411 0.0174 -0.0617 0.0638 -0.0659 -0.0149 0.0685 -0.0729 -0.0177 0.0046 -0.0138 -0.0161 -0.0184 -0.0989 0.0070 0.0543 0.1277 0.0356 -0.0027 0.0858 0.0111 -0.0020 0.0273 0.0501 -0.0387 0.0323 0.0417 0.0524 0.0277 -0.0144 0.0433 0.0427 -0.0107 0.0395 -0.0518 -0.0333 -0.0117 -0.0287 -0.0242 0.0370 0.0450 0.0316 -0.0527 0.0119 0.0500 0.0142 0.0323 0.0257 -0.0020 0.0564 -0.2396 0.6197 0.0086 0.0366 -0.0422 0.0743 0.0188 -0.0432 -0.0123 -0.0217 -0.0457 0.0127 -0.0475 -0.1059 0.0110 -0.0014 -0.0093 0.0387 0.0941 -0.0442 0.0169 -0.0713 0.0749 0.0029 0.0932 -0.1163 0.0106 -0.0150 0.0558 -0.0585 -0.0191 0.0228 0.0304 0.0189 -0.0319 -0.0564 0.0581 0.0060 0.0722 -0.1537 0.0284 0.0112 0.0418 0.0354 -0.0962 -0.0008 0.0197 0.0607 -0.0355 -0.0238 -0.0278 -0.0260 -0.0381 -0.0211 -0.0116 -0.0411 0.0363\n",
            "to 0.0047 0.0281 -0.0296 -0.0108 -0.0620 -0.0532 -0.0980 0.0970 -0.0864 -0.0425 0.0272 -0.0376 -0.0428 0.0374 -0.0040 -0.0354 0.0064 0.0182 -0.0584 0.6645 0.0644 0.0707 -0.0402 -0.1074 -0.2283 -0.0792 0.0025 -0.0092 -0.2078 0.1934 -0.0301 -0.1259 0.0444 0.0713 0.0433 -0.0415 -0.6236 0.3654 -0.0123 -0.0423 0.0435 0.0502 -0.1302 0.0649 0.2670 0.1210 0.0346 0.1850 0.0521 0.0283 0.0776 -0.1018 -0.0567 -0.0728 -0.0254 -0.0705 -0.1293 0.1515 -0.1173 -0.1377 -0.0204 -0.0217 0.0070 -0.5928 -0.0595 -0.0666 0.0318 -0.0878 -0.0167 -0.0460 0.0700 0.0213 0.0985 -0.0205 0.0085 -0.0939 0.0774 0.1188 -0.1067 -0.2018 0.0288 -0.0399 -0.0219 -0.0134 0.4109 -0.0234 0.1017 0.2881 -0.0449 -0.3368 -0.0315 -0.0809 0.0940 -0.0518 -0.0475 -0.5167 -0.1999 0.0226 -0.0811 -0.0437 -0.0081 0.1105 0.0517 -0.1964 -0.0126 0.0381 0.1052 0.0019 0.0569 0.0195 -0.0397 0.0607 0.0438 -0.0737 -0.0172 -0.0208 0.0498 0.1633 -0.0268 -0.0278 0.0018 -0.0246 -0.2153 -0.0124 0.0213 -0.0624 -0.0041 -0.2018 0.0505 0.0619 -0.0408 -0.0456 0.1332 0.3132 -0.0459 0.0016 -0.3367 -0.0274 0.0390 0.0620 -0.0640 -0.0869 -0.0004 0.0439 0.4356 0.0317 -0.9923 -0.0041 -0.0609 0.0086 -0.0195 0.0984 0.3098 0.0713 -0.0617 0.0414 0.2753 -0.0233 -0.0001 0.1100 0.0523 0.0180 0.3354 0.0563 0.0776 -0.0596 -0.0898 0.0156 -0.1101 0.0454 -0.0145 -0.0607 0.0578 -0.0799 0.0001 -0.0533 0.0791 0.0198 0.0549 0.1604 -0.0379 0.3503 -0.1227 -0.0384 0.0086 0.1561 -0.2621 -0.1502 0.0508 0.1018 -0.0441 0.0975 0.0229 -0.0156 0.0132 0.0223 0.0090 -0.0066 0.0932 -0.1725 0.0339 0.6197 0.0383 -0.1625 0.1081 -0.0064 -0.2402 0.0024 -0.0789 -0.1186 -0.0651 -0.0011 0.1207 0.0766 -0.0091 -0.0295 -0.1350 0.0065 0.0444 -0.0736 -0.0202 0.0356 -0.0056 -0.0090 0.1048 -0.1593 0.0499 -0.0075 -0.2655 -0.1139 0.0383 0.0871 -0.5801 -0.1249 0.0065 -0.0604 0.0299 0.0610 -0.0484 0.0209 -0.0498 0.3544 0.1185 -0.1023 1.1741 0.0099 0.0551 0.0513 0.0347 -0.5451 0.1302 -0.2305 0.0088 -0.1085 -0.0125 0.1309 -0.1173 -0.0451 0.1080 0.0820 -0.0348 -0.0139 -0.0015 -0.0310 0.2747 0.0404 0.0027 0.0841 -0.0140 -0.0191 -0.1035 -0.0725 -0.1953 0.2172 -0.0067 0.2449 0.1352 0.2282 0.2828 0.6275 -0.1176 -0.1204 -0.3137 0.0473 0.0263 -0.0255 -0.0015 -0.0473 -0.0656 0.0381 0.3740 0.0261 -0.2208 -0.0312 0.0375 -0.0164 -0.0011 0.3256 -0.0509 0.0072\n",
            "of -0.0001 -0.1877 -0.0711 -0.4632 0.0002 0.0115 -0.0588 0.0574 -0.0275 -0.0036 -0.0098 -0.0414 0.0935 0.0541 -0.1960 -0.2909 -0.0632 0.0466 -0.0160 0.0308 -0.0679 0.0927 -0.0136 -0.0143 -0.2465 -0.1221 -0.0306 -0.0195 -0.0239 0.1938 0.0857 -0.0231 0.1146 -0.1669 -0.0564 -0.0697 0.4156 0.0970 -0.0382 -0.0540 -0.0327 0.1035 0.1476 -0.0286 -0.0977 -0.5861 -0.0348 -0.1596 0.0368 0.0350 -0.1274 -0.0766 -0.2187 -0.1020 0.0292 -0.0611 -0.1248 -0.1226 -0.1561 0.0026 -0.0567 -0.0128 0.0199 -0.2058 0.0172 -0.0017 0.0816 0.0123 0.0371 0.0352 0.6317 0.1009 0.0842 0.0339 0.0174 -0.1590 -0.0236 0.0065 0.4384 -0.1326 0.0838 -0.0216 -0.0125 -0.0029 0.1592 0.0248 0.3087 -0.7341 -0.1604 0.1809 -0.0747 0.0004 0.0340 -0.0629 0.2521 -0.1315 -0.1092 -0.0868 -0.0197 0.0131 0.1246 0.0272 0.0188 -0.2150 0.0209 0.0378 -0.0092 0.0391 0.0826 -0.0169 -0.0893 0.1233 -0.0342 0.5112 0.0278 0.0369 0.0182 0.0390 0.0222 -0.0440 0.0504 -0.1305 -0.0322 -0.0399 0.0364 -0.0060 -0.0363 0.1907 -0.0493 0.4924 0.0278 -0.0126 0.1377 0.1620 0.0777 0.0488 0.3074 -0.0699 0.0511 -0.0823 -0.0869 -0.0885 -0.0049 0.0623 0.3402 -0.1010 -0.7793 0.0548 -0.0364 -0.0255 -0.2537 0.1285 0.2463 0.0976 0.0179 0.0757 0.3209 -0.2619 0.0336 0.0767 0.0296 -0.0676 0.2080 0.0227 0.0692 0.0442 0.0338 0.1349 -0.0172 -0.1376 -0.0530 0.0074 0.1089 0.0009 -0.0356 0.0108 0.0209 0.0932 0.0039 0.0393 0.0138 0.2375 -0.1512 0.0935 -0.0149 0.2441 0.1910 -0.1638 0.0034 0.0412 0.0553 0.0555 -0.0829 0.0516 0.0580 -0.0115 -0.0250 -0.0066 0.0592 0.0241 -0.0390 0.6112 0.0601 -0.0083 0.0457 0.0616 0.0048 0.0812 0.0495 0.1826 -0.1636 0.0685 -0.1536 -0.0510 -0.0751 -0.0082 0.1437 -0.0251 0.0897 0.2579 -0.0355 0.0881 -0.0166 -0.2616 -0.0774 0.2639 0.0426 0.0113 0.0280 0.0270 0.0230 0.0102 -0.1128 -0.0435 0.0866 -0.0221 0.0277 -0.2634 -0.0695 0.0444 0.0419 0.2172 -0.1482 0.0125 1.4608 -0.0253 0.0681 0.0866 -0.0364 0.1117 -0.1593 0.0709 0.0980 -0.0395 0.0646 -0.1876 0.0072 0.0047 -0.3355 0.0212 -0.0011 -0.1406 -0.0946 -0.0412 0.2241 0.0659 0.0379 -0.0737 0.1541 -0.0353 -0.0094 -0.0470 0.1624 -0.2474 0.1695 -0.1705 0.3022 -0.4618 0.1029 0.1895 0.0998 0.0124 -0.1222 -0.0837 0.0732 -0.0552 0.0545 0.1123 -0.0209 0.0668 -0.4615 -0.0033 -0.1103 0.2095 -0.1291 -0.0253 -0.0001 0.0285 -0.1384 0.0181\n",
            "a 0.0876 -0.4959 -0.0499 -0.0937 -0.0472 -0.0211 0.2624 0.0269 -0.0900 -0.0363 -0.0306 -0.0142 0.0337 0.1001 -0.1523 0.6262 -0.0115 -0.0063 0.0011 0.0125 -0.0592 0.0788 -0.0150 -0.0954 0.0027 0.0076 -0.0123 -0.0037 0.0022 0.2066 0.0584 0.0186 0.0608 -0.2230 0.0379 -0.0436 0.0293 -0.3732 0.1711 -0.0031 -0.1176 0.0889 -0.0107 0.0289 0.1135 0.3175 -0.0360 0.1177 -0.0032 -0.0286 0.0827 0.0294 -0.1301 -0.0617 -0.0188 0.1010 -0.0382 -0.2412 -0.2218 -0.0646 -0.0414 -0.0542 0.0312 -0.4290 -0.1143 -0.1295 -0.0414 -0.0602 0.0798 -0.0576 -0.0207 0.0654 -0.0058 -0.0901 -0.0713 -0.0966 0.1082 0.0701 0.4568 0.0263 -0.0104 -0.0207 -0.0029 0.0185 0.4614 -0.0357 0.1848 0.0604 0.0982 -0.1659 -0.0496 -0.1049 0.0558 -0.0604 -0.2724 0.2926 -0.1992 0.0047 -0.0613 -0.0197 0.0297 0.1301 0.0787 -0.0087 -0.0238 0.1296 0.0073 0.0485 -0.0556 0.0309 -0.0801 0.0640 -0.0663 -0.1790 0.0063 -0.0717 -0.0422 0.1437 -0.0923 -0.0329 0.0838 0.0847 0.0479 -0.0159 -0.0198 -0.0455 0.0566 0.3171 -0.0132 -0.0021 -0.0030 -0.1055 0.2173 0.3917 -0.0060 0.0089 -0.1015 0.0867 0.1599 -0.0567 0.0566 -0.0222 0.0343 0.0722 -0.1135 -0.0054 -0.8177 0.0457 -0.0387 0.0425 -1.0323 0.0132 -0.4213 0.1022 -0.0329 -0.0337 0.1715 -0.3718 0.0154 0.1216 0.0959 -0.0552 0.3990 0.0265 0.1393 -0.0912 0.0671 0.0573 -0.0525 -0.0711 0.0154 -0.0703 0.0895 -0.1358 -0.0460 -0.0456 0.0366 -0.0285 0.0584 0.0479 0.0916 0.3069 -0.1600 0.0581 -0.0455 0.1881 0.2715 -0.0432 -0.0345 -0.0180 -0.0139 -0.0344 0.1960 -0.0279 0.0761 0.0084 -0.0915 -0.0209 0.0457 -0.2600 -0.0404 1.2806 0.0451 0.0136 0.0885 0.0409 0.2782 -0.0724 0.0089 -0.2271 -0.1389 -0.0332 -0.3227 0.0117 -0.0545 0.0011 0.0816 0.0499 0.1140 0.2573 0.0516 0.0677 0.0472 0.0712 0.0811 -0.1531 0.0244 -0.0545 0.0177 0.0133 -0.0322 0.0894 -0.0334 -0.1128 -0.0228 0.2817 -0.0184 -0.0121 -0.1439 0.0245 0.0586 0.0980 0.0907 -0.0582 1.2555 -0.1311 -0.0550 0.1610 -0.1878 0.0115 0.0014 0.1759 0.0245 -0.1354 -0.0282 0.1128 -0.0907 0.0487 -0.1194 0.1444 -0.1511 0.0101 -0.0533 -0.1374 -0.0266 0.0477 0.1119 -0.1755 0.0768 -0.3507 -0.1941 -0.0894 0.1250 0.2225 -0.0788 -0.2031 -0.1970 0.0817 0.1293 -0.1875 0.1125 0.0538 -0.2714 -0.1384 0.0443 -0.0590 -0.0373 -0.0474 -0.0847 0.0545 0.4287 0.1403 -0.1608 0.1409 0.0109 -0.0062 -0.0242 0.5349 -0.0558 -0.0166\n",
            "</s> 0.0731 -0.2430 -0.0353 -0.3631 0.0380 0.0580 -0.1924 0.0283 -0.0737 0.0127 0.0917 -0.0233 0.0858 -0.0136 0.0569 0.1742 -0.0814 -0.0681 -0.0338 -0.1833 0.0175 0.0802 0.1190 -0.0762 -0.3242 -0.0395 -0.0796 0.0193 -0.0352 0.7771 -0.0255 -0.0422 0.0609 0.0792 -0.1056 -0.0170 0.2134 -0.3751 -0.0071 0.0697 0.0306 0.1578 -0.1587 0.0049 0.5308 -0.1463 0.0383 0.2731 0.1562 -0.0714 -0.1342 -0.0814 0.0615 0.0212 -0.0447 -0.0964 -0.2225 -0.0074 0.1077 0.0110 0.0169 0.0839 0.0349 0.5137 -0.0066 0.1021 0.1689 -0.0946 0.0339 -0.0342 0.4111 -0.0312 0.0602 -0.0502 0.1304 0.0027 0.0546 -0.1327 0.2900 0.1126 0.0759 -0.0372 0.2213 -0.0459 0.2853 -0.0216 -0.0895 0.1296 -0.0923 -0.0105 -0.0161 -0.1782 -0.2344 -0.0089 -0.2624 -0.0525 -0.3413 0.1510 0.0429 -0.1404 -0.0088 0.1659 0.1526 0.2601 -0.1245 0.1331 -0.0375 -0.0007 0.0764 0.0974 -0.0150 0.0942 -0.0188 -0.2265 0.0439 0.1505 0.1908 0.0461 -0.0173 -0.0496 0.1151 -0.1019 -0.0696 -0.0789 -0.1233 -0.1995 0.0457 -0.0318 -0.1206 -0.1645 0.0443 -0.0386 0.1336 -0.2531 0.0672 -0.1441 -0.4399 -0.1664 -0.0456 0.0037 -0.0939 -0.0639 -0.1184 0.0349 0.2886 -0.1034 -1.0094 -0.0419 -0.0683 -0.0083 0.0201 -0.0888 0.3062 0.1137 -0.0503 -0.0650 0.8131 0.0939 0.1026 0.0829 0.1135 -0.0774 -0.1822 0.0910 0.0850 -0.1230 0.0744 -0.0762 -0.1740 -0.0824 0.0926 -0.0573 -0.0370 -0.0519 -0.0065 -0.1886 0.0833 -0.1467 -0.0947 0.2036 -0.0790 0.8405 0.1763 0.6171 0.0773 0.0801 0.1462 0.0633 0.0065 -0.0058 0.0619 -0.0880 -0.0116 -0.0744 0.0365 -0.0335 0.1250 0.0718 -0.0050 -0.5228 -0.0419 -0.1213 -0.0524 -0.0024 0.1224 -0.0658 -0.5442 -0.1019 -0.0860 -0.4417 0.0790 0.1641 -0.2158 0.0772 0.0493 0.0037 -0.1223 0.1075 0.0419 -0.2768 -0.1969 -0.0005 -0.0065 -0.2081 -0.2939 -0.1594 -0.0341 -0.0719 -0.2962 -0.0822 0.1190 0.1834 0.2438 -0.1116 -0.1770 0.3082 -0.0419 0.0102 0.0299 -0.1144 -0.0023 -0.3917 0.4806 -2.2121 1.4759 -0.1241 -0.0648 0.0309 0.1354 0.1987 0.0993 0.0934 -0.1105 -0.1429 -0.0583 -0.0105 0.3661 0.1222 -0.0797 0.1509 0.0325 0.1190 -0.4640 0.0027 0.0642 -0.1214 -0.0172 0.0086 -0.2630 -0.0439 0.1087 -0.1628 0.4457 0.4626 -0.1086 0.3086 -0.1952 0.0850 0.3832 0.0482 0.1605 -0.0066 0.0749 0.0166 0.1219 -0.0253 0.0106 -0.0688 0.0705 0.0807 -0.2426 -0.0385 -0.2364 -0.1510 0.0645 0.1142 0.1037 0.4093 -0.0932 -0.0461\n",
            "in -0.0140 -0.2522 0.0715 -0.0246 -0.0637 -0.0364 0.1619 0.0268 -0.0475 0.0192 0.0102 0.0243 0.0691 -0.0131 0.0100 0.0384 0.0049 -0.0646 0.0062 -0.2644 -0.0436 0.0482 0.0965 0.0303 -0.0419 -0.0725 -0.0309 0.0358 0.0183 0.1035 0.1145 -0.0688 -0.0053 -0.2819 -0.2296 -0.0920 0.0032 0.7827 0.0972 -0.0344 -0.0813 0.1042 -0.0097 -0.0404 -0.1460 -0.0859 -0.0571 0.1671 -0.0321 -0.0204 -0.0316 0.0623 -0.1638 -0.0375 -0.0512 -0.2756 -0.2067 -0.2015 0.0878 -0.0350 -0.0385 -0.0004 0.0474 -0.1300 0.0052 -0.0484 0.0840 -0.1381 -0.0642 0.0140 -0.1044 -0.0456 0.0877 -0.0229 -0.0419 -0.1083 0.0768 -0.0058 0.0683 -0.3820 -0.0489 -0.0137 0.0042 0.0274 0.0018 -0.0764 0.0188 -0.0126 -0.0266 -0.0022 -0.0397 -0.0326 0.1004 0.0008 -0.3710 0.0143 -0.5057 -0.0563 -0.0324 -0.0150 0.0679 -0.0075 -0.0516 -0.1919 0.0231 0.0041 -0.0303 0.0057 0.0732 0.0722 0.0289 -0.1766 0.0102 0.5299 0.0130 0.0332 -0.0445 0.0497 0.0220 -0.0794 -0.0549 -0.0055 0.0152 -0.0195 -0.1831 -0.0861 0.0327 -0.1276 -0.0176 0.2193 -0.0152 0.0204 0.0681 -0.0003 -0.3027 -0.0579 -0.1060 0.1507 0.0009 0.2192 -0.0802 -0.0026 -0.0305 -0.0336 0.2453 0.0414 -0.8213 0.0120 -0.0473 0.0539 -0.4324 0.0062 0.2391 -0.0053 0.0046 0.0013 0.5302 -0.2481 0.0565 0.0618 0.0533 -0.0440 -0.2049 0.0077 0.0326 -0.0322 -0.0085 -0.1772 -0.0106 -0.1253 -0.0131 0.0267 0.0493 -0.0791 0.0806 0.0444 -0.0212 0.3405 0.0054 -0.0862 0.1064 0.1316 -0.0495 0.2879 -0.0545 0.2327 -0.0770 -0.0906 0.1125 0.1008 -0.1095 0.0341 -0.1275 0.0054 0.0216 -0.0083 -0.0621 0.0767 -0.1278 -0.0720 0.0083 0.6660 -0.0168 0.0465 0.0063 -0.0075 -0.0267 -0.0080 0.0482 -0.2656 0.1732 0.1060 0.0242 0.1088 -0.0683 -0.0114 0.1227 -0.0706 -0.1164 0.1825 -0.0261 0.1076 0.0820 -0.0716 -0.2241 0.0683 0.0585 0.0379 0.2511 -0.0656 0.0367 0.0144 -0.1207 0.0538 0.0330 0.1530 0.0071 -0.1196 0.0067 -0.0452 -0.0267 0.6865 0.0394 -0.0609 1.3707 -0.0411 0.0020 0.1064 0.1183 -0.4046 0.0442 0.1037 0.0727 -0.0822 0.0172 -0.0795 -0.0801 -0.0283 -0.1014 0.1521 0.0364 -0.1821 -0.1327 -0.1123 -0.0203 -0.0533 -0.0602 0.0791 0.3133 0.3044 -0.0951 -0.1197 0.1718 0.2629 -0.1348 -0.3196 0.1980 -0.4672 0.1230 -0.5156 0.0471 -0.2120 -0.1742 -0.1205 0.0024 -0.0434 -0.0344 -0.0141 -0.0519 0.0879 0.1052 0.0814 -0.0323 0.0973 -0.0105 0.0093 -0.0196 0.1370 0.0045 0.0329\n"
          ],
          "name": "stdout"
        }
      ]
    },
    {
      "cell_type": "markdown",
      "metadata": {
        "id": "L1C5r-yGLCAF"
      },
      "source": [
        "The general concept behind word embeddings is the same regardless of the considered technique behind their creation: providing a feature-rich vectorial representation of each word. We will now go back to our task but why don't you explore the space of these FastText embeddings yourself?"
      ]
    },
    {
      "cell_type": "markdown",
      "metadata": {
        "id": "-MPWzJWEEcOT"
      },
      "source": [
        "So, time to define our training, validation and test sets. In the previous notebooks, we used a hand-crafted function $\\phi$ to induce these sets, which is obviously not very *real-world* for at least $2$ reasons:\n",
        "* the vast majority of reviews cannot be really classified (synonyms, uncovered words, ...).\n",
        "* the logical (and **correct**) flow is that $i)$ you receive data and, then, $ii)$ you define feature functions that can fit them, not the other way around (in Notebook 2, we did it for pedagogical reasons, but bear in mind that it is **not** the correct approach).\n",
        "\n",
        "Thus, first of all, let's correct our setting: we will consider **all** (well, not really all of them, we will limit them for computational and timing purposes) available reviews in the downloaded dataset and stop the filtering procedure on function $\\phi$. Then, we will directly split them into train, dev and test as usual."
      ]
    },
    {
      "cell_type": "code",
      "metadata": {
        "colab": {
          "base_uri": "https://localhost:8080/"
        },
        "id": "AG1n4TeVBFRi",
        "outputId": "3da146a0-d8ff-4337-b777-f49a5c759b14"
      },
      "source": [
        "! head -10 data/dataset.raw.tsv"
      ],
      "execution_count": null,
      "outputs": [
        {
          "output_type": "stream",
          "text": [
            "5\tUsed this for Elite Dangerous on my mac, an amazing joystick. I especially love that you can twist the stick for different movement bindings as well as move it in the normal way.\n",
            "5\tLoved it,  I didn't even realise it was a gaming mouse,  I typed in &#34;silent mouse&#34; and selected this one. It is perfect and looks pretty cool as well. Now my boyfriend's gaming is wonderfully comfortably silent :) . Think I might just get one for myself.\n",
            "1\tpoor quality work and not as it is advertised.\n",
            "3\tnice, but tend to slip away from stick in intense (hard pressed) gaming sessions.\n",
            "4\tGreat amiibo, great for collecting. Quality material to be desired, since its not perfect.\n",
            "1\tThe remote constantly have to be adjusted in order to charge.\n",
            "5\tI have a 2012-2013 XL and this is very durable, comfortable, and really cool looking.\n",
            "5\tPerfect, kids loved them. Great protection for their technology.\n",
            "5\tExcelent\n",
            "4\tSlippery but expected\n"
          ],
          "name": "stdout"
        }
      ]
    },
    {
      "cell_type": "markdown",
      "metadata": {
        "id": "9orB4S2CFbr6"
      },
      "source": [
        "- Training set: 50k reviews\n",
        "- Validation set: 5k reviews\n",
        "- Test set: 5k reviews"
      ]
    },
    {
      "cell_type": "code",
      "metadata": {
        "id": "9NEc3_MUH05U"
      },
      "source": [
        "! shuf data/dataset.raw.tsv | head -60000 > data/dataset.shuf.tsv\n",
        "! head -5000 data/dataset.shuf.tsv > data/dataset.test.tsv\n",
        "! head -10000 data/dataset.shuf.tsv | tail -5000 > data/dataset.validation.tsv\n",
        "! tail +10001 data/dataset.shuf.tsv > data/dataset.train.tsv"
      ],
      "execution_count": null,
      "outputs": []
    },
    {
      "cell_type": "markdown",
      "metadata": {
        "id": "196lgOY-5n37"
      },
      "source": [
        "Ok, but now that we removed the *induction tecnique* that made the definition of $\\phi$ simple, how do we define $\\phi$?\n",
        "\n",
        "As it turns out, this is one of the main applications of word embeddings. NLP systems commonly leverage functions $\\phi$-s that essentially revolve to some manipulation of the original word embeddings of each word in the provided input text."
      ]
    },
    {
      "cell_type": "markdown",
      "metadata": {
        "id": "fPJLL5WNtXHe"
      },
      "source": [
        "So, let's first load the actual word embeddings. Due to memory constraints we are going to limit the number of words in our vocabulary to 100K."
      ]
    },
    {
      "cell_type": "code",
      "metadata": {
        "colab": {
          "base_uri": "https://localhost:8080/",
          "height": 49,
          "referenced_widgets": [
            "66777d6c53544562b1201f0cbd259580",
            "e2a9a985529240cc9b8fe169ae67c26e",
            "8aa1a29107ec4acfb603ec9b5bee0278",
            "3438d7b0472d46d99ed4e3b644ac6ac8",
            "e109a4004caa40dab6bd6dd6eb00c9f9",
            "8d4073f4d8894d9c83dd4ef8dab6f172",
            "4537fa626d104bada21d48ebea3edc7e",
            "09a16437fab34b8a8ea97812bb6ad788"
          ]
        },
        "id": "4-urWBC_0akH",
        "outputId": "47d913cf-97c4-4ce2-b23f-e230a2b14d00"
      },
      "source": [
        "word_vectors = dict()\n",
        "words_limit = 100_000\n",
        "with open('data/cc.en.300.vec') as f:\n",
        "\n",
        "    next(f)  # skip header\n",
        "\n",
        "    for i, line in tqdm(enumerate(f), total=words_limit):\n",
        "\n",
        "        if i == words_limit:\n",
        "            break\n",
        "\n",
        "        word, *vector = line.strip().split(' ')\n",
        "        vector = torch.tensor([float(c) for c in vector])\n",
        "        \n",
        "        word_vectors[word] = vector"
      ],
      "execution_count": null,
      "outputs": [
        {
          "output_type": "display_data",
          "data": {
            "application/vnd.jupyter.widget-view+json": {
              "model_id": "66777d6c53544562b1201f0cbd259580",
              "version_major": 2,
              "version_minor": 0
            },
            "text/plain": [
              "HBox(children=(FloatProgress(value=0.0, max=100000.0), HTML(value='')))"
            ]
          },
          "metadata": {
            "tags": []
          }
        }
      ]
    },
    {
      "cell_type": "markdown",
      "metadata": {
        "id": "75bWs2cKNJdo"
      },
      "source": [
        "We recall that most of the word embeddings techniques tend to cluster words that co-occur frequently. We can see that this property holds even for the embeddings that we are currently using (i.e. FastText) by examining the cosine similarity."
      ]
    },
    {
      "cell_type": "code",
      "metadata": {
        "id": "JD9Ic0IxzNlF"
      },
      "source": [
        "def cosine_similarity(v1: torch.Tensor, v2: torch.Tensor) -> float:\n",
        "    num = torch.sum(v1 * v2)\n",
        "    den = torch.linalg.norm(v1) * torch.linalg.norm(v2)\n",
        "    return (num / den).item()"
      ],
      "execution_count": null,
      "outputs": []
    },
    {
      "cell_type": "code",
      "metadata": {
        "colab": {
          "base_uri": "https://localhost:8080/"
        },
        "id": "9B096Mzr0SKV",
        "outputId": "ce282921-e1ea-423e-d001-d2deff3ece62"
      },
      "source": [
        "cosine_similarity(word_vectors['king'], word_vectors['queen'])"
      ],
      "execution_count": null,
      "outputs": [
        {
          "output_type": "execute_result",
          "data": {
            "text/plain": [
              "0.7069180607795715"
            ]
          },
          "metadata": {
            "tags": []
          },
          "execution_count": 12
        }
      ]
    },
    {
      "cell_type": "code",
      "metadata": {
        "colab": {
          "base_uri": "https://localhost:8080/"
        },
        "id": "HMu4qguo7Sls",
        "outputId": "fba2fbc6-0dfa-419d-f532-a6956e60ade3"
      },
      "source": [
        "cosine_similarity(word_vectors['woman'], word_vectors['man'])"
      ],
      "execution_count": null,
      "outputs": [
        {
          "output_type": "execute_result",
          "data": {
            "text/plain": [
              "0.7658365964889526"
            ]
          },
          "metadata": {
            "tags": []
          },
          "execution_count": 13
        }
      ]
    },
    {
      "cell_type": "code",
      "metadata": {
        "colab": {
          "base_uri": "https://localhost:8080/"
        },
        "id": "HDLVVsEA7iEy",
        "outputId": "0a720495-5f2f-4c4e-a4b0-c37c1fede220"
      },
      "source": [
        "cosine_similarity(word_vectors['plain'], word_vectors['man'])"
      ],
      "execution_count": null,
      "outputs": [
        {
          "output_type": "execute_result",
          "data": {
            "text/plain": [
              "0.19196707010269165"
            ]
          },
          "metadata": {
            "tags": []
          },
          "execution_count": 14
        }
      ]
    },
    {
      "cell_type": "markdown",
      "metadata": {
        "id": "yyeEn2Uy8j7I"
      },
      "source": [
        "We can finally define our first word-embedding-powered function $\\phi$. This first version will be quite simple: it just converts any review to a vector by **averaging the embeddings corresponding to each word in it**."
      ]
    },
    {
      "cell_type": "code",
      "metadata": {
        "id": "N_3LWLAM9HYM"
      },
      "source": [
        "def review2vector(review: str) -> Optional[torch.Tensor]:\n",
        "    reviews_word_vector = [word_vectors[w] for w in review.split(' ') if w in word_vectors]\n",
        "    \n",
        "    if len(reviews_word_vector) == 0:\n",
        "        return None\n",
        "\n",
        "    reviews_word_vector = torch.stack(reviews_word_vector)  # tensor shape: (#words X #features)\n",
        "    return torch.mean(reviews_word_vector, dim=0)"
      ],
      "execution_count": null,
      "outputs": []
    },
    {
      "cell_type": "markdown",
      "metadata": {
        "id": "yDwoMAd9OE7Q"
      },
      "source": [
        "We define i a separate function the way we convert each review into a vector. We opted for this strategy to highlight that **we are using the word embeddings just as another way to encode discrete sequences of words in continuous vectors**, i.e. as a different function $\\phi$."
      ]
    },
    {
      "cell_type": "code",
      "metadata": {
        "id": "KHnSG94u91FU"
      },
      "source": [
        "# same class as Notebook 4\n",
        "class AmazonReviewsDataset(torch.utils.data.Dataset):\n",
        "\n",
        "    def __init__(self, dataset_path: str, review2vector):\n",
        "        self.data_store = []\n",
        "        self.init_structures(dataset_path, review2vector)\n",
        "\n",
        "    def init_structures(self, dataset_path: str, review2vector) -> None:\n",
        "\n",
        "        with open(dataset_path) as f:\n",
        "            \n",
        "            next(f)  # skip headers\n",
        "\n",
        "            for line in f:\n",
        "                \n",
        "                try:\n",
        "                    stars, review = line.strip().split('\\t')\n",
        "                except:\n",
        "                    continue\n",
        "                \n",
        "                review_vector = review2vector(review)\n",
        "\n",
        "                if review_vector is None:\n",
        "                    continue\n",
        "\n",
        "                self.data_store.append((review_vector, int(stars) - 1))\n",
        "\n",
        "    def __len__(self) -> int:\n",
        "        return len(self.data_store)\n",
        "\n",
        "    def __getitem__(self, idx: int) -> torch.Tensor:\n",
        "        return self.data_store[idx]\n"
      ],
      "execution_count": null,
      "outputs": []
    },
    {
      "cell_type": "markdown",
      "metadata": {
        "id": "AikcfDuT6TYd"
      },
      "source": [
        "Also the AmazonReviewsDataModule is untouched by our modification."
      ]
    },
    {
      "cell_type": "code",
      "metadata": {
        "id": "EkYo06ab_PBE"
      },
      "source": [
        "\n",
        "class AmazonReviewsDataModule(pl.LightningDataModule):\n",
        "\n",
        "    def __init__(\n",
        "        self, \n",
        "        data_train_path: str,\n",
        "        data_dev_path: str,\n",
        "        data_test_path: str,\n",
        "        batch_size: int,\n",
        "        collate_fn=None\n",
        "    ) -> None:\n",
        "        super().__init__()\n",
        "        self.data_train_path = data_train_path\n",
        "        self.data_dev_path = data_dev_path\n",
        "        self.data_test_path = data_test_path\n",
        "        self.batch_size = batch_size\n",
        "        self.collate_fn = collate_fn\n",
        "\n",
        "        self.train_dataset = None\n",
        "        self.validation_dataset = None\n",
        "        self.test_dataset = None\n",
        "\n",
        "    def setup(self, stage: Optional[str] = None) -> None:\n",
        "        if stage == 'fit':\n",
        "            self.train_dataset = AmazonReviewsDataset(self.data_train_path, review2vector)\n",
        "            self.validation_dataset = AmazonReviewsDataset(self.data_dev_path, review2vector)\n",
        "        elif stage == 'test':\n",
        "            self.test_dataset = AmazonReviewsDataset(self.data_test_path, review2vector)\n",
        "\n",
        "    def train_dataloader(self, *args, **kwargs) -> DataLoader:\n",
        "        return DataLoader(self.train_dataset, batch_size=self.batch_size)\n",
        "\n",
        "    def val_dataloader(self, *args, **kwargs) -> Union[DataLoader, List[DataLoader]]:\n",
        "        return DataLoader(self.validation_dataset, batch_size=self.batch_size)\n",
        "\n",
        "    def test_dataloader(self, *args, **kwargs) -> Union[DataLoader, List[DataLoader]]:\n",
        "        return DataLoader(self.test_dataset, batch_size=self.batch_size)"
      ],
      "execution_count": null,
      "outputs": []
    },
    {
      "cell_type": "code",
      "metadata": {
        "id": "PKoe4DRH_ZYk"
      },
      "source": [
        "amazon_review_dm = AmazonReviewsDataModule(\n",
        "    data_train_path='data/dataset.train.tsv',\n",
        "    data_dev_path='data/dataset.validation.tsv',\n",
        "    data_test_path='data/dataset.test.tsv',\n",
        "    batch_size=32,\n",
        ")"
      ],
      "execution_count": null,
      "outputs": []
    },
    {
      "cell_type": "markdown",
      "metadata": {
        "id": "BBirmQLz6k-c"
      },
      "source": [
        "Let's check the shape of the batch elements our test dataset returns. If everything is correct, shapes should be ($batch\\ size \\times features$) for X and ($batch\\ size$) for y."
      ]
    },
    {
      "cell_type": "code",
      "metadata": {
        "colab": {
          "base_uri": "https://localhost:8080/"
        },
        "id": "DADHCxJ3BDCs",
        "outputId": "1e61ca88-95e3-4399-ddfe-e7c64ee12e8d"
      },
      "source": [
        "amazon_review_dm.setup('test')\n",
        "test_dataloader = amazon_review_dm.test_dataloader()\n",
        "\n",
        "for batch in test_dataloader:\n",
        "    X, y = batch\n",
        "    print(f\"batch X shape: {X.shape}\")\n",
        "    print(f\"batch y shape: {y.shape}\")\n",
        "    break"
      ],
      "execution_count": null,
      "outputs": [
        {
          "output_type": "stream",
          "text": [
            "batch X shape: torch.Size([32, 300])\n",
            "batch y shape: torch.Size([32])\n"
          ],
          "name": "stdout"
        }
      ]
    },
    {
      "cell_type": "markdown",
      "metadata": {
        "id": "AmqmSGNUPp-0"
      },
      "source": [
        "Finally, here we use the same AmazonReviewClassifier of Notebook 4 with the only difference being the number of features in input: word embedding size (300) vs hand-crafted features size (10)."
      ]
    },
    {
      "cell_type": "code",
      "metadata": {
        "id": "VCQjxcGJBJX0"
      },
      "source": [
        "\n",
        "class AmazonReviewClassifier(pl.LightningModule):\n",
        "\n",
        "    REVIEWS_CLASSES = 5\n",
        "\n",
        "    def __init__(self, n_features: int, n_hidden: int):\n",
        "        super().__init__()\n",
        "        # classification function\n",
        "        self.lin1 = torch.nn.Linear(n_features, n_hidden)\n",
        "        self.lin2 = torch.nn.Linear(n_hidden, self.REVIEWS_CLASSES)\n",
        "        \n",
        "        # criterion\n",
        "        self.loss_fn = torch.nn.CrossEntropyLoss()\n",
        "        \n",
        "        # metrics\n",
        "        self.val_f1 = pl.metrics.F1(self.REVIEWS_CLASSES)\n",
        "        self.test_f1 = pl.metrics.F1(self.REVIEWS_CLASSES)\n",
        "        \n",
        "        # hyperparams store\n",
        "        self.save_hyperparameters()\n",
        "\n",
        "\n",
        "    def forward(self, x: torch.Tensor, y: Optional[torch.Tensor] = None) -> Dict[str, torch.Tensor]:\n",
        "        # actual forward\n",
        "        out = self.lin1(x)\n",
        "        out = torch.relu(out)\n",
        "        out = self.lin2(out).squeeze(1)\n",
        "\n",
        "        # compute logits (which are simply the out variable) and the actual probability distribution (pred, as it is the predicted distribution)\n",
        "        logits = out\n",
        "        pred = torch.softmax(logits, dim=-1)\n",
        "\n",
        "        result = {'logits': logits, 'pred': pred}\n",
        "\n",
        "        # compute loss\n",
        "        if y is not None:\n",
        "            # while mathematically the CrossEntropyLoss takes as input the probability distributions,\n",
        "            # torch optimizes its computation internally and takes as input the logits instead\n",
        "            loss = self.loss(logits, y)\n",
        "            result['loss'] = loss\n",
        "\n",
        "        return result\n",
        "\n",
        "    def training_step(\n",
        "        self, \n",
        "        batch: Tuple[torch.Tensor], \n",
        "        batch_idx: int\n",
        "    ) -> torch.Tensor:\n",
        "        forward_output = self.forward(*batch)\n",
        "        return forward_output['loss']\n",
        "\n",
        "    def validation_step(\n",
        "        self, \n",
        "        batch: Tuple[torch.Tensor], \n",
        "        batch_idx: int\n",
        "    ):\n",
        "        forward_output = self.forward(*batch)\n",
        "        \n",
        "        self.val_f1(forward_output['pred'], batch[1])\n",
        "\n",
        "        self.log('val_f1', self.val_f1, prog_bar=True)\n",
        "        self.log('val_loss', forward_output['loss'], prog_bar=True)\n",
        "\n",
        "    def test_step(\n",
        "        self,\n",
        "        batch: Tuple[torch.Tensor],\n",
        "        batch_idx: int\n",
        "    ):\n",
        "        forward_output = self.forward(*batch)\n",
        "        self.test_f1(forward_output['pred'], batch[1])\n",
        "        self.log('test_f1', self.test_f1, prog_bar=True)\n",
        "\n",
        "    def loss(self, pred, y):\n",
        "        return self.loss_fn(pred, y)\n",
        "\n",
        "    def configure_optimizers(self):\n",
        "        optimizer = torch.optim.SGD(self.parameters(), lr=0.1, momentum=0.0)\n",
        "        return optimizer"
      ],
      "execution_count": null,
      "outputs": []
    },
    {
      "cell_type": "code",
      "metadata": {
        "id": "GeWHwbf1WtTL"
      },
      "source": [
        "amazon_review_classifier = AmazonReviewClassifier(\n",
        "    n_features=300, \n",
        "    n_hidden=128\n",
        ")"
      ],
      "execution_count": null,
      "outputs": []
    },
    {
      "cell_type": "markdown",
      "metadata": {
        "id": "B6rjAvn15kyF"
      },
      "source": [
        "Here we define the PyTorch Lightning trainer"
      ]
    },
    {
      "cell_type": "code",
      "metadata": {
        "id": "ZV0KXhfvBMdM"
      },
      "source": [
        "def get_trainer(ckpt_dir: str) -> pl.Trainer:\n",
        "\n",
        "    early_stopping = pl.callbacks.EarlyStopping(\n",
        "        monitor='val_f1',  # the value that will be evaluated to activate the early stopping of the model.\n",
        "        patience=3,  # the number of consecutive attempts that the model has to raise (or lower depending on the metric used) to raise the \"monitor\" value.\n",
        "        verbose=True,  # whether to log or not information in the console.\n",
        "        mode='max', # wheter we want to maximize (max) or minimize the \"monitor\" value.\n",
        "    )\n",
        "\n",
        "    check_point_callback = pl.callbacks.ModelCheckpoint(\n",
        "        monitor='val_f1',  # the value that we want to use for model selection.\n",
        "        verbose=True,  # whether to log or not information in the console.\n",
        "        save_top_k=3,  # the number of checkpoints we want to store.\n",
        "        mode='max',  # wheter we want to maximize (max) or minimize the \"monitor\" value.\n",
        "        dirpath=ckpt_dir,  # output directory path\n",
        "        filename='{epoch}-{val_f1:.4f}'  # the prefix on the checkpoint values. Metrics store by the trainer can be used to dynamically change the name.\n",
        "    )\n",
        "\n",
        "    # the PyTorch Lightning Trainer\n",
        "    trainer = pl.Trainer(\n",
        "        max_epochs=100,  # maximum number of epochs.\n",
        "        gpus=1,  # the number of gpus we have at our disposal.\n",
        "        progress_bar_refresh_rate=50,\n",
        "        callbacks=[early_stopping, check_point_callback]  # the callback we want our trainer to use.\n",
        "    )\n",
        "\n",
        "    return trainer"
      ],
      "execution_count": null,
      "outputs": []
    },
    {
      "cell_type": "markdown",
      "metadata": {
        "id": "aypPWN8HyGlP"
      },
      "source": [
        "And finally we can let the \"trainer\" fit the amazon reviews classifier.\n"
      ]
    },
    {
      "cell_type": "code",
      "metadata": {
        "colab": {
          "base_uri": "https://localhost:8080/",
          "height": 1000,
          "referenced_widgets": [
            "a0866203a25b4880b93974935e91dcd2",
            "19f202277c884873ae32a73a42ea96d3",
            "28e01ec89b204d5781d429aaaef42506",
            "a220c6d7cb664977939ee5e965c38839",
            "9ed8da001c3e4a44a600f69ccde83ca0",
            "8ddddd2eeb744c14830bc995adff3b60",
            "afc11bdb20414dfeba3bae73a4dab878",
            "58f319a923a2467bbd4a3ab7762daea2",
            "ffff373d6fef47668f9d8bec84c8c5df",
            "bcdddf064a6747f89c72f2c45dbe92cf",
            "e5a0577a77bb4c97a818b4968f04c5e8",
            "70adbb6fafb94336b42d00beb6db497c",
            "4cbdd325304e4064a3be5286252d1c46",
            "2dd1061e2a4a485baa43153115002225",
            "8d624a40edff48e798a988d2cbc0046b",
            "248f8578cd2c44098d281a0a25ce5a91",
            "e6717c9629ea49f4b19dd3a7e57faff1",
            "b28b3b54f4114cb2939e60955aa9a124",
            "aca7fcc36cda4a5c9a7f682627a4c0de",
            "f1af792e081c437c8d068c72cd59d311",
            "b3d9931867204c418519adc2d4b27033",
            "68ef7074d74047bc9639e357f95ea48f",
            "33c3a5c3d49b49808cef4e1f042d6517",
            "e34fcad4eb4f45ba96c7d4b5793d8e66",
            "5a97509c8e034ac28d9113b95f60d3da",
            "8378505d63cb449ab527d15760d11c04",
            "12e8da7d57394e299936e85bb71018ab",
            "74d96706422c42d2b6bca95d3f32771b",
            "29c4974079844184a3074f0df93a760a",
            "aed0fd6778c045f89c8f77ff33b3d4e9",
            "2b2cc5cfdb8c44caa2ff328422cf6743",
            "857c696f7af145de9fdec9b857501e57",
            "54dd04c650e54504a86a20a90853830c",
            "7507da0f60104b19a9c9a9c9dc284539",
            "573069ff5c1640cc9ebd7dfce93d8f1b",
            "dc783e8d0bef48198f4fa70474d51e60",
            "15cafe1bf0e64aef8c5160c4687e14de",
            "8ce73be1e6894118bf1b1e998248fa7a",
            "64f32ba62c094f2aaaf7c1bc19f96fba",
            "442b96e94539498f8c99a58bb703d530",
            "164070314de14b6786d9512ca9bce919",
            "3f8665fcf0e447aeb1c5112a681c14c2",
            "664eee20c2cb4bb184ec43743132a3eb",
            "de69bc62a7174778aabfadcd34138729",
            "bce008e6eec94143a1ab4907abfc899d",
            "b2e22fce660844ab9aeb176a4fcc3e7d",
            "747b57b5e62544f5ace7dd530286104d",
            "0646fc7d92d04c389b3e39d8ad8329ef",
            "de20e2f8bffc4dd0b85470ff6332eb74",
            "cbe0b032adb8481da44e08cc99e183a0",
            "9837fdeda77847818a1412a4f6edbcea",
            "94808200605a43bebe9943b43a75b96e",
            "23c4f89a816044dfb9dd3ebcd376227a",
            "6bb76466f0674df0a4d49c648e3ace53",
            "b6eca0d1ce77499f80aea21c21405046",
            "f8a8530233984944ad213be3532192e4",
            "17de690f4f3b4507a00899640dda6bad",
            "1cd93cdddd674fb394f929fc9b529552",
            "f64aad5441d84052849ca04a91371400",
            "5bac6555c8f34cf2acc8218739f0cc5e",
            "8c9b72c4ffb748ae99d9a88e57c67255",
            "9bb5460d89314b4fbef24e13e4f6491f",
            "6a46ccb0f3574ff990d6510b11de4e28",
            "77ee9da4f3f54e9abc8de3cac9f97582",
            "d65a89c242c944c980c80625167e418d",
            "b3e157879a504f998441bb235ebec474",
            "8b378ffcb88749068d8a07498faf5d57",
            "ef711a8544db4414831406be7a777790",
            "6c184c6384f74bbca1173c48d33ccebf",
            "391581ba964e4b1d98314c640fd42c35",
            "3aaff0183df3487da4e0e5a9e1644789",
            "630d60cd7bb44d02b80050cb70607b90",
            "c4639a41e1864efa8f9effb33a9c4dae",
            "20021fcc73c14a2bbd0c4034c90978cc",
            "9d342166e9de42e48c0d5dbb2bd8f038",
            "bcb0e744d6c04d44a4cc5de523eb6e83",
            "38c603c898f84a74961c3f1e3b703dab",
            "6f484fbdfdb844ff88d0e9f9850cfffb",
            "2ffcc02260fb495dbac44c43de6d0f20",
            "ee3fcb7ba3424dc8a596bc8dffffbc50",
            "65f6027842184e7f9041e5443812d166",
            "3bd278d90c984b5cbcf4a2a403c10703",
            "9a8a2cfe6a5a408bb446d85578bfab18",
            "32985665f7b64827bab3d70dd8432e2b",
            "230312dba4134d35b703685aa201d79c",
            "ea428733b34c47dd8a3fd58b5657d320",
            "e12eb464ca3e4f42b8fd587ff9673ad3",
            "093d975f853647b4821f2ab2d460d0c6",
            "d1a56e1672cf48298e665a6aa72b35a6",
            "63d836a1d942494fa1e5e5aac5728b28",
            "aa8ffb8983bd496398e8dcbc59941707",
            "66b19f05c08242878c86bb1492853d24",
            "0fd99ba4cd6e409e97288154a8bc9328",
            "6f9c362bbcef4a3ca233cfb645c78a14",
            "21318fa74f3b48e782a48435d75e18be",
            "ce06250091b2478eb4c9f9480b95b28c",
            "d9731040c82848b1a80c357345af9aab",
            "3353ad107e0c487794f320baea3c8344",
            "2debe267fb824f3da9ffef18316859ea",
            "5c897a9948f6450981ef9c49477b350f",
            "61d87669de044093ab5dc5565e11c653",
            "7af12aa88519467ea881da7324a5e4f8",
            "b5a2ea8aef1b4e0484671a269443c4e5",
            "3ea32cfef9924c0f9460114ba8f9379b",
            "cc6c1cad257f41cfad74289b248192e4",
            "f69943a7f81b4a818382400d756ad54c",
            "b62304edae834a3b8c63e02397cc12bf",
            "c6c363e6c8fa4e6db9292b07d10108b4",
            "6fbfe479f63d4cb7b40291c938c00fea",
            "0ac1851015a14f758bf040efa7e9b7f3",
            "cb4f4c83fe8b41299f176167b989770f",
            "7810c62c098f4d47a7b977a50c905908",
            "a84dac72fa46428589eb9b888c2e479d",
            "48bbba00018a441a87620626e3033b42",
            "8041d725b6524759b9f354d373cb9d0c",
            "70091899a55c4a8f81a59fbd62592d19",
            "0dcb891df7aa4d14a9339ee39b99f1ff",
            "da35b5e0d9004c5e99e93769bca9b144",
            "a780e9274b074aebb05765fa1f783f55",
            "904610ccbd274d6187df6d8655ab0b60",
            "769a7e79ad6d48bdbacd024d6da49a19",
            "bae9c69a76a74da09e1ea32f9da113e0",
            "ea6b31c4bf4f425aae6a8d6f915839dc",
            "8e06878c03224ddabbb3248f46d43fdd",
            "f3c34f3bc36543a9a7aa9490c2f68433",
            "e6e47fe631214f9a81b2973cdfd2bd7e",
            "7132d0de47974d19b568e45c63f59c7e",
            "10937053d9cb41a9ae22300f40cd4548",
            "57131686248f4bcaaaa4c22877105b45",
            "0a78eaddc6c542b69ea696a5df5d733a",
            "2c7e19d578c74c64af7111433fa51d51",
            "447c009d24cb496cb363af30409016b3",
            "73e9f4263e70479e9e96df80fa2d0546",
            "a738e1f3e24d4207bc490d3b0bad7ded",
            "8341cd7c3a8449b0a21a62a21ea86fce",
            "85dcecaaf054451a9da32709781422ca",
            "3cde75d272ef4e9fa2036157c986158c",
            "6bf7f70c9f6c41f59e29a6c4a7048362",
            "cc81aa0d0429431d873ca0c053ab421a",
            "fceaf3c3ce7d45a79ee1bcdfb2c90988",
            "17bc21a97f82447d895481802f0e9ef4",
            "11ac007dfac04f9bb2b13816bc0864df",
            "3db1aa3f97174deda9e51d9c4095c037",
            "8203c45c12cb4db1b55fccb05c20fe18",
            "cdb15f310b3840ae9beac097b26bf26e",
            "8b8f03d778dd4c2bb0c2d48a0a5237fc",
            "fc0e3854ac8145658c3d16343217d7fd",
            "0efcb05a95034fc9a379e43b352524cf",
            "b70e5a09bd0843958a909cdbffd1e5f3",
            "f3eec845eee740678fdd36e8a8adc2e8",
            "1a0516d31e534e3a89b3871e32dea2f8",
            "50556b432fd446b5b0168d84cd7314cc",
            "e5f7d0859ca04d8d8f9c481773fd7fe3",
            "89b149b4f4e848beac3022cfae74979c",
            "2cf732be15164fab924551736b89e32f",
            "35a063e18da24f8d91bb312f38765e5a",
            "62764f5b36f7415d94ace2380023daf4",
            "d1bfc84b626a4ae2a548e2259c256455",
            "20bfb63f4f184ba1b9f09fd1f5e45ad1",
            "4a2297a06409456a8feb06b79031a9d7",
            "3585c87073c14290a1e5f161c5f9eed4",
            "c6a5c5a612004b0ea822660cca1b8339",
            "0ec5405865f94db197d5ffb9bb0cfd8b",
            "59b8b1cec2c04050b1f1c1968cf3982b",
            "6f2754c0bdc44689ae521e3a9b76cfd0",
            "deb0b300010041378d5ee3e2b79283b5",
            "e7bdbd096886479e8e6384f7d5fce62b",
            "34ab0a360e864e6eb3575cea719f4c70",
            "e8afc37f53f945d6a2ede29d6109ed11",
            "e86aa27de66845f0ae49e565a506921a",
            "6b27c004aba441dbae9c11ecc39cb0f8",
            "d0b3fc1372b54906a7c7bcea98230f45",
            "6213df61c2274e7cb8a1dce9847420ea",
            "12630a5693b94b3e8363a2f582dca876",
            "81c50b8e14c343bd8bc0d26de04badd2",
            "ee54edc9a356422191cbd17bdcf44b67",
            "7b51439d030b4275b3eefa5a8237b02d",
            "dec6109b63c54b9fb3bd586710e778f2",
            "37903c3f82fa4332942ed32387eb6940",
            "7e49983bfe4d4ddc96ce5edc899cd0ea",
            "c04ba092e91d4f659fe7cbb62b5c8a18",
            "2b5a846e2d7a4f708f4c23c4ed567b38",
            "31924bd66a624c189256a8983a6d906b",
            "102622403c6a4d74a05d6732cd9ab9cd",
            "5afabdd2ad94421a91439126861ff0d7",
            "279c5f8515b74b5ab6dd2f3134ca60e1",
            "675d07625eed4f25b819d23313be3bd0",
            "be83dd25d0cc489789236e582ee27b90",
            "255878d876584c44850fc4c997ec484d",
            "f1f4ee80be1d4a719d971b2c82db2f44",
            "9f558d492e60409e8449902adaed42b5",
            "37f1d4688f77497a83a654a770930e2b",
            "cab737ce4ee447e2ad598b6ee61e4c27",
            "d8e1848df4224df78b02d90dba99479b",
            "52c2a390a2dd434185d884b3e35f091d",
            "32fd6a7ac335407da49a46b488ad0e23",
            "3167f901734041938caf53d665bd734d",
            "aa21ccc628954957be4f4ce0329430ff",
            "674ded785ab04f4fbf9dc9b540056ea3",
            "3f269b8d754f435eb1877887a9fa4a71",
            "40bca0eea9bc4353adb244f5715ed5c7",
            "f77647f13b944199869faccb56c629c1",
            "246b5080a0e84a50ae7b4ddcd84badc8",
            "2f6340472a4d4d6ab9eb08659df202d4",
            "c1e0fc166d764b838a54ca51c2bd66b0",
            "6e8eb2f5687844eebf9b5c1a55969aaa",
            "e3670fc6ace04525b94d44eb2a7ffb03",
            "23024dac87564d09ba955d71219f1e8a",
            "bdd20aafe6474e41a4c228976b47f315",
            "1f68ba42f2d440c4b5b9522e886cc82c",
            "9fce3de4271f41fd80dcef5808e0bed9",
            "c6d9b83582314d82a4e2f9571fb73b7f",
            "8eeba69c9edf4caeb2a89f37fe9876b9",
            "1e3e8eb7239049648d4287033788260b",
            "cd38fe3a43884f0385b38b1fb16e7c3f",
            "e4ba31997f3a4b4da382dc5efd37af1c",
            "ddf2296131f548cf8fe67d2055428549",
            "99f212da25c445fbae6c798b4c7d305f",
            "c4af9404ff6446d086a0149cac98d4cf",
            "8b4afb916cf64689b99f9efae286ffa8",
            "1c6a830cc1264c20a10a070bc17f8e80",
            "d34431dd336d4c42adeaf08c48ff8bcd",
            "dabf8e39f68d48f0aa83e2fa7414b2d9",
            "e0903360024844f2970e00c46395f2e6",
            "c1b1ba446b014a0ea8ea68d02c49a13f",
            "4874ac9dc6d245bab04f8ad8f76fcb5e",
            "f5051891bfcd49b49c5c1bbdc1bf227d",
            "bb6fcee01ac148f881820e42fcaddc11",
            "7d607f6fce3f43d39b34bde95b233d78",
            "ab6976f66d584d5bb9bc30a7a9bef9aa",
            "7e4bd5c2503f47279dcf1dceeabff6a6",
            "9f03c2f5d5a143ebb8b676356274c03b",
            "abcf5471855e4f03914176936b82425f",
            "0cc93d45ae264d2897851abf4930c2d8",
            "cddd8a08dd8d446a8a8a144522af5308",
            "601328e8b4014a52bc5a176889d8c920",
            "575f2120a92a49fcbeaead513f0ed50b",
            "f0da6d35edfb485ab72a11c7539a334b",
            "8875537d279e478a9c074613d3d1223c",
            "8b93cff1cf9e417088af82616f06aadc",
            "b9bd5f66453d45ca8936e142fb55c0a4",
            "23cdce581f5b4ab1a954f9a1d063b524",
            "4f689654ff694de48a504a77fd8e4a04",
            "b3d3b242ff8f4c61afa597ed1f3a98b8",
            "8f5ab2b9924841a7b83f844c8b0d027b",
            "69df37871c5d4eee86d21aa10727dde9",
            "83638565f4ae4a13ad353b36e355ea2b",
            "5b3a42802bbb47dfa6d75d4345798453",
            "266ce1b79152407ea75623d0e52e1a21",
            "cf3edb6eb4b242c787dc131558fd96ca",
            "a1076b64effd4537bad3f1a86acb37eb",
            "c1a2bb662ab1465791f317159d47e0f7",
            "97eba6df315344e3b9e3d2ef345c5343",
            "aaea81cfaef9406bafd41ce2e1fbae94",
            "856e5528c2a54f70beb545347a33e2b9",
            "4e65cab0b175418b83f165300edf100e",
            "1e3ff58bc6674dcfbd5a263aaf9376cb",
            "f573a5ef7a12420bb0bff01a218f1ca8",
            "936ec6ef9e1a49c4b7cbc0482b50169c",
            "4f37e7c0109646e0b62af644071cdf1b",
            "e111ed520be449628cdb34bcd97049d6",
            "3eff63d1fb36480b922813727a112ef7",
            "11a4733f66014379ac52c5a8fe534205",
            "9000cfcb23224135830e0d27f4ba672f",
            "ec6709a921b1423ea181caf2ee061c57",
            "e6d65aaf60974b8489ef94e1a00a7ab3",
            "b22137121ac94709803a598042d55bb0",
            "d01fad5f9ed74857809310cb672704be",
            "9396035fc6ac42099f6660d1d5145b39",
            "a3c746f4889f4f898e76c0563fd43fbc",
            "d22613763c954735a1aab638fb04b9f3",
            "59b658e7e5cb4fc48ff349586cdde454",
            "ef2895d7d87243d79e42f9747a3e76e5",
            "82e49424804d42d4a7dbe89f7b1b2bde",
            "f67dee5976b04c999fd0a7b912e930bc",
            "9cb6a59d36784e1cab78c0ae89975c43",
            "57392911ec794e27b5be39eb26cded57",
            "4c195c671f534dd5a6e7fd0d897c1f5b",
            "3f4de3e58a5d4f6fa16457b87efafc9a",
            "c5673c04f7ac45ea8fbaf15aae4c7883",
            "9b6eed9ff5fe48e5afec18c3e27398a3",
            "6d75843ad4334c5b9d3b2dedff5293cc",
            "84e4ce946fee42969c01e88b6bc683fc",
            "5c781b6a38254064a379e3d259eebee2",
            "33f37b32db574ea990eabdeafb9be56c",
            "fa2af913ff634a8d90d3fc3feeb4e5c9",
            "40ce0532d0cb400a89ff23c27aaa1c86",
            "26bc9c58e11e4501afefdea1916b3fd1"
          ]
        },
        "id": "gSIffwUaSH-n",
        "outputId": "4fbeec6f-ff46-40d2-cb16-4e5c5b28c4f6"
      },
      "source": [
        "# and finally we can let the \"trainer\" fit the amazon reviews classifier.\n",
        "trainer = get_trainer(\"experiments/amazon_reviews_classifier\")\n",
        "trainer.fit(model=amazon_review_classifier, datamodule=amazon_review_dm)"
      ],
      "execution_count": null,
      "outputs": [
        {
          "output_type": "stream",
          "text": [
            "/usr/local/lib/python3.7/dist-packages/pytorch_lightning/utilities/distributed.py:52: UserWarning: Checkpoint directory experiments/amazon_reviews_classifier exists and is not empty.\n",
            "  warnings.warn(*args, **kwargs)\n",
            "GPU available: True, used: True\n",
            "TPU available: False, using: 0 TPU cores\n",
            "LOCAL_RANK: 0 - CUDA_VISIBLE_DEVICES: [0]\n",
            "\n",
            "  | Name    | Type             | Params\n",
            "---------------------------------------------\n",
            "0 | lin1    | Linear           | 38.5 K\n",
            "1 | lin2    | Linear           | 645   \n",
            "2 | loss_fn | CrossEntropyLoss | 0     \n",
            "3 | val_f1  | F1               | 0     \n",
            "4 | test_f1 | F1               | 0     \n",
            "---------------------------------------------\n",
            "39.2 K    Trainable params\n",
            "0         Non-trainable params\n",
            "39.2 K    Total params\n",
            "0.157     Total estimated model params size (MB)\n"
          ],
          "name": "stderr"
        },
        {
          "output_type": "display_data",
          "data": {
            "application/vnd.jupyter.widget-view+json": {
              "model_id": "a0866203a25b4880b93974935e91dcd2",
              "version_major": 2,
              "version_minor": 0
            },
            "text/plain": [
              "HBox(children=(FloatProgress(value=1.0, bar_style='info', description='Validation sanity check', layout=Layout…"
            ]
          },
          "metadata": {
            "tags": []
          }
        },
        {
          "output_type": "stream",
          "text": [
            "\r"
          ],
          "name": "stdout"
        },
        {
          "output_type": "display_data",
          "data": {
            "application/vnd.jupyter.widget-view+json": {
              "model_id": "ffff373d6fef47668f9d8bec84c8c5df",
              "version_major": 2,
              "version_minor": 0
            },
            "text/plain": [
              "HBox(children=(FloatProgress(value=1.0, bar_style='info', description='Training', layout=Layout(flex='2'), max…"
            ]
          },
          "metadata": {
            "tags": []
          }
        },
        {
          "output_type": "display_data",
          "data": {
            "application/vnd.jupyter.widget-view+json": {
              "model_id": "e6717c9629ea49f4b19dd3a7e57faff1",
              "version_major": 2,
              "version_minor": 0
            },
            "text/plain": [
              "HBox(children=(FloatProgress(value=1.0, bar_style='info', description='Validating', layout=Layout(flex='2'), m…"
            ]
          },
          "metadata": {
            "tags": []
          }
        },
        {
          "output_type": "stream",
          "text": [
            "Epoch 0, global step 1544: val_f1 reached 0.56671 (best 0.56671), saving model to \"/content/experiments/amazon_reviews_classifier/epoch=0-val_f1=0.5667.ckpt\" as top 3\n"
          ],
          "name": "stderr"
        },
        {
          "output_type": "display_data",
          "data": {
            "application/vnd.jupyter.widget-view+json": {
              "model_id": "5a97509c8e034ac28d9113b95f60d3da",
              "version_major": 2,
              "version_minor": 0
            },
            "text/plain": [
              "HBox(children=(FloatProgress(value=1.0, bar_style='info', description='Validating', layout=Layout(flex='2'), m…"
            ]
          },
          "metadata": {
            "tags": []
          }
        },
        {
          "output_type": "stream",
          "text": [
            "Epoch 1, global step 3089: val_f1 reached 0.56692 (best 0.56692), saving model to \"/content/experiments/amazon_reviews_classifier/epoch=1-val_f1=0.5669.ckpt\" as top 3\n"
          ],
          "name": "stderr"
        },
        {
          "output_type": "display_data",
          "data": {
            "application/vnd.jupyter.widget-view+json": {
              "model_id": "54dd04c650e54504a86a20a90853830c",
              "version_major": 2,
              "version_minor": 0
            },
            "text/plain": [
              "HBox(children=(FloatProgress(value=1.0, bar_style='info', description='Validating', layout=Layout(flex='2'), m…"
            ]
          },
          "metadata": {
            "tags": []
          }
        },
        {
          "output_type": "stream",
          "text": [
            "Epoch 2, global step 4634: val_f1 reached 0.57218 (best 0.57218), saving model to \"/content/experiments/amazon_reviews_classifier/epoch=2-val_f1=0.5722.ckpt\" as top 3\n"
          ],
          "name": "stderr"
        },
        {
          "output_type": "display_data",
          "data": {
            "application/vnd.jupyter.widget-view+json": {
              "model_id": "164070314de14b6786d9512ca9bce919",
              "version_major": 2,
              "version_minor": 0
            },
            "text/plain": [
              "HBox(children=(FloatProgress(value=1.0, bar_style='info', description='Validating', layout=Layout(flex='2'), m…"
            ]
          },
          "metadata": {
            "tags": []
          }
        },
        {
          "output_type": "stream",
          "text": [
            "Epoch 3, global step 6179: val_f1 reached 0.57562 (best 0.57562), saving model to \"/content/experiments/amazon_reviews_classifier/epoch=3-val_f1=0.5756.ckpt\" as top 3\n"
          ],
          "name": "stderr"
        },
        {
          "output_type": "display_data",
          "data": {
            "application/vnd.jupyter.widget-view+json": {
              "model_id": "de20e2f8bffc4dd0b85470ff6332eb74",
              "version_major": 2,
              "version_minor": 0
            },
            "text/plain": [
              "HBox(children=(FloatProgress(value=1.0, bar_style='info', description='Validating', layout=Layout(flex='2'), m…"
            ]
          },
          "metadata": {
            "tags": []
          }
        },
        {
          "output_type": "stream",
          "text": [
            "Epoch 4, global step 7724: val_f1 reached 0.57866 (best 0.57866), saving model to \"/content/experiments/amazon_reviews_classifier/epoch=4-val_f1=0.5787.ckpt\" as top 3\n"
          ],
          "name": "stderr"
        },
        {
          "output_type": "display_data",
          "data": {
            "application/vnd.jupyter.widget-view+json": {
              "model_id": "17de690f4f3b4507a00899640dda6bad",
              "version_major": 2,
              "version_minor": 0
            },
            "text/plain": [
              "HBox(children=(FloatProgress(value=1.0, bar_style='info', description='Validating', layout=Layout(flex='2'), m…"
            ]
          },
          "metadata": {
            "tags": []
          }
        },
        {
          "output_type": "stream",
          "text": [
            "Epoch 5, global step 9269: val_f1 reached 0.58251 (best 0.58251), saving model to \"/content/experiments/amazon_reviews_classifier/epoch=5-val_f1=0.5825.ckpt\" as top 3\n"
          ],
          "name": "stderr"
        },
        {
          "output_type": "display_data",
          "data": {
            "application/vnd.jupyter.widget-view+json": {
              "model_id": "d65a89c242c944c980c80625167e418d",
              "version_major": 2,
              "version_minor": 0
            },
            "text/plain": [
              "HBox(children=(FloatProgress(value=1.0, bar_style='info', description='Validating', layout=Layout(flex='2'), m…"
            ]
          },
          "metadata": {
            "tags": []
          }
        },
        {
          "output_type": "stream",
          "text": [
            "Epoch 6, global step 10814: val_f1 reached 0.58453 (best 0.58453), saving model to \"/content/experiments/amazon_reviews_classifier/epoch=6-val_f1=0.5845.ckpt\" as top 3\n"
          ],
          "name": "stderr"
        },
        {
          "output_type": "display_data",
          "data": {
            "application/vnd.jupyter.widget-view+json": {
              "model_id": "c4639a41e1864efa8f9effb33a9c4dae",
              "version_major": 2,
              "version_minor": 0
            },
            "text/plain": [
              "HBox(children=(FloatProgress(value=1.0, bar_style='info', description='Validating', layout=Layout(flex='2'), m…"
            ]
          },
          "metadata": {
            "tags": []
          }
        },
        {
          "output_type": "stream",
          "text": [
            "Epoch 7, global step 12359: val_f1 reached 0.58595 (best 0.58595), saving model to \"/content/experiments/amazon_reviews_classifier/epoch=7-val_f1=0.5859.ckpt\" as top 3\n"
          ],
          "name": "stderr"
        },
        {
          "output_type": "display_data",
          "data": {
            "application/vnd.jupyter.widget-view+json": {
              "model_id": "65f6027842184e7f9041e5443812d166",
              "version_major": 2,
              "version_minor": 0
            },
            "text/plain": [
              "HBox(children=(FloatProgress(value=1.0, bar_style='info', description='Validating', layout=Layout(flex='2'), m…"
            ]
          },
          "metadata": {
            "tags": []
          }
        },
        {
          "output_type": "stream",
          "text": [
            "Epoch 8, global step 13904: val_f1 reached 0.58858 (best 0.58858), saving model to \"/content/experiments/amazon_reviews_classifier/epoch=8-val_f1=0.5886.ckpt\" as top 3\n"
          ],
          "name": "stderr"
        },
        {
          "output_type": "display_data",
          "data": {
            "application/vnd.jupyter.widget-view+json": {
              "model_id": "d1a56e1672cf48298e665a6aa72b35a6",
              "version_major": 2,
              "version_minor": 0
            },
            "text/plain": [
              "HBox(children=(FloatProgress(value=1.0, bar_style='info', description='Validating', layout=Layout(flex='2'), m…"
            ]
          },
          "metadata": {
            "tags": []
          }
        },
        {
          "output_type": "stream",
          "text": [
            "Epoch 9, global step 15449: val_f1 reached 0.58919 (best 0.58919), saving model to \"/content/experiments/amazon_reviews_classifier/epoch=9-val_f1=0.5892.ckpt\" as top 3\n"
          ],
          "name": "stderr"
        },
        {
          "output_type": "display_data",
          "data": {
            "application/vnd.jupyter.widget-view+json": {
              "model_id": "d9731040c82848b1a80c357345af9aab",
              "version_major": 2,
              "version_minor": 0
            },
            "text/plain": [
              "HBox(children=(FloatProgress(value=1.0, bar_style='info', description='Validating', layout=Layout(flex='2'), m…"
            ]
          },
          "metadata": {
            "tags": []
          }
        },
        {
          "output_type": "stream",
          "text": [
            "Epoch 10, global step 16994: val_f1 reached 0.59202 (best 0.59202), saving model to \"/content/experiments/amazon_reviews_classifier/epoch=10-val_f1=0.5920.ckpt\" as top 3\n"
          ],
          "name": "stderr"
        },
        {
          "output_type": "display_data",
          "data": {
            "application/vnd.jupyter.widget-view+json": {
              "model_id": "cc6c1cad257f41cfad74289b248192e4",
              "version_major": 2,
              "version_minor": 0
            },
            "text/plain": [
              "HBox(children=(FloatProgress(value=1.0, bar_style='info', description='Validating', layout=Layout(flex='2'), m…"
            ]
          },
          "metadata": {
            "tags": []
          }
        },
        {
          "output_type": "stream",
          "text": [
            "Epoch 11, global step 18539: val_f1 reached 0.59283 (best 0.59283), saving model to \"/content/experiments/amazon_reviews_classifier/epoch=11-val_f1=0.5928.ckpt\" as top 3\n"
          ],
          "name": "stderr"
        },
        {
          "output_type": "display_data",
          "data": {
            "application/vnd.jupyter.widget-view+json": {
              "model_id": "a84dac72fa46428589eb9b888c2e479d",
              "version_major": 2,
              "version_minor": 0
            },
            "text/plain": [
              "HBox(children=(FloatProgress(value=1.0, bar_style='info', description='Validating', layout=Layout(flex='2'), m…"
            ]
          },
          "metadata": {
            "tags": []
          }
        },
        {
          "output_type": "stream",
          "text": [
            "Epoch 12, global step 20084: val_f1 reached 0.59425 (best 0.59425), saving model to \"/content/experiments/amazon_reviews_classifier/epoch=12-val_f1=0.5942.ckpt\" as top 3\n"
          ],
          "name": "stderr"
        },
        {
          "output_type": "display_data",
          "data": {
            "application/vnd.jupyter.widget-view+json": {
              "model_id": "769a7e79ad6d48bdbacd024d6da49a19",
              "version_major": 2,
              "version_minor": 0
            },
            "text/plain": [
              "HBox(children=(FloatProgress(value=1.0, bar_style='info', description='Validating', layout=Layout(flex='2'), m…"
            ]
          },
          "metadata": {
            "tags": []
          }
        },
        {
          "output_type": "stream",
          "text": [
            "Epoch 13, global step 21629: val_f1 reached 0.59465 (best 0.59465), saving model to \"/content/experiments/amazon_reviews_classifier/epoch=13-val_f1=0.5947.ckpt\" as top 3\n"
          ],
          "name": "stderr"
        },
        {
          "output_type": "display_data",
          "data": {
            "application/vnd.jupyter.widget-view+json": {
              "model_id": "57131686248f4bcaaaa4c22877105b45",
              "version_major": 2,
              "version_minor": 0
            },
            "text/plain": [
              "HBox(children=(FloatProgress(value=1.0, bar_style='info', description='Validating', layout=Layout(flex='2'), m…"
            ]
          },
          "metadata": {
            "tags": []
          }
        },
        {
          "output_type": "stream",
          "text": [
            "Epoch 14, global step 23174: val_f1 reached 0.59587 (best 0.59587), saving model to \"/content/experiments/amazon_reviews_classifier/epoch=14-val_f1=0.5959.ckpt\" as top 3\n"
          ],
          "name": "stderr"
        },
        {
          "output_type": "display_data",
          "data": {
            "application/vnd.jupyter.widget-view+json": {
              "model_id": "3cde75d272ef4e9fa2036157c986158c",
              "version_major": 2,
              "version_minor": 0
            },
            "text/plain": [
              "HBox(children=(FloatProgress(value=1.0, bar_style='info', description='Validating', layout=Layout(flex='2'), m…"
            ]
          },
          "metadata": {
            "tags": []
          }
        },
        {
          "output_type": "stream",
          "text": [
            "Epoch 15, global step 24719: val_f1 reached 0.59587 (best 0.59587), saving model to \"/content/experiments/amazon_reviews_classifier/epoch=15-val_f1=0.5959.ckpt\" as top 3\n"
          ],
          "name": "stderr"
        },
        {
          "output_type": "display_data",
          "data": {
            "application/vnd.jupyter.widget-view+json": {
              "model_id": "cdb15f310b3840ae9beac097b26bf26e",
              "version_major": 2,
              "version_minor": 0
            },
            "text/plain": [
              "HBox(children=(FloatProgress(value=1.0, bar_style='info', description='Validating', layout=Layout(flex='2'), m…"
            ]
          },
          "metadata": {
            "tags": []
          }
        },
        {
          "output_type": "stream",
          "text": [
            "Epoch 16, global step 26264: val_f1 reached 0.59749 (best 0.59749), saving model to \"/content/experiments/amazon_reviews_classifier/epoch=16-val_f1=0.5975.ckpt\" as top 3\n"
          ],
          "name": "stderr"
        },
        {
          "output_type": "display_data",
          "data": {
            "application/vnd.jupyter.widget-view+json": {
              "model_id": "e5f7d0859ca04d8d8f9c481773fd7fe3",
              "version_major": 2,
              "version_minor": 0
            },
            "text/plain": [
              "HBox(children=(FloatProgress(value=1.0, bar_style='info', description='Validating', layout=Layout(flex='2'), m…"
            ]
          },
          "metadata": {
            "tags": []
          }
        },
        {
          "output_type": "stream",
          "text": [
            "Epoch 17, global step 27809: val_f1 reached 0.59729 (best 0.59749), saving model to \"/content/experiments/amazon_reviews_classifier/epoch=17-val_f1=0.5973.ckpt\" as top 3\n"
          ],
          "name": "stderr"
        },
        {
          "output_type": "display_data",
          "data": {
            "application/vnd.jupyter.widget-view+json": {
              "model_id": "3585c87073c14290a1e5f161c5f9eed4",
              "version_major": 2,
              "version_minor": 0
            },
            "text/plain": [
              "HBox(children=(FloatProgress(value=1.0, bar_style='info', description='Validating', layout=Layout(flex='2'), m…"
            ]
          },
          "metadata": {
            "tags": []
          }
        },
        {
          "output_type": "stream",
          "text": [
            "Epoch 18, global step 29354: val_f1 reached 0.59850 (best 0.59850), saving model to \"/content/experiments/amazon_reviews_classifier/epoch=18-val_f1=0.5985.ckpt\" as top 3\n"
          ],
          "name": "stderr"
        },
        {
          "output_type": "display_data",
          "data": {
            "application/vnd.jupyter.widget-view+json": {
              "model_id": "e8afc37f53f945d6a2ede29d6109ed11",
              "version_major": 2,
              "version_minor": 0
            },
            "text/plain": [
              "HBox(children=(FloatProgress(value=1.0, bar_style='info', description='Validating', layout=Layout(flex='2'), m…"
            ]
          },
          "metadata": {
            "tags": []
          }
        },
        {
          "output_type": "stream",
          "text": [
            "Epoch 19, global step 30899: val_f1 reached 0.59870 (best 0.59870), saving model to \"/content/experiments/amazon_reviews_classifier/epoch=19-val_f1=0.5987.ckpt\" as top 3\n"
          ],
          "name": "stderr"
        },
        {
          "output_type": "display_data",
          "data": {
            "application/vnd.jupyter.widget-view+json": {
              "model_id": "7b51439d030b4275b3eefa5a8237b02d",
              "version_major": 2,
              "version_minor": 0
            },
            "text/plain": [
              "HBox(children=(FloatProgress(value=1.0, bar_style='info', description='Validating', layout=Layout(flex='2'), m…"
            ]
          },
          "metadata": {
            "tags": []
          }
        },
        {
          "output_type": "stream",
          "text": [
            "Epoch 20, global step 32444: val_f1 reached 0.60053 (best 0.60053), saving model to \"/content/experiments/amazon_reviews_classifier/epoch=20-val_f1=0.6005.ckpt\" as top 3\n"
          ],
          "name": "stderr"
        },
        {
          "output_type": "display_data",
          "data": {
            "application/vnd.jupyter.widget-view+json": {
              "model_id": "5afabdd2ad94421a91439126861ff0d7",
              "version_major": 2,
              "version_minor": 0
            },
            "text/plain": [
              "HBox(children=(FloatProgress(value=1.0, bar_style='info', description='Validating', layout=Layout(flex='2'), m…"
            ]
          },
          "metadata": {
            "tags": []
          }
        },
        {
          "output_type": "stream",
          "text": [
            "Epoch 21, global step 33989: val_f1 reached 0.60113 (best 0.60113), saving model to \"/content/experiments/amazon_reviews_classifier/epoch=21-val_f1=0.6011.ckpt\" as top 3\n"
          ],
          "name": "stderr"
        },
        {
          "output_type": "display_data",
          "data": {
            "application/vnd.jupyter.widget-view+json": {
              "model_id": "cab737ce4ee447e2ad598b6ee61e4c27",
              "version_major": 2,
              "version_minor": 0
            },
            "text/plain": [
              "HBox(children=(FloatProgress(value=1.0, bar_style='info', description='Validating', layout=Layout(flex='2'), m…"
            ]
          },
          "metadata": {
            "tags": []
          }
        },
        {
          "output_type": "stream",
          "text": [
            "Epoch 22, global step 35534: val_f1 reached 0.60154 (best 0.60154), saving model to \"/content/experiments/amazon_reviews_classifier/epoch=22-val_f1=0.6015.ckpt\" as top 3\n"
          ],
          "name": "stderr"
        },
        {
          "output_type": "display_data",
          "data": {
            "application/vnd.jupyter.widget-view+json": {
              "model_id": "40bca0eea9bc4353adb244f5715ed5c7",
              "version_major": 2,
              "version_minor": 0
            },
            "text/plain": [
              "HBox(children=(FloatProgress(value=1.0, bar_style='info', description='Validating', layout=Layout(flex='2'), m…"
            ]
          },
          "metadata": {
            "tags": []
          }
        },
        {
          "output_type": "stream",
          "text": [
            "Epoch 23, global step 37079: val_f1 reached 0.60134 (best 0.60154), saving model to \"/content/experiments/amazon_reviews_classifier/epoch=23-val_f1=0.6013.ckpt\" as top 3\n"
          ],
          "name": "stderr"
        },
        {
          "output_type": "display_data",
          "data": {
            "application/vnd.jupyter.widget-view+json": {
              "model_id": "bdd20aafe6474e41a4c228976b47f315",
              "version_major": 2,
              "version_minor": 0
            },
            "text/plain": [
              "HBox(children=(FloatProgress(value=1.0, bar_style='info', description='Validating', layout=Layout(flex='2'), m…"
            ]
          },
          "metadata": {
            "tags": []
          }
        },
        {
          "output_type": "stream",
          "text": [
            "Epoch 24, global step 38624: val_f1 reached 0.60316 (best 0.60316), saving model to \"/content/experiments/amazon_reviews_classifier/epoch=24-val_f1=0.6032.ckpt\" as top 3\n"
          ],
          "name": "stderr"
        },
        {
          "output_type": "display_data",
          "data": {
            "application/vnd.jupyter.widget-view+json": {
              "model_id": "ddf2296131f548cf8fe67d2055428549",
              "version_major": 2,
              "version_minor": 0
            },
            "text/plain": [
              "HBox(children=(FloatProgress(value=1.0, bar_style='info', description='Validating', layout=Layout(flex='2'), m…"
            ]
          },
          "metadata": {
            "tags": []
          }
        },
        {
          "output_type": "stream",
          "text": [
            "Epoch 25, global step 40169: val_f1 reached 0.60316 (best 0.60316), saving model to \"/content/experiments/amazon_reviews_classifier/epoch=25-val_f1=0.6032.ckpt\" as top 3\n"
          ],
          "name": "stderr"
        },
        {
          "output_type": "display_data",
          "data": {
            "application/vnd.jupyter.widget-view+json": {
              "model_id": "c1b1ba446b014a0ea8ea68d02c49a13f",
              "version_major": 2,
              "version_minor": 0
            },
            "text/plain": [
              "HBox(children=(FloatProgress(value=1.0, bar_style='info', description='Validating', layout=Layout(flex='2'), m…"
            ]
          },
          "metadata": {
            "tags": []
          }
        },
        {
          "output_type": "stream",
          "text": [
            "Epoch 26, global step 41714: val_f1 reached 0.60356 (best 0.60356), saving model to \"/content/experiments/amazon_reviews_classifier/epoch=26-val_f1=0.6036.ckpt\" as top 3\n"
          ],
          "name": "stderr"
        },
        {
          "output_type": "display_data",
          "data": {
            "application/vnd.jupyter.widget-view+json": {
              "model_id": "abcf5471855e4f03914176936b82425f",
              "version_major": 2,
              "version_minor": 0
            },
            "text/plain": [
              "HBox(children=(FloatProgress(value=1.0, bar_style='info', description='Validating', layout=Layout(flex='2'), m…"
            ]
          },
          "metadata": {
            "tags": []
          }
        },
        {
          "output_type": "stream",
          "text": [
            "Epoch 27, global step 43259: val_f1 reached 0.60478 (best 0.60478), saving model to \"/content/experiments/amazon_reviews_classifier/epoch=27-val_f1=0.6048.ckpt\" as top 3\n"
          ],
          "name": "stderr"
        },
        {
          "output_type": "display_data",
          "data": {
            "application/vnd.jupyter.widget-view+json": {
              "model_id": "b9bd5f66453d45ca8936e142fb55c0a4",
              "version_major": 2,
              "version_minor": 0
            },
            "text/plain": [
              "HBox(children=(FloatProgress(value=1.0, bar_style='info', description='Validating', layout=Layout(flex='2'), m…"
            ]
          },
          "metadata": {
            "tags": []
          }
        },
        {
          "output_type": "stream",
          "text": [
            "Epoch 28, global step 44804: val_f1 reached 0.60498 (best 0.60498), saving model to \"/content/experiments/amazon_reviews_classifier/epoch=28-val_f1=0.6050.ckpt\" as top 3\n"
          ],
          "name": "stderr"
        },
        {
          "output_type": "display_data",
          "data": {
            "application/vnd.jupyter.widget-view+json": {
              "model_id": "266ce1b79152407ea75623d0e52e1a21",
              "version_major": 2,
              "version_minor": 0
            },
            "text/plain": [
              "HBox(children=(FloatProgress(value=1.0, bar_style='info', description='Validating', layout=Layout(flex='2'), m…"
            ]
          },
          "metadata": {
            "tags": []
          }
        },
        {
          "output_type": "stream",
          "text": [
            "Epoch 29, global step 46349: val_f1 reached 0.60660 (best 0.60660), saving model to \"/content/experiments/amazon_reviews_classifier/epoch=29-val_f1=0.6066.ckpt\" as top 3\n"
          ],
          "name": "stderr"
        },
        {
          "output_type": "display_data",
          "data": {
            "application/vnd.jupyter.widget-view+json": {
              "model_id": "1e3ff58bc6674dcfbd5a263aaf9376cb",
              "version_major": 2,
              "version_minor": 0
            },
            "text/plain": [
              "HBox(children=(FloatProgress(value=1.0, bar_style='info', description='Validating', layout=Layout(flex='2'), m…"
            ]
          },
          "metadata": {
            "tags": []
          }
        },
        {
          "output_type": "stream",
          "text": [
            "Epoch 30, global step 47894: val_f1 reached 0.60680 (best 0.60680), saving model to \"/content/experiments/amazon_reviews_classifier/epoch=30-val_f1=0.6068.ckpt\" as top 3\n"
          ],
          "name": "stderr"
        },
        {
          "output_type": "display_data",
          "data": {
            "application/vnd.jupyter.widget-view+json": {
              "model_id": "ec6709a921b1423ea181caf2ee061c57",
              "version_major": 2,
              "version_minor": 0
            },
            "text/plain": [
              "HBox(children=(FloatProgress(value=1.0, bar_style='info', description='Validating', layout=Layout(flex='2'), m…"
            ]
          },
          "metadata": {
            "tags": []
          }
        },
        {
          "output_type": "stream",
          "text": [
            "Epoch 31, global step 49439: val_f1 reached 0.60579 (best 0.60680), saving model to \"/content/experiments/amazon_reviews_classifier/epoch=31-val_f1=0.6058.ckpt\" as top 3\n"
          ],
          "name": "stderr"
        },
        {
          "output_type": "display_data",
          "data": {
            "application/vnd.jupyter.widget-view+json": {
              "model_id": "ef2895d7d87243d79e42f9747a3e76e5",
              "version_major": 2,
              "version_minor": 0
            },
            "text/plain": [
              "HBox(children=(FloatProgress(value=1.0, bar_style='info', description='Validating', layout=Layout(flex='2'), m…"
            ]
          },
          "metadata": {
            "tags": []
          }
        },
        {
          "output_type": "stream",
          "text": [
            "Epoch 32, global step 50984: val_f1 reached 0.60680 (best 0.60680), saving model to \"/content/experiments/amazon_reviews_classifier/epoch=32-val_f1=0.6068.ckpt\" as top 3\n"
          ],
          "name": "stderr"
        },
        {
          "output_type": "display_data",
          "data": {
            "application/vnd.jupyter.widget-view+json": {
              "model_id": "9b6eed9ff5fe48e5afec18c3e27398a3",
              "version_major": 2,
              "version_minor": 0
            },
            "text/plain": [
              "HBox(children=(FloatProgress(value=1.0, bar_style='info', description='Validating', layout=Layout(flex='2'), m…"
            ]
          },
          "metadata": {
            "tags": []
          }
        },
        {
          "output_type": "stream",
          "text": [
            "Epoch 33, step 52529: val_f1 was not in top 3\n"
          ],
          "name": "stderr"
        },
        {
          "output_type": "stream",
          "text": [
            "\n"
          ],
          "name": "stdout"
        },
        {
          "output_type": "execute_result",
          "data": {
            "text/plain": [
              "1"
            ]
          },
          "metadata": {
            "tags": []
          },
          "execution_count": 23
        }
      ]
    },
    {
      "cell_type": "code",
      "metadata": {
        "colab": {
          "base_uri": "https://localhost:8080/",
          "height": 168,
          "referenced_widgets": [
            "24c8afbe1f734fd7995b3af20f30243b",
            "ff66183ab4fb422b9f61c462d1dec3bf",
            "f0dab5749f794a6f83049329e0da2229",
            "adeb8f88e02f47f5b4bd109445228255",
            "58ac9c07b62c408b9c7b3be98af84e2a",
            "2858d571a08f450a879145a6b8d35cc5",
            "981c93940f3a4735b712e06afd9fd988",
            "a4035f17af9241b0ac0b71fa190af347"
          ]
        },
        "id": "g3f7UOuYcBn-",
        "outputId": "2cbbc769-cfcb-41a5-9d31-700797860279"
      },
      "source": [
        "loaded_model = AmazonReviewClassifier.load_from_checkpoint('/content/experiments/amazon_reviews_classifier/epoch=32-val_f1=0.6068.ckpt')  # REPLACE HERE THE PATH TO A MODEL CHECKPOINT IN THE \"experiments/amazon_reviews_classifier\" folder\n",
        "trainer.test(model=loaded_model, datamodule=amazon_review_dm)"
      ],
      "execution_count": null,
      "outputs": [
        {
          "output_type": "stream",
          "text": [
            "LOCAL_RANK: 0 - CUDA_VISIBLE_DEVICES: [0]\n"
          ],
          "name": "stderr"
        },
        {
          "output_type": "display_data",
          "data": {
            "application/vnd.jupyter.widget-view+json": {
              "model_id": "24c8afbe1f734fd7995b3af20f30243b",
              "version_major": 2,
              "version_minor": 0
            },
            "text/plain": [
              "HBox(children=(FloatProgress(value=1.0, bar_style='info', description='Testing', layout=Layout(flex='2'), max=…"
            ]
          },
          "metadata": {
            "tags": []
          }
        },
        {
          "output_type": "stream",
          "text": [
            "\n",
            "--------------------------------------------------------------------------------\n",
            "DATALOADER:0 TEST RESULTS\n",
            "{'test_f1': 0.6157884001731873}\n",
            "--------------------------------------------------------------------------------\n"
          ],
          "name": "stdout"
        },
        {
          "output_type": "execute_result",
          "data": {
            "text/plain": [
              "[{'test_f1': 0.6157884001731873}]"
            ]
          },
          "metadata": {
            "tags": []
          },
          "execution_count": 25
        }
      ]
    },
    {
      "cell_type": "markdown",
      "metadata": {
        "id": "Zrg0ThirtS1a"
      },
      "source": [
        "You may notice that the performances are much lower than the ones reached in Notebook 4. However, please note that **this comparison is not correct**: not only are the test sets between the two runs different making the two scores incomparable but this test set is also much harder: indeed, as we did not filter out review that do not contain specific words, our test set likely contains more ambiguous reviews."
      ]
    },
    {
      "cell_type": "markdown",
      "metadata": {
        "id": "J5PkuW6bv18N"
      },
      "source": [
        "We now define a simple predict function to show the predicted probability for each number of stars in the review."
      ]
    },
    {
      "cell_type": "code",
      "metadata": {
        "id": "sIN2xlaLbnrQ"
      },
      "source": [
        "def predict(model, review2vector, review: str):\n",
        "    review_vector = review2vector(review).to(model.device)\n",
        "    forward_out = model(review_vector.unsqueeze(0))  # add a dimension to create a one-item batch\n",
        "    print(f'=' * 125)\n",
        "    print(f\"# Review: {review}\")\n",
        "    print(f\"# Stars probabilities:\")\n",
        "    print(\"\\n\".join([\"- \" + \"*\" * (i + 1) + \" => {:.1f}%\".format(prob * 100) for i, prob in enumerate(forward_out[\"pred\"].squeeze(0))]))\n",
        "    print(f'=' * 125)"
      ],
      "execution_count": null,
      "outputs": []
    },
    {
      "cell_type": "code",
      "metadata": {
        "colab": {
          "base_uri": "https://localhost:8080/"
        },
        "id": "rhCfDwAyc0Ft",
        "outputId": "deda9053-d8ac-4e98-83cd-15f98f7a8519"
      },
      "source": [
        "predict(loaded_model, review2vector, \"very good product. excellent quality\")"
      ],
      "execution_count": null,
      "outputs": [
        {
          "output_type": "stream",
          "text": [
            "=============================================================================================================================\n",
            "# Review: very good product. excellent quality\n",
            "# Stars probabilities:\n",
            "- * => 0.1%\n",
            "- ** => 0.1%\n",
            "- *** => 0.7%\n",
            "- **** => 8.1%\n",
            "- ***** => 91.1%\n",
            "=============================================================================================================================\n"
          ],
          "name": "stdout"
        }
      ]
    },
    {
      "cell_type": "code",
      "metadata": {
        "colab": {
          "base_uri": "https://localhost:8080/"
        },
        "id": "PZAzJ7aiubdI",
        "outputId": "c2e68474-55fb-4b70-e3db-b4a0ca9c7895"
      },
      "source": [
        "predict(loaded_model, review2vector, \"It echoes so badly with my voice. Don\\'t waste your time. I\\'m heavily considering returning it.\")"
      ],
      "execution_count": null,
      "outputs": [
        {
          "output_type": "stream",
          "text": [
            "=============================================================================================================================\n",
            "# Review: It echoes so badly with my voice. Don't waste your time. I'm heavily considering returning it.\n",
            "# Stars probabilities:\n",
            "- * => 75.6%\n",
            "- ** => 7.6%\n",
            "- *** => 3.5%\n",
            "- **** => 2.2%\n",
            "- ***** => 11.2%\n",
            "=============================================================================================================================\n"
          ],
          "name": "stdout"
        }
      ]
    },
    {
      "cell_type": "markdown",
      "metadata": {
        "id": "3gcfOfuLJ8Xt"
      },
      "source": [
        "You can play around a little bit with other Amazon reviews we found online. (At least we did :P)"
      ]
    },
    {
      "cell_type": "markdown",
      "metadata": {
        "id": "C8G4hiXrJREy"
      },
      "source": [
        "## Recurrent Neural Networks\n",
        "**Up until now, when computing the representations of the reviews, we considered each of them as a \"bag of words\"**. This means that we were not keeping into account the order with which every word appears in the text.\n",
        "\n",
        "Two very different reviews that contains the same words with a different order:\n",
        "\n",
        "- 1- star review: \"This LG television is very bad, not as the previous model that was very good\"\n",
        "\n",
        "- 5- star review: \"This LG television is very good, not as the previous model that was very bad\"\n",
        "\n",
        "\n",
        "As **the ordering of the words is crucial to understand to understand the semantic of a sentence**, we will now introduce a neural architecture able to model sequence of elements."
      ]
    },
    {
      "cell_type": "markdown",
      "metadata": {
        "id": "nITzp5J76DH9"
      },
      "source": [
        "#### RNN: Recurrent Neural Networks\n",
        "Recurrent Neural Networks belong to a class of neural networks that is used to model temporal sequences. Since the length of each sequence is not predetermined, they cannot be processed with simple feedforward networks (e.g. concatenating words representation). \n",
        "\n",
        "Instead, RNNs use a Memory mechanism to maintain the information extracted from a sequence up until the current timestep. This means that, in our case, when processing the word at position \"i\", we will have access to the information coming from all the words up until position \"i - 1\" (included).\n",
        "\n",
        "In order to implement this Memory mechanism, a RNN utilizes two types of outputs, one for representing the current timestep (each word in our case) and one for representing the portion of the sequence processed.\n",
        "\n",
        "The following image represent a very simple 1-Layer RNN that recieves input features at each timestep ($x_i$) and outputs a representation for that timestep ($h_i$) and its current memory (the arrow going from A to A)."
      ]
    },
    {
      "cell_type": "markdown",
      "metadata": {
        "id": "HoT9olQm_Rti"
      },
      "source": [
        "![rnn_image.png](data:image/png;base64,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)"
      ]
    },
    {
      "cell_type": "markdown",
      "metadata": {
        "id": "VK8H543S3s7l"
      },
      "source": [
        "**Let's add a little bit of math.**\n",
        "\n",
        "Given an input $x$, if we use a Linear Layer and an activation function ($act$), we process $x$ and output an hidden representation as follows:\n",
        "\n",
        "\\\\[ Linear(x) = act(x \\cdot W+b) \\\\]\n",
        "\n",
        "Instead, a simple RNN utilizes two different weights matrices to model both the current memory $m$ and the input $x$. In this way, the output at the timestep $t$ is computed as:\n",
        "\n",
        "\\\\[ RNN(x_t) = act(x_t \\cdot W_x + b_x + m_{t-1} \\cdot W_m + b_m) \\\\]\n",
        "\n",
        "As we can see, the concepts behind RNNs are very simple. In this notebook we will not go any deeper about this class of networks and we will leave other related topics to the next clasees. If you want to know more about other types RNNs and more in general to this class of networks, we suggest you to read this [tutorial](https://www.simplilearn.com/tutorials/deep-learning-tutorial/rnn)."
      ]
    },
    {
      "cell_type": "markdown",
      "metadata": {
        "id": "5Q-7IdGrADZN"
      },
      "source": [
        "### Applying RNNs to the Amazon Reviews Stars Predictor\n",
        "In order to apply RNNs to our running example we need just three steps.\n"
      ]
    },
    {
      "cell_type": "markdown",
      "metadata": {
        "id": "t7ktH8ROzWq-"
      },
      "source": [
        "**Step 1**: As we saw in the previous section, the RNNs output one vector for each timestep (in our case for each word). However, we need a general representation for the whole review. In order to model this requirement, we will utilize the last hidden state ($h_t$). Indeed, $h_t$ is produced taking into consideration the last word but even the memory vector coming from the processing of the whole sequence. This strategy is called \"many-to-one\" and is often used when classifying entire sequences of elements like in our case.\n",
        "\n",
        "![Many_to_One_RNN.png](data:image/png;base64,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)\n"
      ]
    },
    {
      "cell_type": "markdown",
      "metadata": {
        "id": "m8rLvFNqzuj5"
      },
      "source": [
        "**Step 2**: In order to take advantage of parallel computation, we process input features in batches. Whereas we have worked up until this point with batches of shape $(batch\\ size \\times features)$, the introduction of RNN-s, which process sequences of elements, change these shapes into $(batch\\ size \\times sequence\\ length \\times features)$. \n",
        "Now, the problem is that **sequences may not have the same length** (reviews does not contain the same number of words). **To tackle this problem we pad each sequence with a special token, namely the *pad* token** that we will discard in the output. (more on this later)"
      ]
    },
    {
      "cell_type": "markdown",
      "metadata": {
        "id": "ZQoaldTF0pDs"
      },
      "source": [
        "**Step 3**: We will move the logic to convert words in vectors from our review2vector function to a special layer in PyTorch: torch.nn.Embedding. In this way we will only deal with two-dimension matrices ($batch\\ size \\times sequence\\ length$) and let the **Embedding layer** expand this matrices. In order to do that, we just need to index each word in our vocabulary and store their vector accordingly."
      ]
    },
    {
      "cell_type": "markdown",
      "metadata": {
        "id": "6PnK2tSf2sd0"
      },
      "source": [
        "Let's start by indexing each word in our vocabulary. In our case, the words that we have in the vocabulary come from our word embeddings (i.e. the 100k we selected before). Moreover, we initialize even two random vectors to handle the *pad* token and the *unk* token. The last will represent words that are not present in our vocabulary."
      ]
    },
    {
      "cell_type": "code",
      "metadata": {
        "id": "dzmqv7jXCPP7"
      },
      "source": [
        "word_index = dict()\n",
        "vectors_store = []\n",
        "\n",
        "# pad token, index = 0\n",
        "vectors_store.append(torch.rand(300))\n",
        "\n",
        "# unk token, index = 1\n",
        "vectors_store.append(torch.rand(300))\n",
        "\n",
        "for word, vector in word_vectors.items():\n",
        "    word_index[word] = len(vectors_store)\n",
        "    vectors_store.append(vector)\n",
        "\n",
        "word_index = defaultdict(lambda: 1, word_index)  # default dict returns 1 (unk token) when unknown word\n",
        "vectors_store = torch.stack(vectors_store)"
      ],
      "execution_count": null,
      "outputs": []
    },
    {
      "cell_type": "code",
      "metadata": {
        "colab": {
          "base_uri": "https://localhost:8080/"
        },
        "id": "fh-bMHvxP4js",
        "outputId": "41ef300f-9507-415f-e3ca-365cd869ee4a"
      },
      "source": [
        "word_index['edoardo']  # let's see if the word_index gives to us the unk index (1)"
      ],
      "execution_count": null,
      "outputs": [
        {
          "output_type": "execute_result",
          "data": {
            "text/plain": [
              "1"
            ]
          },
          "metadata": {
            "tags": []
          },
          "execution_count": 30
        }
      ]
    },
    {
      "cell_type": "markdown",
      "metadata": {
        "id": "gPtBQUGc2mi6"
      },
      "source": [
        "The vectors_store contains all the vectors corresponding to the words in our vocabulary."
      ]
    },
    {
      "cell_type": "code",
      "metadata": {
        "colab": {
          "base_uri": "https://localhost:8080/"
        },
        "id": "SNfzVazzJvBt",
        "outputId": "b6e7d42c-434f-4d1d-b00e-5447a83a924b"
      },
      "source": [
        "vocabulary_size, hidden_features = vectors_store.shape\n",
        "print(f\"Vocabulary size: {vocabulary_size}\")\n",
        "print(f\"Hidden features: {hidden_features}\")"
      ],
      "execution_count": null,
      "outputs": [
        {
          "output_type": "stream",
          "text": [
            "Vocabulary size: 100002\n",
            "Hidden features: 300\n"
          ],
          "name": "stdout"
        }
      ]
    },
    {
      "cell_type": "markdown",
      "metadata": {
        "id": "xoTPig9M22hY"
      },
      "source": [
        "As we were saying before, we move the logic to vectorize words from the \"review2vector\" function to the Embedding layer. Here we define a new function that only takes care of indexing each word in a review."
      ]
    },
    {
      "cell_type": "code",
      "metadata": {
        "id": "1LUwzM6SPcwY"
      },
      "source": [
        "def review2indices(review: str) -> torch.Tensor:\n",
        "    return torch.tensor([word_index[word] for word in review.split(' ')], dtype=torch.long)"
      ],
      "execution_count": null,
      "outputs": []
    },
    {
      "cell_type": "markdown",
      "metadata": {
        "id": "_ZGv56VF3CUC"
      },
      "source": [
        "Only one thing missing, we need to define our **collate function**. Wait what?!??!\n",
        "\n",
        "Ok ok, first things first. \n",
        "\n",
        "**The collate function is a function that the DataLoader requires in order to batch the elements in our dataset**. Up until now we did not define any collate function because we were using the default one in the DataLoader implementation. Unfortunately, now we need to define our own collate function because we need to pad the sequences in each batch to match the length of the longest sequence in that batch.\n",
        "\n",
        "**The collate function that we pass to a DataLoader receives in input a list of elements that are of the type returned by the \\_\\_index\\_\\_ function of the Dataset class we gave to that very DataLoader**. So in our case we will receive a list of tuples made of the indices of the words contained in a review ($x$) and the number of stars for that review ($y$)."
      ]
    },
    {
      "cell_type": "code",
      "metadata": {
        "id": "qh1Fw3rYKZZW"
      },
      "source": [
        "def rnn_collate_fn(\n",
        "    data_elements: List[Tuple[torch.Tensor, torch.Tensor]] # list of (x, y) pairs\n",
        ") -> Tuple[torch.Tensor, torch.Tensor, torch.Tensor]:\n",
        "\n",
        "    X = [de[0] for de in data_elements]  # list of index tensors\n",
        "\n",
        "    # to implement the many-to-one strategy\n",
        "    X_lengths = torch.tensor([x.size(0) for x in X], dtype=torch.long)\n",
        "\n",
        "    X = torch.nn.utils.rnn.pad_sequence(X, batch_first=True, padding_value=0)  #  shape (batch_size x max_seq_len)\n",
        "\n",
        "    y = [de[1] for de in data_elements]\n",
        "    y = torch.tensor(y)\n",
        "\n",
        "    return X, X_lengths, y"
      ],
      "execution_count": null,
      "outputs": []
    },
    {
      "cell_type": "markdown",
      "metadata": {
        "id": "_4RBOyWo6sIj"
      },
      "source": [
        "We would like you to notice that we store the length of each sequence in a batch in order to retrieve the correct position of the last token in the sequence (our $h_t$). "
      ]
    },
    {
      "cell_type": "markdown",
      "metadata": {
        "id": "isGkRaLK3DmP"
      },
      "source": [
        "We can now declare here our AmazonReviewsRNNDataModule"
      ]
    },
    {
      "cell_type": "code",
      "metadata": {
        "id": "D9QR8RayNOdn"
      },
      "source": [
        "class AmazonReviewsRNNDataModule(pl.LightningDataModule):\n",
        "\n",
        "    def __init__(\n",
        "        self, \n",
        "        data_train_path: str,\n",
        "        data_dev_path: str,\n",
        "        data_test_path: str,\n",
        "        batch_size: int,\n",
        "        collate_fn=None\n",
        "    ) -> None:\n",
        "        super().__init__()\n",
        "        self.data_train_path = data_train_path\n",
        "        self.data_dev_path = data_dev_path\n",
        "        self.data_test_path = data_test_path\n",
        "        self.batch_size = batch_size\n",
        "        self.collate_fn = collate_fn\n",
        "\n",
        "        self.train_dataset = None\n",
        "        self.validation_dataset = None\n",
        "        self.test_dataset = None\n",
        "\n",
        "    def setup(self, stage: Optional[str] = None) -> None:\n",
        "        if stage == 'fit':\n",
        "            self.train_dataset = AmazonReviewsDataset(self.data_train_path, review2indices)\n",
        "            self.validation_dataset = AmazonReviewsDataset(self.data_dev_path, review2indices)\n",
        "        elif stage == 'test':\n",
        "            self.test_dataset = AmazonReviewsDataset(self.data_test_path, review2indices)\n",
        "\n",
        "    def train_dataloader(self, *args, **kwargs) -> DataLoader:\n",
        "        return DataLoader(self.train_dataset, batch_size=self.batch_size, collate_fn=rnn_collate_fn)\n",
        "\n",
        "    def val_dataloader(self, *args, **kwargs) -> Union[DataLoader, List[DataLoader]]:\n",
        "        return DataLoader(self.validation_dataset, batch_size=self.batch_size, collate_fn=rnn_collate_fn)\n",
        "\n",
        "    def test_dataloader(self, *args, **kwargs) -> Union[DataLoader, List[DataLoader]]:\n",
        "        return DataLoader(self.test_dataset, batch_size=self.batch_size, collate_fn=rnn_collate_fn)"
      ],
      "execution_count": null,
      "outputs": []
    },
    {
      "cell_type": "code",
      "metadata": {
        "id": "K4t76Oc0MUXj"
      },
      "source": [
        "amazon_review_rnn_dm = AmazonReviewsRNNDataModule(\n",
        "    data_train_path='data/dataset.train.tsv',\n",
        "    data_dev_path='data/dataset.validation.tsv',\n",
        "    data_test_path='data/dataset.test.tsv',\n",
        "    batch_size=32,\n",
        ")"
      ],
      "execution_count": null,
      "outputs": []
    },
    {
      "cell_type": "markdown",
      "metadata": {
        "id": "rO7cMBQT7k5p"
      },
      "source": [
        "As we can see from the output, the shape of each batch is now ($batch\\ size \\times sequence\\ length$), in contrast to before where it was ($batch\\ size \\times features$). "
      ]
    },
    {
      "cell_type": "code",
      "metadata": {
        "colab": {
          "base_uri": "https://localhost:8080/"
        },
        "id": "xf9wUjIiMl__",
        "outputId": "15d4a2bf-766c-4508-a870-20731f46aa09"
      },
      "source": [
        "amazon_review_rnn_dm.setup('test')\n",
        "\n",
        "for batch in amazon_review_rnn_dm.test_dataloader():\n",
        "    batch_X, batch_X_lengths, batch_y = batch\n",
        "    print(batch_X)\n",
        "    print(batch_X.shape)\n",
        "    print(batch_y.shape)\n",
        "    break"
      ],
      "execution_count": null,
      "outputs": [
        {
          "output_type": "stream",
          "text": [
            "tensor([[  501,   501,     0,  ...,     0,     0,     0],\n",
            "        [11708,    15,    33,  ...,     0,     0,     0],\n",
            "        [ 2088,    13,    67,  ...,     0,     0,     0],\n",
            "        ...,\n",
            "        [  659,   215,   527,  ...,     0,     0,     0],\n",
            "        [   82,   262,   595,  ...,     0,     0,     0],\n",
            "        [   23,   623,     1,  ..., 70571, 31304,     1]])\n",
            "torch.Size([32, 1158])\n",
            "torch.Size([32])\n"
          ],
          "name": "stdout"
        }
      ]
    },
    {
      "cell_type": "markdown",
      "metadata": {
        "id": "hvwOBqxp3HcI"
      },
      "source": [
        "Here we define our recurrent stars classifier for the Amazon Reviews."
      ]
    },
    {
      "cell_type": "code",
      "metadata": {
        "id": "wKAPCANNMsQT"
      },
      "source": [
        "class AmazonReviewRecurrentClassifier(pl.LightningModule):\n",
        "\n",
        "    REVIEWS_CLASSES = 5\n",
        "\n",
        "    def __init__(\n",
        "        self,\n",
        "        vectors_store: torch.Tensor,\n",
        "        n_hidden: int\n",
        "    ) -> None:\n",
        "        super().__init__()\n",
        "\n",
        "        # embedding layer\n",
        "        self.embedding = torch.nn.Embedding.from_pretrained(vectors_store)\n",
        "\n",
        "        # recurrent layer\n",
        "        self.rnn = torch.nn.LSTM(input_size=vectors_store.size(1), hidden_size=n_hidden, num_layers=1, batch_first=True)\n",
        "\n",
        "        # classification head\n",
        "        self.lin1 = torch.nn.Linear(n_hidden, n_hidden)\n",
        "        self.lin2 = torch.nn.Linear(n_hidden, self.REVIEWS_CLASSES)\n",
        "\n",
        "        # criterion\n",
        "        self.loss_fn = torch.nn.CrossEntropyLoss()\n",
        "\n",
        "        # metrics\n",
        "        self.val_f1 = pl.metrics.F1(self.REVIEWS_CLASSES)\n",
        "        self.test_f1 = pl.metrics.F1(self.REVIEWS_CLASSES)\n",
        "\n",
        "    def forward(\n",
        "        self, \n",
        "        X: torch.Tensor, \n",
        "        X_length: torch.Tensor, \n",
        "        y: Optional[torch.Tensor] = None\n",
        "    ) -> Dict[str, torch.Tensor]:\n",
        "\n",
        "        # embedding words from indices\n",
        "        embedding_out = self.embedding(X)\n",
        "\n",
        "        # recurrent encoding\n",
        "        recurrent_out = self.rnn(embedding_out)[0]\n",
        "        \n",
        "        # here we utilize the sequences length to retrieve the last token \n",
        "        # output for each sequence\n",
        "        batch_size, seq_len, hidden_size = recurrent_out.shape\n",
        "\n",
        "        # we flatten the recurrent output\n",
        "        # now I have a long sequence of batch x seq_len vectors \n",
        "        flattened_out = recurrent_out.reshape(-1, hidden_size)\n",
        "        \n",
        "        # and we use a simple trick to compute a tensor of the indices \n",
        "        # of the last token in each batch element\n",
        "        last_word_relative_indices = X_length - 1\n",
        "        # tensor of the start offsets of each element in the batch\n",
        "        sequences_offsets = torch.arange(batch_size, device=self.device) * seq_len\n",
        "        # e.g. (0, 5, 10, 15, ) + ( 3, 2, 1, 4 ) = ( 3, 7, 11, 19 )\n",
        "        summary_vectors_indices = sequences_offsets + last_word_relative_indices\n",
        "\n",
        "        # finaly we retrieve the vectors that should summarize every review.\n",
        "        # (i.e. the last token in the sequence)\n",
        "        summary_vectors = flattened_out[summary_vectors_indices]\n",
        "\n",
        "        # now we can classify the reviews with a feedforward pass on the summary\n",
        "        # vectors\n",
        "        out = self.lin1(summary_vectors)\n",
        "        out = torch.relu(out)\n",
        "        out = self.lin2(out).squeeze(1)\n",
        "\n",
        "        # compute logits (which are simply the out variable) and the actual probability distribution (pred, as it is the predicted distribution)\n",
        "        logits = out\n",
        "        pred = torch.softmax(logits, dim=-1)\n",
        "\n",
        "        result = {'logits': logits, 'pred': pred}\n",
        "\n",
        "        # compute loss\n",
        "        if y is not None:\n",
        "            # while mathematically the CrossEntropyLoss takes as input the probability distributions,\n",
        "            # torch optimizes its computation internally and takes as input the logits instead\n",
        "            loss = self.loss(logits, y)\n",
        "            result['loss'] = loss\n",
        "\n",
        "        return result\n",
        "\n",
        "    def training_step(\n",
        "        self, \n",
        "        batch: Tuple[torch.Tensor], \n",
        "        batch_idx: int\n",
        "    ) -> torch.Tensor:\n",
        "        forward_output = self.forward(*batch)\n",
        "        return forward_output['loss']\n",
        "\n",
        "    def validation_step(\n",
        "        self, \n",
        "        batch: Tuple[torch.Tensor], \n",
        "        batch_idx: int\n",
        "    ):\n",
        "        forward_output = self.forward(*batch)\n",
        "        \n",
        "        self.val_f1(forward_output['pred'], batch[2])\n",
        "\n",
        "        self.log('val_f1', self.val_f1, prog_bar=True)\n",
        "        self.log('val_loss', forward_output['loss'], prog_bar=True)\n",
        "\n",
        "    def test_step(\n",
        "        self,\n",
        "        batch: Tuple[torch.Tensor],\n",
        "        batch_idx: int\n",
        "    ):\n",
        "        forward_output = self.forward(*batch)\n",
        "        self.val_f1(forward_output['pred'], batch[2])\n",
        "        self.log('test_f1', self.val_f1, prog_bar=True)\n",
        "\n",
        "    def loss(self, pred, y):\n",
        "        return self.loss_fn(pred, y)\n",
        "\n",
        "    def configure_optimizers(self):\n",
        "        optimizer = torch.optim.Adam(self.parameters(), lr=0.001)\n",
        "        return optimizer"
      ],
      "execution_count": null,
      "outputs": []
    },
    {
      "cell_type": "markdown",
      "metadata": {
        "id": "SIFzzMV-9Noz"
      },
      "source": [
        "Let's break down the different parts of our recurrent classifier:\n",
        "- **Embedding layer**: the Embedding layer is a useful abstraction that PyTorch provides us which we use to convert words indices in vectors. We initialized it with our vectors_store in order to have a match between the indices we provide to the model and the vectors in the embedding.\n",
        "\n",
        "- **Recurrent layer**: It is a layer implementing a RNN that we utilize to produce a *summary* representation for each review. It expects as input a batch of shape: ($batch\\ size \\times sequence\\ length \\times features$), which is exactly the output of our embdding layer. In this case we opted for a special type of Recurrent Neural Network called LSTM (Long short-term memory) that is especially suited for modeling long sequences of text. You will learn about this special RNN in the upcoming notebooks. \n",
        "\n",
        "\n",
        "- **Classification head**: the classification head is a feedforward head on top of the recurrent layer output, and it is exactly the same as before. Indeed, here we would like to stress that the summary vectors that we retrieve utilizing the many-to-one strategy from the encoded sequences is just another way to compute a representation for the review (function $\\phi$)."
      ]
    },
    {
      "cell_type": "markdown",
      "metadata": {
        "id": "9eHEjQMr9lrb"
      },
      "source": [
        "We can now intantiate the classifier and train the network."
      ]
    },
    {
      "cell_type": "code",
      "metadata": {
        "id": "FEhB8f1ETnax"
      },
      "source": [
        "amazon_review_recurrent_classifier = AmazonReviewRecurrentClassifier(vectors_store, n_hidden=128)"
      ],
      "execution_count": null,
      "outputs": []
    },
    {
      "cell_type": "code",
      "metadata": {
        "colab": {
          "background_save": true,
          "base_uri": "https://localhost:8080/",
          "height": 683,
          "referenced_widgets": [
            "1c9af171a9844da9a6b9e436e3e1ab9a",
            "419492e867174e8680542494fae594bb",
            "2fdd7c70053d4463a309125378bd2a11",
            "2183cb5f33024a64afe0775a0afe5030",
            "22c3fb4df64140608b425a3e95701768",
            "30b4f353997043df83b105849e9b044a",
            "2cb9eb57e27a498d960de6bc84381eef",
            "790d549cba5646209670607067a9d312",
            "f57e5eea1365449aa08fa031d49e6677",
            "a78896e2ac864917a278b166239ed82f",
            "6c222cb2aa844092995c5797ecead018",
            "49e6e7f18e3648f293cbedf254d645c0",
            "affb8943e9334cf6a04caf3e5a3286b6",
            "dd185a862d674f4bbaa0f3eb69f9fd0b",
            "5f4f179151364787b311d5a8a4159b68",
            "a1f5a01e04e947d98bee2bd37e9a8b2e",
            "a5b441674a094ae0840f5bd1a7d9ea70",
            "a3e63a3d8e8c4161a67b7194c0289f92",
            "43faa26fc1824c949c7afb5e4cee6ccb",
            "8771920621a44a188cf825c0838846c5",
            "ab70e0db041f41c2a6bc3dcca8132023",
            "2e65b5166e944fdba3b5a9da1a07c5ea",
            "7ff83a18395c466cbef5ddf82d75b0dc",
            "cf0a90f3d3bb4cee85e52eb5c82e78e8",
            "2abd6af6a38c4940aee13cf9bb4302bf",
            "d14419170562402db38fc1652568dffa",
            "f333dbe2bfac476a84256d4315acbb80",
            "18c274ee341d46debd6a7da3a273eb98",
            "95fcd6c8d0134166a2b8985a05b88ee1",
            "aba7a58f3f314750a0108cf40247e996",
            "6bb15d223bf14960ba533e74e5002c46",
            "188ac6ef11494748ba6f5c398838e926",
            "763af43b152141ee95f43ce671d29a23",
            "d4fbdcb8fa2f4587a23a42b345975751",
            "71a7ab53319442169cdd4dcdbbf7a508",
            "fce3ce12973b4605af372a0a3ff21ded",
            "6ef467a79e014109a7ea05bd9dff6e60",
            "673cdf2d668949ab962edccd3a871f53",
            "7bea38d0d6a54fdcb212d2518b03c2da",
            "e075f29669954368987d8cd3d3b78447",
            "52b011e851f04dfdbc638a3a2570f479",
            "b9ab7ecdbce941009a1fbd5c1fcc2691",
            "084fb8bea2ac4f6eb0d3c9f70dac14bc",
            "4c3b641f589c45028636a2d174a4648b",
            "289b28305df148d1967998ea6626784f",
            "5a80e9d53dfe407e859894fffa6beb37",
            "6959eb33e86341d98c807c5a039be10e",
            "628e126bd6b74c0883867af21b0a153c",
            "c52c814a9bca42808a2f8ac4cc6da1f6",
            "4b0910e7f9e14d3587b4ff92b175e725",
            "113a1568019047f9a500e4df2cea3945",
            "8b68fe94dc0341d6b0e9d6afc7600f8e",
            "eac9a4d4b55d46079af6cef1dca2ed83"
          ]
        },
        "id": "AwjIHBDdVhFJ",
        "outputId": "4c782b10-e530-4ead-ed5e-2c104c91eef0"
      },
      "source": [
        "trainer = get_trainer(ckpt_dir=\"experiments/amazon_reviews_recurrent_classifier\")\n",
        "trainer.fit(model=amazon_review_recurrent_classifier, datamodule=amazon_review_rnn_dm)"
      ],
      "execution_count": null,
      "outputs": [
        {
          "output_type": "stream",
          "text": [
            "/usr/local/lib/python3.7/dist-packages/pytorch_lightning/utilities/distributed.py:52: UserWarning: Checkpoint directory experiments/amazon_reviews_recurrent_classifier exists and is not empty.\n",
            "  warnings.warn(*args, **kwargs)\n",
            "GPU available: True, used: True\n",
            "TPU available: False, using: 0 TPU cores\n",
            "LOCAL_RANK: 0 - CUDA_VISIBLE_DEVICES: [0]\n",
            "\n",
            "  | Name      | Type             | Params\n",
            "-----------------------------------------------\n",
            "0 | embedding | Embedding        | 30.0 M\n",
            "1 | rnn       | LSTM             | 220 K \n",
            "2 | lin1      | Linear           | 16.5 K\n",
            "3 | lin2      | Linear           | 645   \n",
            "4 | loss_fn   | CrossEntropyLoss | 0     \n",
            "5 | val_f1    | F1               | 0     \n",
            "6 | test_f1   | F1               | 0     \n",
            "-----------------------------------------------\n",
            "237 K     Trainable params\n",
            "30.0 M    Non-trainable params\n",
            "30.2 M    Total params\n",
            "120.952   Total estimated model params size (MB)\n"
          ],
          "name": "stderr"
        },
        {
          "output_type": "display_data",
          "data": {
            "application/vnd.jupyter.widget-view+json": {
              "model_id": "1c9af171a9844da9a6b9e436e3e1ab9a",
              "version_major": 2,
              "version_minor": 0
            },
            "text/plain": [
              "HBox(children=(FloatProgress(value=1.0, bar_style='info', description='Validation sanity check', layout=Layout…"
            ]
          },
          "metadata": {
            "tags": []
          }
        },
        {
          "output_type": "stream",
          "text": [
            "\r"
          ],
          "name": "stdout"
        },
        {
          "output_type": "display_data",
          "data": {
            "application/vnd.jupyter.widget-view+json": {
              "model_id": "f57e5eea1365449aa08fa031d49e6677",
              "version_major": 2,
              "version_minor": 0
            },
            "text/plain": [
              "HBox(children=(FloatProgress(value=1.0, bar_style='info', description='Training', layout=Layout(flex='2'), max…"
            ]
          },
          "metadata": {
            "tags": []
          }
        },
        {
          "output_type": "display_data",
          "data": {
            "application/vnd.jupyter.widget-view+json": {
              "model_id": "a5b441674a094ae0840f5bd1a7d9ea70",
              "version_major": 2,
              "version_minor": 0
            },
            "text/plain": [
              "HBox(children=(FloatProgress(value=1.0, bar_style='info', description='Validating', layout=Layout(flex='2'), m…"
            ]
          },
          "metadata": {
            "tags": []
          }
        },
        {
          "output_type": "stream",
          "text": [
            "Epoch 0, global step 1562: val_f1 reached 0.60492 (best 0.60492), saving model to \"/content/experiments/amazon_reviews_recurrent_classifier/epoch=0-val_f1=0.6049.ckpt\" as top 3\n"
          ],
          "name": "stderr"
        },
        {
          "output_type": "display_data",
          "data": {
            "application/vnd.jupyter.widget-view+json": {
              "model_id": "2abd6af6a38c4940aee13cf9bb4302bf",
              "version_major": 2,
              "version_minor": 0
            },
            "text/plain": [
              "HBox(children=(FloatProgress(value=1.0, bar_style='info', description='Validating', layout=Layout(flex='2'), m…"
            ]
          },
          "metadata": {
            "tags": []
          }
        },
        {
          "output_type": "stream",
          "text": [
            "Epoch 1, global step 3125: val_f1 reached 0.62292 (best 0.62292), saving model to \"/content/experiments/amazon_reviews_recurrent_classifier/epoch=1-val_f1=0.6229.ckpt\" as top 3\n"
          ],
          "name": "stderr"
        },
        {
          "output_type": "display_data",
          "data": {
            "application/vnd.jupyter.widget-view+json": {
              "model_id": "763af43b152141ee95f43ce671d29a23",
              "version_major": 2,
              "version_minor": 0
            },
            "text/plain": [
              "HBox(children=(FloatProgress(value=1.0, bar_style='info', description='Validating', layout=Layout(flex='2'), m…"
            ]
          },
          "metadata": {
            "tags": []
          }
        },
        {
          "output_type": "stream",
          "text": [
            "Epoch 2, global step 4688: val_f1 reached 0.63533 (best 0.63533), saving model to \"/content/experiments/amazon_reviews_recurrent_classifier/epoch=2-val_f1=0.6353.ckpt\" as top 3\n"
          ],
          "name": "stderr"
        },
        {
          "output_type": "display_data",
          "data": {
            "application/vnd.jupyter.widget-view+json": {
              "model_id": "52b011e851f04dfdbc638a3a2570f479",
              "version_major": 2,
              "version_minor": 0
            },
            "text/plain": [
              "HBox(children=(FloatProgress(value=1.0, bar_style='info', description='Validating', layout=Layout(flex='2'), m…"
            ]
          },
          "metadata": {
            "tags": []
          }
        },
        {
          "output_type": "stream",
          "text": [
            "Epoch 3, global step 6251: val_f1 reached 0.64173 (best 0.64173), saving model to \"/content/experiments/amazon_reviews_recurrent_classifier/epoch=3-val_f1=0.6417.ckpt\" as top 3\n"
          ],
          "name": "stderr"
        },
        {
          "output_type": "display_data",
          "data": {
            "application/vnd.jupyter.widget-view+json": {
              "model_id": "b9ab7ecdbce941009a1fbd5c1fcc2691",
              "version_major": 2,
              "version_minor": 0
            },
            "text/plain": [
              "HBox(children=(FloatProgress(value=1.0, bar_style='info', description='Validating', layout=Layout(flex='2'), m…"
            ]
          },
          "metadata": {
            "tags": []
          }
        },
        {
          "output_type": "stream",
          "text": [
            "Epoch 4, global step 7814: val_f1 reached 0.64673 (best 0.64673), saving model to \"/content/experiments/amazon_reviews_recurrent_classifier/epoch=4-val_f1=0.6467.ckpt\" as top 3\n"
          ],
          "name": "stderr"
        },
        {
          "output_type": "display_data",
          "data": {
            "application/vnd.jupyter.widget-view+json": {
              "model_id": "084fb8bea2ac4f6eb0d3c9f70dac14bc",
              "version_major": 2,
              "version_minor": 0
            },
            "text/plain": [
              "HBox(children=(FloatProgress(value=1.0, bar_style='info', description='Validating', layout=Layout(flex='2'), m…"
            ]
          },
          "metadata": {
            "tags": []
          }
        },
        {
          "output_type": "stream",
          "text": [
            "Epoch 5, global step 9377: val_f1 reached 0.65253 (best 0.65253), saving model to \"/content/experiments/amazon_reviews_recurrent_classifier/epoch=5-val_f1=0.6525.ckpt\" as top 3\n"
          ],
          "name": "stderr"
        },
        {
          "output_type": "display_data",
          "data": {
            "application/vnd.jupyter.widget-view+json": {
              "model_id": "113a1568019047f9a500e4df2cea3945",
              "version_major": 2,
              "version_minor": 0
            },
            "text/plain": [
              "HBox(children=(FloatProgress(value=1.0, bar_style='info', description='Validating', layout=Layout(flex='2'), m…"
            ]
          },
          "metadata": {
            "tags": []
          }
        },
        {
          "output_type": "stream",
          "text": [
            "Epoch 6, global step 10940: val_f1 reached 0.64873 (best 0.65253), saving model to \"/content/experiments/amazon_reviews_recurrent_classifier/epoch=6-val_f1=0.6487.ckpt\" as top 3\n"
          ],
          "name": "stderr"
        },
        {
          "output_type": "display_data",
          "data": {
            "application/vnd.jupyter.widget-view+json": {
              "model_id": "8b68fe94dc0341d6b0e9d6afc7600f8e",
              "version_major": 2,
              "version_minor": 0
            },
            "text/plain": [
              "HBox(children=(FloatProgress(value=1.0, bar_style='info', description='Validating', layout=Layout(flex='2'), m…"
            ]
          },
          "metadata": {
            "tags": []
          }
        },
        {
          "output_type": "stream",
          "text": [
            "Epoch 7, step 12503: val_f1 was not in top 3\n"
          ],
          "name": "stderr"
        },
        {
          "output_type": "display_data",
          "data": {
            "application/vnd.jupyter.widget-view+json": {
              "model_id": "eac9a4d4b55d46079af6cef1dca2ed83",
              "version_major": 2,
              "version_minor": 0
            },
            "text/plain": [
              "HBox(children=(FloatProgress(value=1.0, bar_style='info', description='Validating', layout=Layout(flex='2'), m…"
            ]
          },
          "metadata": {
            "tags": []
          }
        },
        {
          "output_type": "stream",
          "text": [
            "Epoch 8, step 14066: val_f1 was not in top 3\n"
          ],
          "name": "stderr"
        },
        {
          "output_type": "stream",
          "text": [
            "\n"
          ],
          "name": "stdout"
        },
        {
          "output_type": "execute_result",
          "data": {
            "text/plain": [
              "1"
            ]
          },
          "metadata": {
            "tags": []
          },
          "execution_count": 0
        }
      ]
    },
    {
      "cell_type": "code",
      "metadata": {
        "id": "QlKr_v0HVhWr"
      },
      "source": [
        "loaded_model = AmazonReviewRecurrentClassifier.load_from_checkpoint(\"/content/experiments/amazon_reviews_recurrent_classifier/epoch=5-val_f1=0.6667.ckpt\", vectors_store=vectors_store, n_hidden=128)  # REPLACE HERE THE PATH TO A MODEL CHECKPOINT IN THE \"experiments/amazon_reviews_classifier\" folder\n",
        "trainer.test(model=loaded_model, datamodule=amazon_review_rnn_dm)"
      ],
      "execution_count": null,
      "outputs": []
    },
    {
      "cell_type": "markdown",
      "metadata": {
        "id": "j_iAoV-H0Mp9"
      },
      "source": [
        "As you can witness, we have significantly improved over the simple \"average\" function $\\phi$."
      ]
    },
    {
      "cell_type": "markdown",
      "metadata": {
        "id": "lrj_10t4GpiC"
      },
      "source": [
        "### Further approaches\n",
        "- We can utilize a different word embeddings to see if we can improve the performances! We can find a lot (and we mean a lot) of different types of word embeddings [here](http://vectors.nlpl.eu/repository/).\n",
        "- We can change the recurrent layer and try the other torch.rnn modules that can be find [here](https://pytorch.org/docs/stable/nn.html#recurrent-layers)."
      ]
    }
  ]
}