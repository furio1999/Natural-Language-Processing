{
  "nbformat": 4,
  "nbformat_minor": 0,
  "metadata": {
    "colab": {
      "name": "Performing Word Embeddings with Word2Vec",
      "provenance": [],
      "collapsed_sections": [],
      "toc_visible": true,
      "include_colab_link": true
    },
    "kernelspec": {
      "name": "python3",
      "display_name": "Python 3"
    },
    "accelerator": "GPU"
  },
  "cells": [
    {
      "cell_type": "markdown",
      "metadata": {
        "id": "view-in-github",
        "colab_type": "text"
      },
      "source": [
        "<a href=\"https://colab.research.google.com/github/furio1999/Natural-Language-Processing/blob/main/Performing_Word_Embeddings_with_Word2Vec.ipynb\" target=\"_parent\"><img src=\"https://colab.research.google.com/assets/colab-badge.svg\" alt=\"Open In Colab\"/></a>"
      ]
    },
    {
      "cell_type": "markdown",
      "metadata": {
        "id": "87wk2mNdHoy_"
      },
      "source": [
        "**Copyright 2021 Sapienza NLP research group (http://nlp.uniroma1.it/)**\n",
        "\n",
        "Authors: Edoardo Barba, Michele Bevilacqua, Cesare Campagnano, Simone Conia, ‪Pere-Lluís Huguet Cabot‬, Luigi Procopio, Roberto Navigli\n",
        "\n",
        "All the material is made available under a Creative Commons Attribution-NonCommercial-ShareAlike 4.0 License (international): https://creativecommons.org/licenses/by-nc-sa/4.0/."
      ]
    },
    {
      "cell_type": "markdown",
      "metadata": {
        "id": "_VozljLNSGUN"
      },
      "source": [
        "# Word embeddings and Word2Vec\n",
        "Word2Vec is a group of related methods to learn word embeddings using shallow neural networks. Given a large corpus of text, these techniques allow to learn a representation for each word such that words that share common contexts in the corpus are located close to each other in the vector space.\n",
        "### Skip-Gram Model\n",
        "It is one of the two word2vec methods to build word embeddings. We want words that appear in the same context to have similar representations, so we will use as training instance a given word and as its label a word that appears in the same context.\n",
        "\n",
        "The model has the following architecture:\n",
        "\n",
        "![Model architecture](https://miro.medium.com/max/3138/0*FTfdlZ7yDBoQ8c9W.png)\n",
        "\n",
        "The weights of the dense layers will be updated during training, and we will use the weights of the first layer as word embeddings.\n"
      ]
    },
    {
      "cell_type": "markdown",
      "metadata": {
        "id": "hNJBUzy9S9R6"
      },
      "source": [
        "# Setup"
      ]
    },
    {
      "cell_type": "code",
      "metadata": {
        "id": "JYFDoK-YAma-",
        "colab": {
          "base_uri": "https://localhost:8080/",
          "height": 35
        },
        "outputId": "75ff5a8b-6842-4716-a7c6-1c547b5347cd"
      },
      "source": [
        "!pip install wget # to download data"
      ],
      "execution_count": null,
      "outputs": [
        {
          "output_type": "stream",
          "text": [
            "Requirement already satisfied: wget in /usr/local/lib/python3.6/dist-packages (3.2)\n"
          ],
          "name": "stdout"
        }
      ]
    },
    {
      "cell_type": "code",
      "metadata": {
        "id": "2xiCfYLhZWRU",
        "colab": {
          "base_uri": "https://localhost:8080/",
          "height": 35
        },
        "outputId": "20018622-d29d-45d9-eca7-453aab622123"
      },
      "source": [
        "from sklearn.decomposition import PCA\n",
        "from torch import FloatTensor as FT\n",
        "from torch import LongTensor as LT\n",
        "import matplotlib.pyplot as plt\n",
        "import torch.nn as nn\n",
        "import collections\n",
        "import numpy as np\n",
        "import torch\n",
        "import wget\n",
        "import json\n",
        "import os\n",
        "import re\n",
        "\n",
        "# for cute iteration bars (during training etc.)\n",
        "from tqdm.auto import tqdm\n",
        "\n",
        "torch.manual_seed(42)"
      ],
      "execution_count": null,
      "outputs": [
        {
          "output_type": "execute_result",
          "data": {
            "text/plain": [
              "<torch._C.Generator at 0x7f9ae41f31b0>"
            ]
          },
          "metadata": {
            "tags": []
          },
          "execution_count": 5
        }
      ]
    },
    {
      "cell_type": "code",
      "metadata": {
        "id": "MLDueduVA-p4"
      },
      "source": [
        "from google.colab import drive\n",
        "drive.mount('/content/drive')\n",
        "\n",
        "root_folder = '/content/drive/My Drive/nlp_data/' # to save checkpoints"
      ],
      "execution_count": null,
      "outputs": []
    },
    {
      "cell_type": "markdown",
      "metadata": {
        "id": "jio_Zeh5VJIn"
      },
      "source": [
        "# Data Preparation"
      ]
    },
    {
      "cell_type": "markdown",
      "metadata": {
        "id": "YmdfdVXrcCqu"
      },
      "source": [
        "## Define the dataset\n",
        "We define a class to handle the data. We can inherit the ```torch.utils.data.IterableDataset``` abstract class and override the ```__iter___``` method."
      ]
    },
    {
      "cell_type": "code",
      "metadata": {
        "id": "9H_9Uxe-1xiO"
      },
      "source": [
        "class Word2VecDataset(torch.utils.data.IterableDataset):\n",
        "\n",
        "    def __init__(self, txt_path, vocab_size, unk_token, window_size):\n",
        "        \"\"\"\n",
        "        Args:\n",
        "          txt_file (str): Path to the raw-text file.\n",
        "          vocab_size (int): Maximum amount of words that we want to embed.\n",
        "          unk_token (str): How will unknown words represented (e.g. 'UNK').\n",
        "          window_size (int): Number of words to consider as context.\n",
        "        \"\"\"\n",
        "        self.window_size = window_size\n",
        "        # [[w1,s1, w2,s1, ..., w|s1|,s1], [w1,s2, w2,s2, ..., w|s2|,s2], ..., [w1,sn, ..., w|sn|,sn]]\n",
        "        self.data_words = self.read_data(txt_path)\n",
        "        self.build_vocabulary(vocab_size, unk_token)\n",
        "\n",
        "    def __iter__(self):\n",
        "        sentences = self.data_words\n",
        "        for sentence in sentences:\n",
        "            len_sentence = len(sentence)\n",
        "\n",
        "            for input_idx in range(len_sentence):\n",
        "                current_word = sentence[input_idx]\n",
        "                # must be a word in the vocabulary\n",
        "                if current_word in self.word2id and self.keep_word(current_word):\n",
        "                    # left and right window indices\n",
        "                    min_idx = max(0, input_idx - self.window_size)\n",
        "                    max_idx = min(len_sentence, input_idx + self.window_size)\n",
        "\n",
        "                    window_idxs = [x for x in range(min_idx, max_idx) if x != input_idx]\n",
        "                    for target_idx in window_idxs:\n",
        "                        # must be a word in the vocabulary\n",
        "                        if sentence[target_idx] in self.word2id:\n",
        "                            # index of target word in vocab\n",
        "                            target = self.word2id[sentence[target_idx]]\n",
        "                            # index of input word\n",
        "                            current_word_id = self.word2id[current_word]\n",
        "                            output_dict = {'targets':target, 'inputs':current_word_id}\n",
        "\n",
        "                            yield output_dict\n",
        "\n",
        "    def keep_word(self, word):\n",
        "        '''Implements negative sampling and returns true if we can keep the occurrence as training instance.'''\n",
        "        z = self.frequency[word] / self.tot_occurrences\n",
        "        p_keep = np.sqrt(z / 10e-3) + 1\n",
        "        p_keep *= 10e-3 / z # higher for less frequent instances\n",
        "        return np.random.rand() < p_keep # toss a coin and compare it to p_keep to keep the word\n",
        "\n",
        "    def read_data(self, txt_path):\n",
        "        \"\"\"Converts each line in the input file into a list of lists of tokenized words.\"\"\"\n",
        "        data = []\n",
        "        total_words = 0\n",
        "        # tot_lines = self.count_lines(txt_path)\n",
        "        with open(txt_path) as f:\n",
        "            for line in f:\n",
        "                split = self.tokenize_line(line)\n",
        "                if split:\n",
        "                    data.append(split)\n",
        "                    total_words += len(split)\n",
        "        return data\n",
        "\n",
        "    # \"The pen is on the table\" -> [\"the, \"pen\", \"is\", \"on\", \"the\", \"table\"]\n",
        "    def tokenize_line(self, line, pattern='\\W'):\n",
        "        \"\"\"Tokenizes a single line.\"\"\"\n",
        "        return [word.lower() for word in re.split(pattern, line.lower()) if word]\n",
        "\n",
        "    def build_vocabulary(self, vocab_size, unk_token):\n",
        "        \"\"\"Defines the vocabulary to be used. Builds a mapping (word, index) for\n",
        "        each word in the vocabulary.\n",
        "\n",
        "        Args:\n",
        "          vocab_size (int): size of the vocabolary\n",
        "          unk_token (str): token to associate with unknown words\n",
        "        \"\"\"\n",
        "        counter_list = []\n",
        "        # context is a list of tokens within a single sentence\n",
        "        for context in self.data_words:\n",
        "            counter_list.extend(context)\n",
        "        counter = collections.Counter(counter_list)\n",
        "        counter_len = len(counter)\n",
        "        print(\"Number of distinct words: {}\".format(counter_len))\n",
        "\n",
        "        # consider only the (vocab size -1) most common words to build the vocab\n",
        "        dictionary = {key: index for index, (key, _) in enumerate(counter.most_common(vocab_size - 1))}\n",
        "        assert unk_token not in dictionary\n",
        "        # all the other words are mapped to UNK\n",
        "        dictionary[unk_token] = vocab_size - 1\n",
        "        self.word2id = dictionary\n",
        "\n",
        "        # dictionary with (word, frequency) pairs -- including only words that are in the vocabulary\n",
        "        dict_counts = {x: counter[x] for x in dictionary if x is not unk_token}\n",
        "        self.frequency = dict_counts\n",
        "        self.tot_occurrences = sum(dict_counts[x] for x in dict_counts)\n",
        "\n",
        "        print(\"Total occurrences of words in dictionary: {}\".format(self.tot_occurrences))\n",
        "\n",
        "        less_freq_word = min(dict_counts, key=counter.get)\n",
        "        print(\"Less frequent word in dictionary appears {} times ({})\".format(dict_counts[less_freq_word],\n",
        "                                                                              less_freq_word))\n",
        "\n",
        "        # index to word\n",
        "        self.id2word = {value: key for key, value in dictionary.items()}\n",
        "\n",
        "        # data is the text converted to indexes, as list of lists\n",
        "        data = []\n",
        "        # for each sentence\n",
        "        for sentence in self.data_words:\n",
        "            paragraph = []\n",
        "            # for each word in the sentence\n",
        "            for i in sentence:\n",
        "                id_ = dictionary[i] if i in dictionary else dictionary[unk_token]\n",
        "                if id_ == dictionary[unk_token]:\n",
        "                    continue\n",
        "                paragraph.append(id_)\n",
        "            data.append(paragraph)\n",
        "        # list of lists of indices, where each sentence is a list of indices, ignoring UNK\n",
        "        self.data_idx = data"
      ],
      "execution_count": null,
      "outputs": []
    },
    {
      "cell_type": "markdown",
      "metadata": {
        "id": "albovxWAOv-N"
      },
      "source": [
        "Let's create our dataset:"
      ]
    },
    {
      "cell_type": "code",
      "metadata": {
        "id": "7N6yKU9BYE3r"
      },
      "source": [
        "NEGATIVE_SAMPLING = False\n",
        "\n",
        "# path to store checkpoints\n",
        "PATH_OUTPUT_FOLDER = os.path.join(root_folder, 'output_folder/{}/'.format('neg_sampling' if NEGATIVE_SAMPLING else 'no_sampling'))"
      ],
      "execution_count": null,
      "outputs": []
    },
    {
      "cell_type": "code",
      "metadata": {
        "id": "mruY8mmKcyJI",
        "colab": {
          "base_uri": "https://localhost:8080/",
          "height": 68
        },
        "outputId": "c9f89efe-b618-47cc-9de7-6e3732ccb0d3"
      },
      "source": [
        "# wiki_10k.txt for short runs, wiki_500k.txt for longer runs (and more reliable results)\n",
        "\n",
        "url_data = 'https://raw.githubusercontent.com/caterinaLacerra/word2vec_data/master/wiki_10k.txt'\n",
        "train_data_path = wget.download(url_data)\n",
        "\n",
        "VOCAB_SIZE = 10_000\n",
        "UNK = 'UNK'\n",
        "\n",
        "dataset = Word2VecDataset(train_data_path, VOCAB_SIZE, UNK, window_size=5)"
      ],
      "execution_count": null,
      "outputs": [
        {
          "output_type": "stream",
          "text": [
            "Number of distinct words: 30501\n",
            "Total occurrences of words in dictionary: 228841\n",
            "Less frequent word in dictionary appears 2 times (tasked)\n"
          ],
          "name": "stdout"
        }
      ]
    },
    {
      "cell_type": "markdown",
      "metadata": {
        "id": "OoHE5_1CBRLv"
      },
      "source": [
        "# Model Definition"
      ]
    },
    {
      "cell_type": "markdown",
      "metadata": {
        "id": "S1CzvKUIYDVH"
      },
      "source": [
        "We define the class NEGLoss to implement negative sampling.\n",
        "Then, we incorporate it in the SkipGram class, which implements the Skip-gram architecture to process the data"
      ]
    },
    {
      "cell_type": "code",
      "metadata": {
        "id": "sxbjpkdorzwa"
      },
      "source": [
        "class NEGLoss(nn.Module):\n",
        "    '''Code from https://github.com/dthiagarajan/word2vec-pytorch/'''\n",
        "    def __init__(self, idx_to_word, word_freqs, num_negative_samples=5):\n",
        "        super(NEGLoss, self).__init__()\n",
        "        # number of negative samples for which we will compute the loss\n",
        "        self.num_negative_samples = num_negative_samples\n",
        "        self.num_words = len(idx_to_word)\n",
        "        # distribution of words \n",
        "        self.distr = nn.functional.normalize(torch.tensor([word_freqs[idx_to_word[i]]\n",
        "                                                           for i in range(len(word_freqs))], dtype=float)\n",
        "                                                  .pow(0.75),\n",
        "                                             dim=0)\n",
        "\n",
        "    def sample(self, num_samples, positives=None):\n",
        "        # builds a matrix of weights for the loss function.\n",
        "        # weights for negative samples are proportional to their frequency in the corpus.\n",
        "        if positives is None:\n",
        "            positives = []\n",
        "        weights = torch.zeros((self.num_words, 1), device=device)\n",
        "        for w in positives:\n",
        "            weights[w] += 1.0\n",
        "        for _ in range(num_samples):\n",
        "            w = torch.multinomial(self.distr, 1)[0].to(device)\n",
        "            while (w in positives):\n",
        "                w = torch.multinomial(self.distr, 1)[0].to(device)\n",
        "            weights[w] += 1.0\n",
        "        return weights\n",
        "\n",
        "    def forward(self, input, target):\n",
        "        return nn.functional.nll_loss(input, target,\n",
        "            self.sample(self.num_negative_samples, positives=target.data))"
      ],
      "execution_count": null,
      "outputs": []
    },
    {
      "cell_type": "code",
      "metadata": {
        "id": "LDTIvu_LUqTw"
      },
      "source": [
        "class SkipGram(nn.Module):\n",
        "\n",
        "    def __init__(self, vocabulary_size, embedding_dim, id2word, word_counts, NEG_SAMPLING=False):\n",
        "        super(SkipGram, self).__init__()\n",
        "        self.vocabulary_size = vocabulary_size\n",
        "        self.embedding_dim = embedding_dim\n",
        "\n",
        "        # matrix W\n",
        "        self.embeddings = nn.Linear(self.vocabulary_size, self.embedding_dim)\n",
        "        # matrix W'\n",
        "        self.output_weights = nn.Linear(self.embedding_dim, self.vocabulary_size)\n",
        "\n",
        "        if NEG_SAMPLING:\n",
        "            self.loss_function = NEGLoss(id2word, word_counts)\n",
        "        else:\n",
        "            self.loss_function = nn.CrossEntropyLoss()\n",
        "\n",
        "    def forward(self, input_idx):\n",
        "        # This method defines the outputs of a forward pass on the model\n",
        "        input_embeddings = self.embeddings(input_idx)  # compute the embeddings for the input words\n",
        "        output_embeddings = self.output_weights(input_embeddings)\n",
        "        if isinstance(self.loss_function, NEGLoss):\n",
        "            output = nn.functional.log_softmax(output_embeddings, dim=-1)\n",
        "        else:\n",
        "            # CrossEntropyLoss applies log_softmax internally\n",
        "            output = output_embeddings\n",
        "        return output"
      ],
      "execution_count": null,
      "outputs": []
    },
    {
      "cell_type": "markdown",
      "metadata": {
        "id": "pxLrdmhKbrfu"
      },
      "source": [
        "# Model Building"
      ]
    },
    {
      "cell_type": "markdown",
      "metadata": {
        "id": "1CX1_L9ZY1Qv"
      },
      "source": [
        "We create a dedicated function to implement the backward pass of our neural network"
      ]
    },
    {
      "cell_type": "code",
      "metadata": {
        "id": "GgIM9IVC-CRo"
      },
      "source": [
        "class Trainer():\n",
        "    def __init__(self, model, optimizer, device):\n",
        "\n",
        "        self.device = device\n",
        "\n",
        "        self.model = model\n",
        "        self.optimizer = optimizer\n",
        "\n",
        "        # starts requires_grad for all layers\n",
        "        self.model.train()  # we are using this model for training (some layers have different behaviours in train and eval mode)\n",
        "        self.model.to(self.device)  # move model to GPU if available\n",
        "\n",
        "    def train(self, train_dataset, output_folder, epochs=1):\n",
        "\n",
        "        train_loss = 0.0\n",
        "        for epoch in range(epochs):\n",
        "            epoch_loss = 0.0\n",
        "            len_train = 0\n",
        "\n",
        "            # each element (sample) in train_dataset is a batch\n",
        "            for step, sample in tqdm(enumerate(train_dataset), desc=\"Batch\", leave=False):\n",
        "                # inputs in the batch\n",
        "                inputs = sample['inputs']\n",
        "                # outputs in the batch\n",
        "                targets = sample['targets'].to(self.device)\n",
        "\n",
        "                # one_hot_input : batch size X vocab_size\n",
        "                one_hot_input = torch.zeros((inputs.shape[0], VOCAB_SIZE), device=self.device)\n",
        "                # sets the ones corresponding to the input word\n",
        "                for i, x in enumerate(inputs):\n",
        "                    one_hot_input[i, x] = 1\n",
        "\n",
        "                output_distribution = self.model(one_hot_input)\n",
        "                loss = self.model.loss_function(output_distribution, targets)  # compute loss\n",
        "                # calculates the gradient and accumulates\n",
        "                loss.backward()  # we backpropagate the loss\n",
        "                # updates the parameters\n",
        "                self.optimizer.step()\n",
        "                self.optimizer.zero_grad()\n",
        "\n",
        "                epoch_loss += loss.item()\n",
        "                len_train += 1\n",
        "            avg_epoch_loss = epoch_loss / len_train\n",
        "\n",
        "            print('Epoch: {} avg loss = {:0.4f}'.format(epoch, avg_epoch_loss))\n",
        "\n",
        "            train_loss += avg_epoch_loss\n",
        "            torch.save(self.model.state_dict(),\n",
        "                       os.path.join(output_folder, 'state_{}.pt'.format(epoch)))  # save the model state\n",
        "\n",
        "        avg_epoch_loss = train_loss / epochs\n",
        "        return avg_epoch_loss"
      ],
      "execution_count": null,
      "outputs": []
    },
    {
      "cell_type": "markdown",
      "metadata": {
        "id": "k5mIlDBMm44b"
      },
      "source": [
        "Setup the trainer..."
      ]
    },
    {
      "cell_type": "code",
      "metadata": {
        "id": "1A7EjcJ6BuKq",
        "colab": {
          "base_uri": "https://localhost:8080/",
          "height": 34
        },
        "outputId": "64f36f2a-bb73-4465-b19c-395f789ef8d3"
      },
      "source": [
        "print('Using Negative Sampling: ', NEGATIVE_SAMPLING)\n",
        "\n",
        "device = 'cuda' if torch.cuda.is_available() else 'cpu'\n",
        "\n",
        "model = SkipGram(VOCAB_SIZE, embedding_dim=300, id2word=dataset.id2word,\n",
        "                 word_counts=dataset.frequency, NEG_SAMPLING=NEGATIVE_SAMPLING)\n",
        "\n",
        "# define an optimizer (stochastic gradient descent) to update the parameters\n",
        "optimizer = torch.optim.SGD(model.parameters(), lr=0.02)\n",
        "trainer = Trainer(model, optimizer, device)\n",
        "\n",
        "dataloader = torch.utils.data.DataLoader(dataset, batch_size=128) #it batches data for us"
      ],
      "execution_count": null,
      "outputs": [
        {
          "output_type": "stream",
          "text": [
            "Using Negative Sampling:  False\n"
          ],
          "name": "stdout"
        }
      ]
    },
    {
      "cell_type": "markdown",
      "metadata": {
        "id": "IQ7nKji26rE7"
      },
      "source": [
        "... and train!"
      ]
    },
    {
      "cell_type": "code",
      "metadata": {
        "id": "ripBn00i6o-z"
      },
      "source": [
        "# avg_loss = trainer.train(dataloader, PATH_OUTPUT_FOLDER, epochs=100)"
      ],
      "execution_count": null,
      "outputs": []
    },
    {
      "cell_type": "markdown",
      "metadata": {
        "id": "lqyDy0e8o8NJ"
      },
      "source": [
        "# Model Evaluation\n",
        "\n",
        "Inspect how words representation improves during training"
      ]
    },
    {
      "cell_type": "code",
      "metadata": {
        "id": "kGkdItsRqG-h",
        "colab": {
          "base_uri": "https://localhost:8080/",
          "height": 809
        },
        "outputId": "12197639-a8b4-4c23-a7db-426605e078fb"
      },
      "source": [
        "for epoch in [0, 50, 99]:\n",
        "  ## load model from checkpoint\n",
        "\n",
        "  model.load_state_dict(torch.load(os.path.join(PATH_OUTPUT_FOLDER, 'state_{}.pt'.format(epoch))))\n",
        "\n",
        "  # set the model in evaluation mode\n",
        "  # (disables dropout, does not update parameters and gradient)\n",
        "  model.eval()\n",
        "\n",
        "  # retrieve the trained embeddings\n",
        "  embeddings = model.embeddings.weight\n",
        "  \n",
        "  # pick some words to visualise\n",
        "  words = ['dog', 'horse', 'animal', 'france', 'italy', 'parents']\n",
        "\n",
        "  # perform PCA to reduce our 300d embeddings to 2d points that can be plotted\n",
        "  pca = PCA(n_components=2)\n",
        "  pca_result = pca.fit_transform(embeddings.detach().t().cpu()) # .t() transpose the embeddings\n",
        "\n",
        "  indexes = [dataset.word2id[x] for x in words]\n",
        "  points = [pca_result[i] for i in indexes]\n",
        "  for i,(x,y) in enumerate(points):\n",
        "      plt.plot(x, y, 'ro')\n",
        "      plt.text(x, y, words[i], fontsize=12) # add a point label, shifted wrt to the point\n",
        "  plt.title('epoch {}'.format(epoch))\n",
        "  plt.show()\n",
        "  "
      ],
      "execution_count": null,
      "outputs": [
        {
          "output_type": "display_data",
          "data": {
            "image/png": "[encoded data removed]",
            "text/plain": [
              "<Figure size 432x288 with 1 Axes>"
            ]
          },
          "metadata": {
            "tags": []
          }
        },
        {
          "output_type": "display_data",
          "data": {
            "image/png": "[encoded data removed]",
            "text/plain": [
              "<Figure size 432x288 with 1 Axes>"
            ]
          },
          "metadata": {
            "tags": []
          }
        },
        {
          "output_type": "display_data",
          "data": {
            "image/png": "[encoded data removed]",
            "text/plain": [
              "<Figure size 432x288 with 1 Axes>"
            ]
          },
          "metadata": {
            "tags": []
          }
        }
      ]
    }
  ]
}