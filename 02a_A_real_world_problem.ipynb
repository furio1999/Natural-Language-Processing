{
  "nbformat": 4,
  "nbformat_minor": 0,
  "metadata": {
    "colab": {
      "name": "02a - A real-world problem",
      "provenance": [],
      "collapsed_sections": [],
      "include_colab_link": true
    },
    "kernelspec": {
      "name": "python3",
      "display_name": "Python 3"
    },
    "widgets": {
      "application/vnd.jupyter.widget-state+json": {
        "726b751fbbdd4a6ebe25f910987b5b4c": {
          "model_module": "@jupyter-widgets/controls",
          "model_name": "HBoxModel",
          "state": {
            "_view_name": "HBoxView",
            "_dom_classes": [],
            "_model_name": "HBoxModel",
            "_view_module": "@jupyter-widgets/controls",
            "_model_module_version": "1.5.0",
            "_view_count": null,
            "_view_module_version": "1.5.0",
            "box_style": "",
            "layout": "IPY_MODEL_24a481421af64602ae34df6b518933aa",
            "_model_module": "@jupyter-widgets/controls",
            "children": [
              "IPY_MODEL_07fcec0cb45c4f45aafd5572dd1b5f4f",
              "IPY_MODEL_1616b8873f8146e09fbf3311e924b7db"
            ]
          }
        },
        "24a481421af64602ae34df6b518933aa": {
          "model_module": "@jupyter-widgets/base",
          "model_name": "LayoutModel",
          "state": {
            "_view_name": "LayoutView",
            "grid_template_rows": null,
            "right": null,
            "justify_content": null,
            "_view_module": "@jupyter-widgets/base",
            "overflow": null,
            "_model_module_version": "1.2.0",
            "_view_count": null,
            "flex_flow": null,
            "width": null,
            "min_width": null,
            "border": null,
            "align_items": null,
            "bottom": null,
            "_model_module": "@jupyter-widgets/base",
            "top": null,
            "grid_column": null,
            "overflow_y": null,
            "overflow_x": null,
            "grid_auto_flow": null,
            "grid_area": null,
            "grid_template_columns": null,
            "flex": null,
            "_model_name": "LayoutModel",
            "justify_items": null,
            "grid_row": null,
            "max_height": null,
            "align_content": null,
            "visibility": null,
            "align_self": null,
            "height": null,
            "min_height": null,
            "padding": null,
            "grid_auto_rows": null,
            "grid_gap": null,
            "max_width": null,
            "order": null,
            "_view_module_version": "1.2.0",
            "grid_template_areas": null,
            "object_position": null,
            "object_fit": null,
            "grid_auto_columns": null,
            "margin": null,
            "display": null,
            "left": null
          }
        },
        "07fcec0cb45c4f45aafd5572dd1b5f4f": {
          "model_module": "@jupyter-widgets/controls",
          "model_name": "FloatProgressModel",
          "state": {
            "_view_name": "ProgressView",
            "style": "IPY_MODEL_ef9e2b93a51244ec84e63323691f0541",
            "_dom_classes": [],
            "description": "",
            "_model_name": "FloatProgressModel",
            "bar_style": "success",
            "max": 1,
            "_view_module": "@jupyter-widgets/controls",
            "_model_module_version": "1.5.0",
            "value": 1,
            "_view_count": null,
            "_view_module_version": "1.5.0",
            "orientation": "horizontal",
            "min": 0,
            "description_tooltip": null,
            "_model_module": "@jupyter-widgets/controls",
            "layout": "IPY_MODEL_aa1546ffd613437c9cdd30fba69fee95"
          }
        },
        "1616b8873f8146e09fbf3311e924b7db": {
          "model_module": "@jupyter-widgets/controls",
          "model_name": "HTMLModel",
          "state": {
            "_view_name": "HTMLView",
            "style": "IPY_MODEL_95fa7f977b37405bb6c9e0e0d781c22f",
            "_dom_classes": [],
            "description": "",
            "_model_name": "HTMLModel",
            "placeholder": "​",
            "_view_module": "@jupyter-widgets/controls",
            "_model_module_version": "1.5.0",
            "value": " 1785997/? [00:15&lt;00:00, 118813.29it/s, 1=1640, 2=203, 3=314, 4=1343, 5=14813]",
            "_view_count": null,
            "_view_module_version": "1.5.0",
            "description_tooltip": null,
            "_model_module": "@jupyter-widgets/controls",
            "layout": "IPY_MODEL_9197f26dd3d34ad1842ff8eb49bbfc38"
          }
        },
        "ef9e2b93a51244ec84e63323691f0541": {
          "model_module": "@jupyter-widgets/controls",
          "model_name": "ProgressStyleModel",
          "state": {
            "_view_name": "StyleView",
            "_model_name": "ProgressStyleModel",
            "description_width": "initial",
            "_view_module": "@jupyter-widgets/base",
            "_model_module_version": "1.5.0",
            "_view_count": null,
            "_view_module_version": "1.2.0",
            "bar_color": null,
            "_model_module": "@jupyter-widgets/controls"
          }
        },
        "aa1546ffd613437c9cdd30fba69fee95": {
          "model_module": "@jupyter-widgets/base",
          "model_name": "LayoutModel",
          "state": {
            "_view_name": "LayoutView",
            "grid_template_rows": null,
            "right": null,
            "justify_content": null,
            "_view_module": "@jupyter-widgets/base",
            "overflow": null,
            "_model_module_version": "1.2.0",
            "_view_count": null,
            "flex_flow": null,
            "width": null,
            "min_width": null,
            "border": null,
            "align_items": null,
            "bottom": null,
            "_model_module": "@jupyter-widgets/base",
            "top": null,
            "grid_column": null,
            "overflow_y": null,
            "overflow_x": null,
            "grid_auto_flow": null,
            "grid_area": null,
            "grid_template_columns": null,
            "flex": null,
            "_model_name": "LayoutModel",
            "justify_items": null,
            "grid_row": null,
            "max_height": null,
            "align_content": null,
            "visibility": null,
            "align_self": null,
            "height": null,
            "min_height": null,
            "padding": null,
            "grid_auto_rows": null,
            "grid_gap": null,
            "max_width": null,
            "order": null,
            "_view_module_version": "1.2.0",
            "grid_template_areas": null,
            "object_position": null,
            "object_fit": null,
            "grid_auto_columns": null,
            "margin": null,
            "display": null,
            "left": null
          }
        },
        "95fa7f977b37405bb6c9e0e0d781c22f": {
          "model_module": "@jupyter-widgets/controls",
          "model_name": "DescriptionStyleModel",
          "state": {
            "_view_name": "StyleView",
            "_model_name": "DescriptionStyleModel",
            "description_width": "",
            "_view_module": "@jupyter-widgets/base",
            "_model_module_version": "1.5.0",
            "_view_count": null,
            "_view_module_version": "1.2.0",
            "_model_module": "@jupyter-widgets/controls"
          }
        },
        "9197f26dd3d34ad1842ff8eb49bbfc38": {
          "model_module": "@jupyter-widgets/base",
          "model_name": "LayoutModel",
          "state": {
            "_view_name": "LayoutView",
            "grid_template_rows": null,
            "right": null,
            "justify_content": null,
            "_view_module": "@jupyter-widgets/base",
            "overflow": null,
            "_model_module_version": "1.2.0",
            "_view_count": null,
            "flex_flow": null,
            "width": null,
            "min_width": null,
            "border": null,
            "align_items": null,
            "bottom": null,
            "_model_module": "@jupyter-widgets/base",
            "top": null,
            "grid_column": null,
            "overflow_y": null,
            "overflow_x": null,
            "grid_auto_flow": null,
            "grid_area": null,
            "grid_template_columns": null,
            "flex": null,
            "_model_name": "LayoutModel",
            "justify_items": null,
            "grid_row": null,
            "max_height": null,
            "align_content": null,
            "visibility": null,
            "align_self": null,
            "height": null,
            "min_height": null,
            "padding": null,
            "grid_auto_rows": null,
            "grid_gap": null,
            "max_width": null,
            "order": null,
            "_view_module_version": "1.2.0",
            "grid_template_areas": null,
            "object_position": null,
            "object_fit": null,
            "grid_auto_columns": null,
            "margin": null,
            "display": null,
            "left": null
          }
        },
        "158a3054e3d04a11afd66c55bfcc9705": {
          "model_module": "@jupyter-widgets/controls",
          "model_name": "HBoxModel",
          "state": {
            "_view_name": "HBoxView",
            "_dom_classes": [],
            "_model_name": "HBoxModel",
            "_view_module": "@jupyter-widgets/controls",
            "_model_module_version": "1.5.0",
            "_view_count": null,
            "_view_module_version": "1.5.0",
            "box_style": "",
            "layout": "IPY_MODEL_c43c22925aee44cc8ddb91dfdb28f186",
            "_model_module": "@jupyter-widgets/controls",
            "children": [
              "IPY_MODEL_519ed9171eb04aa8aa644d7c10a0e799",
              "IPY_MODEL_e46034e657294ef6a59d331692082ee9"
            ]
          }
        },
        "c43c22925aee44cc8ddb91dfdb28f186": {
          "model_module": "@jupyter-widgets/base",
          "model_name": "LayoutModel",
          "state": {
            "_view_name": "LayoutView",
            "grid_template_rows": null,
            "right": null,
            "justify_content": null,
            "_view_module": "@jupyter-widgets/base",
            "overflow": null,
            "_model_module_version": "1.2.0",
            "_view_count": null,
            "flex_flow": null,
            "width": null,
            "min_width": null,
            "border": null,
            "align_items": null,
            "bottom": null,
            "_model_module": "@jupyter-widgets/base",
            "top": null,
            "grid_column": null,
            "overflow_y": null,
            "overflow_x": null,
            "grid_auto_flow": null,
            "grid_area": null,
            "grid_template_columns": null,
            "flex": null,
            "_model_name": "LayoutModel",
            "justify_items": null,
            "grid_row": null,
            "max_height": null,
            "align_content": null,
            "visibility": null,
            "align_self": null,
            "height": null,
            "min_height": null,
            "padding": null,
            "grid_auto_rows": null,
            "grid_gap": null,
            "max_width": null,
            "order": null,
            "_view_module_version": "1.2.0",
            "grid_template_areas": null,
            "object_position": null,
            "object_fit": null,
            "grid_auto_columns": null,
            "margin": null,
            "display": null,
            "left": null
          }
        },
        "519ed9171eb04aa8aa644d7c10a0e799": {
          "model_module": "@jupyter-widgets/controls",
          "model_name": "FloatProgressModel",
          "state": {
            "_view_name": "ProgressView",
            "style": "IPY_MODEL_14d182eb45774d96a55edbbcc654e34f",
            "_dom_classes": [],
            "description": "",
            "_model_name": "FloatProgressModel",
            "bar_style": "success",
            "max": 1,
            "_view_module": "@jupyter-widgets/controls",
            "_model_module_version": "1.5.0",
            "value": 1,
            "_view_count": null,
            "_view_module_version": "1.5.0",
            "orientation": "horizontal",
            "min": 0,
            "description_tooltip": null,
            "_model_module": "@jupyter-widgets/controls",
            "layout": "IPY_MODEL_64ab0e4b69b24f86b89b235bd1d1b997"
          }
        },
        "e46034e657294ef6a59d331692082ee9": {
          "model_module": "@jupyter-widgets/controls",
          "model_name": "HTMLModel",
          "state": {
            "_view_name": "HTMLView",
            "style": "IPY_MODEL_6c09841019764a28b6d08eaa8d1ada7a",
            "_dom_classes": [],
            "description": "",
            "_model_name": "HTMLModel",
            "placeholder": "​",
            "_view_module": "@jupyter-widgets/controls",
            "_model_module_version": "1.5.0",
            "value": " 542/? [09:36&lt;00:00,  1.06s/it, epoch=0, loss=0.00777]",
            "_view_count": null,
            "_view_module_version": "1.5.0",
            "description_tooltip": null,
            "_model_module": "@jupyter-widgets/controls",
            "layout": "IPY_MODEL_0875150b6dc54aa7b4cfd191e7c8a483"
          }
        },
        "14d182eb45774d96a55edbbcc654e34f": {
          "model_module": "@jupyter-widgets/controls",
          "model_name": "ProgressStyleModel",
          "state": {
            "_view_name": "StyleView",
            "_model_name": "ProgressStyleModel",
            "description_width": "initial",
            "_view_module": "@jupyter-widgets/base",
            "_model_module_version": "1.5.0",
            "_view_count": null,
            "_view_module_version": "1.2.0",
            "bar_color": null,
            "_model_module": "@jupyter-widgets/controls"
          }
        },
        "64ab0e4b69b24f86b89b235bd1d1b997": {
          "model_module": "@jupyter-widgets/base",
          "model_name": "LayoutModel",
          "state": {
            "_view_name": "LayoutView",
            "grid_template_rows": null,
            "right": null,
            "justify_content": null,
            "_view_module": "@jupyter-widgets/base",
            "overflow": null,
            "_model_module_version": "1.2.0",
            "_view_count": null,
            "flex_flow": null,
            "width": null,
            "min_width": null,
            "border": null,
            "align_items": null,
            "bottom": null,
            "_model_module": "@jupyter-widgets/base",
            "top": null,
            "grid_column": null,
            "overflow_y": null,
            "overflow_x": null,
            "grid_auto_flow": null,
            "grid_area": null,
            "grid_template_columns": null,
            "flex": null,
            "_model_name": "LayoutModel",
            "justify_items": null,
            "grid_row": null,
            "max_height": null,
            "align_content": null,
            "visibility": null,
            "align_self": null,
            "height": null,
            "min_height": null,
            "padding": null,
            "grid_auto_rows": null,
            "grid_gap": null,
            "max_width": null,
            "order": null,
            "_view_module_version": "1.2.0",
            "grid_template_areas": null,
            "object_position": null,
            "object_fit": null,
            "grid_auto_columns": null,
            "margin": null,
            "display": null,
            "left": null
          }
        },
        "6c09841019764a28b6d08eaa8d1ada7a": {
          "model_module": "@jupyter-widgets/controls",
          "model_name": "DescriptionStyleModel",
          "state": {
            "_view_name": "StyleView",
            "_model_name": "DescriptionStyleModel",
            "description_width": "",
            "_view_module": "@jupyter-widgets/base",
            "_model_module_version": "1.5.0",
            "_view_count": null,
            "_view_module_version": "1.2.0",
            "_model_module": "@jupyter-widgets/controls"
          }
        },
        "0875150b6dc54aa7b4cfd191e7c8a483": {
          "model_module": "@jupyter-widgets/base",
          "model_name": "LayoutModel",
          "state": {
            "_view_name": "LayoutView",
            "grid_template_rows": null,
            "right": null,
            "justify_content": null,
            "_view_module": "@jupyter-widgets/base",
            "overflow": null,
            "_model_module_version": "1.2.0",
            "_view_count": null,
            "flex_flow": null,
            "width": null,
            "min_width": null,
            "border": null,
            "align_items": null,
            "bottom": null,
            "_model_module": "@jupyter-widgets/base",
            "top": null,
            "grid_column": null,
            "overflow_y": null,
            "overflow_x": null,
            "grid_auto_flow": null,
            "grid_area": null,
            "grid_template_columns": null,
            "flex": null,
            "_model_name": "LayoutModel",
            "justify_items": null,
            "grid_row": null,
            "max_height": null,
            "align_content": null,
            "visibility": null,
            "align_self": null,
            "height": null,
            "min_height": null,
            "padding": null,
            "grid_auto_rows": null,
            "grid_gap": null,
            "max_width": null,
            "order": null,
            "_view_module_version": "1.2.0",
            "grid_template_areas": null,
            "object_position": null,
            "object_fit": null,
            "grid_auto_columns": null,
            "margin": null,
            "display": null,
            "left": null
          }
        },
        "d237492e06994cc1b0e714ce3fa7352c": {
          "model_module": "@jupyter-widgets/controls",
          "model_name": "HBoxModel",
          "state": {
            "_view_name": "HBoxView",
            "_dom_classes": [],
            "_model_name": "HBoxModel",
            "_view_module": "@jupyter-widgets/controls",
            "_model_module_version": "1.5.0",
            "_view_count": null,
            "_view_module_version": "1.5.0",
            "box_style": "",
            "layout": "IPY_MODEL_71987e8b0759451d82e6eec6dc8a70c5",
            "_model_module": "@jupyter-widgets/controls",
            "children": [
              "IPY_MODEL_0ff0d4f06f5e4c4296d84fef3fd0a03a",
              "IPY_MODEL_d2981879a1504fafbac5d4033c9b9890"
            ]
          }
        },
        "71987e8b0759451d82e6eec6dc8a70c5": {
          "model_module": "@jupyter-widgets/base",
          "model_name": "LayoutModel",
          "state": {
            "_view_name": "LayoutView",
            "grid_template_rows": null,
            "right": null,
            "justify_content": null,
            "_view_module": "@jupyter-widgets/base",
            "overflow": null,
            "_model_module_version": "1.2.0",
            "_view_count": null,
            "flex_flow": null,
            "width": null,
            "min_width": null,
            "border": null,
            "align_items": null,
            "bottom": null,
            "_model_module": "@jupyter-widgets/base",
            "top": null,
            "grid_column": null,
            "overflow_y": null,
            "overflow_x": null,
            "grid_auto_flow": null,
            "grid_area": null,
            "grid_template_columns": null,
            "flex": null,
            "_model_name": "LayoutModel",
            "justify_items": null,
            "grid_row": null,
            "max_height": null,
            "align_content": null,
            "visibility": null,
            "align_self": null,
            "height": null,
            "min_height": null,
            "padding": null,
            "grid_auto_rows": null,
            "grid_gap": null,
            "max_width": null,
            "order": null,
            "_view_module_version": "1.2.0",
            "grid_template_areas": null,
            "object_position": null,
            "object_fit": null,
            "grid_auto_columns": null,
            "margin": null,
            "display": null,
            "left": null
          }
        },
        "0ff0d4f06f5e4c4296d84fef3fd0a03a": {
          "model_module": "@jupyter-widgets/controls",
          "model_name": "FloatProgressModel",
          "state": {
            "_view_name": "ProgressView",
            "style": "IPY_MODEL_0eb01dc047d04a2c84a19da534529b35",
            "_dom_classes": [],
            "description": "",
            "_model_name": "FloatProgressModel",
            "bar_style": "success",
            "max": 1,
            "_view_module": "@jupyter-widgets/controls",
            "_model_module_version": "1.5.0",
            "value": 1,
            "_view_count": null,
            "_view_module_version": "1.5.0",
            "orientation": "horizontal",
            "min": 0,
            "description_tooltip": null,
            "_model_module": "@jupyter-widgets/controls",
            "layout": "IPY_MODEL_488267de8d0d4aa488febf68e22e7cd4"
          }
        },
        "d2981879a1504fafbac5d4033c9b9890": {
          "model_module": "@jupyter-widgets/controls",
          "model_name": "HTMLModel",
          "state": {
            "_view_name": "HTMLView",
            "style": "IPY_MODEL_58a64c660d6544239ee25a1e3bb57af6",
            "_dom_classes": [],
            "description": "",
            "_model_name": "HTMLModel",
            "placeholder": "​",
            "_view_module": "@jupyter-widgets/controls",
            "_model_module_version": "1.5.0",
            "value": " 542/? [00:06&lt;00:00, 85.48it/s, epoch=1, loss=0.00644]",
            "_view_count": null,
            "_view_module_version": "1.5.0",
            "description_tooltip": null,
            "_model_module": "@jupyter-widgets/controls",
            "layout": "IPY_MODEL_54e68431e01d4c719ff33a7403a5ff1b"
          }
        },
        "0eb01dc047d04a2c84a19da534529b35": {
          "model_module": "@jupyter-widgets/controls",
          "model_name": "ProgressStyleModel",
          "state": {
            "_view_name": "StyleView",
            "_model_name": "ProgressStyleModel",
            "description_width": "initial",
            "_view_module": "@jupyter-widgets/base",
            "_model_module_version": "1.5.0",
            "_view_count": null,
            "_view_module_version": "1.2.0",
            "bar_color": null,
            "_model_module": "@jupyter-widgets/controls"
          }
        },
        "488267de8d0d4aa488febf68e22e7cd4": {
          "model_module": "@jupyter-widgets/base",
          "model_name": "LayoutModel",
          "state": {
            "_view_name": "LayoutView",
            "grid_template_rows": null,
            "right": null,
            "justify_content": null,
            "_view_module": "@jupyter-widgets/base",
            "overflow": null,
            "_model_module_version": "1.2.0",
            "_view_count": null,
            "flex_flow": null,
            "width": null,
            "min_width": null,
            "border": null,
            "align_items": null,
            "bottom": null,
            "_model_module": "@jupyter-widgets/base",
            "top": null,
            "grid_column": null,
            "overflow_y": null,
            "overflow_x": null,
            "grid_auto_flow": null,
            "grid_area": null,
            "grid_template_columns": null,
            "flex": null,
            "_model_name": "LayoutModel",
            "justify_items": null,
            "grid_row": null,
            "max_height": null,
            "align_content": null,
            "visibility": null,
            "align_self": null,
            "height": null,
            "min_height": null,
            "padding": null,
            "grid_auto_rows": null,
            "grid_gap": null,
            "max_width": null,
            "order": null,
            "_view_module_version": "1.2.0",
            "grid_template_areas": null,
            "object_position": null,
            "object_fit": null,
            "grid_auto_columns": null,
            "margin": null,
            "display": null,
            "left": null
          }
        },
        "58a64c660d6544239ee25a1e3bb57af6": {
          "model_module": "@jupyter-widgets/controls",
          "model_name": "DescriptionStyleModel",
          "state": {
            "_view_name": "StyleView",
            "_model_name": "DescriptionStyleModel",
            "description_width": "",
            "_view_module": "@jupyter-widgets/base",
            "_model_module_version": "1.5.0",
            "_view_count": null,
            "_view_module_version": "1.2.0",
            "_model_module": "@jupyter-widgets/controls"
          }
        },
        "54e68431e01d4c719ff33a7403a5ff1b": {
          "model_module": "@jupyter-widgets/base",
          "model_name": "LayoutModel",
          "state": {
            "_view_name": "LayoutView",
            "grid_template_rows": null,
            "right": null,
            "justify_content": null,
            "_view_module": "@jupyter-widgets/base",
            "overflow": null,
            "_model_module_version": "1.2.0",
            "_view_count": null,
            "flex_flow": null,
            "width": null,
            "min_width": null,
            "border": null,
            "align_items": null,
            "bottom": null,
            "_model_module": "@jupyter-widgets/base",
            "top": null,
            "grid_column": null,
            "overflow_y": null,
            "overflow_x": null,
            "grid_auto_flow": null,
            "grid_area": null,
            "grid_template_columns": null,
            "flex": null,
            "_model_name": "LayoutModel",
            "justify_items": null,
            "grid_row": null,
            "max_height": null,
            "align_content": null,
            "visibility": null,
            "align_self": null,
            "height": null,
            "min_height": null,
            "padding": null,
            "grid_auto_rows": null,
            "grid_gap": null,
            "max_width": null,
            "order": null,
            "_view_module_version": "1.2.0",
            "grid_template_areas": null,
            "object_position": null,
            "object_fit": null,
            "grid_auto_columns": null,
            "margin": null,
            "display": null,
            "left": null
          }
        },
        "ffd57493bea549dd97963d5fcd61684a": {
          "model_module": "@jupyter-widgets/controls",
          "model_name": "HBoxModel",
          "state": {
            "_view_name": "HBoxView",
            "_dom_classes": [],
            "_model_name": "HBoxModel",
            "_view_module": "@jupyter-widgets/controls",
            "_model_module_version": "1.5.0",
            "_view_count": null,
            "_view_module_version": "1.5.0",
            "box_style": "",
            "layout": "IPY_MODEL_4c87df3abab7455d80c3e56d252d1bc0",
            "_model_module": "@jupyter-widgets/controls",
            "children": [
              "IPY_MODEL_35e6f6a90c5c4429b28d8913bab8236e",
              "IPY_MODEL_e5308107eb93426281d7e18b14999407"
            ]
          }
        },
        "4c87df3abab7455d80c3e56d252d1bc0": {
          "model_module": "@jupyter-widgets/base",
          "model_name": "LayoutModel",
          "state": {
            "_view_name": "LayoutView",
            "grid_template_rows": null,
            "right": null,
            "justify_content": null,
            "_view_module": "@jupyter-widgets/base",
            "overflow": null,
            "_model_module_version": "1.2.0",
            "_view_count": null,
            "flex_flow": null,
            "width": null,
            "min_width": null,
            "border": null,
            "align_items": null,
            "bottom": null,
            "_model_module": "@jupyter-widgets/base",
            "top": null,
            "grid_column": null,
            "overflow_y": null,
            "overflow_x": null,
            "grid_auto_flow": null,
            "grid_area": null,
            "grid_template_columns": null,
            "flex": null,
            "_model_name": "LayoutModel",
            "justify_items": null,
            "grid_row": null,
            "max_height": null,
            "align_content": null,
            "visibility": null,
            "align_self": null,
            "height": null,
            "min_height": null,
            "padding": null,
            "grid_auto_rows": null,
            "grid_gap": null,
            "max_width": null,
            "order": null,
            "_view_module_version": "1.2.0",
            "grid_template_areas": null,
            "object_position": null,
            "object_fit": null,
            "grid_auto_columns": null,
            "margin": null,
            "display": null,
            "left": null
          }
        },
        "35e6f6a90c5c4429b28d8913bab8236e": {
          "model_module": "@jupyter-widgets/controls",
          "model_name": "FloatProgressModel",
          "state": {
            "_view_name": "ProgressView",
            "style": "IPY_MODEL_e8623da796df4296b768648a96424657",
            "_dom_classes": [],
            "description": "",
            "_model_name": "FloatProgressModel",
            "bar_style": "success",
            "max": 1,
            "_view_module": "@jupyter-widgets/controls",
            "_model_module_version": "1.5.0",
            "value": 1,
            "_view_count": null,
            "_view_module_version": "1.5.0",
            "orientation": "horizontal",
            "min": 0,
            "description_tooltip": null,
            "_model_module": "@jupyter-widgets/controls",
            "layout": "IPY_MODEL_c7645e1b4ad641ea938af89775f94ff9"
          }
        },
        "e5308107eb93426281d7e18b14999407": {
          "model_module": "@jupyter-widgets/controls",
          "model_name": "HTMLModel",
          "state": {
            "_view_name": "HTMLView",
            "style": "IPY_MODEL_39022698ad864e93a249e5cc5c3e612f",
            "_dom_classes": [],
            "description": "",
            "_model_name": "HTMLModel",
            "placeholder": "​",
            "_view_module": "@jupyter-widgets/controls",
            "_model_module_version": "1.5.0",
            "value": " 542/? [00:04&lt;00:00, 125.28it/s, epoch=2, loss=0.00635]",
            "_view_count": null,
            "_view_module_version": "1.5.0",
            "description_tooltip": null,
            "_model_module": "@jupyter-widgets/controls",
            "layout": "IPY_MODEL_65ab1ddcda6b4e078a36893590720db1"
          }
        },
        "e8623da796df4296b768648a96424657": {
          "model_module": "@jupyter-widgets/controls",
          "model_name": "ProgressStyleModel",
          "state": {
            "_view_name": "StyleView",
            "_model_name": "ProgressStyleModel",
            "description_width": "initial",
            "_view_module": "@jupyter-widgets/base",
            "_model_module_version": "1.5.0",
            "_view_count": null,
            "_view_module_version": "1.2.0",
            "bar_color": null,
            "_model_module": "@jupyter-widgets/controls"
          }
        },
        "c7645e1b4ad641ea938af89775f94ff9": {
          "model_module": "@jupyter-widgets/base",
          "model_name": "LayoutModel",
          "state": {
            "_view_name": "LayoutView",
            "grid_template_rows": null,
            "right": null,
            "justify_content": null,
            "_view_module": "@jupyter-widgets/base",
            "overflow": null,
            "_model_module_version": "1.2.0",
            "_view_count": null,
            "flex_flow": null,
            "width": null,
            "min_width": null,
            "border": null,
            "align_items": null,
            "bottom": null,
            "_model_module": "@jupyter-widgets/base",
            "top": null,
            "grid_column": null,
            "overflow_y": null,
            "overflow_x": null,
            "grid_auto_flow": null,
            "grid_area": null,
            "grid_template_columns": null,
            "flex": null,
            "_model_name": "LayoutModel",
            "justify_items": null,
            "grid_row": null,
            "max_height": null,
            "align_content": null,
            "visibility": null,
            "align_self": null,
            "height": null,
            "min_height": null,
            "padding": null,
            "grid_auto_rows": null,
            "grid_gap": null,
            "max_width": null,
            "order": null,
            "_view_module_version": "1.2.0",
            "grid_template_areas": null,
            "object_position": null,
            "object_fit": null,
            "grid_auto_columns": null,
            "margin": null,
            "display": null,
            "left": null
          }
        },
        "39022698ad864e93a249e5cc5c3e612f": {
          "model_module": "@jupyter-widgets/controls",
          "model_name": "DescriptionStyleModel",
          "state": {
            "_view_name": "StyleView",
            "_model_name": "DescriptionStyleModel",
            "description_width": "",
            "_view_module": "@jupyter-widgets/base",
            "_model_module_version": "1.5.0",
            "_view_count": null,
            "_view_module_version": "1.2.0",
            "_model_module": "@jupyter-widgets/controls"
          }
        },
        "65ab1ddcda6b4e078a36893590720db1": {
          "model_module": "@jupyter-widgets/base",
          "model_name": "LayoutModel",
          "state": {
            "_view_name": "LayoutView",
            "grid_template_rows": null,
            "right": null,
            "justify_content": null,
            "_view_module": "@jupyter-widgets/base",
            "overflow": null,
            "_model_module_version": "1.2.0",
            "_view_count": null,
            "flex_flow": null,
            "width": null,
            "min_width": null,
            "border": null,
            "align_items": null,
            "bottom": null,
            "_model_module": "@jupyter-widgets/base",
            "top": null,
            "grid_column": null,
            "overflow_y": null,
            "overflow_x": null,
            "grid_auto_flow": null,
            "grid_area": null,
            "grid_template_columns": null,
            "flex": null,
            "_model_name": "LayoutModel",
            "justify_items": null,
            "grid_row": null,
            "max_height": null,
            "align_content": null,
            "visibility": null,
            "align_self": null,
            "height": null,
            "min_height": null,
            "padding": null,
            "grid_auto_rows": null,
            "grid_gap": null,
            "max_width": null,
            "order": null,
            "_view_module_version": "1.2.0",
            "grid_template_areas": null,
            "object_position": null,
            "object_fit": null,
            "grid_auto_columns": null,
            "margin": null,
            "display": null,
            "left": null
          }
        },
        "0a3ac7e54e51454dbfad9d0c83fd751d": {
          "model_module": "@jupyter-widgets/controls",
          "model_name": "HBoxModel",
          "state": {
            "_view_name": "HBoxView",
            "_dom_classes": [],
            "_model_name": "HBoxModel",
            "_view_module": "@jupyter-widgets/controls",
            "_model_module_version": "1.5.0",
            "_view_count": null,
            "_view_module_version": "1.5.0",
            "box_style": "",
            "layout": "IPY_MODEL_bc4ff608ab3641e3b83e49c7baea6e00",
            "_model_module": "@jupyter-widgets/controls",
            "children": [
              "IPY_MODEL_d5505559ecdf44df9a322d2ef2a8263f",
              "IPY_MODEL_6b091435cc3a465291fd2e50d7fe73b8"
            ]
          }
        },
        "bc4ff608ab3641e3b83e49c7baea6e00": {
          "model_module": "@jupyter-widgets/base",
          "model_name": "LayoutModel",
          "state": {
            "_view_name": "LayoutView",
            "grid_template_rows": null,
            "right": null,
            "justify_content": null,
            "_view_module": "@jupyter-widgets/base",
            "overflow": null,
            "_model_module_version": "1.2.0",
            "_view_count": null,
            "flex_flow": null,
            "width": null,
            "min_width": null,
            "border": null,
            "align_items": null,
            "bottom": null,
            "_model_module": "@jupyter-widgets/base",
            "top": null,
            "grid_column": null,
            "overflow_y": null,
            "overflow_x": null,
            "grid_auto_flow": null,
            "grid_area": null,
            "grid_template_columns": null,
            "flex": null,
            "_model_name": "LayoutModel",
            "justify_items": null,
            "grid_row": null,
            "max_height": null,
            "align_content": null,
            "visibility": null,
            "align_self": null,
            "height": null,
            "min_height": null,
            "padding": null,
            "grid_auto_rows": null,
            "grid_gap": null,
            "max_width": null,
            "order": null,
            "_view_module_version": "1.2.0",
            "grid_template_areas": null,
            "object_position": null,
            "object_fit": null,
            "grid_auto_columns": null,
            "margin": null,
            "display": null,
            "left": null
          }
        },
        "d5505559ecdf44df9a322d2ef2a8263f": {
          "model_module": "@jupyter-widgets/controls",
          "model_name": "FloatProgressModel",
          "state": {
            "_view_name": "ProgressView",
            "style": "IPY_MODEL_3a3045fd92ab46ca9c5451a0303b696f",
            "_dom_classes": [],
            "description": "",
            "_model_name": "FloatProgressModel",
            "bar_style": "success",
            "max": 1,
            "_view_module": "@jupyter-widgets/controls",
            "_model_module_version": "1.5.0",
            "value": 1,
            "_view_count": null,
            "_view_module_version": "1.5.0",
            "orientation": "horizontal",
            "min": 0,
            "description_tooltip": null,
            "_model_module": "@jupyter-widgets/controls",
            "layout": "IPY_MODEL_d0808ff605e443a6ab36c9e6deb8059b"
          }
        },
        "6b091435cc3a465291fd2e50d7fe73b8": {
          "model_module": "@jupyter-widgets/controls",
          "model_name": "HTMLModel",
          "state": {
            "_view_name": "HTMLView",
            "style": "IPY_MODEL_a232bbfcea674644a758909c14971a50",
            "_dom_classes": [],
            "description": "",
            "_model_name": "HTMLModel",
            "placeholder": "​",
            "_view_module": "@jupyter-widgets/controls",
            "_model_module_version": "1.5.0",
            "value": " 542/? [00:02&lt;00:00, 266.19it/s, epoch=3, loss=0.00629]",
            "_view_count": null,
            "_view_module_version": "1.5.0",
            "description_tooltip": null,
            "_model_module": "@jupyter-widgets/controls",
            "layout": "IPY_MODEL_afc47b35614c4fbf867199a001fd9dfd"
          }
        },
        "3a3045fd92ab46ca9c5451a0303b696f": {
          "model_module": "@jupyter-widgets/controls",
          "model_name": "ProgressStyleModel",
          "state": {
            "_view_name": "StyleView",
            "_model_name": "ProgressStyleModel",
            "description_width": "initial",
            "_view_module": "@jupyter-widgets/base",
            "_model_module_version": "1.5.0",
            "_view_count": null,
            "_view_module_version": "1.2.0",
            "bar_color": null,
            "_model_module": "@jupyter-widgets/controls"
          }
        },
        "d0808ff605e443a6ab36c9e6deb8059b": {
          "model_module": "@jupyter-widgets/base",
          "model_name": "LayoutModel",
          "state": {
            "_view_name": "LayoutView",
            "grid_template_rows": null,
            "right": null,
            "justify_content": null,
            "_view_module": "@jupyter-widgets/base",
            "overflow": null,
            "_model_module_version": "1.2.0",
            "_view_count": null,
            "flex_flow": null,
            "width": null,
            "min_width": null,
            "border": null,
            "align_items": null,
            "bottom": null,
            "_model_module": "@jupyter-widgets/base",
            "top": null,
            "grid_column": null,
            "overflow_y": null,
            "overflow_x": null,
            "grid_auto_flow": null,
            "grid_area": null,
            "grid_template_columns": null,
            "flex": null,
            "_model_name": "LayoutModel",
            "justify_items": null,
            "grid_row": null,
            "max_height": null,
            "align_content": null,
            "visibility": null,
            "align_self": null,
            "height": null,
            "min_height": null,
            "padding": null,
            "grid_auto_rows": null,
            "grid_gap": null,
            "max_width": null,
            "order": null,
            "_view_module_version": "1.2.0",
            "grid_template_areas": null,
            "object_position": null,
            "object_fit": null,
            "grid_auto_columns": null,
            "margin": null,
            "display": null,
            "left": null
          }
        },
        "a232bbfcea674644a758909c14971a50": {
          "model_module": "@jupyter-widgets/controls",
          "model_name": "DescriptionStyleModel",
          "state": {
            "_view_name": "StyleView",
            "_model_name": "DescriptionStyleModel",
            "description_width": "",
            "_view_module": "@jupyter-widgets/base",
            "_model_module_version": "1.5.0",
            "_view_count": null,
            "_view_module_version": "1.2.0",
            "_model_module": "@jupyter-widgets/controls"
          }
        },
        "afc47b35614c4fbf867199a001fd9dfd": {
          "model_module": "@jupyter-widgets/base",
          "model_name": "LayoutModel",
          "state": {
            "_view_name": "LayoutView",
            "grid_template_rows": null,
            "right": null,
            "justify_content": null,
            "_view_module": "@jupyter-widgets/base",
            "overflow": null,
            "_model_module_version": "1.2.0",
            "_view_count": null,
            "flex_flow": null,
            "width": null,
            "min_width": null,
            "border": null,
            "align_items": null,
            "bottom": null,
            "_model_module": "@jupyter-widgets/base",
            "top": null,
            "grid_column": null,
            "overflow_y": null,
            "overflow_x": null,
            "grid_auto_flow": null,
            "grid_area": null,
            "grid_template_columns": null,
            "flex": null,
            "_model_name": "LayoutModel",
            "justify_items": null,
            "grid_row": null,
            "max_height": null,
            "align_content": null,
            "visibility": null,
            "align_self": null,
            "height": null,
            "min_height": null,
            "padding": null,
            "grid_auto_rows": null,
            "grid_gap": null,
            "max_width": null,
            "order": null,
            "_view_module_version": "1.2.0",
            "grid_template_areas": null,
            "object_position": null,
            "object_fit": null,
            "grid_auto_columns": null,
            "margin": null,
            "display": null,
            "left": null
          }
        },
        "2586010144934440926e7b8d037b42d4": {
          "model_module": "@jupyter-widgets/controls",
          "model_name": "HBoxModel",
          "state": {
            "_view_name": "HBoxView",
            "_dom_classes": [],
            "_model_name": "HBoxModel",
            "_view_module": "@jupyter-widgets/controls",
            "_model_module_version": "1.5.0",
            "_view_count": null,
            "_view_module_version": "1.5.0",
            "box_style": "",
            "layout": "IPY_MODEL_cde6aeedd3f84f1f8316a82fc84faa87",
            "_model_module": "@jupyter-widgets/controls",
            "children": [
              "IPY_MODEL_f7c3aa04c1bb4d35909193cb44817333",
              "IPY_MODEL_30c19df4bd2144908f6e6844650c0d42"
            ]
          }
        },
        "cde6aeedd3f84f1f8316a82fc84faa87": {
          "model_module": "@jupyter-widgets/base",
          "model_name": "LayoutModel",
          "state": {
            "_view_name": "LayoutView",
            "grid_template_rows": null,
            "right": null,
            "justify_content": null,
            "_view_module": "@jupyter-widgets/base",
            "overflow": null,
            "_model_module_version": "1.2.0",
            "_view_count": null,
            "flex_flow": null,
            "width": null,
            "min_width": null,
            "border": null,
            "align_items": null,
            "bottom": null,
            "_model_module": "@jupyter-widgets/base",
            "top": null,
            "grid_column": null,
            "overflow_y": null,
            "overflow_x": null,
            "grid_auto_flow": null,
            "grid_area": null,
            "grid_template_columns": null,
            "flex": null,
            "_model_name": "LayoutModel",
            "justify_items": null,
            "grid_row": null,
            "max_height": null,
            "align_content": null,
            "visibility": null,
            "align_self": null,
            "height": null,
            "min_height": null,
            "padding": null,
            "grid_auto_rows": null,
            "grid_gap": null,
            "max_width": null,
            "order": null,
            "_view_module_version": "1.2.0",
            "grid_template_areas": null,
            "object_position": null,
            "object_fit": null,
            "grid_auto_columns": null,
            "margin": null,
            "display": null,
            "left": null
          }
        },
        "f7c3aa04c1bb4d35909193cb44817333": {
          "model_module": "@jupyter-widgets/controls",
          "model_name": "FloatProgressModel",
          "state": {
            "_view_name": "ProgressView",
            "style": "IPY_MODEL_4df16b1ac36f486983e62f10b8abe7e5",
            "_dom_classes": [],
            "description": "",
            "_model_name": "FloatProgressModel",
            "bar_style": "success",
            "max": 1,
            "_view_module": "@jupyter-widgets/controls",
            "_model_module_version": "1.5.0",
            "value": 1,
            "_view_count": null,
            "_view_module_version": "1.5.0",
            "orientation": "horizontal",
            "min": 0,
            "description_tooltip": null,
            "_model_module": "@jupyter-widgets/controls",
            "layout": "IPY_MODEL_cca9019f40d54c75ba05b379b73d4621"
          }
        },
        "30c19df4bd2144908f6e6844650c0d42": {
          "model_module": "@jupyter-widgets/controls",
          "model_name": "HTMLModel",
          "state": {
            "_view_name": "HTMLView",
            "style": "IPY_MODEL_8cea3cbb4b804f468109dc1afa8e1656",
            "_dom_classes": [],
            "description": "",
            "_model_name": "HTMLModel",
            "placeholder": "​",
            "_view_module": "@jupyter-widgets/controls",
            "_model_module_version": "1.5.0",
            "value": " 542/? [09:28&lt;00:00,  1.05s/it, epoch=4, loss=0.00622]",
            "_view_count": null,
            "_view_module_version": "1.5.0",
            "description_tooltip": null,
            "_model_module": "@jupyter-widgets/controls",
            "layout": "IPY_MODEL_d39e88e1326c4cf4850604dca8309f40"
          }
        },
        "4df16b1ac36f486983e62f10b8abe7e5": {
          "model_module": "@jupyter-widgets/controls",
          "model_name": "ProgressStyleModel",
          "state": {
            "_view_name": "StyleView",
            "_model_name": "ProgressStyleModel",
            "description_width": "initial",
            "_view_module": "@jupyter-widgets/base",
            "_model_module_version": "1.5.0",
            "_view_count": null,
            "_view_module_version": "1.2.0",
            "bar_color": null,
            "_model_module": "@jupyter-widgets/controls"
          }
        },
        "cca9019f40d54c75ba05b379b73d4621": {
          "model_module": "@jupyter-widgets/base",
          "model_name": "LayoutModel",
          "state": {
            "_view_name": "LayoutView",
            "grid_template_rows": null,
            "right": null,
            "justify_content": null,
            "_view_module": "@jupyter-widgets/base",
            "overflow": null,
            "_model_module_version": "1.2.0",
            "_view_count": null,
            "flex_flow": null,
            "width": null,
            "min_width": null,
            "border": null,
            "align_items": null,
            "bottom": null,
            "_model_module": "@jupyter-widgets/base",
            "top": null,
            "grid_column": null,
            "overflow_y": null,
            "overflow_x": null,
            "grid_auto_flow": null,
            "grid_area": null,
            "grid_template_columns": null,
            "flex": null,
            "_model_name": "LayoutModel",
            "justify_items": null,
            "grid_row": null,
            "max_height": null,
            "align_content": null,
            "visibility": null,
            "align_self": null,
            "height": null,
            "min_height": null,
            "padding": null,
            "grid_auto_rows": null,
            "grid_gap": null,
            "max_width": null,
            "order": null,
            "_view_module_version": "1.2.0",
            "grid_template_areas": null,
            "object_position": null,
            "object_fit": null,
            "grid_auto_columns": null,
            "margin": null,
            "display": null,
            "left": null
          }
        },
        "8cea3cbb4b804f468109dc1afa8e1656": {
          "model_module": "@jupyter-widgets/controls",
          "model_name": "DescriptionStyleModel",
          "state": {
            "_view_name": "StyleView",
            "_model_name": "DescriptionStyleModel",
            "description_width": "",
            "_view_module": "@jupyter-widgets/base",
            "_model_module_version": "1.5.0",
            "_view_count": null,
            "_view_module_version": "1.2.0",
            "_model_module": "@jupyter-widgets/controls"
          }
        },
        "d39e88e1326c4cf4850604dca8309f40": {
          "model_module": "@jupyter-widgets/base",
          "model_name": "LayoutModel",
          "state": {
            "_view_name": "LayoutView",
            "grid_template_rows": null,
            "right": null,
            "justify_content": null,
            "_view_module": "@jupyter-widgets/base",
            "overflow": null,
            "_model_module_version": "1.2.0",
            "_view_count": null,
            "flex_flow": null,
            "width": null,
            "min_width": null,
            "border": null,
            "align_items": null,
            "bottom": null,
            "_model_module": "@jupyter-widgets/base",
            "top": null,
            "grid_column": null,
            "overflow_y": null,
            "overflow_x": null,
            "grid_auto_flow": null,
            "grid_area": null,
            "grid_template_columns": null,
            "flex": null,
            "_model_name": "LayoutModel",
            "justify_items": null,
            "grid_row": null,
            "max_height": null,
            "align_content": null,
            "visibility": null,
            "align_self": null,
            "height": null,
            "min_height": null,
            "padding": null,
            "grid_auto_rows": null,
            "grid_gap": null,
            "max_width": null,
            "order": null,
            "_view_module_version": "1.2.0",
            "grid_template_areas": null,
            "object_position": null,
            "object_fit": null,
            "grid_auto_columns": null,
            "margin": null,
            "display": null,
            "left": null
          }
        },
        "acaba8cf315444aaa4cd3950f0bd02ec": {
          "model_module": "@jupyter-widgets/controls",
          "model_name": "HBoxModel",
          "state": {
            "_view_name": "HBoxView",
            "_dom_classes": [],
            "_model_name": "HBoxModel",
            "_view_module": "@jupyter-widgets/controls",
            "_model_module_version": "1.5.0",
            "_view_count": null,
            "_view_module_version": "1.5.0",
            "box_style": "",
            "layout": "IPY_MODEL_ffbf8b6f34ae41f09d1b13b88a51c8ba",
            "_model_module": "@jupyter-widgets/controls",
            "children": [
              "IPY_MODEL_be6e166ccdf14005ac2d6ff58818e8ca",
              "IPY_MODEL_c755e8af40954636a94611332f2b0092"
            ]
          }
        },
        "ffbf8b6f34ae41f09d1b13b88a51c8ba": {
          "model_module": "@jupyter-widgets/base",
          "model_name": "LayoutModel",
          "state": {
            "_view_name": "LayoutView",
            "grid_template_rows": null,
            "right": null,
            "justify_content": null,
            "_view_module": "@jupyter-widgets/base",
            "overflow": null,
            "_model_module_version": "1.2.0",
            "_view_count": null,
            "flex_flow": null,
            "width": null,
            "min_width": null,
            "border": null,
            "align_items": null,
            "bottom": null,
            "_model_module": "@jupyter-widgets/base",
            "top": null,
            "grid_column": null,
            "overflow_y": null,
            "overflow_x": null,
            "grid_auto_flow": null,
            "grid_area": null,
            "grid_template_columns": null,
            "flex": null,
            "_model_name": "LayoutModel",
            "justify_items": null,
            "grid_row": null,
            "max_height": null,
            "align_content": null,
            "visibility": null,
            "align_self": null,
            "height": null,
            "min_height": null,
            "padding": null,
            "grid_auto_rows": null,
            "grid_gap": null,
            "max_width": null,
            "order": null,
            "_view_module_version": "1.2.0",
            "grid_template_areas": null,
            "object_position": null,
            "object_fit": null,
            "grid_auto_columns": null,
            "margin": null,
            "display": null,
            "left": null
          }
        },
        "be6e166ccdf14005ac2d6ff58818e8ca": {
          "model_module": "@jupyter-widgets/controls",
          "model_name": "FloatProgressModel",
          "state": {
            "_view_name": "ProgressView",
            "style": "IPY_MODEL_971dd3ab37e54ce7b1130141dbdd8768",
            "_dom_classes": [],
            "description": "",
            "_model_name": "FloatProgressModel",
            "bar_style": "success",
            "max": 1,
            "_view_module": "@jupyter-widgets/controls",
            "_model_module_version": "1.5.0",
            "value": 1,
            "_view_count": null,
            "_view_module_version": "1.5.0",
            "orientation": "horizontal",
            "min": 0,
            "description_tooltip": null,
            "_model_module": "@jupyter-widgets/controls",
            "layout": "IPY_MODEL_ee2499703257425381f253581d0ad9c2"
          }
        },
        "c755e8af40954636a94611332f2b0092": {
          "model_module": "@jupyter-widgets/controls",
          "model_name": "HTMLModel",
          "state": {
            "_view_name": "HTMLView",
            "style": "IPY_MODEL_4d564f412a3847178391e2056d7dfedb",
            "_dom_classes": [],
            "description": "",
            "_model_name": "HTMLModel",
            "placeholder": "​",
            "_view_module": "@jupyter-widgets/controls",
            "_model_module_version": "1.5.0",
            "value": " 542/? [00:02&lt;00:00, 228.55it/s, epoch=0, loss=0.0762]",
            "_view_count": null,
            "_view_module_version": "1.5.0",
            "description_tooltip": null,
            "_model_module": "@jupyter-widgets/controls",
            "layout": "IPY_MODEL_f532eb59194c4fdbb9bc1749d1f5d50e"
          }
        },
        "971dd3ab37e54ce7b1130141dbdd8768": {
          "model_module": "@jupyter-widgets/controls",
          "model_name": "ProgressStyleModel",
          "state": {
            "_view_name": "StyleView",
            "_model_name": "ProgressStyleModel",
            "description_width": "initial",
            "_view_module": "@jupyter-widgets/base",
            "_model_module_version": "1.5.0",
            "_view_count": null,
            "_view_module_version": "1.2.0",
            "bar_color": null,
            "_model_module": "@jupyter-widgets/controls"
          }
        },
        "ee2499703257425381f253581d0ad9c2": {
          "model_module": "@jupyter-widgets/base",
          "model_name": "LayoutModel",
          "state": {
            "_view_name": "LayoutView",
            "grid_template_rows": null,
            "right": null,
            "justify_content": null,
            "_view_module": "@jupyter-widgets/base",
            "overflow": null,
            "_model_module_version": "1.2.0",
            "_view_count": null,
            "flex_flow": null,
            "width": null,
            "min_width": null,
            "border": null,
            "align_items": null,
            "bottom": null,
            "_model_module": "@jupyter-widgets/base",
            "top": null,
            "grid_column": null,
            "overflow_y": null,
            "overflow_x": null,
            "grid_auto_flow": null,
            "grid_area": null,
            "grid_template_columns": null,
            "flex": null,
            "_model_name": "LayoutModel",
            "justify_items": null,
            "grid_row": null,
            "max_height": null,
            "align_content": null,
            "visibility": null,
            "align_self": null,
            "height": null,
            "min_height": null,
            "padding": null,
            "grid_auto_rows": null,
            "grid_gap": null,
            "max_width": null,
            "order": null,
            "_view_module_version": "1.2.0",
            "grid_template_areas": null,
            "object_position": null,
            "object_fit": null,
            "grid_auto_columns": null,
            "margin": null,
            "display": null,
            "left": null
          }
        },
        "4d564f412a3847178391e2056d7dfedb": {
          "model_module": "@jupyter-widgets/controls",
          "model_name": "DescriptionStyleModel",
          "state": {
            "_view_name": "StyleView",
            "_model_name": "DescriptionStyleModel",
            "description_width": "",
            "_view_module": "@jupyter-widgets/base",
            "_model_module_version": "1.5.0",
            "_view_count": null,
            "_view_module_version": "1.2.0",
            "_model_module": "@jupyter-widgets/controls"
          }
        },
        "f532eb59194c4fdbb9bc1749d1f5d50e": {
          "model_module": "@jupyter-widgets/base",
          "model_name": "LayoutModel",
          "state": {
            "_view_name": "LayoutView",
            "grid_template_rows": null,
            "right": null,
            "justify_content": null,
            "_view_module": "@jupyter-widgets/base",
            "overflow": null,
            "_model_module_version": "1.2.0",
            "_view_count": null,
            "flex_flow": null,
            "width": null,
            "min_width": null,
            "border": null,
            "align_items": null,
            "bottom": null,
            "_model_module": "@jupyter-widgets/base",
            "top": null,
            "grid_column": null,
            "overflow_y": null,
            "overflow_x": null,
            "grid_auto_flow": null,
            "grid_area": null,
            "grid_template_columns": null,
            "flex": null,
            "_model_name": "LayoutModel",
            "justify_items": null,
            "grid_row": null,
            "max_height": null,
            "align_content": null,
            "visibility": null,
            "align_self": null,
            "height": null,
            "min_height": null,
            "padding": null,
            "grid_auto_rows": null,
            "grid_gap": null,
            "max_width": null,
            "order": null,
            "_view_module_version": "1.2.0",
            "grid_template_areas": null,
            "object_position": null,
            "object_fit": null,
            "grid_auto_columns": null,
            "margin": null,
            "display": null,
            "left": null
          }
        },
        "b35fba183dad4a828d24e193cf0a65fc": {
          "model_module": "@jupyter-widgets/controls",
          "model_name": "HBoxModel",
          "state": {
            "_view_name": "HBoxView",
            "_dom_classes": [],
            "_model_name": "HBoxModel",
            "_view_module": "@jupyter-widgets/controls",
            "_model_module_version": "1.5.0",
            "_view_count": null,
            "_view_module_version": "1.5.0",
            "box_style": "",
            "layout": "IPY_MODEL_4ad1f09963434c6d849f43593a9bcf91",
            "_model_module": "@jupyter-widgets/controls",
            "children": [
              "IPY_MODEL_7f1fc07135b5462292acbe885b9000cb",
              "IPY_MODEL_eb90701ab9f94d8ca72c6b03f81a83a5"
            ]
          }
        },
        "4ad1f09963434c6d849f43593a9bcf91": {
          "model_module": "@jupyter-widgets/base",
          "model_name": "LayoutModel",
          "state": {
            "_view_name": "LayoutView",
            "grid_template_rows": null,
            "right": null,
            "justify_content": null,
            "_view_module": "@jupyter-widgets/base",
            "overflow": null,
            "_model_module_version": "1.2.0",
            "_view_count": null,
            "flex_flow": null,
            "width": null,
            "min_width": null,
            "border": null,
            "align_items": null,
            "bottom": null,
            "_model_module": "@jupyter-widgets/base",
            "top": null,
            "grid_column": null,
            "overflow_y": null,
            "overflow_x": null,
            "grid_auto_flow": null,
            "grid_area": null,
            "grid_template_columns": null,
            "flex": null,
            "_model_name": "LayoutModel",
            "justify_items": null,
            "grid_row": null,
            "max_height": null,
            "align_content": null,
            "visibility": null,
            "align_self": null,
            "height": null,
            "min_height": null,
            "padding": null,
            "grid_auto_rows": null,
            "grid_gap": null,
            "max_width": null,
            "order": null,
            "_view_module_version": "1.2.0",
            "grid_template_areas": null,
            "object_position": null,
            "object_fit": null,
            "grid_auto_columns": null,
            "margin": null,
            "display": null,
            "left": null
          }
        },
        "7f1fc07135b5462292acbe885b9000cb": {
          "model_module": "@jupyter-widgets/controls",
          "model_name": "FloatProgressModel",
          "state": {
            "_view_name": "ProgressView",
            "style": "IPY_MODEL_713b01c05d744be19d6e8ff3f535956b",
            "_dom_classes": [],
            "description": "",
            "_model_name": "FloatProgressModel",
            "bar_style": "success",
            "max": 1,
            "_view_module": "@jupyter-widgets/controls",
            "_model_module_version": "1.5.0",
            "value": 1,
            "_view_count": null,
            "_view_module_version": "1.5.0",
            "orientation": "horizontal",
            "min": 0,
            "description_tooltip": null,
            "_model_module": "@jupyter-widgets/controls",
            "layout": "IPY_MODEL_4ffb761f7c8447098b179c48a0d2d0f1"
          }
        },
        "eb90701ab9f94d8ca72c6b03f81a83a5": {
          "model_module": "@jupyter-widgets/controls",
          "model_name": "HTMLModel",
          "state": {
            "_view_name": "HTMLView",
            "style": "IPY_MODEL_d9590cf1642a4534ac1ee5172769b065",
            "_dom_classes": [],
            "description": "",
            "_model_name": "HTMLModel",
            "placeholder": "​",
            "_view_module": "@jupyter-widgets/controls",
            "_model_module_version": "1.5.0",
            "value": " 542/? [00:02&lt;00:00, 243.74it/s, epoch=1, loss=0.015]",
            "_view_count": null,
            "_view_module_version": "1.5.0",
            "description_tooltip": null,
            "_model_module": "@jupyter-widgets/controls",
            "layout": "IPY_MODEL_b7c13df6566442d089c91f88a3d4e081"
          }
        },
        "713b01c05d744be19d6e8ff3f535956b": {
          "model_module": "@jupyter-widgets/controls",
          "model_name": "ProgressStyleModel",
          "state": {
            "_view_name": "StyleView",
            "_model_name": "ProgressStyleModel",
            "description_width": "initial",
            "_view_module": "@jupyter-widgets/base",
            "_model_module_version": "1.5.0",
            "_view_count": null,
            "_view_module_version": "1.2.0",
            "bar_color": null,
            "_model_module": "@jupyter-widgets/controls"
          }
        },
        "4ffb761f7c8447098b179c48a0d2d0f1": {
          "model_module": "@jupyter-widgets/base",
          "model_name": "LayoutModel",
          "state": {
            "_view_name": "LayoutView",
            "grid_template_rows": null,
            "right": null,
            "justify_content": null,
            "_view_module": "@jupyter-widgets/base",
            "overflow": null,
            "_model_module_version": "1.2.0",
            "_view_count": null,
            "flex_flow": null,
            "width": null,
            "min_width": null,
            "border": null,
            "align_items": null,
            "bottom": null,
            "_model_module": "@jupyter-widgets/base",
            "top": null,
            "grid_column": null,
            "overflow_y": null,
            "overflow_x": null,
            "grid_auto_flow": null,
            "grid_area": null,
            "grid_template_columns": null,
            "flex": null,
            "_model_name": "LayoutModel",
            "justify_items": null,
            "grid_row": null,
            "max_height": null,
            "align_content": null,
            "visibility": null,
            "align_self": null,
            "height": null,
            "min_height": null,
            "padding": null,
            "grid_auto_rows": null,
            "grid_gap": null,
            "max_width": null,
            "order": null,
            "_view_module_version": "1.2.0",
            "grid_template_areas": null,
            "object_position": null,
            "object_fit": null,
            "grid_auto_columns": null,
            "margin": null,
            "display": null,
            "left": null
          }
        },
        "d9590cf1642a4534ac1ee5172769b065": {
          "model_module": "@jupyter-widgets/controls",
          "model_name": "DescriptionStyleModel",
          "state": {
            "_view_name": "StyleView",
            "_model_name": "DescriptionStyleModel",
            "description_width": "",
            "_view_module": "@jupyter-widgets/base",
            "_model_module_version": "1.5.0",
            "_view_count": null,
            "_view_module_version": "1.2.0",
            "_model_module": "@jupyter-widgets/controls"
          }
        },
        "b7c13df6566442d089c91f88a3d4e081": {
          "model_module": "@jupyter-widgets/base",
          "model_name": "LayoutModel",
          "state": {
            "_view_name": "LayoutView",
            "grid_template_rows": null,
            "right": null,
            "justify_content": null,
            "_view_module": "@jupyter-widgets/base",
            "overflow": null,
            "_model_module_version": "1.2.0",
            "_view_count": null,
            "flex_flow": null,
            "width": null,
            "min_width": null,
            "border": null,
            "align_items": null,
            "bottom": null,
            "_model_module": "@jupyter-widgets/base",
            "top": null,
            "grid_column": null,
            "overflow_y": null,
            "overflow_x": null,
            "grid_auto_flow": null,
            "grid_area": null,
            "grid_template_columns": null,
            "flex": null,
            "_model_name": "LayoutModel",
            "justify_items": null,
            "grid_row": null,
            "max_height": null,
            "align_content": null,
            "visibility": null,
            "align_self": null,
            "height": null,
            "min_height": null,
            "padding": null,
            "grid_auto_rows": null,
            "grid_gap": null,
            "max_width": null,
            "order": null,
            "_view_module_version": "1.2.0",
            "grid_template_areas": null,
            "object_position": null,
            "object_fit": null,
            "grid_auto_columns": null,
            "margin": null,
            "display": null,
            "left": null
          }
        },
        "7ebb6b151ec24c9281bc054ad014efb6": {
          "model_module": "@jupyter-widgets/controls",
          "model_name": "HBoxModel",
          "state": {
            "_view_name": "HBoxView",
            "_dom_classes": [],
            "_model_name": "HBoxModel",
            "_view_module": "@jupyter-widgets/controls",
            "_model_module_version": "1.5.0",
            "_view_count": null,
            "_view_module_version": "1.5.0",
            "box_style": "",
            "layout": "IPY_MODEL_7f77c2b52fc842babafa11799b37b0b1",
            "_model_module": "@jupyter-widgets/controls",
            "children": [
              "IPY_MODEL_51b3991fc35f44d7acd625adefdab72a",
              "IPY_MODEL_3781cfc9ac2a478680e40f6cf9735b82"
            ]
          }
        },
        "7f77c2b52fc842babafa11799b37b0b1": {
          "model_module": "@jupyter-widgets/base",
          "model_name": "LayoutModel",
          "state": {
            "_view_name": "LayoutView",
            "grid_template_rows": null,
            "right": null,
            "justify_content": null,
            "_view_module": "@jupyter-widgets/base",
            "overflow": null,
            "_model_module_version": "1.2.0",
            "_view_count": null,
            "flex_flow": null,
            "width": null,
            "min_width": null,
            "border": null,
            "align_items": null,
            "bottom": null,
            "_model_module": "@jupyter-widgets/base",
            "top": null,
            "grid_column": null,
            "overflow_y": null,
            "overflow_x": null,
            "grid_auto_flow": null,
            "grid_area": null,
            "grid_template_columns": null,
            "flex": null,
            "_model_name": "LayoutModel",
            "justify_items": null,
            "grid_row": null,
            "max_height": null,
            "align_content": null,
            "visibility": null,
            "align_self": null,
            "height": null,
            "min_height": null,
            "padding": null,
            "grid_auto_rows": null,
            "grid_gap": null,
            "max_width": null,
            "order": null,
            "_view_module_version": "1.2.0",
            "grid_template_areas": null,
            "object_position": null,
            "object_fit": null,
            "grid_auto_columns": null,
            "margin": null,
            "display": null,
            "left": null
          }
        },
        "51b3991fc35f44d7acd625adefdab72a": {
          "model_module": "@jupyter-widgets/controls",
          "model_name": "FloatProgressModel",
          "state": {
            "_view_name": "ProgressView",
            "style": "IPY_MODEL_b291c4ce75704d62a504a2d029b559f0",
            "_dom_classes": [],
            "description": "",
            "_model_name": "FloatProgressModel",
            "bar_style": "success",
            "max": 1,
            "_view_module": "@jupyter-widgets/controls",
            "_model_module_version": "1.5.0",
            "value": 1,
            "_view_count": null,
            "_view_module_version": "1.5.0",
            "orientation": "horizontal",
            "min": 0,
            "description_tooltip": null,
            "_model_module": "@jupyter-widgets/controls",
            "layout": "IPY_MODEL_372db9a8786e49eaac6ffe50bcf8232b"
          }
        },
        "3781cfc9ac2a478680e40f6cf9735b82": {
          "model_module": "@jupyter-widgets/controls",
          "model_name": "HTMLModel",
          "state": {
            "_view_name": "HTMLView",
            "style": "IPY_MODEL_7c2200f80277430d93e61652025af970",
            "_dom_classes": [],
            "description": "",
            "_model_name": "HTMLModel",
            "placeholder": "​",
            "_view_module": "@jupyter-widgets/controls",
            "_model_module_version": "1.5.0",
            "value": " 542/? [00:02&lt;00:00, 217.30it/s, epoch=2, loss=0.00703]",
            "_view_count": null,
            "_view_module_version": "1.5.0",
            "description_tooltip": null,
            "_model_module": "@jupyter-widgets/controls",
            "layout": "IPY_MODEL_de14b83815ec4d1fb34793ff65c7e12b"
          }
        },
        "b291c4ce75704d62a504a2d029b559f0": {
          "model_module": "@jupyter-widgets/controls",
          "model_name": "ProgressStyleModel",
          "state": {
            "_view_name": "StyleView",
            "_model_name": "ProgressStyleModel",
            "description_width": "initial",
            "_view_module": "@jupyter-widgets/base",
            "_model_module_version": "1.5.0",
            "_view_count": null,
            "_view_module_version": "1.2.0",
            "bar_color": null,
            "_model_module": "@jupyter-widgets/controls"
          }
        },
        "372db9a8786e49eaac6ffe50bcf8232b": {
          "model_module": "@jupyter-widgets/base",
          "model_name": "LayoutModel",
          "state": {
            "_view_name": "LayoutView",
            "grid_template_rows": null,
            "right": null,
            "justify_content": null,
            "_view_module": "@jupyter-widgets/base",
            "overflow": null,
            "_model_module_version": "1.2.0",
            "_view_count": null,
            "flex_flow": null,
            "width": null,
            "min_width": null,
            "border": null,
            "align_items": null,
            "bottom": null,
            "_model_module": "@jupyter-widgets/base",
            "top": null,
            "grid_column": null,
            "overflow_y": null,
            "overflow_x": null,
            "grid_auto_flow": null,
            "grid_area": null,
            "grid_template_columns": null,
            "flex": null,
            "_model_name": "LayoutModel",
            "justify_items": null,
            "grid_row": null,
            "max_height": null,
            "align_content": null,
            "visibility": null,
            "align_self": null,
            "height": null,
            "min_height": null,
            "padding": null,
            "grid_auto_rows": null,
            "grid_gap": null,
            "max_width": null,
            "order": null,
            "_view_module_version": "1.2.0",
            "grid_template_areas": null,
            "object_position": null,
            "object_fit": null,
            "grid_auto_columns": null,
            "margin": null,
            "display": null,
            "left": null
          }
        },
        "7c2200f80277430d93e61652025af970": {
          "model_module": "@jupyter-widgets/controls",
          "model_name": "DescriptionStyleModel",
          "state": {
            "_view_name": "StyleView",
            "_model_name": "DescriptionStyleModel",
            "description_width": "",
            "_view_module": "@jupyter-widgets/base",
            "_model_module_version": "1.5.0",
            "_view_count": null,
            "_view_module_version": "1.2.0",
            "_model_module": "@jupyter-widgets/controls"
          }
        },
        "de14b83815ec4d1fb34793ff65c7e12b": {
          "model_module": "@jupyter-widgets/base",
          "model_name": "LayoutModel",
          "state": {
            "_view_name": "LayoutView",
            "grid_template_rows": null,
            "right": null,
            "justify_content": null,
            "_view_module": "@jupyter-widgets/base",
            "overflow": null,
            "_model_module_version": "1.2.0",
            "_view_count": null,
            "flex_flow": null,
            "width": null,
            "min_width": null,
            "border": null,
            "align_items": null,
            "bottom": null,
            "_model_module": "@jupyter-widgets/base",
            "top": null,
            "grid_column": null,
            "overflow_y": null,
            "overflow_x": null,
            "grid_auto_flow": null,
            "grid_area": null,
            "grid_template_columns": null,
            "flex": null,
            "_model_name": "LayoutModel",
            "justify_items": null,
            "grid_row": null,
            "max_height": null,
            "align_content": null,
            "visibility": null,
            "align_self": null,
            "height": null,
            "min_height": null,
            "padding": null,
            "grid_auto_rows": null,
            "grid_gap": null,
            "max_width": null,
            "order": null,
            "_view_module_version": "1.2.0",
            "grid_template_areas": null,
            "object_position": null,
            "object_fit": null,
            "grid_auto_columns": null,
            "margin": null,
            "display": null,
            "left": null
          }
        },
        "6380a5cb60f44ee486a75c53f6474037": {
          "model_module": "@jupyter-widgets/controls",
          "model_name": "HBoxModel",
          "state": {
            "_view_name": "HBoxView",
            "_dom_classes": [],
            "_model_name": "HBoxModel",
            "_view_module": "@jupyter-widgets/controls",
            "_model_module_version": "1.5.0",
            "_view_count": null,
            "_view_module_version": "1.5.0",
            "box_style": "",
            "layout": "IPY_MODEL_e8203b29c906488eb681da12d282c39b",
            "_model_module": "@jupyter-widgets/controls",
            "children": [
              "IPY_MODEL_19c8dacab21048d3a5b1200d606e6082",
              "IPY_MODEL_3cf49f556fce470da70f8f770156accd"
            ]
          }
        },
        "e8203b29c906488eb681da12d282c39b": {
          "model_module": "@jupyter-widgets/base",
          "model_name": "LayoutModel",
          "state": {
            "_view_name": "LayoutView",
            "grid_template_rows": null,
            "right": null,
            "justify_content": null,
            "_view_module": "@jupyter-widgets/base",
            "overflow": null,
            "_model_module_version": "1.2.0",
            "_view_count": null,
            "flex_flow": null,
            "width": null,
            "min_width": null,
            "border": null,
            "align_items": null,
            "bottom": null,
            "_model_module": "@jupyter-widgets/base",
            "top": null,
            "grid_column": null,
            "overflow_y": null,
            "overflow_x": null,
            "grid_auto_flow": null,
            "grid_area": null,
            "grid_template_columns": null,
            "flex": null,
            "_model_name": "LayoutModel",
            "justify_items": null,
            "grid_row": null,
            "max_height": null,
            "align_content": null,
            "visibility": null,
            "align_self": null,
            "height": null,
            "min_height": null,
            "padding": null,
            "grid_auto_rows": null,
            "grid_gap": null,
            "max_width": null,
            "order": null,
            "_view_module_version": "1.2.0",
            "grid_template_areas": null,
            "object_position": null,
            "object_fit": null,
            "grid_auto_columns": null,
            "margin": null,
            "display": null,
            "left": null
          }
        },
        "19c8dacab21048d3a5b1200d606e6082": {
          "model_module": "@jupyter-widgets/controls",
          "model_name": "FloatProgressModel",
          "state": {
            "_view_name": "ProgressView",
            "style": "IPY_MODEL_ffc132c3b437461091cfd4f30fcd12d6",
            "_dom_classes": [],
            "description": "",
            "_model_name": "FloatProgressModel",
            "bar_style": "success",
            "max": 1,
            "_view_module": "@jupyter-widgets/controls",
            "_model_module_version": "1.5.0",
            "value": 1,
            "_view_count": null,
            "_view_module_version": "1.5.0",
            "orientation": "horizontal",
            "min": 0,
            "description_tooltip": null,
            "_model_module": "@jupyter-widgets/controls",
            "layout": "IPY_MODEL_323185ac3e3e4fa18a7727498ab5cb3b"
          }
        },
        "3cf49f556fce470da70f8f770156accd": {
          "model_module": "@jupyter-widgets/controls",
          "model_name": "HTMLModel",
          "state": {
            "_view_name": "HTMLView",
            "style": "IPY_MODEL_08dcd1d856434d7bb56bad15951fd39a",
            "_dom_classes": [],
            "description": "",
            "_model_name": "HTMLModel",
            "placeholder": "​",
            "_view_module": "@jupyter-widgets/controls",
            "_model_module_version": "1.5.0",
            "value": " 542/? [07:51&lt;00:00,  1.15it/s, epoch=3, loss=0.00457]",
            "_view_count": null,
            "_view_module_version": "1.5.0",
            "description_tooltip": null,
            "_model_module": "@jupyter-widgets/controls",
            "layout": "IPY_MODEL_719d526e88294ce88116017e003be510"
          }
        },
        "ffc132c3b437461091cfd4f30fcd12d6": {
          "model_module": "@jupyter-widgets/controls",
          "model_name": "ProgressStyleModel",
          "state": {
            "_view_name": "StyleView",
            "_model_name": "ProgressStyleModel",
            "description_width": "initial",
            "_view_module": "@jupyter-widgets/base",
            "_model_module_version": "1.5.0",
            "_view_count": null,
            "_view_module_version": "1.2.0",
            "bar_color": null,
            "_model_module": "@jupyter-widgets/controls"
          }
        },
        "323185ac3e3e4fa18a7727498ab5cb3b": {
          "model_module": "@jupyter-widgets/base",
          "model_name": "LayoutModel",
          "state": {
            "_view_name": "LayoutView",
            "grid_template_rows": null,
            "right": null,
            "justify_content": null,
            "_view_module": "@jupyter-widgets/base",
            "overflow": null,
            "_model_module_version": "1.2.0",
            "_view_count": null,
            "flex_flow": null,
            "width": null,
            "min_width": null,
            "border": null,
            "align_items": null,
            "bottom": null,
            "_model_module": "@jupyter-widgets/base",
            "top": null,
            "grid_column": null,
            "overflow_y": null,
            "overflow_x": null,
            "grid_auto_flow": null,
            "grid_area": null,
            "grid_template_columns": null,
            "flex": null,
            "_model_name": "LayoutModel",
            "justify_items": null,
            "grid_row": null,
            "max_height": null,
            "align_content": null,
            "visibility": null,
            "align_self": null,
            "height": null,
            "min_height": null,
            "padding": null,
            "grid_auto_rows": null,
            "grid_gap": null,
            "max_width": null,
            "order": null,
            "_view_module_version": "1.2.0",
            "grid_template_areas": null,
            "object_position": null,
            "object_fit": null,
            "grid_auto_columns": null,
            "margin": null,
            "display": null,
            "left": null
          }
        },
        "08dcd1d856434d7bb56bad15951fd39a": {
          "model_module": "@jupyter-widgets/controls",
          "model_name": "DescriptionStyleModel",
          "state": {
            "_view_name": "StyleView",
            "_model_name": "DescriptionStyleModel",
            "description_width": "",
            "_view_module": "@jupyter-widgets/base",
            "_model_module_version": "1.5.0",
            "_view_count": null,
            "_view_module_version": "1.2.0",
            "_model_module": "@jupyter-widgets/controls"
          }
        },
        "719d526e88294ce88116017e003be510": {
          "model_module": "@jupyter-widgets/base",
          "model_name": "LayoutModel",
          "state": {
            "_view_name": "LayoutView",
            "grid_template_rows": null,
            "right": null,
            "justify_content": null,
            "_view_module": "@jupyter-widgets/base",
            "overflow": null,
            "_model_module_version": "1.2.0",
            "_view_count": null,
            "flex_flow": null,
            "width": null,
            "min_width": null,
            "border": null,
            "align_items": null,
            "bottom": null,
            "_model_module": "@jupyter-widgets/base",
            "top": null,
            "grid_column": null,
            "overflow_y": null,
            "overflow_x": null,
            "grid_auto_flow": null,
            "grid_area": null,
            "grid_template_columns": null,
            "flex": null,
            "_model_name": "LayoutModel",
            "justify_items": null,
            "grid_row": null,
            "max_height": null,
            "align_content": null,
            "visibility": null,
            "align_self": null,
            "height": null,
            "min_height": null,
            "padding": null,
            "grid_auto_rows": null,
            "grid_gap": null,
            "max_width": null,
            "order": null,
            "_view_module_version": "1.2.0",
            "grid_template_areas": null,
            "object_position": null,
            "object_fit": null,
            "grid_auto_columns": null,
            "margin": null,
            "display": null,
            "left": null
          }
        },
        "47cd0a45ad584ce795cfab3c76cc3221": {
          "model_module": "@jupyter-widgets/controls",
          "model_name": "HBoxModel",
          "state": {
            "_view_name": "HBoxView",
            "_dom_classes": [],
            "_model_name": "HBoxModel",
            "_view_module": "@jupyter-widgets/controls",
            "_model_module_version": "1.5.0",
            "_view_count": null,
            "_view_module_version": "1.5.0",
            "box_style": "",
            "layout": "IPY_MODEL_d12458485e0a4a36b904bd17ec0b29eb",
            "_model_module": "@jupyter-widgets/controls",
            "children": [
              "IPY_MODEL_064300f85c554bf996649948e1b00828",
              "IPY_MODEL_7e5e1a1a8e984f25a9db45d3b71d04b2"
            ]
          }
        },
        "d12458485e0a4a36b904bd17ec0b29eb": {
          "model_module": "@jupyter-widgets/base",
          "model_name": "LayoutModel",
          "state": {
            "_view_name": "LayoutView",
            "grid_template_rows": null,
            "right": null,
            "justify_content": null,
            "_view_module": "@jupyter-widgets/base",
            "overflow": null,
            "_model_module_version": "1.2.0",
            "_view_count": null,
            "flex_flow": null,
            "width": null,
            "min_width": null,
            "border": null,
            "align_items": null,
            "bottom": null,
            "_model_module": "@jupyter-widgets/base",
            "top": null,
            "grid_column": null,
            "overflow_y": null,
            "overflow_x": null,
            "grid_auto_flow": null,
            "grid_area": null,
            "grid_template_columns": null,
            "flex": null,
            "_model_name": "LayoutModel",
            "justify_items": null,
            "grid_row": null,
            "max_height": null,
            "align_content": null,
            "visibility": null,
            "align_self": null,
            "height": null,
            "min_height": null,
            "padding": null,
            "grid_auto_rows": null,
            "grid_gap": null,
            "max_width": null,
            "order": null,
            "_view_module_version": "1.2.0",
            "grid_template_areas": null,
            "object_position": null,
            "object_fit": null,
            "grid_auto_columns": null,
            "margin": null,
            "display": null,
            "left": null
          }
        },
        "064300f85c554bf996649948e1b00828": {
          "model_module": "@jupyter-widgets/controls",
          "model_name": "FloatProgressModel",
          "state": {
            "_view_name": "ProgressView",
            "style": "IPY_MODEL_e688173ccb344f4293072503678bfe21",
            "_dom_classes": [],
            "description": "",
            "_model_name": "FloatProgressModel",
            "bar_style": "success",
            "max": 1,
            "_view_module": "@jupyter-widgets/controls",
            "_model_module_version": "1.5.0",
            "value": 1,
            "_view_count": null,
            "_view_module_version": "1.5.0",
            "orientation": "horizontal",
            "min": 0,
            "description_tooltip": null,
            "_model_module": "@jupyter-widgets/controls",
            "layout": "IPY_MODEL_95b8cab8a39c4926a62f6ae04217201d"
          }
        },
        "7e5e1a1a8e984f25a9db45d3b71d04b2": {
          "model_module": "@jupyter-widgets/controls",
          "model_name": "HTMLModel",
          "state": {
            "_view_name": "HTMLView",
            "style": "IPY_MODEL_c45251761233411a8d35987afbc99095",
            "_dom_classes": [],
            "description": "",
            "_model_name": "HTMLModel",
            "placeholder": "​",
            "_view_module": "@jupyter-widgets/controls",
            "_model_module_version": "1.5.0",
            "value": " 542/? [07:49&lt;00:00,  1.16it/s, epoch=4, loss=0.00342]",
            "_view_count": null,
            "_view_module_version": "1.5.0",
            "description_tooltip": null,
            "_model_module": "@jupyter-widgets/controls",
            "layout": "IPY_MODEL_a1e64345bf4944739d20032087b99524"
          }
        },
        "e688173ccb344f4293072503678bfe21": {
          "model_module": "@jupyter-widgets/controls",
          "model_name": "ProgressStyleModel",
          "state": {
            "_view_name": "StyleView",
            "_model_name": "ProgressStyleModel",
            "description_width": "initial",
            "_view_module": "@jupyter-widgets/base",
            "_model_module_version": "1.5.0",
            "_view_count": null,
            "_view_module_version": "1.2.0",
            "bar_color": null,
            "_model_module": "@jupyter-widgets/controls"
          }
        },
        "95b8cab8a39c4926a62f6ae04217201d": {
          "model_module": "@jupyter-widgets/base",
          "model_name": "LayoutModel",
          "state": {
            "_view_name": "LayoutView",
            "grid_template_rows": null,
            "right": null,
            "justify_content": null,
            "_view_module": "@jupyter-widgets/base",
            "overflow": null,
            "_model_module_version": "1.2.0",
            "_view_count": null,
            "flex_flow": null,
            "width": null,
            "min_width": null,
            "border": null,
            "align_items": null,
            "bottom": null,
            "_model_module": "@jupyter-widgets/base",
            "top": null,
            "grid_column": null,
            "overflow_y": null,
            "overflow_x": null,
            "grid_auto_flow": null,
            "grid_area": null,
            "grid_template_columns": null,
            "flex": null,
            "_model_name": "LayoutModel",
            "justify_items": null,
            "grid_row": null,
            "max_height": null,
            "align_content": null,
            "visibility": null,
            "align_self": null,
            "height": null,
            "min_height": null,
            "padding": null,
            "grid_auto_rows": null,
            "grid_gap": null,
            "max_width": null,
            "order": null,
            "_view_module_version": "1.2.0",
            "grid_template_areas": null,
            "object_position": null,
            "object_fit": null,
            "grid_auto_columns": null,
            "margin": null,
            "display": null,
            "left": null
          }
        },
        "c45251761233411a8d35987afbc99095": {
          "model_module": "@jupyter-widgets/controls",
          "model_name": "DescriptionStyleModel",
          "state": {
            "_view_name": "StyleView",
            "_model_name": "DescriptionStyleModel",
            "description_width": "",
            "_view_module": "@jupyter-widgets/base",
            "_model_module_version": "1.5.0",
            "_view_count": null,
            "_view_module_version": "1.2.0",
            "_model_module": "@jupyter-widgets/controls"
          }
        },
        "a1e64345bf4944739d20032087b99524": {
          "model_module": "@jupyter-widgets/base",
          "model_name": "LayoutModel",
          "state": {
            "_view_name": "LayoutView",
            "grid_template_rows": null,
            "right": null,
            "justify_content": null,
            "_view_module": "@jupyter-widgets/base",
            "overflow": null,
            "_model_module_version": "1.2.0",
            "_view_count": null,
            "flex_flow": null,
            "width": null,
            "min_width": null,
            "border": null,
            "align_items": null,
            "bottom": null,
            "_model_module": "@jupyter-widgets/base",
            "top": null,
            "grid_column": null,
            "overflow_y": null,
            "overflow_x": null,
            "grid_auto_flow": null,
            "grid_area": null,
            "grid_template_columns": null,
            "flex": null,
            "_model_name": "LayoutModel",
            "justify_items": null,
            "grid_row": null,
            "max_height": null,
            "align_content": null,
            "visibility": null,
            "align_self": null,
            "height": null,
            "min_height": null,
            "padding": null,
            "grid_auto_rows": null,
            "grid_gap": null,
            "max_width": null,
            "order": null,
            "_view_module_version": "1.2.0",
            "grid_template_areas": null,
            "object_position": null,
            "object_fit": null,
            "grid_auto_columns": null,
            "margin": null,
            "display": null,
            "left": null
          }
        },
        "b3be6c01ccbb4c9f95ca8f858ec2de5c": {
          "model_module": "@jupyter-widgets/controls",
          "model_name": "HBoxModel",
          "state": {
            "_view_name": "HBoxView",
            "_dom_classes": [],
            "_model_name": "HBoxModel",
            "_view_module": "@jupyter-widgets/controls",
            "_model_module_version": "1.5.0",
            "_view_count": null,
            "_view_module_version": "1.5.0",
            "box_style": "",
            "layout": "IPY_MODEL_fcb0e1c48e824599b1579aebf46c4b8f",
            "_model_module": "@jupyter-widgets/controls",
            "children": [
              "IPY_MODEL_df78a7f6d41540319682378b57ae9551",
              "IPY_MODEL_bc86ff24eae748eeb0e7c84c75a8c297"
            ]
          }
        },
        "fcb0e1c48e824599b1579aebf46c4b8f": {
          "model_module": "@jupyter-widgets/base",
          "model_name": "LayoutModel",
          "state": {
            "_view_name": "LayoutView",
            "grid_template_rows": null,
            "right": null,
            "justify_content": null,
            "_view_module": "@jupyter-widgets/base",
            "overflow": null,
            "_model_module_version": "1.2.0",
            "_view_count": null,
            "flex_flow": null,
            "width": null,
            "min_width": null,
            "border": null,
            "align_items": null,
            "bottom": null,
            "_model_module": "@jupyter-widgets/base",
            "top": null,
            "grid_column": null,
            "overflow_y": null,
            "overflow_x": null,
            "grid_auto_flow": null,
            "grid_area": null,
            "grid_template_columns": null,
            "flex": null,
            "_model_name": "LayoutModel",
            "justify_items": null,
            "grid_row": null,
            "max_height": null,
            "align_content": null,
            "visibility": null,
            "align_self": null,
            "height": null,
            "min_height": null,
            "padding": null,
            "grid_auto_rows": null,
            "grid_gap": null,
            "max_width": null,
            "order": null,
            "_view_module_version": "1.2.0",
            "grid_template_areas": null,
            "object_position": null,
            "object_fit": null,
            "grid_auto_columns": null,
            "margin": null,
            "display": null,
            "left": null
          }
        },
        "df78a7f6d41540319682378b57ae9551": {
          "model_module": "@jupyter-widgets/controls",
          "model_name": "FloatProgressModel",
          "state": {
            "_view_name": "ProgressView",
            "style": "IPY_MODEL_1386532a4652462d8410c0a9db16e11e",
            "_dom_classes": [],
            "description": "",
            "_model_name": "FloatProgressModel",
            "bar_style": "success",
            "max": 1,
            "_view_module": "@jupyter-widgets/controls",
            "_model_module_version": "1.5.0",
            "value": 1,
            "_view_count": null,
            "_view_module_version": "1.5.0",
            "orientation": "horizontal",
            "min": 0,
            "description_tooltip": null,
            "_model_module": "@jupyter-widgets/controls",
            "layout": "IPY_MODEL_5faa152f8fce4c1381de97bc39e7a5b1"
          }
        },
        "bc86ff24eae748eeb0e7c84c75a8c297": {
          "model_module": "@jupyter-widgets/controls",
          "model_name": "HTMLModel",
          "state": {
            "_view_name": "HTMLView",
            "style": "IPY_MODEL_98d9e2fff2ae4e37be798d364af1eb2a",
            "_dom_classes": [],
            "description": "",
            "_model_name": "HTMLModel",
            "placeholder": "​",
            "_view_module": "@jupyter-widgets/controls",
            "_model_module_version": "1.5.0",
            "value": " 542/? [00:02&lt;00:00, 247.96it/s, epoch=0, loss=0.261]",
            "_view_count": null,
            "_view_module_version": "1.5.0",
            "description_tooltip": null,
            "_model_module": "@jupyter-widgets/controls",
            "layout": "IPY_MODEL_2c2b46d5ba0849bca51dee569723a229"
          }
        },
        "1386532a4652462d8410c0a9db16e11e": {
          "model_module": "@jupyter-widgets/controls",
          "model_name": "ProgressStyleModel",
          "state": {
            "_view_name": "StyleView",
            "_model_name": "ProgressStyleModel",
            "description_width": "initial",
            "_view_module": "@jupyter-widgets/base",
            "_model_module_version": "1.5.0",
            "_view_count": null,
            "_view_module_version": "1.2.0",
            "bar_color": null,
            "_model_module": "@jupyter-widgets/controls"
          }
        },
        "5faa152f8fce4c1381de97bc39e7a5b1": {
          "model_module": "@jupyter-widgets/base",
          "model_name": "LayoutModel",
          "state": {
            "_view_name": "LayoutView",
            "grid_template_rows": null,
            "right": null,
            "justify_content": null,
            "_view_module": "@jupyter-widgets/base",
            "overflow": null,
            "_model_module_version": "1.2.0",
            "_view_count": null,
            "flex_flow": null,
            "width": null,
            "min_width": null,
            "border": null,
            "align_items": null,
            "bottom": null,
            "_model_module": "@jupyter-widgets/base",
            "top": null,
            "grid_column": null,
            "overflow_y": null,
            "overflow_x": null,
            "grid_auto_flow": null,
            "grid_area": null,
            "grid_template_columns": null,
            "flex": null,
            "_model_name": "LayoutModel",
            "justify_items": null,
            "grid_row": null,
            "max_height": null,
            "align_content": null,
            "visibility": null,
            "align_self": null,
            "height": null,
            "min_height": null,
            "padding": null,
            "grid_auto_rows": null,
            "grid_gap": null,
            "max_width": null,
            "order": null,
            "_view_module_version": "1.2.0",
            "grid_template_areas": null,
            "object_position": null,
            "object_fit": null,
            "grid_auto_columns": null,
            "margin": null,
            "display": null,
            "left": null
          }
        },
        "98d9e2fff2ae4e37be798d364af1eb2a": {
          "model_module": "@jupyter-widgets/controls",
          "model_name": "DescriptionStyleModel",
          "state": {
            "_view_name": "StyleView",
            "_model_name": "DescriptionStyleModel",
            "description_width": "",
            "_view_module": "@jupyter-widgets/base",
            "_model_module_version": "1.5.0",
            "_view_count": null,
            "_view_module_version": "1.2.0",
            "_model_module": "@jupyter-widgets/controls"
          }
        },
        "2c2b46d5ba0849bca51dee569723a229": {
          "model_module": "@jupyter-widgets/base",
          "model_name": "LayoutModel",
          "state": {
            "_view_name": "LayoutView",
            "grid_template_rows": null,
            "right": null,
            "justify_content": null,
            "_view_module": "@jupyter-widgets/base",
            "overflow": null,
            "_model_module_version": "1.2.0",
            "_view_count": null,
            "flex_flow": null,
            "width": null,
            "min_width": null,
            "border": null,
            "align_items": null,
            "bottom": null,
            "_model_module": "@jupyter-widgets/base",
            "top": null,
            "grid_column": null,
            "overflow_y": null,
            "overflow_x": null,
            "grid_auto_flow": null,
            "grid_area": null,
            "grid_template_columns": null,
            "flex": null,
            "_model_name": "LayoutModel",
            "justify_items": null,
            "grid_row": null,
            "max_height": null,
            "align_content": null,
            "visibility": null,
            "align_self": null,
            "height": null,
            "min_height": null,
            "padding": null,
            "grid_auto_rows": null,
            "grid_gap": null,
            "max_width": null,
            "order": null,
            "_view_module_version": "1.2.0",
            "grid_template_areas": null,
            "object_position": null,
            "object_fit": null,
            "grid_auto_columns": null,
            "margin": null,
            "display": null,
            "left": null
          }
        },
        "51e87ed409354e1f8855a509921b0c37": {
          "model_module": "@jupyter-widgets/controls",
          "model_name": "HBoxModel",
          "state": {
            "_view_name": "HBoxView",
            "_dom_classes": [],
            "_model_name": "HBoxModel",
            "_view_module": "@jupyter-widgets/controls",
            "_model_module_version": "1.5.0",
            "_view_count": null,
            "_view_module_version": "1.5.0",
            "box_style": "",
            "layout": "IPY_MODEL_4dc574c887804a3b82c1ca247994cabf",
            "_model_module": "@jupyter-widgets/controls",
            "children": [
              "IPY_MODEL_bf8162c4163141349ee157f715ad3576",
              "IPY_MODEL_7f6d37c0ef504cd384649b850cf24558"
            ]
          }
        },
        "4dc574c887804a3b82c1ca247994cabf": {
          "model_module": "@jupyter-widgets/base",
          "model_name": "LayoutModel",
          "state": {
            "_view_name": "LayoutView",
            "grid_template_rows": null,
            "right": null,
            "justify_content": null,
            "_view_module": "@jupyter-widgets/base",
            "overflow": null,
            "_model_module_version": "1.2.0",
            "_view_count": null,
            "flex_flow": null,
            "width": null,
            "min_width": null,
            "border": null,
            "align_items": null,
            "bottom": null,
            "_model_module": "@jupyter-widgets/base",
            "top": null,
            "grid_column": null,
            "overflow_y": null,
            "overflow_x": null,
            "grid_auto_flow": null,
            "grid_area": null,
            "grid_template_columns": null,
            "flex": null,
            "_model_name": "LayoutModel",
            "justify_items": null,
            "grid_row": null,
            "max_height": null,
            "align_content": null,
            "visibility": null,
            "align_self": null,
            "height": null,
            "min_height": null,
            "padding": null,
            "grid_auto_rows": null,
            "grid_gap": null,
            "max_width": null,
            "order": null,
            "_view_module_version": "1.2.0",
            "grid_template_areas": null,
            "object_position": null,
            "object_fit": null,
            "grid_auto_columns": null,
            "margin": null,
            "display": null,
            "left": null
          }
        },
        "bf8162c4163141349ee157f715ad3576": {
          "model_module": "@jupyter-widgets/controls",
          "model_name": "FloatProgressModel",
          "state": {
            "_view_name": "ProgressView",
            "style": "IPY_MODEL_79a82fe634be4c98a6cecfc34efc5c3c",
            "_dom_classes": [],
            "description": "",
            "_model_name": "FloatProgressModel",
            "bar_style": "success",
            "max": 1,
            "_view_module": "@jupyter-widgets/controls",
            "_model_module_version": "1.5.0",
            "value": 1,
            "_view_count": null,
            "_view_module_version": "1.5.0",
            "orientation": "horizontal",
            "min": 0,
            "description_tooltip": null,
            "_model_module": "@jupyter-widgets/controls",
            "layout": "IPY_MODEL_170d6483719444d7b6e1d1761e3027f6"
          }
        },
        "7f6d37c0ef504cd384649b850cf24558": {
          "model_module": "@jupyter-widgets/controls",
          "model_name": "HTMLModel",
          "state": {
            "_view_name": "HTMLView",
            "style": "IPY_MODEL_8f8f82239e9d49d789e85977fb04187a",
            "_dom_classes": [],
            "description": "",
            "_model_name": "HTMLModel",
            "placeholder": "​",
            "_view_module": "@jupyter-widgets/controls",
            "_model_module_version": "1.5.0",
            "value": " 542/? [00:06&lt;00:00, 82.95it/s, epoch=1, loss=0.151]",
            "_view_count": null,
            "_view_module_version": "1.5.0",
            "description_tooltip": null,
            "_model_module": "@jupyter-widgets/controls",
            "layout": "IPY_MODEL_4397a517ff4a409d8a8a8ed0f1fd77c7"
          }
        },
        "79a82fe634be4c98a6cecfc34efc5c3c": {
          "model_module": "@jupyter-widgets/controls",
          "model_name": "ProgressStyleModel",
          "state": {
            "_view_name": "StyleView",
            "_model_name": "ProgressStyleModel",
            "description_width": "initial",
            "_view_module": "@jupyter-widgets/base",
            "_model_module_version": "1.5.0",
            "_view_count": null,
            "_view_module_version": "1.2.0",
            "bar_color": null,
            "_model_module": "@jupyter-widgets/controls"
          }
        },
        "170d6483719444d7b6e1d1761e3027f6": {
          "model_module": "@jupyter-widgets/base",
          "model_name": "LayoutModel",
          "state": {
            "_view_name": "LayoutView",
            "grid_template_rows": null,
            "right": null,
            "justify_content": null,
            "_view_module": "@jupyter-widgets/base",
            "overflow": null,
            "_model_module_version": "1.2.0",
            "_view_count": null,
            "flex_flow": null,
            "width": null,
            "min_width": null,
            "border": null,
            "align_items": null,
            "bottom": null,
            "_model_module": "@jupyter-widgets/base",
            "top": null,
            "grid_column": null,
            "overflow_y": null,
            "overflow_x": null,
            "grid_auto_flow": null,
            "grid_area": null,
            "grid_template_columns": null,
            "flex": null,
            "_model_name": "LayoutModel",
            "justify_items": null,
            "grid_row": null,
            "max_height": null,
            "align_content": null,
            "visibility": null,
            "align_self": null,
            "height": null,
            "min_height": null,
            "padding": null,
            "grid_auto_rows": null,
            "grid_gap": null,
            "max_width": null,
            "order": null,
            "_view_module_version": "1.2.0",
            "grid_template_areas": null,
            "object_position": null,
            "object_fit": null,
            "grid_auto_columns": null,
            "margin": null,
            "display": null,
            "left": null
          }
        },
        "8f8f82239e9d49d789e85977fb04187a": {
          "model_module": "@jupyter-widgets/controls",
          "model_name": "DescriptionStyleModel",
          "state": {
            "_view_name": "StyleView",
            "_model_name": "DescriptionStyleModel",
            "description_width": "",
            "_view_module": "@jupyter-widgets/base",
            "_model_module_version": "1.5.0",
            "_view_count": null,
            "_view_module_version": "1.2.0",
            "_model_module": "@jupyter-widgets/controls"
          }
        },
        "4397a517ff4a409d8a8a8ed0f1fd77c7": {
          "model_module": "@jupyter-widgets/base",
          "model_name": "LayoutModel",
          "state": {
            "_view_name": "LayoutView",
            "grid_template_rows": null,
            "right": null,
            "justify_content": null,
            "_view_module": "@jupyter-widgets/base",
            "overflow": null,
            "_model_module_version": "1.2.0",
            "_view_count": null,
            "flex_flow": null,
            "width": null,
            "min_width": null,
            "border": null,
            "align_items": null,
            "bottom": null,
            "_model_module": "@jupyter-widgets/base",
            "top": null,
            "grid_column": null,
            "overflow_y": null,
            "overflow_x": null,
            "grid_auto_flow": null,
            "grid_area": null,
            "grid_template_columns": null,
            "flex": null,
            "_model_name": "LayoutModel",
            "justify_items": null,
            "grid_row": null,
            "max_height": null,
            "align_content": null,
            "visibility": null,
            "align_self": null,
            "height": null,
            "min_height": null,
            "padding": null,
            "grid_auto_rows": null,
            "grid_gap": null,
            "max_width": null,
            "order": null,
            "_view_module_version": "1.2.0",
            "grid_template_areas": null,
            "object_position": null,
            "object_fit": null,
            "grid_auto_columns": null,
            "margin": null,
            "display": null,
            "left": null
          }
        },
        "9114e570c7fb4e38bf0c1d47c232220c": {
          "model_module": "@jupyter-widgets/controls",
          "model_name": "HBoxModel",
          "state": {
            "_view_name": "HBoxView",
            "_dom_classes": [],
            "_model_name": "HBoxModel",
            "_view_module": "@jupyter-widgets/controls",
            "_model_module_version": "1.5.0",
            "_view_count": null,
            "_view_module_version": "1.5.0",
            "box_style": "",
            "layout": "IPY_MODEL_012e3bdba4224967984c5b6f04aca264",
            "_model_module": "@jupyter-widgets/controls",
            "children": [
              "IPY_MODEL_bdf4c71aeb7444f982a2cf5aa9189960",
              "IPY_MODEL_7c59952d561145bbaf74f4c9dc1a8c8a"
            ]
          }
        },
        "012e3bdba4224967984c5b6f04aca264": {
          "model_module": "@jupyter-widgets/base",
          "model_name": "LayoutModel",
          "state": {
            "_view_name": "LayoutView",
            "grid_template_rows": null,
            "right": null,
            "justify_content": null,
            "_view_module": "@jupyter-widgets/base",
            "overflow": null,
            "_model_module_version": "1.2.0",
            "_view_count": null,
            "flex_flow": null,
            "width": null,
            "min_width": null,
            "border": null,
            "align_items": null,
            "bottom": null,
            "_model_module": "@jupyter-widgets/base",
            "top": null,
            "grid_column": null,
            "overflow_y": null,
            "overflow_x": null,
            "grid_auto_flow": null,
            "grid_area": null,
            "grid_template_columns": null,
            "flex": null,
            "_model_name": "LayoutModel",
            "justify_items": null,
            "grid_row": null,
            "max_height": null,
            "align_content": null,
            "visibility": null,
            "align_self": null,
            "height": null,
            "min_height": null,
            "padding": null,
            "grid_auto_rows": null,
            "grid_gap": null,
            "max_width": null,
            "order": null,
            "_view_module_version": "1.2.0",
            "grid_template_areas": null,
            "object_position": null,
            "object_fit": null,
            "grid_auto_columns": null,
            "margin": null,
            "display": null,
            "left": null
          }
        },
        "bdf4c71aeb7444f982a2cf5aa9189960": {
          "model_module": "@jupyter-widgets/controls",
          "model_name": "FloatProgressModel",
          "state": {
            "_view_name": "ProgressView",
            "style": "IPY_MODEL_e06b45edf33746449cdafd9827e0660f",
            "_dom_classes": [],
            "description": "",
            "_model_name": "FloatProgressModel",
            "bar_style": "success",
            "max": 1,
            "_view_module": "@jupyter-widgets/controls",
            "_model_module_version": "1.5.0",
            "value": 1,
            "_view_count": null,
            "_view_module_version": "1.5.0",
            "orientation": "horizontal",
            "min": 0,
            "description_tooltip": null,
            "_model_module": "@jupyter-widgets/controls",
            "layout": "IPY_MODEL_2094d5e9275b4803a1fc64fb23241757"
          }
        },
        "7c59952d561145bbaf74f4c9dc1a8c8a": {
          "model_module": "@jupyter-widgets/controls",
          "model_name": "HTMLModel",
          "state": {
            "_view_name": "HTMLView",
            "style": "IPY_MODEL_0c7525827b0b4b7bbed6bd87c155e274",
            "_dom_classes": [],
            "description": "",
            "_model_name": "HTMLModel",
            "placeholder": "​",
            "_view_module": "@jupyter-widgets/controls",
            "_model_module_version": "1.5.0",
            "value": " 542/? [00:04&lt;00:00, 119.08it/s, epoch=2, loss=0.13]",
            "_view_count": null,
            "_view_module_version": "1.5.0",
            "description_tooltip": null,
            "_model_module": "@jupyter-widgets/controls",
            "layout": "IPY_MODEL_559f7f31e35e4fd5b0e1901080f34121"
          }
        },
        "e06b45edf33746449cdafd9827e0660f": {
          "model_module": "@jupyter-widgets/controls",
          "model_name": "ProgressStyleModel",
          "state": {
            "_view_name": "StyleView",
            "_model_name": "ProgressStyleModel",
            "description_width": "initial",
            "_view_module": "@jupyter-widgets/base",
            "_model_module_version": "1.5.0",
            "_view_count": null,
            "_view_module_version": "1.2.0",
            "bar_color": null,
            "_model_module": "@jupyter-widgets/controls"
          }
        },
        "2094d5e9275b4803a1fc64fb23241757": {
          "model_module": "@jupyter-widgets/base",
          "model_name": "LayoutModel",
          "state": {
            "_view_name": "LayoutView",
            "grid_template_rows": null,
            "right": null,
            "justify_content": null,
            "_view_module": "@jupyter-widgets/base",
            "overflow": null,
            "_model_module_version": "1.2.0",
            "_view_count": null,
            "flex_flow": null,
            "width": null,
            "min_width": null,
            "border": null,
            "align_items": null,
            "bottom": null,
            "_model_module": "@jupyter-widgets/base",
            "top": null,
            "grid_column": null,
            "overflow_y": null,
            "overflow_x": null,
            "grid_auto_flow": null,
            "grid_area": null,
            "grid_template_columns": null,
            "flex": null,
            "_model_name": "LayoutModel",
            "justify_items": null,
            "grid_row": null,
            "max_height": null,
            "align_content": null,
            "visibility": null,
            "align_self": null,
            "height": null,
            "min_height": null,
            "padding": null,
            "grid_auto_rows": null,
            "grid_gap": null,
            "max_width": null,
            "order": null,
            "_view_module_version": "1.2.0",
            "grid_template_areas": null,
            "object_position": null,
            "object_fit": null,
            "grid_auto_columns": null,
            "margin": null,
            "display": null,
            "left": null
          }
        },
        "0c7525827b0b4b7bbed6bd87c155e274": {
          "model_module": "@jupyter-widgets/controls",
          "model_name": "DescriptionStyleModel",
          "state": {
            "_view_name": "StyleView",
            "_model_name": "DescriptionStyleModel",
            "description_width": "",
            "_view_module": "@jupyter-widgets/base",
            "_model_module_version": "1.5.0",
            "_view_count": null,
            "_view_module_version": "1.2.0",
            "_model_module": "@jupyter-widgets/controls"
          }
        },
        "559f7f31e35e4fd5b0e1901080f34121": {
          "model_module": "@jupyter-widgets/base",
          "model_name": "LayoutModel",
          "state": {
            "_view_name": "LayoutView",
            "grid_template_rows": null,
            "right": null,
            "justify_content": null,
            "_view_module": "@jupyter-widgets/base",
            "overflow": null,
            "_model_module_version": "1.2.0",
            "_view_count": null,
            "flex_flow": null,
            "width": null,
            "min_width": null,
            "border": null,
            "align_items": null,
            "bottom": null,
            "_model_module": "@jupyter-widgets/base",
            "top": null,
            "grid_column": null,
            "overflow_y": null,
            "overflow_x": null,
            "grid_auto_flow": null,
            "grid_area": null,
            "grid_template_columns": null,
            "flex": null,
            "_model_name": "LayoutModel",
            "justify_items": null,
            "grid_row": null,
            "max_height": null,
            "align_content": null,
            "visibility": null,
            "align_self": null,
            "height": null,
            "min_height": null,
            "padding": null,
            "grid_auto_rows": null,
            "grid_gap": null,
            "max_width": null,
            "order": null,
            "_view_module_version": "1.2.0",
            "grid_template_areas": null,
            "object_position": null,
            "object_fit": null,
            "grid_auto_columns": null,
            "margin": null,
            "display": null,
            "left": null
          }
        },
        "5420ea201f4c4c17a97b2ced23cf5338": {
          "model_module": "@jupyter-widgets/controls",
          "model_name": "HBoxModel",
          "state": {
            "_view_name": "HBoxView",
            "_dom_classes": [],
            "_model_name": "HBoxModel",
            "_view_module": "@jupyter-widgets/controls",
            "_model_module_version": "1.5.0",
            "_view_count": null,
            "_view_module_version": "1.5.0",
            "box_style": "",
            "layout": "IPY_MODEL_ca8139036c7d41e1ad75fc8aec383652",
            "_model_module": "@jupyter-widgets/controls",
            "children": [
              "IPY_MODEL_4dba86c0107a438095258da741b4f799",
              "IPY_MODEL_6765d724d7504d7a9f4a32cb74e9661c"
            ]
          }
        },
        "ca8139036c7d41e1ad75fc8aec383652": {
          "model_module": "@jupyter-widgets/base",
          "model_name": "LayoutModel",
          "state": {
            "_view_name": "LayoutView",
            "grid_template_rows": null,
            "right": null,
            "justify_content": null,
            "_view_module": "@jupyter-widgets/base",
            "overflow": null,
            "_model_module_version": "1.2.0",
            "_view_count": null,
            "flex_flow": null,
            "width": null,
            "min_width": null,
            "border": null,
            "align_items": null,
            "bottom": null,
            "_model_module": "@jupyter-widgets/base",
            "top": null,
            "grid_column": null,
            "overflow_y": null,
            "overflow_x": null,
            "grid_auto_flow": null,
            "grid_area": null,
            "grid_template_columns": null,
            "flex": null,
            "_model_name": "LayoutModel",
            "justify_items": null,
            "grid_row": null,
            "max_height": null,
            "align_content": null,
            "visibility": null,
            "align_self": null,
            "height": null,
            "min_height": null,
            "padding": null,
            "grid_auto_rows": null,
            "grid_gap": null,
            "max_width": null,
            "order": null,
            "_view_module_version": "1.2.0",
            "grid_template_areas": null,
            "object_position": null,
            "object_fit": null,
            "grid_auto_columns": null,
            "margin": null,
            "display": null,
            "left": null
          }
        },
        "4dba86c0107a438095258da741b4f799": {
          "model_module": "@jupyter-widgets/controls",
          "model_name": "FloatProgressModel",
          "state": {
            "_view_name": "ProgressView",
            "style": "IPY_MODEL_7676caaa46584197a084ceb0b33317c0",
            "_dom_classes": [],
            "description": "",
            "_model_name": "FloatProgressModel",
            "bar_style": "success",
            "max": 1,
            "_view_module": "@jupyter-widgets/controls",
            "_model_module_version": "1.5.0",
            "value": 1,
            "_view_count": null,
            "_view_module_version": "1.5.0",
            "orientation": "horizontal",
            "min": 0,
            "description_tooltip": null,
            "_model_module": "@jupyter-widgets/controls",
            "layout": "IPY_MODEL_5646e93238564b82a7cc3c9a744329f9"
          }
        },
        "6765d724d7504d7a9f4a32cb74e9661c": {
          "model_module": "@jupyter-widgets/controls",
          "model_name": "HTMLModel",
          "state": {
            "_view_name": "HTMLView",
            "style": "IPY_MODEL_afb3c7f013154b809269801e7ee0b228",
            "_dom_classes": [],
            "description": "",
            "_model_name": "HTMLModel",
            "placeholder": "​",
            "_view_module": "@jupyter-widgets/controls",
            "_model_module_version": "1.5.0",
            "value": " 542/? [00:02&lt;00:00, 243.51it/s, epoch=3, loss=0.122]",
            "_view_count": null,
            "_view_module_version": "1.5.0",
            "description_tooltip": null,
            "_model_module": "@jupyter-widgets/controls",
            "layout": "IPY_MODEL_d96297f68aab4fca8d91e787f0bd5e9e"
          }
        },
        "7676caaa46584197a084ceb0b33317c0": {
          "model_module": "@jupyter-widgets/controls",
          "model_name": "ProgressStyleModel",
          "state": {
            "_view_name": "StyleView",
            "_model_name": "ProgressStyleModel",
            "description_width": "initial",
            "_view_module": "@jupyter-widgets/base",
            "_model_module_version": "1.5.0",
            "_view_count": null,
            "_view_module_version": "1.2.0",
            "bar_color": null,
            "_model_module": "@jupyter-widgets/controls"
          }
        },
        "5646e93238564b82a7cc3c9a744329f9": {
          "model_module": "@jupyter-widgets/base",
          "model_name": "LayoutModel",
          "state": {
            "_view_name": "LayoutView",
            "grid_template_rows": null,
            "right": null,
            "justify_content": null,
            "_view_module": "@jupyter-widgets/base",
            "overflow": null,
            "_model_module_version": "1.2.0",
            "_view_count": null,
            "flex_flow": null,
            "width": null,
            "min_width": null,
            "border": null,
            "align_items": null,
            "bottom": null,
            "_model_module": "@jupyter-widgets/base",
            "top": null,
            "grid_column": null,
            "overflow_y": null,
            "overflow_x": null,
            "grid_auto_flow": null,
            "grid_area": null,
            "grid_template_columns": null,
            "flex": null,
            "_model_name": "LayoutModel",
            "justify_items": null,
            "grid_row": null,
            "max_height": null,
            "align_content": null,
            "visibility": null,
            "align_self": null,
            "height": null,
            "min_height": null,
            "padding": null,
            "grid_auto_rows": null,
            "grid_gap": null,
            "max_width": null,
            "order": null,
            "_view_module_version": "1.2.0",
            "grid_template_areas": null,
            "object_position": null,
            "object_fit": null,
            "grid_auto_columns": null,
            "margin": null,
            "display": null,
            "left": null
          }
        },
        "afb3c7f013154b809269801e7ee0b228": {
          "model_module": "@jupyter-widgets/controls",
          "model_name": "DescriptionStyleModel",
          "state": {
            "_view_name": "StyleView",
            "_model_name": "DescriptionStyleModel",
            "description_width": "",
            "_view_module": "@jupyter-widgets/base",
            "_model_module_version": "1.5.0",
            "_view_count": null,
            "_view_module_version": "1.2.0",
            "_model_module": "@jupyter-widgets/controls"
          }
        },
        "d96297f68aab4fca8d91e787f0bd5e9e": {
          "model_module": "@jupyter-widgets/base",
          "model_name": "LayoutModel",
          "state": {
            "_view_name": "LayoutView",
            "grid_template_rows": null,
            "right": null,
            "justify_content": null,
            "_view_module": "@jupyter-widgets/base",
            "overflow": null,
            "_model_module_version": "1.2.0",
            "_view_count": null,
            "flex_flow": null,
            "width": null,
            "min_width": null,
            "border": null,
            "align_items": null,
            "bottom": null,
            "_model_module": "@jupyter-widgets/base",
            "top": null,
            "grid_column": null,
            "overflow_y": null,
            "overflow_x": null,
            "grid_auto_flow": null,
            "grid_area": null,
            "grid_template_columns": null,
            "flex": null,
            "_model_name": "LayoutModel",
            "justify_items": null,
            "grid_row": null,
            "max_height": null,
            "align_content": null,
            "visibility": null,
            "align_self": null,
            "height": null,
            "min_height": null,
            "padding": null,
            "grid_auto_rows": null,
            "grid_gap": null,
            "max_width": null,
            "order": null,
            "_view_module_version": "1.2.0",
            "grid_template_areas": null,
            "object_position": null,
            "object_fit": null,
            "grid_auto_columns": null,
            "margin": null,
            "display": null,
            "left": null
          }
        },
        "c6779d1d442d411a84bbebca9889e212": {
          "model_module": "@jupyter-widgets/controls",
          "model_name": "HBoxModel",
          "state": {
            "_view_name": "HBoxView",
            "_dom_classes": [],
            "_model_name": "HBoxModel",
            "_view_module": "@jupyter-widgets/controls",
            "_model_module_version": "1.5.0",
            "_view_count": null,
            "_view_module_version": "1.5.0",
            "box_style": "",
            "layout": "IPY_MODEL_8e9f96e0508449c797c2ec4e1b4f4279",
            "_model_module": "@jupyter-widgets/controls",
            "children": [
              "IPY_MODEL_442e7fca4c4f40c3a5cc36bb9bdb68de",
              "IPY_MODEL_561c5714653549318a84b4536da14953"
            ]
          }
        },
        "8e9f96e0508449c797c2ec4e1b4f4279": {
          "model_module": "@jupyter-widgets/base",
          "model_name": "LayoutModel",
          "state": {
            "_view_name": "LayoutView",
            "grid_template_rows": null,
            "right": null,
            "justify_content": null,
            "_view_module": "@jupyter-widgets/base",
            "overflow": null,
            "_model_module_version": "1.2.0",
            "_view_count": null,
            "flex_flow": null,
            "width": null,
            "min_width": null,
            "border": null,
            "align_items": null,
            "bottom": null,
            "_model_module": "@jupyter-widgets/base",
            "top": null,
            "grid_column": null,
            "overflow_y": null,
            "overflow_x": null,
            "grid_auto_flow": null,
            "grid_area": null,
            "grid_template_columns": null,
            "flex": null,
            "_model_name": "LayoutModel",
            "justify_items": null,
            "grid_row": null,
            "max_height": null,
            "align_content": null,
            "visibility": null,
            "align_self": null,
            "height": null,
            "min_height": null,
            "padding": null,
            "grid_auto_rows": null,
            "grid_gap": null,
            "max_width": null,
            "order": null,
            "_view_module_version": "1.2.0",
            "grid_template_areas": null,
            "object_position": null,
            "object_fit": null,
            "grid_auto_columns": null,
            "margin": null,
            "display": null,
            "left": null
          }
        },
        "442e7fca4c4f40c3a5cc36bb9bdb68de": {
          "model_module": "@jupyter-widgets/controls",
          "model_name": "FloatProgressModel",
          "state": {
            "_view_name": "ProgressView",
            "style": "IPY_MODEL_7a2c7222292448a2a7621f794b3bd3f0",
            "_dom_classes": [],
            "description": "",
            "_model_name": "FloatProgressModel",
            "bar_style": "success",
            "max": 1,
            "_view_module": "@jupyter-widgets/controls",
            "_model_module_version": "1.5.0",
            "value": 1,
            "_view_count": null,
            "_view_module_version": "1.5.0",
            "orientation": "horizontal",
            "min": 0,
            "description_tooltip": null,
            "_model_module": "@jupyter-widgets/controls",
            "layout": "IPY_MODEL_d2f122436e60457498cb5318be9c8433"
          }
        },
        "561c5714653549318a84b4536da14953": {
          "model_module": "@jupyter-widgets/controls",
          "model_name": "HTMLModel",
          "state": {
            "_view_name": "HTMLView",
            "style": "IPY_MODEL_8578995086b14e1483d9e508e4f6b4ba",
            "_dom_classes": [],
            "description": "",
            "_model_name": "HTMLModel",
            "placeholder": "​",
            "_view_module": "@jupyter-widgets/controls",
            "_model_module_version": "1.5.0",
            "value": " 542/? [00:02&lt;00:00, 246.30it/s, epoch=4, loss=0.117]",
            "_view_count": null,
            "_view_module_version": "1.5.0",
            "description_tooltip": null,
            "_model_module": "@jupyter-widgets/controls",
            "layout": "IPY_MODEL_1921686655344c76b2baafb52384393b"
          }
        },
        "7a2c7222292448a2a7621f794b3bd3f0": {
          "model_module": "@jupyter-widgets/controls",
          "model_name": "ProgressStyleModel",
          "state": {
            "_view_name": "StyleView",
            "_model_name": "ProgressStyleModel",
            "description_width": "initial",
            "_view_module": "@jupyter-widgets/base",
            "_model_module_version": "1.5.0",
            "_view_count": null,
            "_view_module_version": "1.2.0",
            "bar_color": null,
            "_model_module": "@jupyter-widgets/controls"
          }
        },
        "d2f122436e60457498cb5318be9c8433": {
          "model_module": "@jupyter-widgets/base",
          "model_name": "LayoutModel",
          "state": {
            "_view_name": "LayoutView",
            "grid_template_rows": null,
            "right": null,
            "justify_content": null,
            "_view_module": "@jupyter-widgets/base",
            "overflow": null,
            "_model_module_version": "1.2.0",
            "_view_count": null,
            "flex_flow": null,
            "width": null,
            "min_width": null,
            "border": null,
            "align_items": null,
            "bottom": null,
            "_model_module": "@jupyter-widgets/base",
            "top": null,
            "grid_column": null,
            "overflow_y": null,
            "overflow_x": null,
            "grid_auto_flow": null,
            "grid_area": null,
            "grid_template_columns": null,
            "flex": null,
            "_model_name": "LayoutModel",
            "justify_items": null,
            "grid_row": null,
            "max_height": null,
            "align_content": null,
            "visibility": null,
            "align_self": null,
            "height": null,
            "min_height": null,
            "padding": null,
            "grid_auto_rows": null,
            "grid_gap": null,
            "max_width": null,
            "order": null,
            "_view_module_version": "1.2.0",
            "grid_template_areas": null,
            "object_position": null,
            "object_fit": null,
            "grid_auto_columns": null,
            "margin": null,
            "display": null,
            "left": null
          }
        },
        "8578995086b14e1483d9e508e4f6b4ba": {
          "model_module": "@jupyter-widgets/controls",
          "model_name": "DescriptionStyleModel",
          "state": {
            "_view_name": "StyleView",
            "_model_name": "DescriptionStyleModel",
            "description_width": "",
            "_view_module": "@jupyter-widgets/base",
            "_model_module_version": "1.5.0",
            "_view_count": null,
            "_view_module_version": "1.2.0",
            "_model_module": "@jupyter-widgets/controls"
          }
        },
        "1921686655344c76b2baafb52384393b": {
          "model_module": "@jupyter-widgets/base",
          "model_name": "LayoutModel",
          "state": {
            "_view_name": "LayoutView",
            "grid_template_rows": null,
            "right": null,
            "justify_content": null,
            "_view_module": "@jupyter-widgets/base",
            "overflow": null,
            "_model_module_version": "1.2.0",
            "_view_count": null,
            "flex_flow": null,
            "width": null,
            "min_width": null,
            "border": null,
            "align_items": null,
            "bottom": null,
            "_model_module": "@jupyter-widgets/base",
            "top": null,
            "grid_column": null,
            "overflow_y": null,
            "overflow_x": null,
            "grid_auto_flow": null,
            "grid_area": null,
            "grid_template_columns": null,
            "flex": null,
            "_model_name": "LayoutModel",
            "justify_items": null,
            "grid_row": null,
            "max_height": null,
            "align_content": null,
            "visibility": null,
            "align_self": null,
            "height": null,
            "min_height": null,
            "padding": null,
            "grid_auto_rows": null,
            "grid_gap": null,
            "max_width": null,
            "order": null,
            "_view_module_version": "1.2.0",
            "grid_template_areas": null,
            "object_position": null,
            "object_fit": null,
            "grid_auto_columns": null,
            "margin": null,
            "display": null,
            "left": null
          }
        }
      }
    }
  },
  "cells": [
    {
      "cell_type": "markdown",
      "metadata": {
        "id": "view-in-github",
        "colab_type": "text"
      },
      "source": [
        "<a href=\"https://colab.research.google.com/github/furio1999/Natural-Language-Processing/blob/main/02a_A_real_world_problem.ipynb\" target=\"_parent\"><img src=\"https://colab.research.google.com/assets/colab-badge.svg\" alt=\"Open In Colab\"/></a>"
      ]
    },
    {
      "cell_type": "markdown",
      "metadata": {
        "id": "36Gth60BOb0x"
      },
      "source": [
        "**Copyright 2021 Sapienza NLP research group (http://nlp.uniroma1.it/)**\n",
        "\n",
        "Authors: Edoardo Barba, Michele Bevilacqua, Cesare Campagnano, Simone Conia, ‪Pere-Lluís Huguet Cabot‬, Luigi Procopio, Roberto Navigli\n",
        "\n",
        "All the material is made available under a Creative Commons Attribution-NonCommercial-ShareAlike 4.0 License (international): https://creativecommons.org/licenses/by-nc-sa/4.0/."
      ]
    },
    {
      "cell_type": "markdown",
      "metadata": {
        "id": "9w_ERbZ4Wl7z"
      },
      "source": [
        "# Introduction\n",
        "\n",
        "Hello and welcome to our Practical Deep Learning for NLP 101 course! In this Chapter, we'll get our hands dirty with a more realistic problem. We all love the XOR function, but why don't we review videogames instead?\n",
        "\n",
        "Let's read the reviews that buyers wrote for some videogames and see if we can guess their opinions!"
      ]
    },
    {
      "cell_type": "markdown",
      "metadata": {
        "id": "DFxNTxGDeVaL"
      },
      "source": [
        "# Preparing the Environment"
      ]
    },
    {
      "cell_type": "markdown",
      "metadata": {
        "id": "Nbon4gqrXod4"
      },
      "source": [
        "Differently from the previous Chapter, this time we will be working with a real-world dataset. First thing first, we'll need to retrieve it."
      ]
    },
    {
      "cell_type": "code",
      "metadata": {
        "id": "aPxU9f3HeajI",
        "colab": {
          "base_uri": "https://localhost:8080/"
        },
        "outputId": "f20360fd-6afb-48a6-9cf5-723009e55dc8"
      },
      "source": [
        "# sample_data: we don't need this folder\n",
        "! rm -rf sample_data\n",
        "\n",
        "# let's create a new folder and download the dataset. We'll also need to unzip it\n",
        "! mkdir data\n",
        "! wget -O data/amazon-reviews.tsv.gz https://s3.amazonaws.com/amazon-reviews-pds/tsv/amazon_reviews_us_Video_Games_v1_00.tsv.gz\n",
        "! gzip -d data/amazon-reviews.tsv.gz"
      ],
      "execution_count": null,
      "outputs": [
        {
          "output_type": "stream",
          "text": [
            "--2021-03-08 13:06:38--  https://s3.amazonaws.com/amazon-reviews-pds/tsv/amazon_reviews_us_Video_Games_v1_00.tsv.gz\n",
            "Resolving s3.amazonaws.com (s3.amazonaws.com)... 52.217.94.126\n",
            "Connecting to s3.amazonaws.com (s3.amazonaws.com)|52.217.94.126|:443... connected.\n",
            "HTTP request sent, awaiting response... 200 OK\n",
            "Length: 475199894 (453M) [application/x-gzip]\n",
            "Saving to: ‘data/amazon-reviews.tsv.gz’\n",
            "\n",
            "data/amazon-reviews 100%[===================>] 453.19M  63.4MB/s    in 6.9s    \n",
            "\n",
            "2021-03-08 13:06:45 (65.6 MB/s) - ‘data/amazon-reviews.tsv.gz’ saved [475199894/475199894]\n",
            "\n"
          ],
          "name": "stdout"
        }
      ]
    },
    {
      "cell_type": "markdown",
      "metadata": {
        "id": "S3MqAnoaYL9L"
      },
      "source": [
        "**Reminder:** this is bash! Learning to properly alternate between python, bash and other \"languages\" is something vital in data science. Surely python is nice, but isn't it overkill to use it to download a file or create a folder?"
      ]
    },
    {
      "cell_type": "markdown",
      "metadata": {
        "id": "qOMc4VxKZGeE"
      },
      "source": [
        "Let's import a few packages that we'll need through the notebook!"
      ]
    },
    {
      "cell_type": "code",
      "metadata": {
        "id": "YfD_pcyZe0LR"
      },
      "source": [
        "# general\n",
        "import matplotlib.pyplot as plt\n",
        "import numpy as np\n",
        "\n",
        "from collections import Counter\n",
        "from tqdm.notebook import tqdm\n",
        "from typing import *"
      ],
      "execution_count": null,
      "outputs": []
    },
    {
      "cell_type": "code",
      "metadata": {
        "id": "8VQo_JT08ES3"
      },
      "source": [
        "# torch\n",
        "import torch\n",
        "\n",
        "from torch import nn\n",
        "from torch.utils.data import Dataset, DataLoader\n",
        "from torch.optim import SGD"
      ],
      "execution_count": null,
      "outputs": []
    },
    {
      "cell_type": "markdown",
      "metadata": {
        "id": "PVDNiLoCcpao"
      },
      "source": [
        "# Amazon Reviews"
      ]
    },
    {
      "cell_type": "markdown",
      "metadata": {
        "id": "jjaBJo7TZNp5"
      },
      "source": [
        "The dataset we are going to use is [Amazon Reviews](https://s3.amazonaws.com/amazon-reviews-pds/readme.html); it is a well-known dataset in the ML community that is frequently used in multiple settings.\n",
        "\n",
        "As it's really gigantic, it is divided in different sub-datasets based on the Amazon categories we all know. Today, we'll use the VideoGames sub-dataset."
      ]
    },
    {
      "cell_type": "markdown",
      "metadata": {
        "id": "hqm2GU2Hctc8"
      },
      "source": [
        "## Dataset"
      ]
    },
    {
      "cell_type": "markdown",
      "metadata": {
        "id": "LXHj3ODBaCtI"
      },
      "source": [
        "So, first of all, let's check its format."
      ]
    },
    {
      "cell_type": "code",
      "metadata": {
        "colab": {
          "base_uri": "https://localhost:8080/"
        },
        "id": "iNPspJDHdEz9",
        "outputId": "8b7cc435-8f53-41e1-b931-6a74648f2f30"
      },
      "source": [
        "! head -5 data/amazon-reviews.tsv"
      ],
      "execution_count": null,
      "outputs": [
        {
          "output_type": "stream",
          "text": [
            "marketplace\tcustomer_id\treview_id\tproduct_id\tproduct_parent\tproduct_title\tproduct_category\tstar_rating\thelpful_votes\ttotal_votes\tvine\tverified_purchase\treview_headline\treview_body\treview_date\n",
            "US\t12039526\tRTIS3L2M1F5SM\tB001CXYMFS\t737716809\tThrustmaster T-Flight Hotas X Flight Stick\tVideo Games\t5\t0\t0\tN\tY\tan amazing joystick. I especially love that you can twist ...\tUsed this for Elite Dangerous on my mac, an amazing joystick. I especially love that you can twist the stick for different movement bindings as well as move it in the normal way.\t2015-08-31\n",
            "US\t9636577\tR1ZV7R40OLHKD\tB00M920ND6\t569686175\tTonsee 6 buttons Wireless Optical Silent Gaming Mouse For PC Laptop Gamer Red\tVideo Games\t5\t0\t0\tN\tY\tDefinitely a silent mouse... Not a single click was heard\tLoved it,  I didn't even realise it was a gaming mouse,  I typed in &#34;silent mouse&#34; and selected this one. It is perfect and looks pretty cool as well. Now my boyfriend's gaming is wonderfully comfortably silent :) . Think I might just get one for myself.\t2015-08-31\n",
            "US\t2331478\tR3BH071QLH8QMC\tB0029CSOD2\t98937668\tHidden Mysteries: Titanic Secrets of the Fateful Voyage\tVideo Games\t1\t0\t1\tN\tY\tOne Star\tpoor quality work and not as it is advertised.\t2015-08-31\n",
            "US\t52495923\tR127K9NTSXA2YH\tB00GOOSV98\t23143350\tGelTabz Performance Thumb Grips - PlayStation 4 and PlayStation 3\tVideo Games\t3\t0\t0\tN\tY\tgood, but could be bettee\tnice, but tend to slip away from stick in intense (hard pressed) gaming sessions.\t2015-08-31\n"
          ],
          "name": "stdout"
        }
      ]
    },
    {
      "cell_type": "markdown",
      "metadata": {
        "id": "TuuCqYNkaFff"
      },
      "source": [
        "This is a TSV file. TSV is a format you'll soon get very acquainted with; while now it may appear pretty much unreadable, you'll be preying to encounter it when searching for datasets (way worse and unfathomable formats exist).\n",
        "\n",
        "Indeed, it's extremely easy to parse. Each line represents a data sample and information for this sample are reported into tab-separated columns. Often (i.e. when you are lucky as in this case), the first line is used to report what each column stands for."
      ]
    },
    {
      "cell_type": "markdown",
      "metadata": {
        "id": "Fn4w-4wWbdqa"
      },
      "source": [
        "Here, we are interested in **reviews** (column 14) and their corresponding **number of stars** (column 8); thus, columns 8 and 14 have all the information we need.\n",
        "\n",
        "Let's discard all the other columns and make the file more readable; we will stick with bash so that you get familiar with its usage (why don't you try to do the same with python? Meanwhile, if you don't know the meaning of *tail*, *cut* and *head*, check them out).\n",
        "\n"
      ]
    },
    {
      "cell_type": "code",
      "metadata": {
        "colab": {
          "base_uri": "https://localhost:8080/"
        },
        "id": "CgXW6M8zZEJn",
        "outputId": "69656988-4091-4616-c304-3689b2a99720"
      },
      "source": [
        "! tail +2 data/amazon-reviews.tsv | cut -f8,14 > data/dataset.raw.tsv \n",
        "! head -5 data/dataset.raw.tsv"
      ],
      "execution_count": null,
      "outputs": [
        {
          "output_type": "stream",
          "text": [
            "5\tUsed this for Elite Dangerous on my mac, an amazing joystick. I especially love that you can twist the stick for different movement bindings as well as move it in the normal way.\n",
            "5\tLoved it,  I didn't even realise it was a gaming mouse,  I typed in &#34;silent mouse&#34; and selected this one. It is perfect and looks pretty cool as well. Now my boyfriend's gaming is wonderfully comfortably silent :) . Think I might just get one for myself.\n",
            "1\tpoor quality work and not as it is advertised.\n",
            "3\tnice, but tend to slip away from stick in intense (hard pressed) gaming sessions.\n",
            "4\tGreat amiibo, great for collecting. Quality material to be desired, since its not perfect.\n"
          ],
          "name": "stdout"
        }
      ]
    },
    {
      "cell_type": "markdown",
      "metadata": {
        "id": "7piCIQaEcSP-"
      },
      "source": [
        "Finally, it's something humans can read! We can now formulate the goal of this Chapter more explicitly: given a review, we want to learn a function $f$ that predicts how many stars the reviewer originally gave.\n",
        "\n",
        "Thus, if we receive *poor quality work and not as it is advertised*, we want to predict $1$. Conversely, *Loved it,  I didn't even realise it was a gaming mouse...* is clearly a $5$!"
      ]
    },
    {
      "cell_type": "markdown",
      "metadata": {
        "id": "2zQSaLyicbSY"
      },
      "source": [
        "**!!! TIP !!!**\n",
        "\n",
        "Every time you get your hands on new data, before doing anything else, it's crucial that you investigate them a bit. You can extract useful insights from them that might help you later on.\n",
        "\n",
        "In this case, there's a natural question that arises. How are the stars distributed? Do we have as many $1$-s as $5$-s? Are $5$-s the most frequent scores? Or are they $3$-s? Let's check it out! "
      ]
    },
    {
      "cell_type": "code",
      "metadata": {
        "colab": {
          "base_uri": "https://localhost:8080/",
          "height": 281
        },
        "id": "b2BKER5_vtIn",
        "outputId": "21d66be8-70d4-4ada-df6a-40b74973a9a5"
      },
      "source": [
        "#@title\n",
        "\n",
        "def visualize_n_stars(dataset: str, title: str):\n",
        "    \n",
        "    star_counter = Counter()\n",
        "\n",
        "    with open(dataset) as f:\n",
        "        for line in f:\n",
        "            star = int(line.strip().split('\\t')[0])\n",
        "            star_counter[star] += 1\n",
        "\n",
        "    stars = sorted(star_counter)\n",
        "    values = [star_counter[star] for star in stars]\n",
        "\n",
        "    plt.bar(stars, values)\n",
        "    plt.title(title)\n",
        "    plt.show()\n",
        "\n",
        "visualize_n_stars('data/dataset.raw.tsv', 'Star distribution')"
      ],
      "execution_count": null,
      "outputs": [
        {
          "output_type": "display_data",
          "data": {
            "image/png": "[encoded data removed]",
            "text/plain": [
              "<Figure size 432x288 with 1 Axes>"
            ]
          },
          "metadata": {
            "tags": [],
            "needs_background": "light"
          }
        }
      ]
    },
    {
      "cell_type": "markdown",
      "metadata": {
        "id": "Tcrqxl1NeVzR"
      },
      "source": [
        "So, $5$-s are by far the most frequent scores!\n",
        "\n",
        "**Exercise.** Compute statistics for the words in the reviews and see which words are most frequent."
      ]
    },
    {
      "cell_type": "markdown",
      "metadata": {
        "id": "6TC1tn1MdAI4"
      },
      "source": [
        "## Simplification"
      ]
    },
    {
      "cell_type": "markdown",
      "metadata": {
        "id": "68Q26iixfNcd"
      },
      "source": [
        "As a matter of fact, this task is **extremely complex**, especially as we are restrained with the few tools presented so far. There are $2$ major obstacles:\n",
        "* This task is way more complex than a simple XOR function. Even if we did this task manually ourselves, we still woudn't achieve 100% accuracy!\n",
        "* How do we deal with text?\n",
        "\n",
        "In order to deal with both, we will simplify the task. In particular, starting from the official dataset, let's create a new one that is easier."
      ]
    },
    {
      "cell_type": "markdown",
      "metadata": {
        "id": "ipM26vksnw9A"
      },
      "source": [
        "How? Simple! Let's define the following set of markers:"
      ]
    },
    {
      "cell_type": "code",
      "metadata": {
        "id": "FFuDO2Ajojhg"
      },
      "source": [
        "positive_markers = {'fantastic', 'amazing', 'excellent', 'very good'}\n",
        "neutral_markers = {'adequate', 'fine but', 'good but', 'ok but'}\n",
        "negative_markers = {'returning', 'sucks', 'waste'}"
      ],
      "execution_count": null,
      "outputs": []
    },
    {
      "cell_type": "markdown",
      "metadata": {
        "id": "ghQqJghdomDn"
      },
      "source": [
        "We will discard all positive reviews ($4$ and $5$) that do not contain the above positive markers; we'll repeat the same for neutral and negative reviews.\n",
        "\n",
        "**More complex:** try to add some confusing markers to make the dataset harder."
      ]
    },
    {
      "cell_type": "code",
      "metadata": {
        "colab": {
          "base_uri": "https://localhost:8080/",
          "height": 96,
          "referenced_widgets": [
            "726b751fbbdd4a6ebe25f910987b5b4c",
            "24a481421af64602ae34df6b518933aa",
            "07fcec0cb45c4f45aafd5572dd1b5f4f",
            "1616b8873f8146e09fbf3311e924b7db",
            "ef9e2b93a51244ec84e63323691f0541",
            "aa1546ffd613437c9cdd30fba69fee95",
            "95fa7f977b37405bb6c9e0e0d781c22f",
            "9197f26dd3d34ad1842ff8eb49bbfc38"
          ]
        },
        "id": "Ziwl8FaO0j8Y",
        "outputId": "3d372913-640c-4648-fe30-6bff52807f4b"
      },
      "source": [
        "markers = positive_markers | neutral_markers | negative_markers\n",
        "assert len(markers) == len(positive_markers) + len(neutral_markers) + len(negative_markers)\n",
        "\n",
        "star2markers = {\n",
        "    1: negative_markers,\n",
        "    2: negative_markers,\n",
        "    3: neutral_markers,\n",
        "    4: positive_markers,\n",
        "    5: positive_markers\n",
        "}\n",
        "\n",
        "progress_bar = tqdm()\n",
        "star_writes = Counter()\n",
        "\n",
        "with open('data/dataset.raw.tsv') as fi, open('data/dataset.tsv', 'w') as fo:\n",
        "\n",
        "    for i, line in enumerate(fi):\n",
        "\n",
        "        try:\n",
        "\n",
        "            star, review = line.strip().lower().split('\\t')\n",
        "            star = int(star)\n",
        "\n",
        "            assert len(review) > 20 and len(review) < 100\n",
        "            assert any(m in review for m in star2markers[star])\n",
        "\n",
        "            star_writes[star] += 1\n",
        "            fo.write(f'{star}\\t{review}\\n')\n",
        "\n",
        "        except:\n",
        "            pass\n",
        "\n",
        "        progress_bar.update()\n",
        "        if i % 1_000 == 0:\n",
        "            # ** uses the dictionary as individual parameters with the key name and their value\n",
        "            progress_bar.set_postfix(**{str(k): v for k, v in star_writes.items()})\n",
        "\n",
        "progress_bar.close()"
      ],
      "execution_count": null,
      "outputs": [
        {
          "output_type": "display_data",
          "data": {
            "application/vnd.jupyter.widget-view+json": {
              "model_id": "726b751fbbdd4a6ebe25f910987b5b4c",
              "version_minor": 0,
              "version_major": 2
            },
            "text/plain": [
              "HBox(children=(FloatProgress(value=1.0, bar_style='info', max=1.0), HTML(value='')))"
            ]
          },
          "metadata": {
            "tags": []
          }
        },
        {
          "output_type": "stream",
          "text": [
            "\n"
          ],
          "name": "stdout"
        }
      ]
    },
    {
      "cell_type": "markdown",
      "metadata": {
        "id": "0bZwcGJRo_3w"
      },
      "source": [
        "We have now generated a dataset that:\n",
        "* is way smaller than the original one\n",
        "* has **clear patterns** that denote the expected number of stars\n",
        "\n",
        "Finally, let's split it into $2$ parts:\n",
        "* *train*, a large chunk of data that we'll use to train our NN\n",
        "* *test*, a smaller chunk that we'll use to report the results\n",
        "\n",
        "We'll talk more about this splitting strategy in the next Chapter. For the moment, suffice it to say that we can use *test* as a proxy of the generalization capability of our network since our NN is not trained upon its data."
      ]
    },
    {
      "cell_type": "code",
      "metadata": {
        "colab": {
          "base_uri": "https://localhost:8080/"
        },
        "id": "XKYWTPWDZ0gf",
        "outputId": "231cc2f7-df79-42c8-d3c0-45a1c9c864e6"
      },
      "source": [
        "! head -1000 data/dataset.tsv > data/test.tsv\n",
        "! tail +1001 data/dataset.tsv > data/train.tsv\n",
        "! wc -l data/test.tsv data/train.tsv"
      ],
      "execution_count": null,
      "outputs": [
        {
          "output_type": "stream",
          "text": [
            "   1000 data/test.tsv\n",
            "  17315 data/train.tsv\n",
            "  18315 total\n"
          ],
          "name": "stdout"
        }
      ]
    },
    {
      "cell_type": "markdown",
      "metadata": {
        "id": "a1OzHMxwp0aX"
      },
      "source": [
        "Always check the stats!"
      ]
    },
    {
      "cell_type": "code",
      "metadata": {
        "colab": {
          "base_uri": "https://localhost:8080/",
          "height": 545
        },
        "id": "nZayxrM_wdQm",
        "cellView": "form",
        "outputId": "c76d331e-9820-45a9-c44b-7926ca7d2e94"
      },
      "source": [
        "#@title\n",
        "\n",
        "visualize_n_stars('data/train.tsv', 'train')\n",
        "visualize_n_stars('data/test.tsv', 'test')"
      ],
      "execution_count": null,
      "outputs": [
        {
          "output_type": "display_data",
          "data": {
            "image/png": "[encoded data removed]",
            "text/plain": [
              "<Figure size 432x288 with 1 Axes>"
            ]
          },
          "metadata": {
            "tags": [],
            "needs_background": "light"
          }
        },
        {
          "output_type": "display_data",
          "data": {
            "image/png": "[encoded data removed]",
            "text/plain": [
              "<Figure size 432x288 with 1 Axes>"
            ]
          },
          "metadata": {
            "tags": [],
            "needs_background": "light"
          }
        }
      ]
    },
    {
      "cell_type": "markdown",
      "metadata": {
        "id": "MiI54uBnd6gB"
      },
      "source": [
        "# Feature Extraction"
      ]
    },
    {
      "cell_type": "markdown",
      "metadata": {
        "id": "f2LLtT1drw8K"
      },
      "source": [
        "So, how do we deal with text? As we have seen in the previous Chapter, a neural network is composed of matrices and its input and output are expected to be matrices as well.\n",
        "\n",
        "Thus, we need to somehow convert reviews into matrices. This process is called **feature extraction**. Let's start with something simple to get a general idea."
      ]
    },
    {
      "cell_type": "markdown",
      "metadata": {
        "id": "OhMuVkwCv9j-"
      },
      "source": [
        "Imagine we have two reviews:\n",
        "* *this game is a waste of money*, whose rating was a $1$\n",
        "* *truly amazing game!*, whose rating was a $5$\n",
        "\n",
        "Isn't it true that, if a review contains the word *waste*, then it's a $1$? And, similarly, if it contains the word *amazing*, then it's a $5$? Yes! Indeed, *amazing* and *waste* are effective markers that can be used to detect the orientation of a given review. This is exactly what a feature is!\n",
        "\n",
        "Let's exploit this to define a function $\\phi: r \\rightarrow \\mathbb{R}^{2}$, that is a function that takes as input a review $r$ and emits a 2d vector $x$, constructed as follows:\n",
        "* $x_0 = 1$ if *amazing* is present in $r$; else $x_0 = 0$\n",
        "* $x_1 = 1$ if *waste* is present in $r$; else $x_1 = 0$\n",
        "\n",
        "Thus:\n",
        "\n",
        "\\\\[ \\phi(\\text{this game is a waste of money}) = \\begin{bmatrix} 0.0, 1.0 \\end{bmatrix} \\\\]\n",
        "\\\\[ \\phi(\\text{truly amazing game}) = \\begin{bmatrix} 1.0, 0.0 \\end{bmatrix} \\\\]\n",
        "\n",
        "Leveraging $\\phi$, approximating our target function $f$ with a NN is now something we can do!\n",
        "\n",
        "**!!! NOTE !!!**\n",
        "\n",
        "Of course, there are obvious limitations to this approach; just imagine *I was hoping for an amazing game, instead this is terrible!*, which is clearly a $1$. \n",
        "Yet, regardless of its simplicity, the crucial point of this section is that you understand function $\\phi$ and its role in NN-s; once you grasp it, scaling to more heterogenous and realistic scenarios will be a matter of swapping the function $\\phi$. Bear with us!\n"
      ]
    },
    {
      "cell_type": "markdown",
      "metadata": {
        "id": "UTWeS46_fcOR"
      },
      "source": [
        "We have seen how we can build a function $\\phi$ from a list of markers; however, a further question naturally arises: what markers should we use?\n",
        "\n",
        "As it turns out, we know all the possible markers we are interested in! Indeed, with this very objective in mind, we built the simplified dataset by specifying a list of markers that had to be present in positive, neutral and negative reviews!\n",
        "\n",
        "Let's implement our real function $\\phi$.\n"
      ]
    },
    {
      "cell_type": "code",
      "metadata": {
        "id": "N83EJWaq6J8z"
      },
      "source": [
        "marker2idx = {marker: idx for idx, marker in enumerate(markers)}"
      ],
      "execution_count": null,
      "outputs": []
    },
    {
      "cell_type": "code",
      "metadata": {
        "id": "ZWwW9W3n57F3"
      },
      "source": [
        "def review2vector(review: str):\n",
        "    vector = torch.zeros(len(marker2idx), dtype=torch.float)\n",
        "    for marker, idx in marker2idx.items():\n",
        "        if marker in review:\n",
        "            vector[idx] = 1\n",
        "    return vector"
      ],
      "execution_count": null,
      "outputs": []
    },
    {
      "cell_type": "code",
      "metadata": {
        "colab": {
          "base_uri": "https://localhost:8080/"
        },
        "id": "wC_OsgrR6eF4",
        "outputId": "31c4554c-5a0e-456c-bf5b-371d7bbfb7d6"
      },
      "source": [
        "# 4 star review\n",
        "print(review2vector('very good product. excellent quality'))\n",
        "\n",
        "# 1 star review\n",
        "print(review2vector('It echoes so badly with my voice. Don\\'t waste your time. I\\'m heavily considering returning it.'))"
      ],
      "execution_count": null,
      "outputs": [
        {
          "output_type": "stream",
          "text": [
            "tensor([0., 0., 0., 0., 0., 0., 0., 1., 0., 1., 0.])\n",
            "tensor([1., 0., 0., 0., 0., 0., 0., 0., 0., 0., 1.])\n"
          ],
          "name": "stdout"
        }
      ]
    },
    {
      "cell_type": "markdown",
      "metadata": {
        "id": "0cw9J7p2lMde"
      },
      "source": [
        "Thus, we can now convert any review $r$ into a vector $v$ that can be fed to a neural network!"
      ]
    },
    {
      "cell_type": "markdown",
      "metadata": {
        "id": "0wd0p5AUla9g"
      },
      "source": [
        "# Training Procedure"
      ]
    },
    {
      "cell_type": "markdown",
      "metadata": {
        "id": "rLnjs2rao4LL"
      },
      "source": [
        "Now that we have both data and $\\phi$, let's get back to neural networks. We'll first zoom on a couple of details we glimpsed over in the previous chapter and then recast our problem in $3$ different ways, each using a different type of loss (and slightly different architecture)."
      ]
    },
    {
      "cell_type": "markdown",
      "metadata": {
        "id": "ZOVVhJWvvvmP"
      },
      "source": [
        "## More on PyTorch: Datasets and DataLoaders"
      ]
    },
    {
      "cell_type": "markdown",
      "metadata": {
        "id": "4Nm07mCSzCXc"
      },
      "source": [
        "In the previous Chapter, we mentioned how neural networks' training is commonly performed over batches, rather than samples; this is motivated by both mathematical and efficiency reasons. However, we wanted to keep things simple and did not present how this is actually done in PyTorch. As it turns out, it's actually very easy.\n",
        "\n",
        "Virtually the entirety of PyTorch data handling builds upon $2$ concepts:\n",
        "* *Dataset*\n",
        "* *DataLoader*\n",
        "\n",
        "A *Dataset* is a simple abstraction that represents a collection of samples which can be emitted in tensor form. In its simplest version (*map-style*), it's a class that implements the \\_\\_getitem\\_\\_() and \\_\\_len\\_\\_() methods; in our case; a Dataset is something we can access with the $dataset[idx]$ syntax, which will yield the $idx$-th review, along with the associated number of stars, both of them in tensor form.\n",
        "\n",
        "Let's implement the PyTorch Dataset for our task.\n"
      ]
    },
    {
      "cell_type": "code",
      "metadata": {
        "id": "nlTcWvBQ73Nw"
      },
      "source": [
        "class ReviewDataset(Dataset):\n",
        "\n",
        "    def __init__(self, dataset_path: str, feature_extraction_function: Callable[[str], torch.tensor]):\n",
        "        # standard constructor\n",
        "        self.dataset_path = dataset_path\n",
        "        self.feature_extraction_function = feature_extraction_function\n",
        "        # call to init the data\n",
        "        self._init_data()\n",
        "\n",
        "    def _init_data(self):\n",
        "        # iterate on the given file and build samples\n",
        "        self.samples = []\n",
        "        with open(self.dataset_path) as f:\n",
        "            for line in f:\n",
        "                star, review = line.strip().split('\\t')\n",
        "                # use the feature extraction function to convert reviews into tensors\n",
        "                self.samples.append((self.feature_extraction_function(review), torch.tensor(int(star))))\n",
        "                \n",
        "    def __len__(self):\n",
        "        # returns the number of samples in our dataset\n",
        "      return len(self.samples)\n",
        "\n",
        "    def __getitem__(self, idx):\n",
        "        # returns the idx-th sample\n",
        "        return self.samples[idx]"
      ],
      "execution_count": null,
      "outputs": []
    },
    {
      "cell_type": "markdown",
      "metadata": {
        "id": "l83_qZueC75k"
      },
      "source": [
        "Ok, now that we defined the class, we can actually read the *train* and *test* dataset."
      ]
    },
    {
      "cell_type": "code",
      "metadata": {
        "id": "rjEZuqVz9FBj",
        "colab": {
          "base_uri": "https://localhost:8080/"
        },
        "outputId": "7d1e7074-9c35-4b99-a904-c08762b6637c"
      },
      "source": [
        "train_dataset = ReviewDataset('data/train.tsv', review2vector)\n",
        "test_dataset = ReviewDataset('data/test.tsv', review2vector)\n",
        "\n",
        "# what's inside a sample?\n",
        "train_dataset[0]"
      ],
      "execution_count": null,
      "outputs": [
        {
          "output_type": "execute_result",
          "data": {
            "text/plain": [
              "(tensor([0., 0., 0., 0., 0., 0., 0., 1., 0., 0., 0.]), tensor(5))"
            ]
          },
          "metadata": {
            "tags": []
          },
          "execution_count": 31
        }
      ]
    },
    {
      "cell_type": "markdown",
      "metadata": {
        "id": "1GF4tZCpDBsz"
      },
      "source": [
        "On the other hand, a *DataLoader* is the component that bridges the gap between samples and batches. We will see that, as the problems and the approximating $f$-s we consider become more convoluted, a *DataLoader* is a powerful component that takes care of quite a few nuisances.\n",
        "\n",
        "It is quite easy to build DataLoader-s from Dataset-s. We'll use $32$ as the batch size, meaning the batches will be composed of $32$ samples."
      ]
    },
    {
      "cell_type": "code",
      "metadata": {
        "id": "_bC7UB6N9ZNs",
        "colab": {
          "base_uri": "https://localhost:8080/"
        },
        "outputId": "37868a43-a376-42f5-a095-8462e1070d33"
      },
      "source": [
        "train_dataloader = DataLoader(train_dataset, batch_size=32)\n",
        "test_dataloader = DataLoader(test_dataset, batch_size=32)\n",
        "\n",
        "for batch in train_dataloader:\n",
        "    # the type of batch is: Tuple[torch.Tensor, torch.Tensor]\n",
        "    batch_x, batch_y = batch\n",
        "    print(f'# batch len: {len(batch_x)}')\n",
        "    print(f'# batch x: \\n{batch_x}')\n",
        "    print(f'# batch y: \\n{batch_y}')\n",
        "    break"
      ],
      "execution_count": null,
      "outputs": [
        {
          "output_type": "stream",
          "text": [
            "# batch len: 32\n",
            "# batch x: \n",
            "tensor([[0., 0., 0., 0., 0., 0., 0., 1., 0., 0., 0.],\n",
            "        [0., 0., 0., 0., 0., 0., 0., 0., 0., 1., 0.],\n",
            "        [0., 0., 1., 0., 0., 0., 0., 0., 0., 0., 0.],\n",
            "        [0., 0., 0., 0., 0., 0., 0., 1., 0., 0., 0.],\n",
            "        [0., 0., 1., 0., 0., 0., 0., 0., 0., 0., 0.],\n",
            "        [0., 0., 0., 0., 0., 0., 0., 0., 0., 1., 0.],\n",
            "        [0., 0., 1., 0., 0., 0., 0., 0., 0., 0., 0.],\n",
            "        [0., 0., 0., 0., 0., 0., 0., 0., 0., 1., 0.],\n",
            "        [0., 0., 0., 0., 0., 0., 0., 1., 0., 0., 0.],\n",
            "        [0., 0., 0., 0., 0., 0., 0., 0., 0., 1., 0.],\n",
            "        [0., 0., 0., 0., 0., 0., 0., 1., 0., 0., 0.],\n",
            "        [1., 0., 0., 0., 0., 0., 0., 0., 0., 0., 0.],\n",
            "        [1., 0., 0., 0., 0., 0., 0., 0., 0., 0., 0.],\n",
            "        [0., 0., 1., 0., 0., 0., 0., 0., 0., 0., 0.],\n",
            "        [0., 0., 0., 0., 0., 0., 0., 1., 0., 0., 0.],\n",
            "        [0., 0., 0., 0., 0., 1., 0., 0., 0., 0., 0.],\n",
            "        [0., 0., 0., 0., 0., 0., 0., 1., 0., 0., 0.],\n",
            "        [0., 0., 0., 0., 0., 0., 0., 1., 0., 0., 0.],\n",
            "        [0., 0., 1., 0., 0., 0., 0., 0., 0., 0., 0.],\n",
            "        [0., 0., 0., 0., 0., 0., 0., 1., 0., 0., 0.],\n",
            "        [1., 0., 0., 0., 0., 0., 0., 0., 0., 0., 0.],\n",
            "        [0., 0., 1., 0., 0., 0., 0., 0., 0., 0., 0.],\n",
            "        [0., 0., 0., 0., 0., 0., 0., 1., 0., 0., 0.],\n",
            "        [0., 0., 0., 0., 0., 0., 0., 1., 0., 0., 0.],\n",
            "        [0., 0., 0., 0., 0., 0., 0., 0., 0., 1., 0.],\n",
            "        [0., 0., 1., 0., 0., 0., 0., 0., 0., 0., 0.],\n",
            "        [1., 0., 0., 0., 0., 0., 0., 0., 0., 0., 0.],\n",
            "        [0., 0., 1., 0., 0., 0., 0., 0., 0., 0., 0.],\n",
            "        [0., 0., 0., 0., 0., 0., 0., 1., 0., 0., 0.],\n",
            "        [0., 0., 0., 0., 0., 0., 0., 1., 0., 0., 0.],\n",
            "        [0., 0., 0., 0., 0., 0., 0., 0., 0., 1., 0.],\n",
            "        [0., 0., 0., 0., 0., 0., 0., 1., 0., 0., 0.]])\n",
            "# batch y: \n",
            "tensor([5, 5, 5, 5, 5, 5, 5, 5, 5, 5, 5, 1, 1, 5, 5, 3, 5, 5, 5, 5, 1, 5, 5, 5,\n",
            "        5, 5, 1, 5, 5, 5, 5, 5])\n"
          ],
          "name": "stdout"
        }
      ]
    },
    {
      "cell_type": "markdown",
      "metadata": {
        "id": "k-ANFd4pEu97"
      },
      "source": [
        "As we can see, while ReviewDataset reads a list of pairs $(x, y)$, with $x$ being the review and $y$ the score, we can use the dataloader to seamlessly batch them."
      ]
    },
    {
      "cell_type": "markdown",
      "metadata": {
        "id": "0pJ8KIBkoM1S"
      },
      "source": [
        "## 3 Losses"
      ]
    },
    {
      "cell_type": "markdown",
      "metadata": {
        "id": "_2sU4I1mFBBw"
      },
      "source": [
        "Up to this point, we have only shown the MSE loss. This loss is perfect in regression problems (i.e. $f(x)=2x$). However, when dealing with **classification tasks**, such as determining whether a given image contains a dog, a cat or a bird, MSE is not appropriate for a number of mathematical reasons we won't delve in; rather, losses such as the cross-entropy loss are used.\n",
        "\n",
        "Our star-prediction problem can be treated both as a regression and classification task; indeed, we can frame it either as the prediction of a *float* in the $[1, 5]$ range, whose output we round at postprocessing, or as the selection of the best class $c \\in \\{1, 2, 3, 4, 5\\}$ for the considered review.\n",
        "\n",
        " We'll first consider the former configuration, as we are already familiar with it and its MSE loss. Then, we'll consider $2$ different classification variants."
      ]
    },
    {
      "cell_type": "markdown",
      "metadata": {
        "id": "5-6-rn_0PCxs"
      },
      "source": [
        "Let's first define a training loop function so that we can avoid to re-implementing it every time. We will also pass an *adapt* hook that takes as input the batched $x$ and $y$ and adapts to them the variant being considered; it'll become clear later the purpose of this function."
      ]
    },
    {
      "cell_type": "code",
      "metadata": {
        "id": "YPIYd9X2PW49"
      },
      "source": [
        "def training_loop(model: nn.Module, optimizer: torch.optim.Optimizer,  adapt: Callable[[torch.Tensor, torch.Tensor], Tuple[torch.Tensor, torch.Tensor]], epochs: int = 5):\n",
        "\n",
        "    for epoch in range(epochs):\n",
        "\n",
        "        progress_bar = tqdm()\n",
        "\n",
        "        # batches of the training set\n",
        "        for x, y in train_dataloader:\n",
        "\n",
        "            x, y = adapt(x, y)\n",
        "\n",
        "            optimizer.zero_grad()\n",
        "            batch_out = model(x, y)\n",
        "            loss = batch_out['loss']\n",
        "\n",
        "            # computes the gradient of the loss\n",
        "            loss.backward()\n",
        "            # updates parameters based on the gradient information\n",
        "            optimizer.step()\n",
        "\n",
        "            progress_bar.update()\n",
        "            progress_bar.set_postfix(epoch=epoch, loss=loss.item())\n",
        "        \n",
        "        progress_bar.close()"
      ],
      "execution_count": null,
      "outputs": []
    },
    {
      "cell_type": "markdown",
      "metadata": {
        "id": "QzaTVNukdPot"
      },
      "source": [
        "### Predict the Number of Stars: MSE"
      ]
    },
    {
      "cell_type": "markdown",
      "metadata": {
        "id": "hkib9WWLOYcD"
      },
      "source": [
        "**Problem**: given a review $r$, emit a real number in $[1, 5]$ that denotes the number of stars the user originally gave to $r$. As this number is an integer, we'll have to round the output of the NN."
      ]
    },
    {
      "cell_type": "markdown",
      "metadata": {
        "id": "OSAXQLwmP6Li"
      },
      "source": [
        "Let's first define our NN module. There is nothing fancy about it, it's a simple 2-layered feed-forward network with a RELU activation in the middle.\n",
        "\n",
        "The only noteworthy point is the fact that the forward method returns a dictionary. This is quite common in several NN frameworks as it allows to return multiple values with an easily-accessible syntax (like *loss* and *pred* in this case)."
      ]
    },
    {
      "cell_type": "code",
      "metadata": {
        "id": "UkKXPoS4cOEo"
      },
      "source": [
        "class Classifier(torch.nn.Module):\n",
        "\n",
        "    def __init__(self, n_features: int, n_hidden: int):\n",
        "        super().__init__()\n",
        "        self.lin1 = torch.nn.Linear(n_features, n_hidden)\n",
        "        self.lin2 = torch.nn.Linear(n_hidden, 1)\n",
        "        self.loss_fn = torch.nn.MSELoss()\n",
        "\n",
        "    def forward(self, x: torch.Tensor, y: Optional[torch.Tensor] = None) -> Dict[str, torch.Tensor]:\n",
        "        \n",
        "        # actual forward\n",
        "        out = self.lin1(x)\n",
        "        out = torch.relu(out)\n",
        "        out = self.lin2(out).squeeze(1)\n",
        "\n",
        "        result = {'pred': out}\n",
        "\n",
        "        # compute loss\n",
        "        if y is not None:\n",
        "            loss = self.loss(out, y)\n",
        "            result['loss'] = loss\n",
        "\n",
        "        return result\n",
        "\n",
        "    def loss(self, pred, y):\n",
        "        return self.loss_fn(pred, y)\n"
      ],
      "execution_count": null,
      "outputs": []
    },
    {
      "cell_type": "code",
      "metadata": {
        "colab": {
          "base_uri": "https://localhost:8080/",
          "height": 382,
          "referenced_widgets": [
            "158a3054e3d04a11afd66c55bfcc9705",
            "c43c22925aee44cc8ddb91dfdb28f186",
            "519ed9171eb04aa8aa644d7c10a0e799",
            "e46034e657294ef6a59d331692082ee9",
            "14d182eb45774d96a55edbbcc654e34f",
            "64ab0e4b69b24f86b89b235bd1d1b997",
            "6c09841019764a28b6d08eaa8d1ada7a",
            "0875150b6dc54aa7b4cfd191e7c8a483",
            "d237492e06994cc1b0e714ce3fa7352c",
            "71987e8b0759451d82e6eec6dc8a70c5",
            "0ff0d4f06f5e4c4296d84fef3fd0a03a",
            "d2981879a1504fafbac5d4033c9b9890",
            "0eb01dc047d04a2c84a19da534529b35",
            "488267de8d0d4aa488febf68e22e7cd4",
            "58a64c660d6544239ee25a1e3bb57af6",
            "54e68431e01d4c719ff33a7403a5ff1b",
            "ffd57493bea549dd97963d5fcd61684a",
            "4c87df3abab7455d80c3e56d252d1bc0",
            "35e6f6a90c5c4429b28d8913bab8236e",
            "e5308107eb93426281d7e18b14999407",
            "e8623da796df4296b768648a96424657",
            "c7645e1b4ad641ea938af89775f94ff9",
            "39022698ad864e93a249e5cc5c3e612f",
            "65ab1ddcda6b4e078a36893590720db1",
            "0a3ac7e54e51454dbfad9d0c83fd751d",
            "bc4ff608ab3641e3b83e49c7baea6e00",
            "d5505559ecdf44df9a322d2ef2a8263f",
            "6b091435cc3a465291fd2e50d7fe73b8",
            "3a3045fd92ab46ca9c5451a0303b696f",
            "d0808ff605e443a6ab36c9e6deb8059b",
            "a232bbfcea674644a758909c14971a50",
            "afc47b35614c4fbf867199a001fd9dfd",
            "2586010144934440926e7b8d037b42d4",
            "cde6aeedd3f84f1f8316a82fc84faa87",
            "f7c3aa04c1bb4d35909193cb44817333",
            "30c19df4bd2144908f6e6844650c0d42",
            "4df16b1ac36f486983e62f10b8abe7e5",
            "cca9019f40d54c75ba05b379b73d4621",
            "8cea3cbb4b804f468109dc1afa8e1656",
            "d39e88e1326c4cf4850604dca8309f40"
          ]
        },
        "id": "cEBQeC199ojj",
        "outputId": "dc58b2a1-322c-4770-d43c-f8b53194919d"
      },
      "source": [
        "model = Classifier(len(marker2idx), 10)\n",
        "optimizer = torch.optim.SGD(model.parameters(), lr=0.1, momentum=0.0)\n",
        "\n",
        "training_loop(model, optimizer, adapt=lambda x, y : (x, y.float()))"
      ],
      "execution_count": null,
      "outputs": [
        {
          "output_type": "display_data",
          "data": {
            "application/vnd.jupyter.widget-view+json": {
              "model_id": "158a3054e3d04a11afd66c55bfcc9705",
              "version_minor": 0,
              "version_major": 2
            },
            "text/plain": [
              "HBox(children=(FloatProgress(value=1.0, bar_style='info', max=1.0), HTML(value='')))"
            ]
          },
          "metadata": {
            "tags": []
          }
        },
        {
          "output_type": "stream",
          "text": [
            "\n"
          ],
          "name": "stdout"
        },
        {
          "output_type": "display_data",
          "data": {
            "application/vnd.jupyter.widget-view+json": {
              "model_id": "d237492e06994cc1b0e714ce3fa7352c",
              "version_minor": 0,
              "version_major": 2
            },
            "text/plain": [
              "HBox(children=(FloatProgress(value=1.0, bar_style='info', max=1.0), HTML(value='')))"
            ]
          },
          "metadata": {
            "tags": []
          }
        },
        {
          "output_type": "stream",
          "text": [
            "\n"
          ],
          "name": "stdout"
        },
        {
          "output_type": "display_data",
          "data": {
            "application/vnd.jupyter.widget-view+json": {
              "model_id": "ffd57493bea549dd97963d5fcd61684a",
              "version_minor": 0,
              "version_major": 2
            },
            "text/plain": [
              "HBox(children=(FloatProgress(value=1.0, bar_style='info', max=1.0), HTML(value='')))"
            ]
          },
          "metadata": {
            "tags": []
          }
        },
        {
          "output_type": "stream",
          "text": [
            "\n"
          ],
          "name": "stdout"
        },
        {
          "output_type": "display_data",
          "data": {
            "application/vnd.jupyter.widget-view+json": {
              "model_id": "0a3ac7e54e51454dbfad9d0c83fd751d",
              "version_minor": 0,
              "version_major": 2
            },
            "text/plain": [
              "HBox(children=(FloatProgress(value=1.0, bar_style='info', max=1.0), HTML(value='')))"
            ]
          },
          "metadata": {
            "tags": []
          }
        },
        {
          "output_type": "stream",
          "text": [
            "\n"
          ],
          "name": "stdout"
        },
        {
          "output_type": "display_data",
          "data": {
            "application/vnd.jupyter.widget-view+json": {
              "model_id": "2586010144934440926e7b8d037b42d4",
              "version_minor": 0,
              "version_major": 2
            },
            "text/plain": [
              "HBox(children=(FloatProgress(value=1.0, bar_style='info', max=1.0), HTML(value='')))"
            ]
          },
          "metadata": {
            "tags": []
          }
        },
        {
          "output_type": "stream",
          "text": [
            "\n"
          ],
          "name": "stdout"
        }
      ]
    },
    {
      "cell_type": "markdown",
      "metadata": {
        "id": "NiGjcErqRAwL"
      },
      "source": [
        "Let's check a couple of predictions."
      ]
    },
    {
      "cell_type": "code",
      "metadata": {
        "colab": {
          "base_uri": "https://localhost:8080/"
        },
        "id": "ySabev7AJyfW",
        "outputId": "b760126d-1da1-4389-9de0-a0cd2ab230bb"
      },
      "source": [
        "def predict(review: str):\n",
        "\n",
        "    # we need to vectorize the review\n",
        "    x = review2vector(review)\n",
        "\n",
        "    # our nn expects a batched input\n",
        "    # even if we have a single sample, we have to mock this structure converting a (11)-shape vector into (1, 11)-shape one\n",
        "    batched_x = x.unsqueeze(0)\n",
        "\n",
        "    # actual forward\n",
        "    batch_out = model(batched_x)\n",
        "\n",
        "    # return\n",
        "    return batch_out['pred'][0].item()\n",
        "\n",
        "def predict_and_print(review: str, stars: int):\n",
        "    print(f'=' * 125)\n",
        "    print(f'# review: {review}')\n",
        "    print(f'# gold stars: {stars}')\n",
        "    score = predict(review)\n",
        "    print(f'# predicted score: {score} -> {round(score)}')\n",
        "    print(f'=' * 125)\n",
        "\n",
        "\n",
        "# 4 star review\n",
        "predict_and_print('very good product. excellent quality', 4)\n",
        "\n",
        "# 1 star review\n",
        "predict_and_print('It echoes so badly with my voice. Don\\'t waste your time. I\\'m heavily considering returning it.', 1)"
      ],
      "execution_count": null,
      "outputs": [
        {
          "output_type": "stream",
          "text": [
            "=============================================================================================================================\n",
            "# review: very good product. excellent quality\n",
            "# gold stars: 4\n",
            "# predicted score: 5.153274059295654 -> 5\n",
            "=============================================================================================================================\n",
            "=============================================================================================================================\n",
            "# review: It echoes so badly with my voice. Don't waste your time. I'm heavily considering returning it.\n",
            "# gold stars: 1\n",
            "# predicted score: 0.49269747734069824 -> 0\n",
            "=============================================================================================================================\n"
          ],
          "name": "stdout"
        }
      ]
    },
    {
      "cell_type": "markdown",
      "metadata": {
        "id": "7TtHcTfuTP4E"
      },
      "source": [
        "Ok so it seems the network should be working. Let's evaluate its performance on the test set."
      ]
    },
    {
      "cell_type": "code",
      "metadata": {
        "colab": {
          "base_uri": "https://localhost:8080/"
        },
        "id": "HR6qGrZqKXnq",
        "outputId": "533a6cd1-beec-4693-fec4-f14aeb0c2ea0"
      },
      "source": [
        "n = 0\n",
        "d = 0\n",
        "\n",
        "# for each batch in the test set\n",
        "for x, y in test_dataloader:\n",
        "        \n",
        "        with torch.no_grad():\n",
        "            # classify the batch\n",
        "            batch_out = model(x)\n",
        "            pred = batch_out['pred']\n",
        "\n",
        "        pred = torch.round(pred)\n",
        "        # number of predictions (corresponding to number of batch items to predict)\n",
        "        d += pred.shape[0]\n",
        "        # number of correct classifications within the batch\n",
        "        n += (y == pred).int().sum()\n",
        "\n",
        "print(f'# accuracy: {(n / d).item():.2f}')"
      ],
      "execution_count": null,
      "outputs": [
        {
          "output_type": "stream",
          "text": [
            "# accuracy: 0.92\n"
          ],
          "name": "stdout"
        }
      ]
    },
    {
      "cell_type": "markdown",
      "metadata": {
        "id": "1QYZJev1Tctw"
      },
      "source": [
        "Not bad!"
      ]
    },
    {
      "cell_type": "markdown",
      "metadata": {
        "id": "Dt3crB78dUq4"
      },
      "source": [
        "# Binary Cross-Entropy"
      ]
    },
    {
      "cell_type": "markdown",
      "metadata": {
        "id": "hS3wG_9YTurR"
      },
      "source": [
        "**Problem**: given a review $r$, classify whether it is positive or negative. We are no longer interested in the number of stars, we just want to know if it is positive or negative.\n",
        "\n",
        "To convert our dataset into this format, we'll say that any review with a number of stars $> 2.5$ is positive, otherwise it is negative.\n",
        "\n",
        "This is a **classification problem**. Given a review $r$, we want to determine the value $y \\in \\{0, 1\\}$, with $0$ denoting a negative review and $1$ a positive one.\n"
      ]
    },
    {
      "cell_type": "markdown",
      "metadata": {
        "id": "8d_UmOT6_jDg"
      },
      "source": [
        "As we were mentioning before, MSE is not adequate for a number of mathematical reasons (try searching them!). Rather, for binary classification, binary cross-entropy is the loss most commonly used:\n",
        "\n",
        "\\\\[ \\mathcal{L}_{BCE} = - \\frac{1}{|y|}\\sum_{i=1}^{|y|} y_i log(p(y_i)) + (1 - y_i) log (1 - p(y_i)) \\\\]\n",
        "\n",
        "While the theory behind this formula goes beyond the scope of this course, the general intuition is quite easy: it will return high values for bad predictions and low values for good ones. Casting it to our reviews' scenario, if $y=1$, BCE will encourage a high $p(y_i = 1)$ value and low $p(y_i = 0)$ one; conversely, if $y=0$, BCE will encourage the opposite behavior."
      ]
    },
    {
      "cell_type": "markdown",
      "metadata": {
        "id": "8g5v0JLaotep"
      },
      "source": [
        "However, BCE requires one significant change to our architecture. The above formula requires our NN to **emit a probability**; that is, the final layer of the NN must emit a probability $p(y_i) \\in [0, 1]$. Yet, currently the final layer emits a number in $[-\\infty, \\infty]$; how can we transform it into a probability?\n",
        "\n",
        "Enter the **sigmoid** function!\n",
        "\n",
        "\\\\[ \\sigma(x) = \\frac{1}{1 + e^{-x}} \\\\]\n",
        "\n",
        "Plotting it:"
      ]
    },
    {
      "cell_type": "code",
      "metadata": {
        "colab": {
          "base_uri": "https://localhost:8080/",
          "height": 281
        },
        "cellView": "form",
        "id": "-JT3o9r5qVBx",
        "outputId": "7b49226b-dc0c-422b-aa3c-f7c65a256f1f"
      },
      "source": [
        "#@title\n",
        "\n",
        "k = 15\n",
        "\n",
        "x = np.array(list(range(-k, k + 1)))\n",
        "y = 1 / (1 + np.e ** (-x))\n",
        "\n",
        "plt.plot(x, y)\n",
        "plt.xlim(-k, k)\n",
        "plt.ylim(0, 1)\n",
        "plt.title('Sigmoid')\n",
        "plt.show()"
      ],
      "execution_count": null,
      "outputs": [
        {
          "output_type": "display_data",
          "data": {
            "image/png": "[encoded data removed]",
            "text/plain": [
              "<Figure size 432x288 with 1 Axes>"
            ]
          },
          "metadata": {
            "tags": [],
            "needs_background": "light"
          }
        }
      ]
    },
    {
      "cell_type": "markdown",
      "metadata": {
        "id": "vstLPhO1rGyv"
      },
      "source": [
        "That is, sigmoid is an activation function that can map any real number into the $[0, 1]$ range, thus effectively converting it into a probability.\n",
        "\n",
        "In order to apply BCE, we need to apply a sigmoid function to the output of the last layer. The resulting value, now a probability, will be the input to our loss function."
      ]
    },
    {
      "cell_type": "markdown",
      "metadata": {
        "id": "BgbroHYZoirp"
      },
      "source": [
        "Let's get back to coding."
      ]
    },
    {
      "cell_type": "code",
      "metadata": {
        "id": "G-XDMUHQPlJD"
      },
      "source": [
        "class Classifier(torch.nn.Module):\n",
        "\n",
        "    def __init__(self, n_features: int, n_hidden: int):\n",
        "        super().__init__()\n",
        "        self.lin1 = torch.nn.Linear(n_features, n_hidden)\n",
        "        self.lin2 = torch.nn.Linear(n_hidden, 1)\n",
        "        # the loss_fn has now become the BCELoss\n",
        "        self.loss_fn = torch.nn.BCELoss()\n",
        "\n",
        "    def forward(self, x: torch.Tensor, y: Optional[torch.Tensor] = None) -> Dict[str, torch.Tensor]:\n",
        "        \n",
        "        # actual forward\n",
        "        out = self.lin1(x)\n",
        "        out = torch.relu(out)\n",
        "        out = self.lin2(out).squeeze(1)\n",
        "        # we need to apply a sigmoid activation function\n",
        "        out = torch.sigmoid(out)\n",
        "\n",
        "        result = {'pred': out}\n",
        "\n",
        "        # compute loss\n",
        "        if y is not None:\n",
        "            loss = self.loss(out, y)\n",
        "            result['loss'] = loss\n",
        "\n",
        "        return result\n",
        "\n",
        "    def loss(self, pred, y):\n",
        "        return self.loss_fn(pred, y)\n"
      ],
      "execution_count": null,
      "outputs": []
    },
    {
      "cell_type": "code",
      "metadata": {
        "colab": {
          "base_uri": "https://localhost:8080/",
          "height": 354,
          "referenced_widgets": [
            "acaba8cf315444aaa4cd3950f0bd02ec",
            "ffbf8b6f34ae41f09d1b13b88a51c8ba",
            "be6e166ccdf14005ac2d6ff58818e8ca",
            "c755e8af40954636a94611332f2b0092",
            "971dd3ab37e54ce7b1130141dbdd8768",
            "ee2499703257425381f253581d0ad9c2",
            "4d564f412a3847178391e2056d7dfedb",
            "f532eb59194c4fdbb9bc1749d1f5d50e",
            "b35fba183dad4a828d24e193cf0a65fc",
            "4ad1f09963434c6d849f43593a9bcf91",
            "7f1fc07135b5462292acbe885b9000cb",
            "eb90701ab9f94d8ca72c6b03f81a83a5",
            "713b01c05d744be19d6e8ff3f535956b",
            "4ffb761f7c8447098b179c48a0d2d0f1",
            "d9590cf1642a4534ac1ee5172769b065",
            "b7c13df6566442d089c91f88a3d4e081",
            "7ebb6b151ec24c9281bc054ad014efb6",
            "7f77c2b52fc842babafa11799b37b0b1",
            "51b3991fc35f44d7acd625adefdab72a",
            "3781cfc9ac2a478680e40f6cf9735b82",
            "b291c4ce75704d62a504a2d029b559f0",
            "372db9a8786e49eaac6ffe50bcf8232b",
            "7c2200f80277430d93e61652025af970",
            "de14b83815ec4d1fb34793ff65c7e12b",
            "6380a5cb60f44ee486a75c53f6474037",
            "e8203b29c906488eb681da12d282c39b",
            "19c8dacab21048d3a5b1200d606e6082",
            "3cf49f556fce470da70f8f770156accd",
            "ffc132c3b437461091cfd4f30fcd12d6",
            "323185ac3e3e4fa18a7727498ab5cb3b",
            "08dcd1d856434d7bb56bad15951fd39a",
            "719d526e88294ce88116017e003be510",
            "47cd0a45ad584ce795cfab3c76cc3221",
            "d12458485e0a4a36b904bd17ec0b29eb",
            "064300f85c554bf996649948e1b00828",
            "7e5e1a1a8e984f25a9db45d3b71d04b2",
            "e688173ccb344f4293072503678bfe21",
            "95b8cab8a39c4926a62f6ae04217201d",
            "c45251761233411a8d35987afbc99095",
            "a1e64345bf4944739d20032087b99524"
          ]
        },
        "id": "Oj6AEevmdV8F",
        "outputId": "320da0b4-b2de-4cc0-e257-076234fb4489"
      },
      "source": [
        "model = Classifier(len(marker2idx), 10)\n",
        "optimizer = torch.optim.SGD(model.parameters(), lr=0.1, momentum=0.0)\n",
        "\n",
        "# (y > 2.5).float()\n",
        "# we convert y into boolean values\n",
        "# this is required to support the formulation we are considering in this section\n",
        "# (if it's greater than 2.5, then we are dealing with a positive review, otherwise it's negative)\n",
        "# BCE expects a probability as its gold, which is mathematically represented by a float, hence the .float operation\n",
        "training_loop(model, optimizer, adapt=lambda x, y : (x, (y > 2.5).float()))"
      ],
      "execution_count": null,
      "outputs": [
        {
          "output_type": "display_data",
          "data": {
            "application/vnd.jupyter.widget-view+json": {
              "model_id": "acaba8cf315444aaa4cd3950f0bd02ec",
              "version_minor": 0,
              "version_major": 2
            },
            "text/plain": [
              "HBox(children=(FloatProgress(value=1.0, bar_style='info', max=1.0), HTML(value='')))"
            ]
          },
          "metadata": {
            "tags": []
          }
        },
        {
          "output_type": "stream",
          "text": [
            "\n"
          ],
          "name": "stdout"
        },
        {
          "output_type": "display_data",
          "data": {
            "application/vnd.jupyter.widget-view+json": {
              "model_id": "b35fba183dad4a828d24e193cf0a65fc",
              "version_minor": 0,
              "version_major": 2
            },
            "text/plain": [
              "HBox(children=(FloatProgress(value=1.0, bar_style='info', max=1.0), HTML(value='')))"
            ]
          },
          "metadata": {
            "tags": []
          }
        },
        {
          "output_type": "stream",
          "text": [
            "\n"
          ],
          "name": "stdout"
        },
        {
          "output_type": "display_data",
          "data": {
            "application/vnd.jupyter.widget-view+json": {
              "model_id": "7ebb6b151ec24c9281bc054ad014efb6",
              "version_minor": 0,
              "version_major": 2
            },
            "text/plain": [
              "HBox(children=(FloatProgress(value=1.0, bar_style='info', max=1.0), HTML(value='')))"
            ]
          },
          "metadata": {
            "tags": []
          }
        },
        {
          "output_type": "stream",
          "text": [
            "\n"
          ],
          "name": "stdout"
        },
        {
          "output_type": "display_data",
          "data": {
            "application/vnd.jupyter.widget-view+json": {
              "model_id": "6380a5cb60f44ee486a75c53f6474037",
              "version_minor": 0,
              "version_major": 2
            },
            "text/plain": [
              "HBox(children=(FloatProgress(value=1.0, bar_style='info', max=1.0), HTML(value='')))"
            ]
          },
          "metadata": {
            "tags": []
          }
        },
        {
          "output_type": "stream",
          "text": [
            "\n"
          ],
          "name": "stdout"
        },
        {
          "output_type": "display_data",
          "data": {
            "application/vnd.jupyter.widget-view+json": {
              "model_id": "47cd0a45ad584ce795cfab3c76cc3221",
              "version_minor": 0,
              "version_major": 2
            },
            "text/plain": [
              "HBox(children=(FloatProgress(value=1.0, bar_style='info', max=1.0), HTML(value='')))"
            ]
          },
          "metadata": {
            "tags": []
          }
        },
        {
          "output_type": "stream",
          "text": [
            "\n"
          ],
          "name": "stdout"
        }
      ]
    },
    {
      "cell_type": "code",
      "metadata": {
        "colab": {
          "base_uri": "https://localhost:8080/"
        },
        "id": "UCBuLN3TO7Zk",
        "outputId": "e95347da-1109-4ce6-92d2-cc7c7b496feb"
      },
      "source": [
        "def predict(review: str):\n",
        "\n",
        "    # we need to vectorize the review\n",
        "    x = review2vector(review)\n",
        "\n",
        "    # our nn expects a batched input\n",
        "    # even if we have a single sample, we have to mock this structure converting a (11)-shape vector into (1, 11)-shape one\n",
        "    batched_x = x.unsqueeze(0)\n",
        "\n",
        "    # actual forward\n",
        "    batch_out = model(batched_x)\n",
        "\n",
        "    # return\n",
        "    return batch_out['pred'][0].item()\n",
        "\n",
        "def predict_and_print(review: str, stars: int):\n",
        "    print(f'=' * 125)\n",
        "    print(f'# review: {review}')\n",
        "    print(f'# gold stars: {stars} -> {1 if stars > 2.5 else 0}')\n",
        "    score = predict(review)\n",
        "    print(f'# predicted score: {score} -> {round(score)}')\n",
        "    print(f'=' * 125)\n",
        "\n",
        "\n",
        "# 4 star review\n",
        "predict_and_print('very good product. excellent quality', 4)\n",
        "\n",
        "# 1 star review\n",
        "predict_and_print('It echoes so badly with my voice. Don\\'t waste your time. I\\'m heavily considering returning it.', 1)"
      ],
      "execution_count": null,
      "outputs": [
        {
          "output_type": "stream",
          "text": [
            "=============================================================================================================================\n",
            "# review: very good product. excellent quality\n",
            "# gold stars: 4 -> 1\n",
            "# predicted score: 0.9999980926513672 -> 1\n",
            "=============================================================================================================================\n",
            "=============================================================================================================================\n",
            "# review: It echoes so badly with my voice. Don't waste your time. I'm heavily considering returning it.\n",
            "# gold stars: 1 -> 0\n",
            "# predicted score: 0.004514429718255997 -> 0\n",
            "=============================================================================================================================\n"
          ],
          "name": "stdout"
        }
      ]
    },
    {
      "cell_type": "code",
      "metadata": {
        "colab": {
          "base_uri": "https://localhost:8080/"
        },
        "id": "Z4w_QAYXO8Vw",
        "outputId": "07dcd091-5e70-4c71-a601-aa946f577b2b"
      },
      "source": [
        "n = 0\n",
        "d = 0\n",
        "\n",
        "for x, y in test_dataloader:\n",
        "\n",
        "    y = y > 2.5\n",
        "        \n",
        "    with torch.no_grad():\n",
        "        batch_out = model(x)\n",
        "        pred = batch_out['pred']\n",
        "\n",
        "    pred = torch.round(pred)\n",
        "    d += pred.shape[0]\n",
        "    n += (y == pred).int().sum()\n",
        "\n",
        "print(f'# accuracy: {(n / d).item():.2f}')"
      ],
      "execution_count": null,
      "outputs": [
        {
          "output_type": "stream",
          "text": [
            "# accuracy: 1.00\n"
          ],
          "name": "stdout"
        }
      ]
    },
    {
      "cell_type": "markdown",
      "metadata": {
        "id": "xiXAPkTzC49L"
      },
      "source": [
        "Wow!"
      ]
    },
    {
      "cell_type": "markdown",
      "metadata": {
        "id": "GTPqE0q5dWZO"
      },
      "source": [
        "# Categorical Cross-Entropy"
      ]
    },
    {
      "cell_type": "markdown",
      "metadata": {
        "id": "wD4eOuJ5C92g"
      },
      "source": [
        "**Problem**: given a review $r$, determine the number of stars $y \\in C = \\{1, 2, 3, 4, 5\\}$ it was originally assigned.\n",
        "\n",
        "While it may seem quite similar to the regressive formulation we did with MSE, this formulation actually involves a **classification task**; in particular, as $|C| > 2$, this is a **multi-class classification task** (or multi-label classification task). Given an input, starting from a set $C$ of output values, we should the determine the correct one."
      ]
    },
    {
      "cell_type": "markdown",
      "metadata": {
        "id": "k_qXEiPqEJku"
      },
      "source": [
        "BCE here cannot be applied as it assumes that only $2$ values are being considered. Rather, its generalization to multi-class classification, **Categorical Cross-Entropy Loss** (often simply called Cross-Entropy Loss), is what is used:\n",
        "\n",
        "\\\\[ \\mathcal{L}_{CCE} = - \\frac{1}{|y|} \\sum_{i=1}^{|y|} \\sum_{j=1}^{|C|} y_{i,j} log(p(y_{i, j})) \\\\]"
      ]
    },
    {
      "cell_type": "markdown",
      "metadata": {
        "id": "JjjvcvHoreXk"
      },
      "source": [
        "Similarly to BCE, Cross-Entropy also works with probabilities. However, differently from BCE, rather than a single $p(y_i)$, Cross-Entropy expects a distribution over $C$, that is, a list of probabilities, one for each class $c$, that sums up to $1$. Visually:"
      ]
    },
    {
      "cell_type": "code",
      "metadata": {
        "colab": {
          "base_uri": "https://localhost:8080/",
          "height": 281
        },
        "cellView": "form",
        "id": "Je0CoeG8ssww",
        "outputId": "b5197b2f-f134-46ac-f618-2ddbc8087973"
      },
      "source": [
        "#@title\n",
        "\n",
        "x = [1, 2, 3, 4, 5]\n",
        "y = [0.2, 0.1, 0.05, 0.15, 0.5]\n",
        "assert sum(y) == 1.0\n",
        "\n",
        "plt.bar(x, y)\n",
        "plt.title('Distribution over C')\n",
        "plt.show()"
      ],
      "execution_count": null,
      "outputs": [
        {
          "output_type": "display_data",
          "data": {
            "image/png": "[encoded data removed]",
            "text/plain": [
              "<Figure size 432x288 with 1 Axes>"
            ]
          },
          "metadata": {
            "tags": [],
            "needs_background": "light"
          }
        }
      ]
    },
    {
      "cell_type": "markdown",
      "metadata": {
        "id": "hEQ26MrktCyv"
      },
      "source": [
        "This is a bit more complex than what BCE requires and, most importantly, how can we make the NN emit it? Once more, it is quite straightforward. \n",
        "\n",
        "First, while up to this point the output shape of the final layer has always been $1$, we now change it to $|C|$; we can interpret the $j$-th value, which we denote with $z_j$, as the **score** the NN gives to class $C_j$. Then, we can convert these values into a probability distribution with a new activation function, the **softmax**:\n",
        "\n",
        "\\\\[ Softmax(z_{i, j}) = \\frac{e^{z_{i, j}}}{ \\sum_{j'=1}^{|y|} e^{z_{i, j'}} } \\\\]\n",
        "\n",
        "Thus:\n",
        "\n",
        "\\\\[ p(y_{i, j}) = Softmax(z_{i, j}) \\\\]\n",
        "\n",
        "The scores $z_0, \\dots, z_{|C|}$ are often referred to as the **logits** of the softmax function."
      ]
    },
    {
      "cell_type": "code",
      "metadata": {
        "id": "J7e86XOydYM2"
      },
      "source": [
        "class Classifier(torch.nn.Module):\n",
        "\n",
        "    def __init__(self, n_features: int, n_hidden: int):\n",
        "        super().__init__()\n",
        "        self.lin1 = torch.nn.Linear(n_features, n_hidden)\n",
        "        # we have to emit logits over the values of C\n",
        "        # As |C|=5, the output dimension of the last layer should be $5$ as well\n",
        "        self.lin2 = torch.nn.Linear(n_hidden, 5)\n",
        "        # this time, CrossEntropyLoss\n",
        "        self.loss_fn = torch.nn.CrossEntropyLoss()\n",
        "\n",
        "    def forward(self, x: torch.Tensor, y: Optional[torch.Tensor] = None) -> Dict[str, torch.Tensor]:\n",
        "        \n",
        "        # actual forward\n",
        "        out = self.lin1(x)\n",
        "        out = torch.relu(out)\n",
        "        out = self.lin2(out).squeeze(1)\n",
        "\n",
        "        # compute logits (which are simply the out variable) and the actual probability distribution (pred, as it is the predicted distribution)\n",
        "        logits = out\n",
        "        pred = torch.softmax(out, dim=-1)\n",
        "\n",
        "        result = {'logits': logits, 'pred': pred}\n",
        "\n",
        "        # compute loss\n",
        "        if y is not None:\n",
        "            # while mathematically the CrossEntropyLoss takes as input the probability distributions,\n",
        "            # torch optimizes its computation internally and takes as input the logits instead\n",
        "            loss = self.loss(logits, y)\n",
        "            result['loss'] = loss\n",
        "\n",
        "        return result\n",
        "\n",
        "    def loss(self, pred, y):\n",
        "        return self.loss_fn(pred, y)"
      ],
      "execution_count": null,
      "outputs": []
    },
    {
      "cell_type": "code",
      "metadata": {
        "colab": {
          "base_uri": "https://localhost:8080/",
          "height": 270,
          "referenced_widgets": [
            "b3be6c01ccbb4c9f95ca8f858ec2de5c",
            "fcb0e1c48e824599b1579aebf46c4b8f",
            "df78a7f6d41540319682378b57ae9551",
            "bc86ff24eae748eeb0e7c84c75a8c297",
            "1386532a4652462d8410c0a9db16e11e",
            "5faa152f8fce4c1381de97bc39e7a5b1",
            "98d9e2fff2ae4e37be798d364af1eb2a",
            "2c2b46d5ba0849bca51dee569723a229",
            "51e87ed409354e1f8855a509921b0c37",
            "4dc574c887804a3b82c1ca247994cabf",
            "bf8162c4163141349ee157f715ad3576",
            "7f6d37c0ef504cd384649b850cf24558",
            "79a82fe634be4c98a6cecfc34efc5c3c",
            "170d6483719444d7b6e1d1761e3027f6",
            "8f8f82239e9d49d789e85977fb04187a",
            "4397a517ff4a409d8a8a8ed0f1fd77c7",
            "9114e570c7fb4e38bf0c1d47c232220c",
            "012e3bdba4224967984c5b6f04aca264",
            "bdf4c71aeb7444f982a2cf5aa9189960",
            "7c59952d561145bbaf74f4c9dc1a8c8a",
            "e06b45edf33746449cdafd9827e0660f",
            "2094d5e9275b4803a1fc64fb23241757",
            "0c7525827b0b4b7bbed6bd87c155e274",
            "559f7f31e35e4fd5b0e1901080f34121",
            "5420ea201f4c4c17a97b2ced23cf5338",
            "ca8139036c7d41e1ad75fc8aec383652",
            "4dba86c0107a438095258da741b4f799",
            "6765d724d7504d7a9f4a32cb74e9661c",
            "7676caaa46584197a084ceb0b33317c0",
            "5646e93238564b82a7cc3c9a744329f9",
            "afb3c7f013154b809269801e7ee0b228",
            "d96297f68aab4fca8d91e787f0bd5e9e",
            "c6779d1d442d411a84bbebca9889e212",
            "8e9f96e0508449c797c2ec4e1b4f4279",
            "442e7fca4c4f40c3a5cc36bb9bdb68de",
            "561c5714653549318a84b4536da14953",
            "7a2c7222292448a2a7621f794b3bd3f0",
            "d2f122436e60457498cb5318be9c8433",
            "8578995086b14e1483d9e508e4f6b4ba",
            "1921686655344c76b2baafb52384393b"
          ]
        },
        "id": "eyyjuk11QHAR",
        "outputId": "41a9edb1-16ec-4be0-cb3c-b83e45652d59"
      },
      "source": [
        "model = Classifier(len(marker2idx), 10)\n",
        "optimizer = torch.optim.SGD(model.parameters(), lr=0.1, momentum=0.0)\n",
        "\n",
        "# (y - 1).long()\n",
        "# from an implementation point of view, PyTorch Softmax expects a list of classes that start 0\n",
        "# as our classes start instead at 1, we need to offset them by -1\n",
        "# Softmax also expects a LongTensor, hence the .long() operation\n",
        "training_loop(model, optimizer, adapt=lambda x, y : (x, (y - 1).long()))"
      ],
      "execution_count": null,
      "outputs": [
        {
          "output_type": "display_data",
          "data": {
            "application/vnd.jupyter.widget-view+json": {
              "model_id": "b3be6c01ccbb4c9f95ca8f858ec2de5c",
              "version_minor": 0,
              "version_major": 2
            },
            "text/plain": [
              "HBox(children=(FloatProgress(value=1.0, bar_style='info', max=1.0), HTML(value='')))"
            ]
          },
          "metadata": {
            "tags": []
          }
        },
        {
          "output_type": "stream",
          "text": [
            "\n"
          ],
          "name": "stdout"
        },
        {
          "output_type": "display_data",
          "data": {
            "application/vnd.jupyter.widget-view+json": {
              "model_id": "51e87ed409354e1f8855a509921b0c37",
              "version_minor": 0,
              "version_major": 2
            },
            "text/plain": [
              "HBox(children=(FloatProgress(value=1.0, bar_style='info', max=1.0), HTML(value='')))"
            ]
          },
          "metadata": {
            "tags": []
          }
        },
        {
          "output_type": "stream",
          "text": [
            "\n"
          ],
          "name": "stdout"
        },
        {
          "output_type": "display_data",
          "data": {
            "application/vnd.jupyter.widget-view+json": {
              "model_id": "9114e570c7fb4e38bf0c1d47c232220c",
              "version_minor": 0,
              "version_major": 2
            },
            "text/plain": [
              "HBox(children=(FloatProgress(value=1.0, bar_style='info', max=1.0), HTML(value='')))"
            ]
          },
          "metadata": {
            "tags": []
          }
        },
        {
          "output_type": "stream",
          "text": [
            "\n"
          ],
          "name": "stdout"
        },
        {
          "output_type": "display_data",
          "data": {
            "application/vnd.jupyter.widget-view+json": {
              "model_id": "5420ea201f4c4c17a97b2ced23cf5338",
              "version_minor": 0,
              "version_major": 2
            },
            "text/plain": [
              "HBox(children=(FloatProgress(value=1.0, bar_style='info', max=1.0), HTML(value='')))"
            ]
          },
          "metadata": {
            "tags": []
          }
        },
        {
          "output_type": "stream",
          "text": [
            "\n"
          ],
          "name": "stdout"
        },
        {
          "output_type": "display_data",
          "data": {
            "application/vnd.jupyter.widget-view+json": {
              "model_id": "c6779d1d442d411a84bbebca9889e212",
              "version_minor": 0,
              "version_major": 2
            },
            "text/plain": [
              "HBox(children=(FloatProgress(value=1.0, bar_style='info', max=1.0), HTML(value='')))"
            ]
          },
          "metadata": {
            "tags": []
          }
        },
        {
          "output_type": "stream",
          "text": [
            "\n"
          ],
          "name": "stdout"
        }
      ]
    },
    {
      "cell_type": "code",
      "metadata": {
        "colab": {
          "base_uri": "https://localhost:8080/"
        },
        "id": "qIx5vhO2QNeO",
        "outputId": "ee4a4818-2ef2-46b1-9067-494ecd6d13e7"
      },
      "source": [
        "def predict(review: str):\n",
        "\n",
        "    # we need to vectorize the review\n",
        "    x = review2vector(review)\n",
        "\n",
        "    # our nn expects a batched input\n",
        "    # even if we have a single sample, we have to mock this structure converting a (11)-shape vector into (1, 11)-shape one\n",
        "    batched_x = x.unsqueeze(0)\n",
        "\n",
        "    # actual forward\n",
        "    batch_out = model(batched_x)\n",
        "\n",
        "    # here it gets a bit tricky, let's extract the predicted probability distribution\n",
        "    pred = batch_out['pred']\n",
        "\n",
        "    # first of all, since we are mocking the batching behavior, let's just take the first\n",
        "    pred = pred[0]\n",
        "\n",
        "    # now, pred stores a probability distribution, assigning a probability p to each possible number of stars\n",
        "    # in order to extract the \"actual prediction\", we can simply select the one with the highest probability\n",
        "    pred = pred.argmax()\n",
        "\n",
        "    # let's sum 1 as usual and, finally, return\n",
        "    return pred.item() + 1\n",
        "\n",
        "def predict_and_print(review: str, stars: int):\n",
        "    print(f'=' * 125)\n",
        "    print(f'# review: {review}')\n",
        "    print(f'# gold stars: {stars}')\n",
        "    score = predict(review)\n",
        "    print(f'# predicted score: {score} -> {round(score)}')\n",
        "    print(f'=' * 125)\n",
        "\n",
        "\n",
        "# 4 star review\n",
        "predict_and_print('very good product. excellent quality', 4)\n",
        "\n",
        "# 1 star review\n",
        "predict_and_print('It echoes so badly with my voice. Don\\'t waste your time. I\\'m heavily considering returning it.', 1)"
      ],
      "execution_count": null,
      "outputs": [
        {
          "output_type": "stream",
          "text": [
            "=============================================================================================================================\n",
            "# review: very good product. excellent quality\n",
            "# gold stars: 4\n",
            "# predicted score: 5 -> 5\n",
            "=============================================================================================================================\n",
            "=============================================================================================================================\n",
            "# review: It echoes so badly with my voice. Don't waste your time. I'm heavily considering returning it.\n",
            "# gold stars: 1\n",
            "# predicted score: 1 -> 1\n",
            "=============================================================================================================================\n"
          ],
          "name": "stdout"
        }
      ]
    },
    {
      "cell_type": "code",
      "metadata": {
        "colab": {
          "base_uri": "https://localhost:8080/"
        },
        "id": "MpRpVZbwQPQd",
        "outputId": "5441a4de-74a0-4d63-ee4f-303ef53be47b"
      },
      "source": [
        "n = 0\n",
        "d = 0\n",
        "\n",
        "for x, y in test_dataloader:\n",
        "\n",
        "    y = y - 1\n",
        "        \n",
        "    with torch.no_grad():\n",
        "        batch_out = model(x)\n",
        "        pred = batch_out['pred']\n",
        "\n",
        "    pred = pred.argmax(-1)\n",
        "    d += pred.shape[0]\n",
        "    n += (y == pred).int().sum()\n",
        "\n",
        "print(f'# accuracy: {(n / d).item():.2f}')"
      ],
      "execution_count": null,
      "outputs": [
        {
          "output_type": "stream",
          "text": [
            "# accuracy: 0.92\n"
          ],
          "name": "stdout"
        }
      ]
    },
    {
      "cell_type": "markdown",
      "metadata": {
        "id": "CB50vmy7PHBA"
      },
      "source": [
        "It works once more!"
      ]
    },
    {
      "cell_type": "markdown",
      "metadata": {
        "id": "6uc6VOHgt_Ws"
      },
      "source": [
        "# Wrap Up and General Rules of Thumb\n",
        "\n",
        "* NN expects numerical input $\\rightarrow$ convert your data into numbers through some function $\\phi$ ($\\phi$ might be the identity function when dealing with some simple cases such as approximating the XOR function)\n",
        "* Regression Task $\\rightarrow$ use MSELoss\n",
        "* Binary Classification Task $\\rightarrow$ put a Sigmoid after your final Linear layer and use BCELoss\n",
        "* Multi-Class Classification Task $\\rightarrow$ set the output shape of your final layer to $|C|$, put a Softmax after it and use CrossEntropyLoss"
      ]
    },
    {
      "cell_type": "markdown",
      "metadata": {
        "id": "LdDS01i0PPpZ"
      },
      "source": [
        "# Homeworks"
      ]
    },
    {
      "cell_type": "markdown",
      "metadata": {
        "id": "-zBOeTm9Pktn"
      },
      "source": [
        "1. Try changing the considered markers and the function $\\phi$\n",
        "2. Choose one of the $3$ variants and try to re-implement everything with a slightly different architecture (use $3$ layers rather than $2$ for instance)"
      ]
    },
    {
      "cell_type": "code",
      "metadata": {
        "id": "zsgwAVbeQRYf"
      },
      "source": [
        ""
      ],
      "execution_count": null,
      "outputs": []
    }
  ]
}